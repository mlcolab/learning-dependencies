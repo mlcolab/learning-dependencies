{
 "cells": [
  {
   "cell_type": "markdown",
   "metadata": {},
   "source": [
    "# Wikification"
   ]
  },
  {
   "cell_type": "code",
   "execution_count": 104,
   "metadata": {},
   "outputs": [
    {
     "name": "stdout",
     "output_type": "stream",
     "text": [
      "Number of processors:  8\n"
     ]
    }
   ],
   "source": [
    "import multiprocessing as mp\n",
    "print(\"Number of processors: \", mp.cpu_count())\n",
    "\n",
    "from PyPDF2 import PdfReader\n",
    "import os\n",
    "import pandas as pd\n",
    "import numpy as np\n",
    "\n",
    "import sys\n",
    "sys.path.append('../src/')\n",
    "import wikifier"
   ]
  },
  {
   "cell_type": "code",
   "execution_count": null,
   "metadata": {},
   "outputs": [],
   "source": [
    "path = \"../dat/books/all_books/\"\n",
    "data = pd.DataFrame(columns = [\"file\",\"text\"])\n",
    "\n",
    "book_files = os.listdir(path)\n",
    "\n",
    "for j, book in enumerate(book_files):\n",
    "    reader = PdfReader(path + book)\n",
    "    print(\"Extracting \" + book)\n",
    "    text = \"\"\n",
    "    k = 0\n",
    "    for page in reader.pages:\n",
    "        k+=1\n",
    "        if k%50==0: print(\"Extract page\" + str(k))\n",
    "        text += str(page.extract_text()) + \" \"\n",
    "\n",
    "    data = pd.concat([data, pd.DataFrame.from_records([{'file': book, 'text': text}])])\n",
    "data.reset_index()"
   ]
  },
  {
   "cell_type": "code",
   "execution_count": 116,
   "metadata": {},
   "outputs": [
    {
     "data": {
      "text/plain": [
       "file\n",
       "CollegeAlgCoreq-WEB.pdf                         1742146\n",
       "Linear algebra — Strang.pdf                     1151894\n",
       "linear-Cherey, Denton.pdf                        485450\n",
       "ElementaryAlgebra2e-WEB_EjIP4sI.pdf             1628431\n",
       "interactive_textbook.pdf                         578111\n",
       "textbook_Hoffman_Kunze.pdf                       790385\n",
       "Nicholson-OpenLAWA-2019A.pdf                    1402815\n",
       "Linear algebra done right — Axler.pdf            520380\n",
       "Math1410_print.pdf                               740115\n",
       "Hefferon_LinAlgebra.pdf                          876866\n",
       "Kuttler-LinearAlgebra-AFirstCourse-2017A.pdf     929580\n",
       "Beezer_First_Course.pdf                         1077274\n",
       "Name: text, dtype: int64"
      ]
     },
     "execution_count": 116,
     "metadata": {},
     "output_type": "execute_result"
    }
   ],
   "source": [
    "data.text.apply(len)\n",
    "\n",
    "# exclude Math14, Strang"
   ]
  },
  {
   "cell_type": "code",
   "execution_count": null,
   "metadata": {},
   "outputs": [],
   "source": [
    "data.text[8]"
   ]
  },
  {
   "cell_type": "code",
   "execution_count": null,
   "metadata": {},
   "outputs": [],
   "source": [
    "batch_size = 5000\n",
    "num_threads = mp.cpu_count()\n",
    "\n",
    "all_annotations = []\n",
    "for i in range(2,3):\n",
    "    text = data.iloc[i].text\n",
    "\n",
    "    pool = mp.Pool(num_threads)\n",
    "    print(\"Length: \" + str(len(text)))\n",
    "    annotations = [pool.apply(wikifier.get_annotations, args=[text[i*batch_size:(i+1)*batch_size], i*batch_size])\n",
    "        for i in range(int(np.floor(len(text)/batch_size)))]\n",
    "    pool.close()\n",
    "    all_annotations = sum(annotations, [])"
   ]
  },
  {
   "cell_type": "code",
   "execution_count": null,
   "metadata": {},
   "outputs": [],
   "source": [
    "annos = [{\n",
    "    \"title\": a[\"title\"],\n",
    "    \"supports\": [{'chFrom': s['chFrom'], 'chTo': s['chTo']} for s in a[\"support\"] if s['pageRank']>0.001]\n",
    "    } for a in all_annotations]\n",
    "[a for a in annos if len(a['supports'])]"
   ]
  },
  {
   "cell_type": "code",
   "execution_count": 129,
   "metadata": {},
   "outputs": [],
   "source": [
    "len(all_annotations)\n",
    "import pickle\n",
    "file = open(\"../dat/annotations_Denton.pkl\", 'wb')\n",
    "pickle.dump(all_annotations, file)\n",
    "file.close()"
   ]
  },
  {
   "cell_type": "code",
   "execution_count": 19,
   "metadata": {},
   "outputs": [
    {
     "name": "stderr",
     "output_type": "stream",
     "text": [
      "/var/folders/ly/txhzmb053hl2qybdkm0f018h0000gn/T/ipykernel_31929/1788237135.py:3: RuntimeWarning: coroutine 'main' was never awaited\n",
      "  annos = pickle.load(file)\n",
      "RuntimeWarning: Enable tracemalloc to get the object allocation traceback\n"
     ]
    }
   ],
   "source": [
    "import pickle\n",
    "file = open(\"../dat/annotations/Beezer_First_Course.pkl\", 'rb')\n",
    "annos = pickle.load(file)"
   ]
  },
  {
   "cell_type": "code",
   "execution_count": 20,
   "metadata": {},
   "outputs": [
    {
     "data": {
      "text/plain": [
       "46129"
      ]
     },
     "execution_count": 20,
     "metadata": {},
     "output_type": "execute_result"
    }
   ],
   "source": [
    "len(annos)"
   ]
  }
 ],
 "metadata": {
  "kernelspec": {
   "display_name": "Python 3.10.6 ('LD-inference')",
   "language": "python",
   "name": "python3"
  },
  "language_info": {
   "codemirror_mode": {
    "name": "ipython",
    "version": 3
   },
   "file_extension": ".py",
   "mimetype": "text/x-python",
   "name": "python",
   "nbconvert_exporter": "python",
   "pygments_lexer": "ipython3",
   "version": "3.10.8 (main, Nov  4 2022, 08:45:18) [Clang 12.0.0 ]"
  },
  "orig_nbformat": 4,
  "vscode": {
   "interpreter": {
    "hash": "2b3dd287303ef379cd3bfc1446cef400144e42385eabfb9b315f60147448249f"
   }
  }
 },
 "nbformat": 4,
 "nbformat_minor": 2
}

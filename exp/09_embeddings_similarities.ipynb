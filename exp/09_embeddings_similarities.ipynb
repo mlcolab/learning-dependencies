{
 "cells": [
  {
   "attachments": {},
   "cell_type": "markdown",
   "metadata": {},
   "source": [
    "In this notebook, which tries to infer dependencies using embeddings, only 7 textbooks were used. Later, 3 additional books will be added to the dataset. The dataset contains only main text without introductions, appendices and etc. "
   ]
  },
  {
   "cell_type": "code",
   "execution_count": 1,
   "metadata": {},
   "outputs": [],
   "source": [
    "import pandas as pd"
   ]
  },
  {
   "cell_type": "code",
   "execution_count": 2,
   "metadata": {},
   "outputs": [
    {
     "data": {
      "text/plain": [
       "array(['Systems of Linear Equations', 'Vectors', 'Matrices',\n",
       "       'Vector Spaces', 'Determinants', 'Eigenvalues',\n",
       "       'Linear Transformations', 'Representations', 'Preliminaries',\n",
       "       'Reference', 'Linear Systems', 'Maps Between Spaces', 'Similarity',\n",
       "       'Contributors to this textbook', 'Variants of this textbook',\n",
       "       'Overview', 'Systems of Linear Equations: Algebra',\n",
       "       'Systems of Linear Equations: Geometry',\n",
       "       'Linear Transformations and Matrix Algebra',\n",
       "       'Eigenvalues and Eigenvectors', 'Orthogonality', 'Complex Numbers',\n",
       "       'Notation', 'GNU Free Documentation License',\n",
       "       'Systems of Equations', 'Rn', 'Spectral Theory',\n",
       "       'Some Curvilinear Coordinate Systems', 'CHAPTER 1', 'CHAPTER 2',\n",
       "       'CHAPTER 3', 'CHAPTER 4', 'CHAPTER 5', 'CHAPTER 6', 'CHAPTER 7',\n",
       "       'CHAPTER 8', 'CHAPTER 9', 'CHAPTER 10', 'What is Linear Algebra?',\n",
       "       'Systems of Linear Equations ', 'The Simplex Method',\n",
       "       'Vectors in Space, n-Vectors', 'Subspaces and Spanning Sets',\n",
       "       'Linear Independence', 'Basis and Dimension', 'Diagonalization',\n",
       "       'Orthonormal Bases and Complements',\n",
       "       'Diagonalizing Symmetric Matrices', 'Kernel, Range, Nullity, Rank',\n",
       "       'Least squares and Singular Values', 'List of Symbols', 'Fields',\n",
       "       '1 Systems of Linear Equations', '2 Matrix Algebra',\n",
       "       '3 Determinants and Diagonalization', '4 Vector Geometry',\n",
       "       '5 Vector Space Rn', '6 Vector Spaces', '7 Linear Transformations',\n",
       "       '8 Orthogonality', '9 Change of Basis', '10 Inner Product Spaces',\n",
       "       '11 Canonical Forms'], dtype=object)"
      ]
     },
     "execution_count": 2,
     "metadata": {},
     "output_type": "execute_result"
    }
   ],
   "source": [
    "data = pd.read_json(\"data_chapters.json\")\n",
    "data.chapter_title.unique()"
   ]
  },
  {
   "cell_type": "code",
   "execution_count": 3,
   "metadata": {},
   "outputs": [
    {
     "data": {
      "text/html": [
       "<div>\n",
       "<style scoped>\n",
       "    .dataframe tbody tr th:only-of-type {\n",
       "        vertical-align: middle;\n",
       "    }\n",
       "\n",
       "    .dataframe tbody tr th {\n",
       "        vertical-align: top;\n",
       "    }\n",
       "\n",
       "    .dataframe thead th {\n",
       "        text-align: right;\n",
       "    }\n",
       "</style>\n",
       "<table border=\"1\" class=\"dataframe\">\n",
       "  <thead>\n",
       "    <tr style=\"text-align: right;\">\n",
       "      <th></th>\n",
       "      <th>filename</th>\n",
       "      <th>text</th>\n",
       "    </tr>\n",
       "  </thead>\n",
       "  <tbody>\n",
       "    <tr>\n",
       "      <th>0</th>\n",
       "      <td>Beezer_First_Course</td>\n",
       "      <td>Chapter SLE\\nSystems of Linear Equations\\nWe w...</td>\n",
       "    </tr>\n",
       "    <tr>\n",
       "      <th>1</th>\n",
       "      <td>Hefferon_LinAlgebra</td>\n",
       "      <td>Chapter One\\nLinear Systems\\nI Solving Linear ...</td>\n",
       "    </tr>\n",
       "    <tr>\n",
       "      <th>2</th>\n",
       "      <td>Kuttler-LinearAlgebra-AFirstCourse-2017A</td>\n",
       "      <td>1. Systems of Equations\\n1.1 Systems of Equati...</td>\n",
       "    </tr>\n",
       "    <tr>\n",
       "      <th>3</th>\n",
       "      <td>Linear algebra done right — Axler</td>\n",
       "      <td>2 CHAPTER 1Vector Spaces\\n1.A Rnand Cn\\nComple...</td>\n",
       "    </tr>\n",
       "    <tr>\n",
       "      <th>4</th>\n",
       "      <td>Nicholson-OpenLAWA-2019A</td>\n",
       "      <td>1. Systems of Linear Equations\\n1.1 Solutions ...</td>\n",
       "    </tr>\n",
       "    <tr>\n",
       "      <th>5</th>\n",
       "      <td>interactive_textbook</td>\n",
       "      <td>6 CHAPTER 1. SYSTEMS OF LINEAR EQUATIONS: ALGE...</td>\n",
       "    </tr>\n",
       "    <tr>\n",
       "      <th>6</th>\n",
       "      <td>linear-Cherey, Denton</td>\n",
       "      <td>1\\nWhat is Linear Algebra?\\nMany di\u000ecult probl...</td>\n",
       "    </tr>\n",
       "  </tbody>\n",
       "</table>\n",
       "</div>"
      ],
      "text/plain": [
       "                                   filename  \\\n",
       "0                       Beezer_First_Course   \n",
       "1                       Hefferon_LinAlgebra   \n",
       "2  Kuttler-LinearAlgebra-AFirstCourse-2017A   \n",
       "3         Linear algebra done right — Axler   \n",
       "4                  Nicholson-OpenLAWA-2019A   \n",
       "5                      interactive_textbook   \n",
       "6                     linear-Cherey, Denton   \n",
       "\n",
       "                                                text  \n",
       "0  Chapter SLE\\nSystems of Linear Equations\\nWe w...  \n",
       "1  Chapter One\\nLinear Systems\\nI Solving Linear ...  \n",
       "2  1. Systems of Equations\\n1.1 Systems of Equati...  \n",
       "3  2 CHAPTER 1Vector Spaces\\n1.A Rnand Cn\\nComple...  \n",
       "4  1. Systems of Linear Equations\\n1.1 Solutions ...  \n",
       "5  6 CHAPTER 1. SYSTEMS OF LINEAR EQUATIONS: ALGE...  \n",
       "6  1\\nWhat is Linear Algebra?\\nMany di\u000ecult probl...  "
      ]
     },
     "execution_count": 3,
     "metadata": {},
     "output_type": "execute_result"
    }
   ],
   "source": [
    "data = data.loc[~data.chapter_title.str.contains(\"|\".join(['Preliminaries','Reference','Contributors to this textbook', 'Variants of this textbook',\n",
    "       'Overview','Notation', 'GNU Free Documentation License','List of Symbols', 'Fields'])) ]\n",
    "data = data.loc[:,[\"filename\",\"text\"]]\n",
    "data = data.groupby(\"filename\")['text'].apply(lambda x: ' '.join(x)).reset_index()\n",
    "data = data.drop_duplicates()\n",
    "data"
   ]
  },
  {
   "cell_type": "markdown",
   "metadata": {},
   "source": [
    "### Simple preprocessing"
   ]
  },
  {
   "cell_type": "code",
   "execution_count": 13,
   "metadata": {},
   "outputs": [],
   "source": [
    "from nltk.tokenize import sent_tokenize, word_tokenize\n",
    "from nltk.corpus import stopwords\n",
    "from nltk.stem import WordNetLemmatizer\n",
    "from collections import Counter\n",
    "import re\n",
    "\n",
    "class utils:\n",
    "    def __init__(self) -> None:\n",
    "        ...\n",
    "\n",
    "    @staticmethod\n",
    "    def remove_repeated_sentences(text, times = 4):\n",
    "        text_tokenized = sent_tokenize(text)\n",
    "        freqs = Counter(text_tokenized)\n",
    "        garbage = [el for el in freqs.elements() if freqs[el]>=times]\n",
    "        text = [i for i in text_tokenized if i not in garbage]\n",
    "        return \" \".join(text)\n",
    "\n",
    "    #def remove_formulas(text):\n",
    "    #    return \n",
    "    \n",
    "    def remove_new_line(text):\n",
    "        return re.sub(\"\\n\",\" \",text)\n",
    "        \n",
    "    def text_only(text):\n",
    "        regex=u\"[A-Za-z]+\"\n",
    "        regex = re.compile(regex)\n",
    "        text = \" \".join(regex.findall(text))\n",
    "        return text\n",
    "\n",
    "    def remove_stopwords(text):\n",
    "        text = text.lower()\n",
    "        word_tokens = word_tokenize(text)\n",
    "        stop_words = set(stopwords.words('english'))\n",
    "        return \" \".join([w for w in word_tokens if not w in stop_words])\n",
    "\n",
    "    def lemmatize_text(text):\n",
    "        lemmatizer = WordNetLemmatizer()\n",
    "        word_tokens = word_tokenize(text)\n",
    "        return \" \".join([lemmatizer.lemmatize(w) for w in word_tokens])\n",
    "    \n",
    "    def remove_short_words(text):\n",
    "        word_tokens = word_tokenize(text)\n",
    "        word_tokens = [word for word in word_tokens if len(word)>2]\n",
    "        return \" \".join(word_tokens)\n"
   ]
  },
  {
   "cell_type": "code",
   "execution_count": null,
   "metadata": {},
   "outputs": [],
   "source": [
    "data.text = data.text.apply(utils.remove_repeated_sentences)\n",
    "data.text = data.text.apply(utils.remove_new_line)\n",
    "data.text = data.text.apply(utils.text_only)"
   ]
  },
  {
   "cell_type": "code",
   "execution_count": 7,
   "metadata": {},
   "outputs": [
    {
     "data": {
      "text/html": [
       "<div>\n",
       "<style scoped>\n",
       "    .dataframe tbody tr th:only-of-type {\n",
       "        vertical-align: middle;\n",
       "    }\n",
       "\n",
       "    .dataframe tbody tr th {\n",
       "        vertical-align: top;\n",
       "    }\n",
       "\n",
       "    .dataframe thead th {\n",
       "        text-align: right;\n",
       "    }\n",
       "</style>\n",
       "<table border=\"1\" class=\"dataframe\">\n",
       "  <thead>\n",
       "    <tr style=\"text-align: right;\">\n",
       "      <th></th>\n",
       "      <th>filename</th>\n",
       "      <th>text</th>\n",
       "    </tr>\n",
       "  </thead>\n",
       "  <tbody>\n",
       "    <tr>\n",
       "      <th>0</th>\n",
       "      <td>Beezer_First_Course</td>\n",
       "      <td>Chapter SLE Systems of Linear Equations We wil...</td>\n",
       "    </tr>\n",
       "    <tr>\n",
       "      <th>1</th>\n",
       "      <td>Hefferon_LinAlgebra</td>\n",
       "      <td>Chapter One Linear Systems I Solving Linear Sy...</td>\n",
       "    </tr>\n",
       "    <tr>\n",
       "      <th>2</th>\n",
       "      <td>Kuttler-LinearAlgebra-AFirstCourse-2017A</td>\n",
       "      <td>Systems of Equations Systems of Equations Geom...</td>\n",
       "    </tr>\n",
       "    <tr>\n",
       "      <th>3</th>\n",
       "      <td>Linear algebra done right — Axler</td>\n",
       "      <td>CHAPTER Vector Spaces A Rnand Cn Complex Numbe...</td>\n",
       "    </tr>\n",
       "    <tr>\n",
       "      <th>4</th>\n",
       "      <td>Nicholson-OpenLAWA-2019A</td>\n",
       "      <td>Systems of Linear Equations Solutions and Elem...</td>\n",
       "    </tr>\n",
       "    <tr>\n",
       "      <th>5</th>\n",
       "      <td>interactive_textbook</td>\n",
       "      <td>CHAPTER SYSTEMS OF LINEAR EQUATIONS ALGEBRA Th...</td>\n",
       "    </tr>\n",
       "    <tr>\n",
       "      <th>6</th>\n",
       "      <td>linear-Cherey, Denton</td>\n",
       "      <td>What is Linear Algebra Many di cult problems c...</td>\n",
       "    </tr>\n",
       "  </tbody>\n",
       "</table>\n",
       "</div>"
      ],
      "text/plain": [
       "                                   filename  \\\n",
       "0                       Beezer_First_Course   \n",
       "1                       Hefferon_LinAlgebra   \n",
       "2  Kuttler-LinearAlgebra-AFirstCourse-2017A   \n",
       "3         Linear algebra done right — Axler   \n",
       "4                  Nicholson-OpenLAWA-2019A   \n",
       "5                      interactive_textbook   \n",
       "6                     linear-Cherey, Denton   \n",
       "\n",
       "                                                text  \n",
       "0  Chapter SLE Systems of Linear Equations We wil...  \n",
       "1  Chapter One Linear Systems I Solving Linear Sy...  \n",
       "2  Systems of Equations Systems of Equations Geom...  \n",
       "3  CHAPTER Vector Spaces A Rnand Cn Complex Numbe...  \n",
       "4  Systems of Linear Equations Solutions and Elem...  \n",
       "5  CHAPTER SYSTEMS OF LINEAR EQUATIONS ALGEBRA Th...  \n",
       "6  What is Linear Algebra Many di cult problems c...  "
      ]
     },
     "execution_count": 7,
     "metadata": {},
     "output_type": "execute_result"
    }
   ],
   "source": [
    "data"
   ]
  },
  {
   "cell_type": "markdown",
   "metadata": {},
   "source": [
    "### Chapters and subchapters collection"
   ]
  },
  {
   "cell_type": "code",
   "execution_count": 10,
   "metadata": {},
   "outputs": [
    {
     "name": "stdout",
     "output_type": "stream",
     "text": [
      "Beezer_First_Course.pdf\n",
      "['Preface', 'Acknowledgements', 'Systems of Linear Equations', 'What is Linear Algebra?', 'Solving Systems of Linear Equations', 'Reduced Row-Echelon Form', 'Types of Solution Sets', 'Homogeneous Systems of Equations', 'Nonsingular Matrices', 'Vectors', 'Vector Operations', 'Linear Combinations', 'Spanning Sets', 'Linear Independence', 'Linear Dependence and Spans', 'Orthogonality', 'Matrices', 'Matrix Operations', 'Matrix Multiplication', 'Matrix Inverses and Systems of Linear Equations', 'Matrix Inverses and Nonsingular Matrices', 'Column and Row Spaces', 'Four Subsets', 'Vector Spaces', 'Vector Spaces', 'Subspaces', 'Linear Independence and Spanning Sets', 'Bases', 'Dimension', 'Properties of Dimension', 'Determinants', 'Determinant of a Matrix', 'Properties of Determinants of Matrices', 'Eigenvalues', 'Eigenvalues and Eigenvectors', 'Properties of Eigenvalues and Eigenvectors', 'Similarity and Diagonalization', 'Linear Transformations', 'Linear Transformations', 'Injective Linear Transformations', 'Surjective Linear Transformations', 'Invertible Linear Transformations', 'Representations', 'Vector Representations', 'Matrix Representations', 'Change of Basis', 'Orthonormal Diagonalization', 'Preliminaries', 'Complex Number Operations', 'Sets', 'Reference', 'Proof Techniques', 'Archetypes', 'Definitions', 'Theorems', 'Notation', 'GNU Free Documentation License']\n",
      "Hefferon_LinAlgebra.pdf\n",
      "['Linear Systems', 'Solving Linear Systems', \"Gauss's Method\", 'Describing the Solution Set', 'General=Particular+Homogeneous', 'Linear Geometry', 'Vectors in Space', 'Length and Angle Measures', 'Reduced Echelon Form', 'Gauss-Jordan Reduction', 'The Linear Combination Lemma', 'Topic: Computer Algebra Systems', 'Topic: Input-Output Analysis', 'Topic: Accuracy of Computations', 'Topic: Analyzing Networks', 'Vector Spaces', 'Definition of Vector Space', 'Definition and Examples', 'Subspaces and Spanning Sets', 'Linear Independence', 'Definition and Examples', 'Basis and Dimension', 'Basis', 'Dimension', 'Vector Spaces and Linear Systems', 'Combining Subspaces', 'Topic: Fields', 'Topic: Crystals', 'Topic: Voting Paradoxes', 'Topic: Dimensional Analysis', 'Maps Between Spaces', 'Isomorphisms', 'Definition and Examples', 'Dimension Characterizes Isomorphism', 'Homomorphisms', 'Definition', 'Range Space and Null Space', 'Computing Linear Maps', 'Representing Linear Maps with Matrices', 'Any Matrix Represents a Linear Map', 'Matrix Operations', 'Sums and Scalar Products', 'Matrix Multiplication', 'Mechanics of Matrix Multiplication', 'Inverses', 'Change of Basis', 'Changing Representations of Vectors', 'Changing Map Representations', 'Projection', 'Orthogonal Projection Into a Line', 'Gram-Schmidt Orthogonalization', 'Projection Into a Subspace', 'Topic: Line of Best Fit', 'Topic: Geometry of Linear Maps', 'Topic: Magic Squares', 'Topic: Markov Chains', 'Topic: Orthonormal Matrices', 'Determinants', 'Definition', 'Exploration', 'Properties of Determinants', 'The Permutation Expansion', 'Determinants Exist', 'Geometry of Determinants', 'Determinants as Size Functions', \"Laplace's Formula\", \"Laplace's Expansion\", \"Topic: Cramer's Rule\", 'Topic: Speed of Calculating Determinants', \"Topic: Chiò's Method\", 'Topic: Projective Geometry', 'Topic: Computer Graphics', 'Similarity', 'Complex Vector Spaces', 'Polynomial Factoring and Complex Numbers', 'Complex Representations', 'Similarity', 'Definition and Examples', 'Diagonalizability', 'Eigenvalues and Eigenvectors', 'Nilpotence', 'Self-Composition', 'Strings', 'Jordan Form', 'Polynomials of Maps and Matrices', 'Jordan Canonical Form', 'Topic: Method of Powers', 'Topic: Stable Populations', 'Topic: Page Ranking', 'Topic: Linear Recurrences', 'Topic: Coupled Oscillators', 'Appendix', 'Statements', 'Quantifiers', 'Techniques of Proof', 'Sets, Functions, and Relations']\n",
      "interactive_textbook.pdf\n",
      "['Contributors to this textbook', 'Variants of this textbook', 'Overview', 'Systems of Linear Equations: Algebra', 'Systems of Linear Equations', 'Row Reduction', 'Parametric Form', 'Systems of Linear Equations: Geometry', 'Vectors', 'Vector Equations and Spans', 'Matrix Equations', 'Solution Sets', 'Linear Independence', 'Subspaces', 'Basis and Dimension', 'Bases as Coordinate Systems', 'The Rank Theorem', 'Linear Transformations and Matrix Algebra', 'Matrix Transformations', 'One-to-one and Onto Transformations', 'Linear Transformations', 'Matrix Multiplication', 'Matrix Inverses', 'The Invertible Matrix Theorem', 'Determinants', 'Determinants: Definition', 'Cofactor Expansions', 'Determinants and Volumes', 'Eigenvalues and Eigenvectors', 'Eigenvalues and Eigenvectors', 'The Characteristic Polynomial', 'Similarity', 'Diagonalization', 'Complex Eigenvalues', 'Stochastic Matrices', 'Orthogonality', 'Dot Products and Orthogonality', 'Orthogonal Complements', 'Orthogonal Projection', 'Orthogonal Sets', 'The Method of Least Squares', 'Complex Numbers', 'Notation', 'Hints and Solutions to Selected Exercises', 'GNU Free Documentation License', 'Index']\n",
      "Kuttler-LinearAlgebra-AFirstCourse-2017A.pdf\n",
      "['Contents', 'Preface', 'Systems of Equations', 'Systems of Equations, Geometry', 'Systems Of Equations, Algebraic Procedures', 'Elementary Operations', 'Gaussian Elimination', 'Uniqueness of the Reduced Row-Echelon Form ', 'Rank and Homogeneous Systems', 'Balancing Chemical Reactions', 'Dimensionless Variables', 'An Application to Resistor Networks', 'Matrices', 'Matrix Arithmetic', 'Addition of Matrices', 'Scalar Multiplication of Matrices', 'Multiplication of Matrices', 'The ijth Entry of a Product', 'Properties of Matrix Multiplication', 'The Transpose', 'The Identity and Inverses', 'Finding the Inverse of a Matrix', 'Elementary Matrices', 'More on Matrix Inverses', 'LU Factorization', 'Finding An LU Factorization By Inspection', 'LU Factorization, Multiplier Method', 'Solving Systems using LU Factorization', 'Justification for the Multiplier Method', 'Determinants', 'Basic Techniques and Properties', 'Cofactors and 2x2 Determinants', 'The Determinant of a Triangular Matrix', 'Properties of Determinants I: Examples', 'Properties of Determinants II: Some Important Proofs ', 'Finding Determinants using Row Operations', 'Applications of the Determinant', 'A Formula for the Inverse', \"Cramer's Rule\", 'Polynomial Interpolation', 'Rn', 'Vectors in Rn', 'Algebra in Rn', 'Addition of Vectors in Rn', 'Scalar Multiplication of Vectors in Rn', 'Geometric Meaning of Vector Addition', 'Length of a Vector', 'Geometric Meaning of Scalar Multiplication', 'Parametric Lines', 'The Dot Product', 'The Dot Product', 'The Geometric Significance of the Dot Product', 'Projections', 'Planes in Rn', 'The Cross Product', 'The Box Product', 'Spanning, Linear Independence and Basis in Rn', 'Spanning Set of Vectors', 'Linearly Independent Set of Vectors', 'A Short Application to Chemistry', 'Subspaces and Basis', 'Row Space, Column Space, and Null Space of a Matrix', 'Orthogonality and the Gram Schmidt Process', 'Orthogonal and Orthonormal Sets', 'Orthogonal Matrices', 'Gram-Schmidt Process', 'Orthogonal Projections', 'Least Squares Approximation', 'Applications', 'Vectors and Physics', 'Work', 'Linear Transformations', 'Linear Transformations', 'The Matrix of a Linear Transformation I', 'Properties of Linear Transformations', 'Special Linear Transformations in R2', 'One to One and Onto Transformations', 'Isomorphisms', 'The Kernel And Image Of A Linear Map', 'The Matrix of a Linear Transformation II', 'The General Solution of a Linear System', 'Complex Numbers', 'Complex Numbers', 'Polar Form', 'Roots of Complex Numbers', 'The Quadratic Formula', 'Spectral Theory', 'Eigenvalues and Eigenvectors of a Matrix', 'Definition of Eigenvectors and Eigenvalues', 'Finding Eigenvectors and Eigenvalues', 'Eigenvalues and Eigenvectors for Special Types of Matrices', 'Diagonalization', 'Similarity and Diagonalization', 'Diagonalizing a Matrix', 'Complex Eigenvalues', 'Applications of Spectral Theory', 'Raising a Matrix to a High Power', 'Raising a Symmetric Matrix to a High Power', 'Markov Matrices', 'Eigenvalues of Markov Matrices', 'Dynamical Systems', 'The Matrix Exponential', 'Orthogonality', 'Orthogonal Diagonalization', 'The Singular Value Decomposition', 'Positive Definite Matrices', 'The Cholesky Factorization', 'QR Factorization', 'The QR Factorization and Eigenvalues', 'Power Methods', 'Quadratic Forms', 'Some Curvilinear Coordinate Systems', 'Polar Coordinates and Polar Graphs', 'Spherical and Cylindrical Coordinates', 'Vector Spaces', 'Algebraic Considerations', 'Spanning Sets', 'Linear Independence', 'Subspaces and Basis', 'Sums and Intersections', 'Linear Transformations', 'Isomorphisms', 'One to One and Onto Transformations', 'Isomorphisms', 'The Kernel And Image Of A Linear Map', 'The Matrix of a Linear Transformation', 'Some Prerequisite Topics', 'Sets and Set Notation', 'Well Ordering and Induction', 'Selected Exercise Answers', 'Index']\n",
      "Linear algebra done right — Axler.pdf\n",
      "['Contents', 'Preface for the Instructor', 'Preface for the Student', 'Acknowledgments', 'CHAPTER 1', 'Vector Spaces', '1.A Rn and Cn', 'Complex Numbers', '1.1 Definition', '1.2 Example', '1.3 Properties of complex arithmetic', '1.4 Example', '1.5 Definition', '1.6 Notation', 'Lists', '1.7 Example', '1.8 Definition', '1.9 Example', '1.10 Definition', '1.11 Example', '1.12 Definition', '1.13 Commutativity of addition in Fn', '1.14 Definition', '1.15 Example', '1.16 Definition', '1.17 Definition', 'Digression on Fields', 'EXERCISES 1.A', '1.B Definition of Vector Space', '1.18 Definition', '1.19 Definition', '1.20 Definition', '1.21 Definition', '1.22 Example', '1.23 Notation', '1.24 Example', '1.25 Unique additive identity', '1.26 Unique additive inverse', '1.27 Notation', '1.28 Notation', '1.29 The number 0 times a vector', '1.30 A number times the vector 0', '1.31 The number \\x031 times a vector', 'EXERCISES 1.B', '1.C Subspaces', '1.32 Definition', '1.33 Example', '1.34 Conditions for a subspace', '1.35 Example', 'Sums of Subspaces', '1.36 Definition', '1.37 Example', '1.38 Example', '1.39 Sum of subspaces is the smallest containing subspace', 'Direct Sums', '1.40 Definition', '1.41 Example', '1.42 Example', '1.43 Example', '1.44 Condition for a direct sum', '1.45 Direct sum of two subspaces', 'EXERCISES 1.C', 'CHAPTER 2', 'Finite-Dimensional Vector Spaces', '2.1 Notation', '2.A Span and Linear Independence', 'Linear Combinations and Span', '2.2 Notation', '2.3 Definition', '2.4 Example', '2.5 Definition', '2.6 Example', '2.7 Span is the smallest containing subspace', '2.8 Definition', '2.9 Example', '2.10 Definition', '2.11 Definition', '2.12 Definition', '2.13 Definition', '2.14 Example', '2.15 Definition', '2.16 Example', 'Linear Independence', '2.17 Definition', '2.18 Example', '2.20 Example', '2.21 Linear Dependence Lemma', '2.22', '2.23 Length of linearly independent list ≤ length of spanning list', '2.24 Example', '2.25 Example', '2.26 Finite-dimensional subspaces', 'EXERCISES 2.A', '2.B Bases', '2.27 Definition', '2.28 Example', '2.29 Criterion for basis', '2.30', '2.31 Spanning list contains a basis', '2.32 Basis of finite-dimensional vector space', '2.33 Linearly independent list extends to a basis', '2.34 Every subspace of V is part of a direct sum equal to V', 'EXERCISES 2.B', '2.C Dimension', '2.35 Basis length does not depend on basis', '2.36 Definition', '2.37 Example', '2.38 Dimension of a subspace', '2.39 Linearly independent list of the right length is a basis', '2.40 Example', '2.41 Example', '2.42 Spanning list of the right length is a basis', '2.43 Dimension of a sum', 'EXERCISES 2.C', 'CHAPTER 3', 'Linear Maps', '3.1 Notation', '3.A The Vector Space of Linear Maps', 'Definition and Examples of Linear Maps', '3.2 Definition', '3.3 Notation', '3.4 Example', '3.5 Linear maps and basis of domain', 'Algebraic Operations on L(V,W)', '3.7 L(V,W) is a vector space', '3.8 Definition', '3.9 Algebraic properties of products of linear maps', '3.10 Example', '3.11 Linear maps take 0 to 0', 'EXERCISES 3.A', '3.B Null Spaces and Ranges', 'Null Space and Injectivity', '3.12 Definition', '3.13 Example', '3.14 The null space is a subspace', '3.15 Definition', '3.16 Injectivity is equivalent to null space equals {0}', 'Range and Surjectivity', '3.17 Definition', '3.18 Example', '3.19 The range is a subspace', '3.20 Definition', '3.21 Example', 'Fundamental Theorem of Linear Maps', '3.22 Fundamental Theorem of Linear Maps', '3.23 A map to a smaller dimensional space is not injective', '3.24 A map to a larger dimensional space is not surjective', '3.25 Example', '3.26 Homogeneous system of linear equations', '3.27 Example', '3.28', '3.29 Inhomogeneous system of linear equations', 'EXERCISES 3.B', '3.C Matrices', 'Representing a Linear Map by a Matrix', '3.30 Definition', '3.31 Example', '3.32 Definition', '3.33 Example', '3.34 Example', 'Addition and Scalar Multiplication of Matrices', '3.35 Definition', '3.36 The matrix of the sum of linear maps', '3.37 Definition', '3.38 The matrix of a scalar times a linear map', '3.39 Notation', '3.40 dim Fm,n = mn', 'Matrix Multiplication', '3.41 Definition', '3.42 Example', '3.43 The matrix of the product of linear maps', '3.44 Notation', '3.45 Example', '3.46 Example', '3.48 Example', '3.49 Column of matrix product equals matrix times column', '3.50 Example', '3.51 Example', '3.52 Linear combination of columns', 'EXERCISES 3.C', '3.D Invertibility and Isomorphic Vector Spaces', 'Invertible Linear Maps', '3.53 Definition', '3.54 Inverse is unique', '3.55 Notation', '3.56 Invertibility is equivalent to injectivity and surjectivity', '3.57 Example', 'Isomorphic Vector Spaces', '3.58 Definition', '3.59 Dimension shows whether vector spaces are isomorphic', '3.60 L(V;W) and Fm,n are isomorphic', '3.61 dimL(V;W) = (dimV)(dimW)', 'Linear Maps Thought of as Matrix Multiplication', '3.62 Definition', '3.63 Example', '3.64 M(T ).,k = M(vk).', '3.65 Linear maps act like matrix multiplication', '3.66', 'Operators', '3.67 Definition', '3.68 Example', '3.69 Injectivity is equivalent to surjectivity in finite dimensions', '3.70 Example', 'EXERCISES 3.D', '3.E Products and Quotients of Vector Spaces', 'Products of Vector Spaces', '3.71 Definition', '3.72 Example', '3.73 Product of vector spaces is a vector space', '3.74 Example', '3.75 Example', '3.76 Dimension of a product is the sum of dimensions', 'Products and Direct Sums', '3.77 Products and direct sums', '3.78 A sum is a direct sum if and only if dimensions add up', 'Quotients of Vector Spaces', '3.79 Definition', '3.80 Example', '3.81 Definition', '3.82 Example', '3.83 Definition', '3.84 Example', '3.85 Two affine subsets parallel to U are equal or disjoint', '3.86 Definition', '3.87 Quotient space is a vector space', '3.88 Definition', '3.89 Dimension of a quotient space', '3.90 Definition', '3.91 Null space and range of T', 'EXERCISES 3.E', '3.F Duality', 'The Dual Space and the Dual Map', '3.92 Definition', '3.93 Example', '3.94 Definition', \"3.95 dim V' = dim V\", '3.96 Definition', '3.97 Example', '3.98 Dual basis is a basis of the dual space', '3.99 Definition', '3.100 Example', '3.101 Algebraic properties of dual maps', 'The Null Space and Range of the Dual of a Linear Map', '3.102 Definition', '3.103 Example', '3.104 Example', '3.105 The annihilator is a subspace', '3.106 Dimension of the annihilator', \"3.107 The null space of T'\", \"3.108 T' surjective is equivalent to T' injective\", \"3.109 The range of T'\", \"3.110 T' injective is equivalent to T' surjective\", 'The Matrix of the Dual of a Linear Map', '3.111 Definition', '3.112 Example', '3.113 The transpose of the product of matrices', \"3.114 The matrix of T' is the transpose of the matrix of T'\", 'The Rank of a Matrix', '3.115 Definition', '3.116 Example', '3.117 Dimension of range T equals column rank of M(T)', '3.118 Row rank equals column rank', '3.119 Definition', 'EXERCISES 3.F', 'CHAPTER 4', 'Polynomials', '4.1 Notation', 'Complex Conjugate and Absolute Value', '4.2 Definition', '4.3 Definition', '4.4 Example', '4.5 Properties of complex numbers', 'Uniqueness of Coefficients for Polynomials', '4.6', '4.7 If a polynomial is the zero function, then all coefficients are 0', 'The Division Algorithm for Polynomials', '4.8 Division Algorithm for Polynomials', 'Zeros of Polynomials', '4.9 Definition', '4.10 Definition', '4.11 Each zero of a polynomial corresponds to a degree-1 factor', '4.12 A polynomial has at most as many zeros as its degree', 'Factorization of polynomials over C', '4.13 Fundamental Theorem of Algebra', '4.14 Factorization of a polynomial over C', 'Factorization of polynomials over R', '4.15 Polynomials with real coefficients have zeros in pairs', '4.16 Factorization of a quadratic polynomial', '4.17 Factorization of a polynomial over R', 'EXERCISES 4', 'CHAPTER 5', 'Eigenvalues, Eigenvectors, and Invariant Subspaces', '5.1 Notation', '5.A Invariant Subspaces', '5.2 Definition', '5.3 Example', '5.4 Example', 'Eigenvalues and Eigenvectors', '5.5 Definition', '5.6 Equivalent conditions to be an eigenvalue', '5.7 Definition', '5.8 Example', '5.9', '5.10 Linearly independent eigenvectors', '5.11', '5.12', '5.13 Number of eigenvalues', 'Restriction and Quotient Operators', '5.14 Definition', '5.15 Example', 'EXERCISES 5.A', '5.B Eigenvectors and Upper-Triangular Matrices', 'Polynomials Applied to Operators', '5.16 Definition', '5.17 Definition', '5.18 Example', '5.19 Definition', '5.20 Multiplicative properties', 'Existence of Eigenvalues', '5.21 Operators on complex vector spaces have an eigenvalue', 'Upper-Triangular Matrices', '5.22 Definition', '5.23 Example', '5.24 Definition', '5.25 Definition', '5.26 Conditions for upper-triangular matrix', '5.27 Over C, every operator has an upper-triangular matrix', '5.28', '5.29', '5.30 Determination of invertibility from upper-triangular matrix', '5.31', '5.32 Determination of eigenvalues from upper-triangular matrix', '5.33 Example', 'EXERCISES 5.B', '5.C Eigenspaces and Diagonal Matrices', '5.34 Definition', '5.35 Example', '5.36 Definition', '5.37 Example', '5.38 Sum of eigenspaces is a direct sum', '5.39 Definition', '5.40 Example', '5.41 Conditions equivalent to diagonalizability', '5.42', '5.43 Example', '5.44 Enough eigenvalues implies diagonalizability', '5.45 Example', 'EXERCISES 5.C', 'CHAPTER 6', 'Inner Product Spaces', '6.1 Notation', '6.A Inner Products and Norms', 'Inner Products', '6.2 Definition', '6.3 Definition', '6.4 Example', '6.5 Definition', '6.6 Notation', '6.7 Basic properties of an inner product', 'Norms', '6.8 Definition', '6.9 Example', '6.10 Basic properties of the norm', '6.11 Definition', '6.12 Orthogonality and 0', '6.13 Pythagorean Theorem', '6.14 An orthogonal decomposition', '6.15 Cauchy–Schwarz Inequality', '6.16', '6.17 Example', '6.18 Triangle Inequality', '6.19', '6.20', '6.21', '6.22 Parallelogram Equality', 'EXERCISES 6.A', '6.B Orthonormal Bases', '6.23 Definition', '6.24 Example', '6.25 The norm of an orthonormal linear combination', '6.26 An orthonormal list is linearly independent', '6.27 Definition', '6.28 An orthonormal list of the right length is an orthonormal basis', '6.29 Example', '6.30 Writing a vector as linear combination of orthonormal basis', '6.31 Gram–Schmidt Procedure', '6.32', '6.33 Example', '6.34 Existence of orthonormal basis', '6.35 Orthonormal list extends to orthonormal basis', '6.37 Upper-triangular matrix with respect to orthonormal basis', '6.38 Schur’s Theorem', 'Linear Functionals on Inner Product Spaces', '6.39 Definition', '6.40 Example', '6.41 Example', '6.42 Riesz Representation Theorem', '6.43', '6.44 Example', 'EXERCISES 6.B', '6.C Orthogonal Complements and Minimization Problems', 'Orthogonal Complements', '6.45 Definition', '6.46 Basic properties of orthogonal complement', '6.47 Direct sum of a subspace and its orthogonal complement', '6.48', '6.49', '6.50 Dimension of the orthogonal complement', '6.51 The orthogonal complement of the orthogonal complement', '6.52', '6.53 Definition', '6.54 Example', '6.55 Properties of the orthogonal projection PU', 'Minimization Problems', '6.56 Minimizing the distance to a subspace', '6.57', '6.58 Example', '6.59', '6.60', '6.61', 'EXERCISES 6.C', 'CHAPTER 7', 'Operators on Inner Product Spaces', '7.1 Notation', '7.A Self-Adjoint and Normal Operators', 'Adjoints', '7.2 Definition', '7.3 Example', '7.4 Example', '7.5 The adjoint is a linear map', '7.6 Properties of the adjoint', '7.7 Null space and range of T*', '7.8 Definition', '7.9 Example', '7.10 The matrix of T* ', 'Self-Adjoint Operators', '7.11 Definition', '7.12 Example', '7.13 Eigenvalues of self-adjoint operators are real', '7.14 Over C, T v is orthogonal to v for all v only for the 0 operator', '7.15 Over C, (Tv, v) is real for all v only for self-adjoint operators', '7.16 If T = T*  and (Tv, v) = 0 for all v, then T = 0', '7.17', 'Normal Operators', '7.18 Definition', '7.19 Example', '7.20 T is normal if and only if |T v| = ||T v|| for all v', '7.21 For T normal, T and T*  have the same eigenvectors', '7.22 Orthogonal eigenvectors for normal operators', 'EXERCISES 7.A', '7.B The Spectral Theorem', 'The Complex Spectral Theorem', '7.23 Example', '7.24 Complex Spectral Theorem', '7.25', 'The Real Spectral Theorem', '7.26 Invertible quadratic expressions', '7.27 Self-adjoint operators have eigenvalues', '7.28 Self-adjoint operators and invariant subspaces', '7.29 Real Spectral Theorem', '7.30 Example', 'EXERCISES 7.B', '7.C Positive Operators and Isometries', 'Positive Operators', '7.31 Definition', '7.32 Example', '7.33 Definition', '7.34 Example', '7.35 Characterization of positive operators', '7.36 Each positive operator has only one positive square root', 'Isometries', '7.37 Definition', '7.38 Example', '7.39', '7.40', '7.41', '7.42 Characterization of isometries', '7.43 Description of isometries when F = C', 'EXERCISES 7.C', '7.D Polar Decomposition and Singular Value Decomposition', 'Polar Decomposition', '7.44 Notation', '7.45 Polar Decomposition', '7.46', '7.47', '7.48', 'Singular Value Decomposition', '7.49 Definition', '7.50 Example', '7.51 Singular Value Decomposition', 'EXERCISES 7.D', 'CHAPTER 8', 'Operators on Complex Vector Spaces', '8.1 Notation', '8.A Generalized Eigenvectors and Nilpotent Operators', 'Null Spaces of Powers of an Operator', '8.2 Sequence of increasing null spaces', '8.3 Equality in the sequence of null spaces', '8.4 Null spaces stop growing', '8.5 V is the direct sum of null T dimV and range TdimV', '8.6', '8.7 Example', 'Generalized Eigenvectors', '8.8', '8.9 Definition', '8.10 Definition', '8.11 Description of generalized eigenspaces', '8.12 Example', '8.13 Linearly independent generalized eigenvectors', '8.14', '8.15', 'Nilpotent Operators', '8.16 Definition', '8.17 Example', '8.18 Nilpotent operator raised to dimension of domain is 0', '8.19 Matrix of a nilpotent operator', 'EXERCISES 8.A', '8.B Decomposition of an Operator', 'Description of Operators on Complex Vector Spaces', '8.20 The null space and range of p(T) are invariant under T', '8.21 Description of operators on complex vector spaces', '8.22', '8.23 A basis of generalized eigenvectors', 'Multiplicity of an Eigenvalue', '8.24 Definition', '8.25 Example', '8.26 Sum of the multiplicities equals dim V', 'Block Diagonal Matrices', '8.27 Definition', '8.28 Example', '8.29 Block diagonal matrix with upper-triangular blocks', '8.30 Example', 'Square Roots', '8.31 Identity plus nilpotent has a square root', '8.32', '8.33 Over C, invertible operators have square roots', 'EXERCISES 8.B', '8.C Characteristic and Minimal Polynomials', 'The Cayley–Hamilton Theorem', '8.34 Definition', '8.35 Example', '8.36 Degree and zeros of characteristic polynomial', '8.37 Cayley–Hamilton Theorem', 'The Minimal Polynomial', '8.38 Definition', '8.39 Example', '8.40 Minimal polynomial', '8.41', '8.42', '8.43 Definition', '8.44', '8.45 Example', '8.46 q(T) = 0 implies q is a multiple of the minimal polynomial', '8.47', '8.48 Characteristic polynomial is a multiple of minimal polynomial', '8.49 Eigenvalues are the zeros of the minimal polynomial', '8.50 Example', '8.51 Example', '8.52 Example', 'EXERCISES 8.C', '8.D Jordan Form', '8.53 Example', '8.54 Example', '8.55 Basis corresponding to a nilpotent operator', '8.56', '8.57', '8.58', '8.59 Definition', '8.60 Jordan Form', 'EXERCISES 8.D', 'CHAPTER 9', 'Operators on Real Vector Spaces', '9.1 Notation', '9.A Complexification', 'Complexification of a Vector Space', '9.2 Definition', '9.3 VC is a complex vector space.', '9.4 Basis of V is basis of VC', 'Complexification of an Operator', '9.5 Definition', '9.6 Example', '9.7 Matrix of TC equals matrix of T', '9.8 Every operator has an invariant subspace of dimension 1 or 2', 'The Minimal Polynomial of the Complexification', '9.9', '9.10 Minimal polynomial of TC equals minimal polynomial of T', 'Eigenvalues of the Complexification', '9.11 Real eigenvalues of TC', '9.12 TC –λI and TC – λI', '9.13', '9.14', '9.15', '9.16 Nonreal eigenvalues of TC come in pairs', '9.17 Multiplicity of λ equals multiplicity of λ', '9.18 Example', '9.19 Operator on odd-dimensional vector space has eigenvalue', 'Characteristic Polynomial of the Complexification', '9.20 Characteristic polynomial of TC', '9.21 Definition', '9.22 Example', '9.23 Degree and zeros of characteristic polynomial', '9.24 Cayley–Hamilton Theorem', '9.25 Example', '9.26 Characteristic polynomial is a multiple of minimal polynomial', 'EXERCISES 9.A', '9.B Operators on Real Inner Product Spaces', 'Normal Operators on Real Inner Product Spaces', '9.27 Normal but not self-adjoint operators', '9.28', '9.29', '9.30 Normal operators and invariant subspaces', '9.31', '9.32', '9.33', '9.34 Characterization of normal operators when F = R', 'Isometries on Real Inner Product Spaces', '9.35 Example', '9.36 Description of isometries when F D R', '9.37', 'EXERCISES 9.B', 'CHAPTER 10', 'Trace and Determinant', '10.1 Notation', '10.A Trace', 'Change of Basis', '10.2 Definition', '10.3 Definition', '10.4 The matrix of the product of linear maps', '10.5 Matrix of the identity with respect to two bases', '10.6 Example', '10.7 Change of basis formula', '10.8', 'Trace: A Connection Between Operators and Matrices', '10.9 Definition', '10.10 Example', '10.11', '10.12 Trace and characteristic polynomial', '10.13 Definition', '10.14 Trace of AB equals trace of BA', '10.15 Trace of matrix of operator does not depend on basis', '10.16 Trace of an operator equals trace of its matrix', '10.17 Example', '10.18 Trace is additive', '10.19 The identity is not the difference of ST and TS', 'EXERCISES 10.A', '10.B Determinant', 'Determinant of an Operator', '10.20 Definition', '10.21 Example', '10.22 Determinant and characteristic polynomial', '10.23 Characteristic polynomial, trace, and determinant', '10.24 Invertible is equivalent to nonzero determinant', '10.25 Characteristic polynomial of T equals det(zI – T)', 'Determinant of a Matrix', '10.26 Example', '10.27 Definition', '10.28 Example', '10.29', '10.30 Definition', '10.31 Example', '10.32 Interchanging two entries in a permutation', '10.33 Definition', '10.34 Example', '10.35 Example', '10.36 Interchanging two columns in a matrix', '10.37 Matrices with two equal columns', '10.38 Permuting the columns of a matrix', '10.39 Determinant is a linear function of each column', '10.40 Determinant is multiplicative', '10.41 Determinant of matrix of operator does not depend on basis', '10.42 Determinant of an operator equals determinant of its matrix', '10.43 Example', '10.44 Determinant is multiplicative', 'The Sign of the Determinant', '10.45 Isometries have determinant with absolute value 1', '10.46 Example', 'Volume', '10.48 Definition', '10.49 Definition', '10.50 Definition', '10.51 Notation', '10.52 Positive operators change volume by factor of determinant', '10.53 An isometry does not change volume', '10.54 T changes volume by factor of |det T|', '10.55 Definition', '10.56 Definition', '10.57', '10.58 Change of variables in an integral', '10.59 Example', '10.60 Example', 'EXERCISES 10.B', 'Photo Credits', 'Symbol Index', 'Index']\n",
      "linear-Cherey, Denton.pdf\n",
      "['What is Linear Algebra?', 'Organizing Information', 'What are Vectors?', 'What are Linear Functions?', 'So, What is a Matrix?', 'Matrix Multiplication is Composition of Functions', 'The Matrix Detour', 'Review Problems', 'Systems of Linear Equations ', 'Gaussian Elimination', 'Augmented Matrix Notation', 'Equivalence and the Act of Solving', 'Reduced Row Echelon Form', 'Solution Sets and RREF', 'Review Problems', 'Elementary Row Operations', 'EROs and Matrices', 'Recording EROs in ( M | I ) ', 'The Three Elementary Matrices', 'LU, LDU, and PLDU Factorizations', 'Review Problems', 'Solution Sets for Systems of Linear Equations', 'The Geometry of Solution Sets: Hyperplanes', ' Particular Solution + Homogeneous Solutions ', 'Solutions and Linearity', 'Review Problems', 'The Simplex Method', \"Pablo's Problem\", 'Graphical Solutions', \"Dantzig's Algorithm\", 'Pablo Meets Dantzig', 'Review Problems', 'Vectors in Space, n-Vectors', 'Addition and Scalar Multiplication in Rn', 'Hyperplanes', 'Directions and Magnitudes', 'Vectors, Lists and Functions: RS', 'Review Problems', 'Vector Spaces', 'Examples of Vector Spaces', 'Non-Examples', 'Other Fields', 'Review Problems', 'Linear Transformations', 'The Consequence of Linearity', 'Linear Functions on Hyperplanes ', 'Linear Differential Operators', 'Bases (Take 1)', 'Review Problems', 'Matrices', 'Linear Transformations and Matrices', 'Basis Notation', 'From Linear Operators to Matrices', 'Review Problems', 'Properties of Matrices', 'Associativity and Non-Commutativity ', 'Block Matrices', 'The Algebra of Square Matrices ', 'Trace', 'Review Problems', 'Inverse Matrix', 'Three Properties of the Inverse', 'Finding Inverses (Redux)', 'Linear Systems and Inverses', 'Homogeneous Systems', 'Bit Matrices', 'Review Problems', 'LU Redux', 'Using LU Decomposition to Solve Linear Systems', 'Finding an LU Decomposition.', 'Block LDU Decomposition', 'Review Problems', 'Determinants', 'The Determinant Formula', 'Simple Examples', 'Permutations', 'Elementary Matrices and Determinants', 'Row Swap', 'Row Multiplication', 'Row Addition', 'Determinant of Products', 'Review Problems', 'Properties of the Determinant', 'Determinant of the Inverse', 'Adjoint of a Matrix', 'Application: Volume of a Parallelepiped', 'Review Problems', 'Subspaces and Spanning Sets', 'Subspaces', 'Building Subspaces', 'Review Problems', 'Linear Independence', 'Showing Linear Dependence', 'Showing Linear Independence', 'From Dependent Independent ', 'Review Problems', 'Basis and Dimension', 'Bases in Rn.', 'Matrix of a Linear Transformation (Redux)', 'Review Problems', 'Eigenvalues and Eigenvectors', 'Invariant Directions', 'The Eigenvalue–Eigenvector Equation', 'Eigenspaces', 'Review Problems', 'Diagonalization', 'Diagonalizability', 'Change of Basis', 'Changing to a Basis of Eigenvectors', 'Review Problems', 'Orthonormal Bases and Complements', 'Properties of the Standard Basis', 'Orthogonal and Orthonormal Bases', 'Orthonormal Bases and Dot Products', 'Relating Orthonormal Bases', 'Gram-Schmidt & Orthogonal Complements', 'The Gram-Schmidt Procedure', 'QR Decomposition', 'Orthogonal Complements', 'Review Problems', 'Diagonalizing Symmetric Matrices', 'Review Problems', 'Kernel, Range, Nullity, Rank', 'Range', 'Image', ' One-to-one and Onto', 'Kernel', 'Summary', 'Review Problems', 'Least squares and Singular Values', 'Projection Matrices', 'Singular Value Decomposition', 'Review Problems', 'List of Symbols', 'Fields', 'Online Resources', 'Sample First Midterm', 'Sample Second Midterm', 'Sample Final Exam', 'Movie Scripts', 'What is Linear Algebra?', 'Systems of Linear Equations', 'Vectors in Space n-Vectors', 'Vector Spaces', 'Linear Transformations', 'Matrices', 'Determinants', 'Subspaces and Spanning Sets', 'Linear Independence', 'Basis and Dimension', 'Eigenvalues and Eigenvectors', 'Diagonalization', 'Orthonormal Bases and Complements', 'Diagonalizing Symmetric Matrices', 'Kernel, Range, Nullity, Rank', 'Least Squares and Singular Values', 'Index']\n",
      "Nicholson-OpenLAWA-2019A.pdf\n",
      "['1 Systems of Linear Equations', '1.1 Solutions and Elementary Operations', '1.2 Gaussian Elimination', '1.3 Homogeneous Equations', '1.4 An Application to Network Flow', '1.5 An Application to Electrical Networks', '1.6 An Application to Chemical Reactions', 'Supplementary Exercises for Chapter 1', '2 Matrix Algebra', '2.1 Matrix Addition, Scalar Multiplication, and Transposition', '2.2 Matrix-Vector Multiplication', '2.3 Matrix Multiplication', '2.4 Matrix Inverses', '2.5 Elementary Matrices', '2.6 Linear Transformations', '2.7 LU-Factorization', '2.8 An Application to Input-Output Economic Models', '2.9 An Application to Markov Chains', 'Supplementary Exercises for Chapter 2', '3 Determinants and Diagonalization', '3.1 The Cofactor Expansion', '3.2 Determinants and Matrix Inverses', '3.3 Diagonalization and Eigenvalues', '3.4 An Application to Linear Recurrences', '3.5 An Application to Systems of Differential Equations', '3.6 Proof of the Cofactor Expansion Theorem', 'Supplementary Exercises for Chapter 3', '4 Vector Geometry', '4.1 Vectors and Lines', '4.2 Projections and Planes', '4.3 More on the Cross Product', '4.4 Linear Operators on R3', '4.5 An Application to Computer Graphics', 'Supplementary Exercises for Chapter 4', '5 Vector Space Rn', '5.1 Subspaces and Spanning', '5.2 Independence and Dimension', '5.3 Orthogonality', '5.4 Rank of a Matrix', '5.5 Similarity and Diagonalization', '5.6 Best Approximation and Least Squares', '5.7 An Application to Correlation and Variance', 'Supplementary Exercises for Chapter 5', '6 Vector Spaces', '6.1 Examples and Basic Properties', '6.2 Subspaces and Spanning Sets', '6.3 Linear Independence and Dimension', '6.4 Finite Dimensional Spaces', '6.5 An Application to Polynomials', '6.6 An Application to Differential Equations', 'Supplementary Exercises for Chapter 6', '7 Linear Transformations', '7.1 Examples and Elementary Properties', '7.2 Kernel and Image of a Linear Transformation', '7.3 Isomorphisms and Composition', '7.4 A Theorem about Differential Equations', '7.5 More on Linear Recurrences', '8 Orthogonality', '8.1 Orthogonal Complements and Projections', '8.2 Orthogonal Diagonalization', '8.3 Positive Definite Matrices', '8.4 QR-Factorization', '8.5 Computing Eigenvalues', '8.6 The Singular Value Decomposition', '8.6.1 Singular Value Decompositions', '8.6.2 Fundamental Subspaces', '8.6.3 The Polar Decomposition of a Real Square Matrix', '8.6.4 The Pseudoinverse of a Matrix', '8.7 Complex Matrices', '8.8 An Application to Linear Codes over Finite Fields', '8.9 An Application to Quadratic Forms', '8.10 An Application to Constrained Optimization', '8.11 An Application to Statistical Principal Component Analysis', '9 Change of Basis', '9.1 The Matrix of a Linear Transformation', '9.2 Operators and Similarity', '9.3 Invariant Subspaces and Direct Sums', '10 Inner Product Spaces', '10.1 Inner Products and Norms', '10.2 Orthogonal Sets of Vectors', '10.3 Orthogonal Diagonalization', '10.4 Isometries', '10.5 An Application to Fourier Approximation', '11 Canonical Forms', '11.1 Block Triangular Form', '11.2 The Jordan Canonical Form', 'A Complex Numbers', 'B Proofs', 'C Mathematical Induction', 'D Polynomials', 'Selected Exercise Answers', 'Index']\n"
     ]
    }
   ],
   "source": [
    "import os\n",
    "path = \"../dat/books/all_books/\"\n",
    "from PyPDF2 import PdfReader\n",
    "\n",
    "def get_outline_first_level():\n",
    "    '''Get first level chapters in the outline from PyPDF2 reader object. Note: the outline contains only top 1 level and ingores sublevels under the chapters.\n",
    "    Returns:\n",
    "    (list) : titles of chapters\n",
    "    '''\n",
    "    outline_first_level = []\n",
    "    for element in reader.outline:\n",
    "        if isinstance(element, dict):\n",
    "            outline_first_level.append(element[\"/Title\"]) \n",
    "    return outline_first_level\n",
    "\n",
    "def get_subchapter(outline):\n",
    "    ''' This functions is a recursion that helps finding subchapters at 2nd and deeper layers\n",
    "    '''\n",
    "    subchapters =[]\n",
    "    for element in outline:\n",
    "        if isinstance(element, list):\n",
    "            subchapters.extend(get_subchapter(element))    \n",
    "        else: \n",
    "            # base case\n",
    "            subchapters.append(element[\"/Title\"])\n",
    "    return subchapters\n",
    "\n",
    "def get_outline_all_levels(reader):\n",
    "    '''Get all level chapters and subchapters in the outline from PyPDF2 reader object. \n",
    "    Returns:\n",
    "    (list) : titles of chapters and subchapters\n",
    "    '''   \n",
    "    outline = reader.outline\n",
    "\n",
    "    outline_all_levels = []\n",
    "    outline_all_levels = get_subchapter(outline)\n",
    "\n",
    "    return outline_all_levels\n",
    "    \n",
    "outlines = {}\n",
    "for book in os.listdir(path):\n",
    "    reader = PdfReader(path+book)\n",
    "    outlines[book] = [get_outline_first_level()]\n",
    "    outlines[book].append(get_outline_all_levels(reader))\n",
    "    print(book)\n",
    "    print(outlines[book][1])"
   ]
  },
  {
   "cell_type": "markdown",
   "metadata": {},
   "source": [
    "### sciBert: 1. filtering\n",
    "\n",
    "1. NER rekognition via sciBert + embeddings in the entire corpus (merged 7 books)\n",
    "\n",
    "2. Measure similarity score between concepts and titles of chapters, subchapters\n",
    "\n",
    "3. Filter out the concepts that have very low maximal similarity score"
   ]
  },
  {
   "cell_type": "code",
   "execution_count": 11,
   "metadata": {},
   "outputs": [
    {
     "name": "stderr",
     "output_type": "stream",
     "text": [
      "c:\\Users\\anast\\anaconda3\\envs\\scispacy\\lib\\site-packages\\tqdm\\auto.py:22: TqdmWarning: IProgress not found. Please update jupyter and ipywidgets. See https://ipywidgets.readthedocs.io/en/stable/user_install.html\n",
      "  from .autonotebook import tqdm as notebook_tqdm\n"
     ]
    }
   ],
   "source": [
    "import pandas as pd\n",
    "import spacy\n",
    "#! pip install https://s3-us-west-2.amazonaws.com/ai2-s2-scispacy/releases/v0.5.1/en_core_sci_md-0.5.1.tar.gz"
   ]
  },
  {
   "cell_type": "code",
   "execution_count": null,
   "metadata": {},
   "outputs": [],
   "source": [
    "nlp = spacy.load(\"en_core_sci_md\")\n",
    "doc=nlp(' '.join(data.text))\n",
    "entities = doc.ents"
   ]
  },
  {
   "cell_type": "code",
   "execution_count": null,
   "metadata": {},
   "outputs": [],
   "source": [
    "text = ' '.join(data.text)\n",
    "text = utils.remove_stopwords(text)\n",
    "text = utils.remove_short_words(text)\n",
    "\n",
    "#split_text = [text[i:i+800000] for i in range(0, len(text), 800000)]\n",
    "#nlp_text = []\n",
    "#for piece in split_text:\n",
    "#    piece = nlp(piece)\n",
    "#    nlp_text.append(piece)\n",
    "\n",
    "doc=nlp(text)\n",
    "entities = doc.ents"
   ]
  }
 ],
 "metadata": {
  "kernelspec": {
   "display_name": "Python 3.9.13 ('scispacy')",
   "language": "python",
   "name": "python3"
  },
  "language_info": {
   "codemirror_mode": {
    "name": "ipython",
    "version": 3
   },
   "file_extension": ".py",
   "mimetype": "text/x-python",
   "name": "python",
   "nbconvert_exporter": "python",
   "pygments_lexer": "ipython3",
   "version": "3.9.13"
  },
  "orig_nbformat": 4,
  "vscode": {
   "interpreter": {
    "hash": "e3c993b82ca2000f5458006c2f528589d608bc0b85d2f1bf00af10416d8a61e5"
   }
  }
 },
 "nbformat": 4,
 "nbformat_minor": 2
}

{
 "cells": [
  {
   "cell_type": "code",
   "execution_count": 2,
   "metadata": {},
   "outputs": [],
   "source": [
    "import fitz\n",
    "import numpy as np"
   ]
  },
  {
   "cell_type": "code",
   "execution_count": 3,
   "metadata": {},
   "outputs": [],
   "source": [
    "doc = fitz.open(\"../dat/books/all_books/Linear algebra done right — Axler.pdf\")"
   ]
  },
  {
   "cell_type": "code",
   "execution_count": 15,
   "metadata": {},
   "outputs": [
    {
     "name": "stdout",
     "output_type": "stream",
     "text": [
      "Index\n",
      "box in Rn, 323\n",
      "absolute value, 118\n",
      "addition\n",
      "Cauchy, Augustin-Louis, 171, 317\n",
      "Cauchy–Schwarz Inequality, 172\n",
      "Cayley, Arthur, 262\n",
      "Cayley–Hamilton Theorem\n",
      "on complex vector space, 261\n",
      "on real vector space, 284\n",
      "change of basis, 298\n",
      "change of variables in integral,\n",
      "in quotient space, 96\n",
      "of complex numbers, 2\n",
      "of functions, 14\n",
      "of linear maps, 55\n",
      "of matrices, 72\n",
      "of subspaces, 20\n",
      "of vectors, 12\n",
      "of vectors in Fn, 7\n",
      "328\n",
      "additive inverse\n",
      "characteristic polynomial\n",
      "on complex vector space, 261\n",
      "on real vector space, 283\n",
      "in C, 3, 4\n",
      "in Fn, 9\n",
      "in vector space, 12, 15\n",
      "characteristic value, 134\n",
      "Christina, Queen of Sweden, 1\n",
      "closed under addition, 18\n",
      "closed under scalar multiplication,\n",
      "18\n",
      "column rank of a matrix, 111\n",
      "commutativity, 3, 7, 12, 25, 56, 75,\n",
      "additivity, 52\n",
      "adjoint of a linear map, 204\n",
      "afﬁne subset, 94\n",
      "algebraic multiplicity, 255\n",
      "annihilator of a subspace, 104\n",
      "Apollonius’s Identity, 179\n",
      "associativity, 3, 12, 56\n",
      "79, 144, 212\n",
      "backward shift, 53, 59, 81, 86, 140\n",
      "basis, 39\n",
      "of eigenvectors, 157, 218,\n",
      "221, 224, 268\n",
      "complex conjugate, 118\n",
      "complex number, 2\n",
      "Complex Spectral Theorem, 218\n",
      "complex vector space, 13\n",
      "complexiﬁcation\n",
      "of generalized eigenvectors,\n",
      "254\n",
      "of a vector space, 276\n",
      "of an operator, 277\n",
      "conjugate symmetry, 166\n",
      "Binet, Jacques, 317\n",
      "Blake, William, 203\n",
      "block diagonal matrix, 255\n",
      "337\n",
      "© Springer International Publishing 2015\n",
      "S. Axler, Linear Algebra Done Right, Undergraduate Texts in Mathematics,\n",
      "DOI 10.1007/978-3-319-11080-6\n",
      "\n"
     ]
    }
   ],
   "source": [
    "print(doc[348].get_text(sort=\"blocks\"))"
   ]
  },
  {
   "cell_type": "code",
   "execution_count": 4,
   "metadata": {},
   "outputs": [],
   "source": [
    "blocks = doc[348].get_textpage().extractBLOCKS()"
   ]
  },
  {
   "cell_type": "code",
   "execution_count": 7,
   "metadata": {},
   "outputs": [
    {
     "name": "stdout",
     "output_type": "stream",
     "text": [
      "Index\n",
      "\n",
      "absolute value, 118\n",
      "addition\n",
      "\n",
      "additive inverse\n",
      "\n",
      "additivity, 52\n",
      "adjoint of a linear map, 204\n",
      "affine subset, 94\n",
      "algebraic multiplicity, 255\n",
      "annihilator of a subspace, 104\n",
      "Apollonius’s Identity, 179\n",
      "associativity, 3, 12, 56\n",
      "\n",
      "backward shift, 53, 59, 81, 86, 140\n",
      "basis, 39\n",
      "\n",
      "Binet, Jacques, 317\n",
      "Blake, William, 203\n",
      "block diagonal matrix, 255\n",
      "\n",
      "box in Rn, 323\n",
      "\n",
      "Cauchy, Augustin-Louis, 171, 317\n",
      "Cauchy–Schwarz Inequality, 172\n",
      "Cayley, Arthur, 262\n",
      "Cayley–Hamilton Theorem\n",
      "\n",
      "change of basis, 298\n",
      "change of variables in integral,\n",
      "\n",
      "characteristic polynomial\n",
      "\n",
      "characteristic value, 134\n",
      "Christina, Queen of Sweden, 1\n",
      "closed under addition, 18\n",
      "closed under scalar multiplication,\n",
      "\n",
      "column rank of a matrix, 111\n",
      "commutativity, 3, 7, 12, 25, 56, 75,\n",
      "\n",
      "complex conjugate, 118\n",
      "complex number, 2\n",
      "Complex Spectral Theorem, 218\n",
      "complex vector space, 13\n",
      "complexification\n",
      "\n",
      "conjugate symmetry, 166\n",
      "\n",
      "© Springer International Publishing 2015\n",
      "S. Axler, Linear Algebra Done Right, Undergraduate Texts in Mathematics,\n",
      "DOI 10.1007/978-3-319-11080-6\n",
      "\n"
     ]
    }
   ],
   "source": [
    "for block in blocks:\n",
    "    #print(block)\n",
    "    x = np.round(block[0]/10)\n",
    "    if x == 2 or x == 20:\n",
    "        print(block[4])"
   ]
  }
 ],
 "metadata": {
  "kernelspec": {
   "display_name": "Python 3 (ipykernel)",
   "language": "python",
   "name": "python3"
  },
  "language_info": {
   "codemirror_mode": {
    "name": "ipython",
    "version": 3
   },
   "file_extension": ".py",
   "mimetype": "text/x-python",
   "name": "python",
   "nbconvert_exporter": "python",
   "pygments_lexer": "ipython3",
   "version": "3.10.6"
  },
  "vscode": {
   "interpreter": {
    "hash": "2b3dd287303ef379cd3bfc1446cef400144e42385eabfb9b315f60147448249f"
   }
  }
 },
 "nbformat": 4,
 "nbformat_minor": 2
}

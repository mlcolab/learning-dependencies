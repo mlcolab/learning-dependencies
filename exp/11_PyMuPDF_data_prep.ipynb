{
 "cells": [
  {
   "cell_type": "code",
   "execution_count": 1,
   "metadata": {},
   "outputs": [],
   "source": [
    "import fitz\n",
    "import pandas as pd\n",
    "import os\n",
    "import unicodedata\n",
    "from IPython.display import clear_output\n",
    "import time"
   ]
  },
  {
   "cell_type": "code",
   "execution_count": 2,
   "metadata": {},
   "outputs": [],
   "source": [
    "short_words=[\"a\",'i',\"of\",\"on\",\"in\",\"ok\",\"so\",\"be\",\"to\",\"me\",'we','he','ai','am','an','as','at','bi','by','ed','en','hi','id','if','in','is','it','my','or','os','pi','us','no']\n",
    "short_words = short_words + [word.upper() for word in short_words] + [word.capitalize() for word in short_words]\n",
    "def has_numbers(token):\n",
    "    return any(char.isdigit() for char in token)"
   ]
  },
  {
   "cell_type": "code",
   "execution_count": 3,
   "metadata": {},
   "outputs": [
    {
     "name": "stdout",
     "output_type": "stream",
     "text": [
      "[[1, 'Cover  ', 1], [1, 'Title\\r', 2], [1, 'Preface\\r', 4], [1, 'Contents\\r', 7], [1, '1. Linear Equations\\r', 10], [1, '2. Vector Spaces\\r', 37], [1, '3. Linear Transformations\\r', 76], [1, '4. Polynomials\\r', 126], [1, '5. Determinants\\r', 149], [1, '6. Elementary Canonical Forms\\r', 190], [1, '7. The Rational and Jordan Forms\\r', 236], [1, '8. Inner Product Spaces\\r', 279], [1, '9. Operators on Inner Product Spaces\\r', 328], [1, '10. Bilinear Forms\\r', 368], [1, 'Appendix\\r', 395], [1, 'Bibliography\\r', 409], [1, 'Index\\r', 410]]\n"
     ]
    }
   ],
   "source": [
    "data = pd.DataFrame(columns=[\"pages\"])\n",
    "\n",
    "folder = \"../dat/books/selected10/\"\n",
    "\n",
    "\n",
    "start_pages = []\n",
    "end_pages = []\n",
    "for book in os.listdir(folder):\n",
    "    doc = fitz.open(\"../dat/books/selected10/\"+book)\n",
    "\n",
    "    # table of content\n",
    "    toc = doc.get_toc()\n",
    "    tocs_1level = [item for item in toc if item[0]==1]\n",
    "    print(tocs_1level)\n",
    "    time.sleep(4)\n",
    "\n",
    "    # input the number of page where the main content starts\n",
    "    start = int(input())\n",
    "    start_pages.append(start)\n",
    "\n",
    "    # input the number of the next page after the main content\n",
    "    end = int(input())\n",
    "    end_pages.append(end)\n",
    "\n",
    "    # read the text from pdf and remove unnecessary content and noise\n",
    "    text=[]\n",
    "    for i,page in enumerate(doc):\n",
    "        if (i+1>=start) and (i+1<end):\n",
    "\n",
    "            page_text = page.get_text()\n",
    "\n",
    "            page_text = unicodedata.normalize(\"NFKD\", page_text)\n",
    "            page_text = page_text.encode(\"ascii\", \"ignore\")\n",
    "            page_text = page_text.decode()\n",
    "            page_text = page_text.replace(\"-\\n\",\"\")\n",
    "            page_text = page_text.replace(\"\\n\",\" \")\n",
    "\n",
    "            text.append(page_text)\n",
    "        else:\n",
    "            text.append(\"\")\n",
    "    \n",
    "\n",
    "    cleaned_text=[]\n",
    "    for page in text:\n",
    "        cleaned_tokens = []\n",
    "        for token in page.split(\" \"):\n",
    "            if not ((has_numbers(token)) or ((len(token) <=2) and (token not in short_words))):\n",
    "                cleaned_tokens.append(token)\n",
    "        cleaned_text.append(\" \".join(cleaned_tokens))\n",
    "    \n",
    "    data.loc[book[:-4],\"pages\"]=cleaned_text\n",
    "    clear_output(wait=True)"
   ]
  },
  {
   "cell_type": "code",
   "execution_count": 4,
   "metadata": {},
   "outputs": [
    {
     "data": {
      "text/html": [
       "<div>\n",
       "<style scoped>\n",
       "    .dataframe tbody tr th:only-of-type {\n",
       "        vertical-align: middle;\n",
       "    }\n",
       "\n",
       "    .dataframe tbody tr th {\n",
       "        vertical-align: top;\n",
       "    }\n",
       "\n",
       "    .dataframe thead th {\n",
       "        text-align: right;\n",
       "    }\n",
       "</style>\n",
       "<table border=\"1\" class=\"dataframe\">\n",
       "  <thead>\n",
       "    <tr style=\"text-align: right;\">\n",
       "      <th></th>\n",
       "      <th>pages</th>\n",
       "    </tr>\n",
       "  </thead>\n",
       "  <tbody>\n",
       "    <tr>\n",
       "      <th>Beezer_First_Course</th>\n",
       "      <td>[, , , , , , , , , , , , , , Chapter SLE Syste...</td>\n",
       "    </tr>\n",
       "    <tr>\n",
       "      <th>CollegeAlgCoreq-WEB</th>\n",
       "      <td>[, , , , , , , , , , , , , , , , , , , , , , ,...</td>\n",
       "    </tr>\n",
       "    <tr>\n",
       "      <th>Hefferon_LinAlgebra</th>\n",
       "      <td>[, , , , , , , , , , Chapter One Linear System...</td>\n",
       "    </tr>\n",
       "    <tr>\n",
       "      <th>interactive_textbook</th>\n",
       "      <td>[, , , , , , , , , , , , , , , , , , Chapter S...</td>\n",
       "    </tr>\n",
       "    <tr>\n",
       "      <th>Kuttler-LinearAlgebra-AFirstCourse-2017A</th>\n",
       "      <td>[, , , , , , , , , , , , , , Systems of Equati...</td>\n",
       "    </tr>\n",
       "    <tr>\n",
       "      <th>Linear algebra done right — Axler</th>\n",
       "      <td>[, , , , , , , , , , , , , , , , , Rene Descar...</td>\n",
       "    </tr>\n",
       "    <tr>\n",
       "      <th>linear-Cherey, Denton</th>\n",
       "      <td>[, , , , , , , , What is Linear Algebra? Many ...</td>\n",
       "    </tr>\n",
       "    <tr>\n",
       "      <th>Math1410_print</th>\n",
       "      <td>[, , , , , , , , One thing that student evalua...</td>\n",
       "    </tr>\n",
       "    <tr>\n",
       "      <th>Nicholson-OpenLAWA-2019A</th>\n",
       "      <td>[, , , , , , , , , , , , , , , , , , , , , , S...</td>\n",
       "    </tr>\n",
       "    <tr>\n",
       "      <th>textbook_Hoffman_Kunze</th>\n",
       "      <td>[, , , , , , , , , Linear Equations Fields We ...</td>\n",
       "    </tr>\n",
       "  </tbody>\n",
       "</table>\n",
       "</div>"
      ],
      "text/plain": [
       "                                                                                      pages\n",
       "Beezer_First_Course                       [, , , , , , , , , , , , , , Chapter SLE Syste...\n",
       "CollegeAlgCoreq-WEB                       [, , , , , , , , , , , , , , , , , , , , , , ,...\n",
       "Hefferon_LinAlgebra                       [, , , , , , , , , , Chapter One Linear System...\n",
       "interactive_textbook                      [, , , , , , , , , , , , , , , , , , Chapter S...\n",
       "Kuttler-LinearAlgebra-AFirstCourse-2017A  [, , , , , , , , , , , , , , Systems of Equati...\n",
       "Linear algebra done right — Axler         [, , , , , , , , , , , , , , , , , Rene Descar...\n",
       "linear-Cherey, Denton                     [, , , , , , , , What is Linear Algebra? Many ...\n",
       "Math1410_print                            [, , , , , , , , One thing that student evalua...\n",
       "Nicholson-OpenLAWA-2019A                  [, , , , , , , , , , , , , , , , , , , , , , S...\n",
       "textbook_Hoffman_Kunze                    [, , , , , , , , , Linear Equations Fields We ..."
      ]
     },
     "execution_count": 4,
     "metadata": {},
     "output_type": "execute_result"
    }
   ],
   "source": [
    "data"
   ]
  },
  {
   "cell_type": "code",
   "execution_count": 5,
   "metadata": {},
   "outputs": [
    {
     "data": {
      "text/plain": [
       "'Beezer: A First Course in Linear Algebra matrix for the original system in Archetype In particular, this demonstrates that this coefficient matrix is singular. There is a lot going on in the last two examples. Come back to them in a while and make some connections with the intervening material. For now, we will summarize and explain some of this behavior with a theorem. Theorem SLSLC Solutions to Linear Systems are Linear Combinations Denote the columns of the matrix A as the vectors An. Then is a solution to the linear system of equations LS(A, if and only if equals the linear combination of the columns of A formed with the entries of [x]n An Proof. The proof of this theorem is as much about a change in notation as it is about making logical deductions. Write the system of equations LS(A, as ... amnxn Notice then that the entry of the coefficient matrix A in row i and column has two names: aij as the coefficient of in equation i of the system and [Aj]i as the i-th entry of the column vector in column of the coefficient matrix Likewise, entry i of has two names: bi from the linear system and [b]i as an entry of a vector. Our theorem is an equivalence (Proof Technique so we need to prove both directions. Suppose we have the vector equality between and the linear combination of the columns of Then for i bi [b]i Definition [x]n An]i Hypothesis [[x]n An]i Definition CVA [x]n [An]i Definition CVSM [x]n ain Definition ain [x]n Property CMCN This says that the entries of form a solution to equation i of LS(A, for all i in other words, is a solution to LS(A, b). Suppose now that is a solution to the linear system LS(A, b). Then for'"
      ]
     },
     "execution_count": 5,
     "metadata": {},
     "output_type": "execute_result"
    }
   ],
   "source": [
    "data.loc['Beezer_First_Course','pages'][100]"
   ]
  },
  {
   "cell_type": "code",
   "execution_count": 6,
   "metadata": {},
   "outputs": [
    {
     "data": {
      "text/plain": [
       "[15, 109, 11, 19, 15, 18, 9, 9, 23, 10]"
      ]
     },
     "execution_count": 6,
     "metadata": {},
     "output_type": "execute_result"
    }
   ],
   "source": [
    "start_pages"
   ]
  },
  {
   "cell_type": "code",
   "execution_count": 7,
   "metadata": {},
   "outputs": [
    {
     "data": {
      "text/plain": [
       "[595, 1162, 497, 431, 549, 347, 315, 391, 619, 395]"
      ]
     },
     "execution_count": 7,
     "metadata": {},
     "output_type": "execute_result"
    }
   ],
   "source": [
    "end_pages"
   ]
  },
  {
   "cell_type": "code",
   "execution_count": 8,
   "metadata": {},
   "outputs": [],
   "source": [
    "data.to_json(\"../dat/parsed_books/parsed_books.json\")"
   ]
  },
  {
   "cell_type": "code",
   "execution_count": null,
   "metadata": {},
   "outputs": [],
   "source": []
  }
 ],
 "metadata": {
  "kernelspec": {
   "display_name": "Python 3.10.8 ('LD-inference')",
   "language": "python",
   "name": "python3"
  },
  "language_info": {
   "codemirror_mode": {
    "name": "ipython",
    "version": 3
   },
   "file_extension": ".py",
   "mimetype": "text/x-python",
   "name": "python",
   "nbconvert_exporter": "python",
   "pygments_lexer": "ipython3",
   "version": "3.10.8 (main, Nov  4 2022, 08:45:18) [Clang 12.0.0 ]"
  },
  "vscode": {
   "interpreter": {
    "hash": "2b3dd287303ef379cd3bfc1446cef400144e42385eabfb9b315f60147448249f"
   }
  }
 },
 "nbformat": 4,
 "nbformat_minor": 2
}

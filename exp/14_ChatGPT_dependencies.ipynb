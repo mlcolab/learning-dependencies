{
 "cells": [
  {
   "attachments": {},
   "cell_type": "markdown",
   "metadata": {},
   "source": [
    "# Query ChatGPT\n",
    "In this notebook, requests should be send to ChatGPT to query it for concept dependencies."
   ]
  },
  {
   "cell_type": "code",
   "execution_count": 88,
   "metadata": {},
   "outputs": [],
   "source": [
    "import json\n",
    "with open('../config.json', 'r') as f:\n",
    "    config = json.load(f)"
   ]
  },
  {
   "cell_type": "code",
   "execution_count": 67,
   "metadata": {},
   "outputs": [
    {
     "name": "stdout",
     "output_type": "stream",
     "text": [
      "Logging in...\n",
      "{'message': 'Yes, understanding the concept of linear transformation addition is important for understanding injective linear transformations. A linear transformation is a function that maps one vector space to another in a way that preserves the linear structure of the vector space. In other words, it preserves the operations of vector addition and scalar multiplication. Injective linear transformations, also known as one-to-one linear transformations, are special types of linear transformations that have the property of being injective, which means that they map distinct elements of the input vector space to distinct elements of the output vector space. Understanding linear transformation addition is important for understanding this property of injective linear transformations.\\n\\n', 'conversation_id': '23b2330c-5e70-4d3e-a317-4875f9ddb89a', 'parent_id': 'c29e3a8f-8d3b-4416-9816-1536b24c2fa5'}\n"
     ]
    }
   ],
   "source": [
    "from revChatGPT.revChatGPT import Chatbot\n",
    "\n",
    "#config = {\n",
    "#    \"email\": \"\",\n",
    "#    \"password\": \"\",\n",
    "#    #\"session_token\": \"<SESSION_TOKEN>\", # Deprecated. Use only if you encounter captcha with email/password\n",
    "#    #\"proxy\": \"<HTTP/HTTPS_PROXY>\"\n",
    "#}\n",
    "\n",
    "chatbot = Chatbot(config, conversation_id=None)\n",
    "chatbot.refresh_session() # You need to log in on the first run\n",
    "\n",
    "answer = chatbot.get_chat_response(\"Do I have to understand Linear Transformation Addition to understand Injective Linear Transformation?\", output=\"text\")\n",
    "print(answer)"
   ]
  },
  {
   "cell_type": "code",
   "execution_count": 11,
   "metadata": {},
   "outputs": [
    {
     "name": "stdout",
     "output_type": "stream",
     "text": [
      "Joint variation and equivalent systems are related but distinct concepts in linear algebra. Understanding one concept does not necessarily require knowledge of the other.\n",
      "\n",
      "Joint variation refers to a type of relationship between two or more variables, where the ratio of the variables is constant. In other words, if two variables are in joint variation, the value of one variable is directly proportional to the value of the other variable.\n",
      "\n",
      "Equivalent systems, on the other hand, refer to systems of equations that have the same solutions. In other words, two systems of equations are considered equivalent if they have the same number of solutions and the solutions are the same for both systems.\n",
      "\n",
      "In summary, understanding equivalent systems is not required to understand joint variation, and vice versa. However, knowledge of linear algebra and equations may be helpful in understanding both concepts.\n"
     ]
    }
   ],
   "source": [
    "answer = chatbot.get_chat_response(\"In linear algebra, do I have to understand Equivalent Systems to understand joint variation?\", output=\"text\")\n",
    "print(answer['message'])"
   ]
  },
  {
   "cell_type": "code",
   "execution_count": 69,
   "metadata": {},
   "outputs": [],
   "source": [
    "import pandas as pd\n",
    "import time"
   ]
  },
  {
   "cell_type": "code",
   "execution_count": 68,
   "metadata": {},
   "outputs": [],
   "source": [
    "index = pd.read_csv(\"../dat/index/CollegeAlgCoreq-WEB.csv\")"
   ]
  },
  {
   "cell_type": "code",
   "execution_count": 70,
   "metadata": {},
   "outputs": [
    {
     "name": "stdout",
     "output_type": "stream",
     "text": [
      "1    absolute minimum                             \n",
      "2    absolute value                               \n",
      "Name: concept                                      , dtype: object\n"
     ]
    }
   ],
   "source": [
    "print(index.iloc[1:3,1])"
   ]
  },
  {
   "cell_type": "code",
   "execution_count": 75,
   "metadata": {},
   "outputs": [],
   "source": [
    "subset = index.sample(5).reset_index()\n",
    "subset=subset.drop(subset.columns[0:2], axis=1)"
   ]
  },
  {
   "cell_type": "code",
   "execution_count": 76,
   "metadata": {},
   "outputs": [
    {
     "data": {
      "text/html": [
       "<div>\n",
       "<style scoped>\n",
       "    .dataframe tbody tr th:only-of-type {\n",
       "        vertical-align: middle;\n",
       "    }\n",
       "\n",
       "    .dataframe tbody tr th {\n",
       "        vertical-align: top;\n",
       "    }\n",
       "\n",
       "    .dataframe thead th {\n",
       "        text-align: right;\n",
       "    }\n",
       "</style>\n",
       "<table border=\"1\" class=\"dataframe\">\n",
       "  <thead>\n",
       "    <tr style=\"text-align: right;\">\n",
       "      <th></th>\n",
       "      <th>concept</th>\n",
       "      <th>pages</th>\n",
       "    </tr>\n",
       "  </thead>\n",
       "  <tbody>\n",
       "    <tr>\n",
       "      <th>0</th>\n",
       "      <td>binomial expansion</td>\n",
       "      <td>1125, 1128</td>\n",
       "    </tr>\n",
       "    <tr>\n",
       "      <th>1</th>\n",
       "      <td>inequality</td>\n",
       "      <td>849</td>\n",
       "    </tr>\n",
       "    <tr>\n",
       "      <th>2</th>\n",
       "      <td>vertical compression</td>\n",
       "      <td>319</td>\n",
       "    </tr>\n",
       "    <tr>\n",
       "      <th>3</th>\n",
       "      <td>varies inversely</td>\n",
       "      <td>612</td>\n",
       "    </tr>\n",
       "    <tr>\n",
       "      <th>4</th>\n",
       "      <td>trinomial</td>\n",
       "      <td>60, 486</td>\n",
       "    </tr>\n",
       "  </tbody>\n",
       "</table>\n",
       "</div>"
      ],
      "text/plain": [
       "   concept                                             pages\n",
       "0  binomial expansion                             1125, 1128\n",
       "1  inequality                                            849\n",
       "2  vertical compression                                  319\n",
       "3  varies inversely                                      612\n",
       "4  trinomial                                         60, 486"
      ]
     },
     "execution_count": 76,
     "metadata": {},
     "output_type": "execute_result"
    }
   ],
   "source": [
    "subset"
   ]
  },
  {
   "cell_type": "code",
   "execution_count": 77,
   "metadata": {},
   "outputs": [
    {
     "name": "stdout",
     "output_type": "stream",
     "text": [
      "Yes, understanding the concept of binomial expansion is necessary for understanding binomial expansion in linear algebra. In general, binomial expansion is a mathematical method for expanding a binomial expression of the form (x + y)^n into a sum of terms that involve the powers of x and y. In linear algebra, binomial expansion is used to expand expressions involving linear transformations, which are functions that map one vector space to another in a way that preserves the linear structure of the vector space. Understanding how to perform binomial expansion is important for working with such expressions in linear algebra.\n",
      "No, you do not have to understand the concept of inequality to understand binomial expansion in linear algebra. Binomial expansion is a mathematical method for expanding a binomial expression of the form (x + y)^n into a sum of terms that involve the powers of x and y. Inequality is a concept from mathematical logic that deals with the comparison of two values based on the relative size or magnitude of those values. While inequality can be useful in some contexts in linear algebra, it is not necessary for understanding binomial expansion.\n",
      "No, you do not have to understand the concept of vertical compression to understand binomial expansion in linear algebra. Binomial expansion is a mathematical method for expanding a binomial expression of the form (x + y)^n into a sum of terms that involve the powers of x and y. Vertical compression is a type of geometric transformation that involves compressing an object along the vertical axis. This concept is not directly related to binomial expansion and is not necessary for understanding it.\n",
      "No, you do not have to understand the concept of varying inversely to understand binomial expansion in linear algebra. Binomial expansion is a mathematical method for expanding a binomial expression of the form (x + y)^n into a sum of terms that involve the powers of x and y. Varying inversely is a mathematical concept that describes the relationship between two variables that change in opposite directions. For example, if one variable increases, the other variable decreases, and vice versa. This concept is not directly related to binomial expansion and is not necessary for understanding it.\n",
      "No, you do not have to understand the concept of a trinomial to understand binomial expansion in linear algebra. Binomial expansion is a mathematical method for expanding a binomial expression of the form (x + y)^n into a sum of terms that involve the powers of x and y. A trinomial is an algebraic expression that has three terms, such as x^2 + 2xy + y^2. This concept is not directly related to binomial expansion and is not necessary for understanding it.\n",
      "No, you do not have to understand the concept of binomial expansion to understand inequality in linear algebra. Inequality is a concept from mathematical logic that deals with the comparison of two values based on the relative size or magnitude of those values. Binomial expansion is a mathematical method for expanding a binomial expression of the form (x + y)^n into a sum of terms that involve the powers of x and y. While both concepts are used in linear algebra, they are not directly related and understanding one does not necessarily require understanding the other.\n",
      "No, you do not have to understand the concept of inequality to understand inequality in linear algebra. Inequality is a concept from mathematical logic that deals with the comparison of two values based on the relative size or magnitude of those values. Understanding this concept is important for working with inequalities in linear algebra and other branches of mathematics. However, understanding the concept of inequality does not require understanding inequality itself, as the concept and the symbol are the same thing.\n",
      "No, you do not have to understand the concept of vertical compression to understand inequality in linear algebra. Inequality is a concept from mathematical logic that deals with the comparison of two values based on the relative size or magnitude of those values. Vertical compression is a type of geometric transformation that involves compressing an object along the vertical axis. This concept is not directly related to inequality and is not necessary for understanding it.\n",
      "No, you do not have to understand the concept of varying inversely to understand inequality in linear algebra. Inequality is a concept from mathematical logic that deals with the comparison of two values based on the relative size or magnitude of those values. Varying inversely is a mathematical concept that describes the relationship between two variables that change in opposite directions. For example, if one variable increases, the other variable decreases, and vice versa. This concept is not directly related to inequality and is not necessary for understanding it.\n",
      "No, you do not have to understand the concept of a trinomial to understand inequality in linear algebra. Inequality is a concept from mathematical logic that deals with the comparison of two values based on the relative size or magnitude of those values. A trinomial is an algebraic expression that has three terms, such as x^2 + 2xy + y^2. This concept is not directly related to inequality and is not necessary for understanding it.\n",
      "No, you do not have to understand the concept of binomial expansion to understand vertical compression in linear algebra. Binomial expansion is a mathematical method for expanding a binomial expression of the form (x + y)^n into a sum of terms that involve the powers of x and y. Vertical compression is a type of geometric transformation that involves compressing an object along the vertical axis. While both concepts are used in linear algebra, they are not directly related and understanding one does not necessarily require understanding the other.\n",
      "No, you do not have to understand the concept of inequality to understand vertical compression in linear algebra. Inequality is a concept from mathematical logic that deals with the comparison of two values based on the relative size or magnitude of those values. Vertical compression is a type of geometric transformation that involves compressing an object along the vertical axis. This concept is not directly related to inequality and is not necessary for understanding it.\n",
      "Yes, understanding the concept of vertical compression is necessary for understanding vertical compression in linear algebra. Vertical compression is a type of geometric transformation that involves compressing an object along the vertical axis. In linear algebra, this concept is used to describe how linear transformations can change the shape and size of an object in the coordinate plane. Understanding how vertical compression works is important for working with linear transformations in linear algebra.\n",
      "No, you do not have to understand the concept of varying inversely to understand vertical compression in linear algebra. Vertical compression is a type of geometric transformation that involves compressing an object along the vertical axis. Varying inversely is a mathematical concept that describes the relationship between two variables that change in opposite directions. For example, if one variable increases, the other variable decreases, and vice versa. This concept is not directly related to vertical compression and is not necessary for understanding it.\n",
      "No, you do not have to understand the concept of a trinomial to understand vertical compression in linear algebra. Vertical compression is a type of geometric transformation that involves compressing an object along the vertical axis. A trinomial is an algebraic expression that has three terms, such as x^2 + 2xy + y^2. This concept is not directly related to vertical compression and is not necessary for understanding it.\n",
      "No, you do not have to understand the concept of binomial expansion to understand varying inversely in linear algebra. Binomial expansion is a mathematical method for expanding a binomial expression of the form (x + y)^n into a sum of terms that involve the powers of x and y. Varying inversely is a mathematical concept that describes the relationship between two variables that change in opposite directions. For example, if one variable increases, the other variable decreases, and vice versa. While both concepts are used in linear algebra, they are not directly related and understanding one does not necessarily require understanding the other.\n",
      "No, you do not have to understand the concept of inequality to understand varying inversely in linear algebra. Inequality is a concept from mathematical logic that deals with the comparison of two values based on the relative size or magnitude of those values. Varying inversely is a mathematical concept that describes the relationship between two variables that change in opposite directions. For example, if one variable increases, the other variable decreases, and vice versa. This concept is not directly related to inequality and is not necessary for understanding it.\n",
      "No, you do not have to understand the concept of vertical compression to understand varying inversely in linear algebra. Vertical compression is a type of geometric transformation that involves compressing an object along the vertical axis. Varying inversely is a mathematical concept that describes the relationship between two variables that change in opposite directions. For example, if one variable increases, the other variable decreases, and vice versa. This concept is not directly related to vertical compression and is not necessary for understanding it.\n",
      "Yes, understanding the concept of varying inversely is necessary for understanding varying inversely in linear algebra. Varying inversely is a mathematical concept that describes the relationship between two variables that change in opposite directions. For example, if one variable increases, the other variable decreases, and vice versa. In linear algebra, this concept is used to describe the relationship between certain types of linear transformations and their inverses. Understanding how varying inversely works is important for working with linear transformations in linear algebra.\n",
      "No, you do not have to understand the concept of a trinomial to understand varying inversely in linear algebra. Varying inversely is a mathematical concept that describes the relationship between two variables that change in opposite directions. A trinomial is an algebraic expression that has three terms, such as x^2 + 2xy + y^2. This concept is not directly related to varying inversely and is not necessary for understanding it.\n",
      "No, you do not have to understand the concept of binomial expansion to understand trinomial in linear algebra. Binomial expansion is a mathematical method for expanding a binomial expression of the form (x + y)^n into a sum of terms that involve the powers of x and y. A trinomial is an algebraic expression that has three terms, such as x^2 + 2xy + y^2. While both concepts are used in linear algebra, they are not directly related and understanding one does not necessarily require understanding the other.\n",
      "No, you do not have to understand the concept of inequality to understand trinomial in linear algebra. Inequality is a concept from mathematical logic that deals with the comparison of two values based on the relative size or magnitude of those values. A trinomial is an algebraic expression that has three terms, such as x^2 + 2xy + y^2. This concept is not directly related to inequality and is not necessary for understanding it.\n",
      "No, you do not have to understand the concept of vertical compression to understand trinomial in linear algebra. Vertical compression is a type of geometric transformation that involves compressing an object along the vertical axis. A trinomial is an algebraic expression that has three terms, such as x^2 + 2xy + y^2. This concept is not directly related to vertical compression and is not necessary for understanding it.\n"
     ]
    },
    {
     "ename": "ValueError",
     "evalue": "('Response is not in the correct format', \"Service unavailableOur services aren't available right nowWe're working to restore all services as soon as possible. Please check back soon.\")",
     "output_type": "error",
     "traceback": [
      "\u001b[0;31m---------------------------------------------------------------------------\u001b[0m",
      "\u001b[0;31mIndexError\u001b[0m                                Traceback (most recent call last)",
      "File \u001b[0;32m~/opt/miniconda3/envs/LD-inference/lib/python3.10/site-packages/revChatGPT/revChatGPT.py:74\u001b[0m, in \u001b[0;36mChatbot.get_chat_text\u001b[0;34m(self, data)\u001b[0m\n\u001b[1;32m     73\u001b[0m \u001b[39mtry\u001b[39;00m:\n\u001b[0;32m---> 74\u001b[0m     response \u001b[39m=\u001b[39m response\u001b[39m.\u001b[39;49mtext\u001b[39m.\u001b[39;49msplitlines()[\u001b[39m-\u001b[39;49m\u001b[39m4\u001b[39;49m]\n\u001b[1;32m     75\u001b[0m     response \u001b[39m=\u001b[39m response[\u001b[39m6\u001b[39m:]\n",
      "\u001b[0;31mIndexError\u001b[0m: list index out of range",
      "\nDuring handling of the above exception, another exception occurred:\n",
      "\u001b[0;31mValueError\u001b[0m                                Traceback (most recent call last)",
      "Cell \u001b[0;32mIn [77], line 9\u001b[0m\n\u001b[1;32m      7\u001b[0m \u001b[39m# ask Gpt Chat\u001b[39;00m\n\u001b[1;32m      8\u001b[0m question \u001b[39m=\u001b[39m \u001b[39m\"\u001b[39m\u001b[39mIn linear algebra, do I have to understand \u001b[39m\u001b[39m\"\u001b[39m \u001b[39m+\u001b[39m concept_dep \u001b[39m+\u001b[39m \u001b[39m\"\u001b[39m\u001b[39mto understand \u001b[39m\u001b[39m\"\u001b[39m \u001b[39m+\u001b[39m target_concept \u001b[39m+\u001b[39m \u001b[39m\"\u001b[39m\u001b[39m?\u001b[39m\u001b[39m\"\u001b[39m\n\u001b[0;32m----> 9\u001b[0m answer \u001b[39m=\u001b[39m chatbot\u001b[39m.\u001b[39;49mget_chat_response(question, output\u001b[39m=\u001b[39;49m\u001b[39m\"\u001b[39;49m\u001b[39mtext\u001b[39;49m\u001b[39m\"\u001b[39;49m)\n\u001b[1;32m     10\u001b[0m \u001b[39mprint\u001b[39m(answer[\u001b[39m'\u001b[39m\u001b[39mmessage\u001b[39m\u001b[39m'\u001b[39m])\n\u001b[1;32m     11\u001b[0m gpt_resp\u001b[39m.\u001b[39mappend({\n\u001b[1;32m     12\u001b[0m     \u001b[39m\"\u001b[39m\u001b[39mtarget_concept\u001b[39m\u001b[39m\"\u001b[39m: target_concept,\n\u001b[1;32m     13\u001b[0m     \u001b[39m\"\u001b[39m\u001b[39mconcept_dependency\u001b[39m\u001b[39m\"\u001b[39m: concept_dep,\n\u001b[1;32m     14\u001b[0m     \u001b[39m\"\u001b[39m\u001b[39mquestion\u001b[39m\u001b[39m\"\u001b[39m: question,\n\u001b[1;32m     15\u001b[0m     \u001b[39m\"\u001b[39m\u001b[39manswer\u001b[39m\u001b[39m\"\u001b[39m: answer[\u001b[39m'\u001b[39m\u001b[39mmessage\u001b[39m\u001b[39m'\u001b[39m]\n\u001b[1;32m     16\u001b[0m })\n",
      "File \u001b[0;32m~/opt/miniconda3/envs/LD-inference/lib/python3.10/site-packages/revChatGPT/revChatGPT.py:109\u001b[0m, in \u001b[0;36mChatbot.get_chat_response\u001b[0;34m(self, prompt, output)\u001b[0m\n\u001b[1;32m    107\u001b[0m \u001b[39mself\u001b[39m\u001b[39m.\u001b[39mparent_id_prev \u001b[39m=\u001b[39m \u001b[39mself\u001b[39m\u001b[39m.\u001b[39mparent_id\n\u001b[1;32m    108\u001b[0m \u001b[39mif\u001b[39;00m output \u001b[39m==\u001b[39m \u001b[39m\"\u001b[39m\u001b[39mtext\u001b[39m\u001b[39m\"\u001b[39m:\n\u001b[0;32m--> 109\u001b[0m     \u001b[39mreturn\u001b[39;00m \u001b[39mself\u001b[39;49m\u001b[39m.\u001b[39;49mget_chat_text(data)\n\u001b[1;32m    110\u001b[0m \u001b[39melif\u001b[39;00m output \u001b[39m==\u001b[39m \u001b[39m\"\u001b[39m\u001b[39mstream\u001b[39m\u001b[39m\"\u001b[39m:\n\u001b[1;32m    111\u001b[0m     \u001b[39mreturn\u001b[39;00m \u001b[39mself\u001b[39m\u001b[39m.\u001b[39mget_chat_stream(data)\n",
      "File \u001b[0;32m~/opt/miniconda3/envs/LD-inference/lib/python3.10/site-packages/revChatGPT/revChatGPT.py:87\u001b[0m, in \u001b[0;36mChatbot.get_chat_text\u001b[0;34m(self, data)\u001b[0m\n\u001b[1;32m     85\u001b[0m             error_desp \u001b[39m=\u001b[39m error_desp[\u001b[39m\"\u001b[39m\u001b[39mmessage\u001b[39m\u001b[39m\"\u001b[39m]\n\u001b[1;32m     86\u001b[0m     \u001b[39mfinally\u001b[39;00m:\n\u001b[0;32m---> 87\u001b[0m         \u001b[39mraise\u001b[39;00m \u001b[39mValueError\u001b[39;00m(\u001b[39m\"\u001b[39m\u001b[39mResponse is not in the correct format\u001b[39m\u001b[39m\"\u001b[39m, error_desp)\n\u001b[1;32m     88\u001b[0m response \u001b[39m=\u001b[39m json\u001b[39m.\u001b[39mloads(response)\n\u001b[1;32m     89\u001b[0m \u001b[39mself\u001b[39m\u001b[39m.\u001b[39mparent_id \u001b[39m=\u001b[39m response[\u001b[39m\"\u001b[39m\u001b[39mmessage\u001b[39m\u001b[39m\"\u001b[39m][\u001b[39m\"\u001b[39m\u001b[39mid\u001b[39m\u001b[39m\"\u001b[39m]\n",
      "\u001b[0;31mValueError\u001b[0m: ('Response is not in the correct format', \"Service unavailableOur services aren't available right nowWe're working to restore all services as soon as possible. Please check back soon.\")"
     ]
    }
   ],
   "source": [
    "gpt_resp = []\n",
    "\n",
    "for i in range(5):\n",
    "    target_concept = subset.iloc[i,0]\n",
    "    for j in range(5):\n",
    "        concept_dep = subset.iloc[j,0]\n",
    "        # ask Gpt Chat\n",
    "        question = \"In linear algebra, do I have to understand \" + concept_dep + \"to understand \" + target_concept + \"?\"\n",
    "        answer = chatbot.get_chat_response(question, output=\"text\")\n",
    "        print(answer['message'])\n",
    "        gpt_resp.append({\n",
    "            \"target_concept\": target_concept,\n",
    "            \"concept_dependency\": concept_dep,\n",
    "            \"question\": question,\n",
    "            \"answer\": answer['message']\n",
    "        })\n",
    "        time.sleep(20)"
   ]
  },
  {
   "cell_type": "code",
   "execution_count": 78,
   "metadata": {},
   "outputs": [
    {
     "data": {
      "text/plain": [
       "[{'target_concept': 'binomial expansion                           ',\n",
       "  'concept_dependency': 'binomial expansion                           ',\n",
       "  'question': 'In linear algebra, do I have to understand binomial expansion                           to understand binomial expansion                           ?',\n",
       "  'answer': 'Yes, understanding the concept of binomial expansion is necessary for understanding binomial expansion in linear algebra. In general, binomial expansion is a mathematical method for expanding a binomial expression of the form (x + y)^n into a sum of terms that involve the powers of x and y. In linear algebra, binomial expansion is used to expand expressions involving linear transformations, which are functions that map one vector space to another in a way that preserves the linear structure of the vector space. Understanding how to perform binomial expansion is important for working with such expressions in linear algebra.'},\n",
       " {'target_concept': 'binomial expansion                           ',\n",
       "  'concept_dependency': 'inequality                                   ',\n",
       "  'question': 'In linear algebra, do I have to understand inequality                                   to understand binomial expansion                           ?',\n",
       "  'answer': 'No, you do not have to understand the concept of inequality to understand binomial expansion in linear algebra. Binomial expansion is a mathematical method for expanding a binomial expression of the form (x + y)^n into a sum of terms that involve the powers of x and y. Inequality is a concept from mathematical logic that deals with the comparison of two values based on the relative size or magnitude of those values. While inequality can be useful in some contexts in linear algebra, it is not necessary for understanding binomial expansion.'},\n",
       " {'target_concept': 'binomial expansion                           ',\n",
       "  'concept_dependency': 'vertical compression                         ',\n",
       "  'question': 'In linear algebra, do I have to understand vertical compression                         to understand binomial expansion                           ?',\n",
       "  'answer': 'No, you do not have to understand the concept of vertical compression to understand binomial expansion in linear algebra. Binomial expansion is a mathematical method for expanding a binomial expression of the form (x + y)^n into a sum of terms that involve the powers of x and y. Vertical compression is a type of geometric transformation that involves compressing an object along the vertical axis. This concept is not directly related to binomial expansion and is not necessary for understanding it.'},\n",
       " {'target_concept': 'binomial expansion                           ',\n",
       "  'concept_dependency': 'varies inversely                             ',\n",
       "  'question': 'In linear algebra, do I have to understand varies inversely                             to understand binomial expansion                           ?',\n",
       "  'answer': 'No, you do not have to understand the concept of varying inversely to understand binomial expansion in linear algebra. Binomial expansion is a mathematical method for expanding a binomial expression of the form (x + y)^n into a sum of terms that involve the powers of x and y. Varying inversely is a mathematical concept that describes the relationship between two variables that change in opposite directions. For example, if one variable increases, the other variable decreases, and vice versa. This concept is not directly related to binomial expansion and is not necessary for understanding it.'},\n",
       " {'target_concept': 'binomial expansion                           ',\n",
       "  'concept_dependency': 'trinomial                                    ',\n",
       "  'question': 'In linear algebra, do I have to understand trinomial                                    to understand binomial expansion                           ?',\n",
       "  'answer': 'No, you do not have to understand the concept of a trinomial to understand binomial expansion in linear algebra. Binomial expansion is a mathematical method for expanding a binomial expression of the form (x + y)^n into a sum of terms that involve the powers of x and y. A trinomial is an algebraic expression that has three terms, such as x^2 + 2xy + y^2. This concept is not directly related to binomial expansion and is not necessary for understanding it.'},\n",
       " {'target_concept': 'inequality                                   ',\n",
       "  'concept_dependency': 'binomial expansion                           ',\n",
       "  'question': 'In linear algebra, do I have to understand binomial expansion                           to understand inequality                                   ?',\n",
       "  'answer': 'No, you do not have to understand the concept of binomial expansion to understand inequality in linear algebra. Inequality is a concept from mathematical logic that deals with the comparison of two values based on the relative size or magnitude of those values. Binomial expansion is a mathematical method for expanding a binomial expression of the form (x + y)^n into a sum of terms that involve the powers of x and y. While both concepts are used in linear algebra, they are not directly related and understanding one does not necessarily require understanding the other.'},\n",
       " {'target_concept': 'inequality                                   ',\n",
       "  'concept_dependency': 'inequality                                   ',\n",
       "  'question': 'In linear algebra, do I have to understand inequality                                   to understand inequality                                   ?',\n",
       "  'answer': 'No, you do not have to understand the concept of inequality to understand inequality in linear algebra. Inequality is a concept from mathematical logic that deals with the comparison of two values based on the relative size or magnitude of those values. Understanding this concept is important for working with inequalities in linear algebra and other branches of mathematics. However, understanding the concept of inequality does not require understanding inequality itself, as the concept and the symbol are the same thing.'},\n",
       " {'target_concept': 'inequality                                   ',\n",
       "  'concept_dependency': 'vertical compression                         ',\n",
       "  'question': 'In linear algebra, do I have to understand vertical compression                         to understand inequality                                   ?',\n",
       "  'answer': 'No, you do not have to understand the concept of vertical compression to understand inequality in linear algebra. Inequality is a concept from mathematical logic that deals with the comparison of two values based on the relative size or magnitude of those values. Vertical compression is a type of geometric transformation that involves compressing an object along the vertical axis. This concept is not directly related to inequality and is not necessary for understanding it.'},\n",
       " {'target_concept': 'inequality                                   ',\n",
       "  'concept_dependency': 'varies inversely                             ',\n",
       "  'question': 'In linear algebra, do I have to understand varies inversely                             to understand inequality                                   ?',\n",
       "  'answer': 'No, you do not have to understand the concept of varying inversely to understand inequality in linear algebra. Inequality is a concept from mathematical logic that deals with the comparison of two values based on the relative size or magnitude of those values. Varying inversely is a mathematical concept that describes the relationship between two variables that change in opposite directions. For example, if one variable increases, the other variable decreases, and vice versa. This concept is not directly related to inequality and is not necessary for understanding it.'},\n",
       " {'target_concept': 'inequality                                   ',\n",
       "  'concept_dependency': 'trinomial                                    ',\n",
       "  'question': 'In linear algebra, do I have to understand trinomial                                    to understand inequality                                   ?',\n",
       "  'answer': 'No, you do not have to understand the concept of a trinomial to understand inequality in linear algebra. Inequality is a concept from mathematical logic that deals with the comparison of two values based on the relative size or magnitude of those values. A trinomial is an algebraic expression that has three terms, such as x^2 + 2xy + y^2. This concept is not directly related to inequality and is not necessary for understanding it.'},\n",
       " {'target_concept': 'vertical compression                         ',\n",
       "  'concept_dependency': 'binomial expansion                           ',\n",
       "  'question': 'In linear algebra, do I have to understand binomial expansion                           to understand vertical compression                         ?',\n",
       "  'answer': 'No, you do not have to understand the concept of binomial expansion to understand vertical compression in linear algebra. Binomial expansion is a mathematical method for expanding a binomial expression of the form (x + y)^n into a sum of terms that involve the powers of x and y. Vertical compression is a type of geometric transformation that involves compressing an object along the vertical axis. While both concepts are used in linear algebra, they are not directly related and understanding one does not necessarily require understanding the other.'},\n",
       " {'target_concept': 'vertical compression                         ',\n",
       "  'concept_dependency': 'inequality                                   ',\n",
       "  'question': 'In linear algebra, do I have to understand inequality                                   to understand vertical compression                         ?',\n",
       "  'answer': 'No, you do not have to understand the concept of inequality to understand vertical compression in linear algebra. Inequality is a concept from mathematical logic that deals with the comparison of two values based on the relative size or magnitude of those values. Vertical compression is a type of geometric transformation that involves compressing an object along the vertical axis. This concept is not directly related to inequality and is not necessary for understanding it.'},\n",
       " {'target_concept': 'vertical compression                         ',\n",
       "  'concept_dependency': 'vertical compression                         ',\n",
       "  'question': 'In linear algebra, do I have to understand vertical compression                         to understand vertical compression                         ?',\n",
       "  'answer': 'Yes, understanding the concept of vertical compression is necessary for understanding vertical compression in linear algebra. Vertical compression is a type of geometric transformation that involves compressing an object along the vertical axis. In linear algebra, this concept is used to describe how linear transformations can change the shape and size of an object in the coordinate plane. Understanding how vertical compression works is important for working with linear transformations in linear algebra.'},\n",
       " {'target_concept': 'vertical compression                         ',\n",
       "  'concept_dependency': 'varies inversely                             ',\n",
       "  'question': 'In linear algebra, do I have to understand varies inversely                             to understand vertical compression                         ?',\n",
       "  'answer': 'No, you do not have to understand the concept of varying inversely to understand vertical compression in linear algebra. Vertical compression is a type of geometric transformation that involves compressing an object along the vertical axis. Varying inversely is a mathematical concept that describes the relationship between two variables that change in opposite directions. For example, if one variable increases, the other variable decreases, and vice versa. This concept is not directly related to vertical compression and is not necessary for understanding it.'},\n",
       " {'target_concept': 'vertical compression                         ',\n",
       "  'concept_dependency': 'trinomial                                    ',\n",
       "  'question': 'In linear algebra, do I have to understand trinomial                                    to understand vertical compression                         ?',\n",
       "  'answer': 'No, you do not have to understand the concept of a trinomial to understand vertical compression in linear algebra. Vertical compression is a type of geometric transformation that involves compressing an object along the vertical axis. A trinomial is an algebraic expression that has three terms, such as x^2 + 2xy + y^2. This concept is not directly related to vertical compression and is not necessary for understanding it.'},\n",
       " {'target_concept': 'varies inversely                             ',\n",
       "  'concept_dependency': 'binomial expansion                           ',\n",
       "  'question': 'In linear algebra, do I have to understand binomial expansion                           to understand varies inversely                             ?',\n",
       "  'answer': 'No, you do not have to understand the concept of binomial expansion to understand varying inversely in linear algebra. Binomial expansion is a mathematical method for expanding a binomial expression of the form (x + y)^n into a sum of terms that involve the powers of x and y. Varying inversely is a mathematical concept that describes the relationship between two variables that change in opposite directions. For example, if one variable increases, the other variable decreases, and vice versa. While both concepts are used in linear algebra, they are not directly related and understanding one does not necessarily require understanding the other.'},\n",
       " {'target_concept': 'varies inversely                             ',\n",
       "  'concept_dependency': 'inequality                                   ',\n",
       "  'question': 'In linear algebra, do I have to understand inequality                                   to understand varies inversely                             ?',\n",
       "  'answer': 'No, you do not have to understand the concept of inequality to understand varying inversely in linear algebra. Inequality is a concept from mathematical logic that deals with the comparison of two values based on the relative size or magnitude of those values. Varying inversely is a mathematical concept that describes the relationship between two variables that change in opposite directions. For example, if one variable increases, the other variable decreases, and vice versa. This concept is not directly related to inequality and is not necessary for understanding it.'},\n",
       " {'target_concept': 'varies inversely                             ',\n",
       "  'concept_dependency': 'vertical compression                         ',\n",
       "  'question': 'In linear algebra, do I have to understand vertical compression                         to understand varies inversely                             ?',\n",
       "  'answer': 'No, you do not have to understand the concept of vertical compression to understand varying inversely in linear algebra. Vertical compression is a type of geometric transformation that involves compressing an object along the vertical axis. Varying inversely is a mathematical concept that describes the relationship between two variables that change in opposite directions. For example, if one variable increases, the other variable decreases, and vice versa. This concept is not directly related to vertical compression and is not necessary for understanding it.'},\n",
       " {'target_concept': 'varies inversely                             ',\n",
       "  'concept_dependency': 'varies inversely                             ',\n",
       "  'question': 'In linear algebra, do I have to understand varies inversely                             to understand varies inversely                             ?',\n",
       "  'answer': 'Yes, understanding the concept of varying inversely is necessary for understanding varying inversely in linear algebra. Varying inversely is a mathematical concept that describes the relationship between two variables that change in opposite directions. For example, if one variable increases, the other variable decreases, and vice versa. In linear algebra, this concept is used to describe the relationship between certain types of linear transformations and their inverses. Understanding how varying inversely works is important for working with linear transformations in linear algebra.'},\n",
       " {'target_concept': 'varies inversely                             ',\n",
       "  'concept_dependency': 'trinomial                                    ',\n",
       "  'question': 'In linear algebra, do I have to understand trinomial                                    to understand varies inversely                             ?',\n",
       "  'answer': 'No, you do not have to understand the concept of a trinomial to understand varying inversely in linear algebra. Varying inversely is a mathematical concept that describes the relationship between two variables that change in opposite directions. A trinomial is an algebraic expression that has three terms, such as x^2 + 2xy + y^2. This concept is not directly related to varying inversely and is not necessary for understanding it.'},\n",
       " {'target_concept': 'trinomial                                    ',\n",
       "  'concept_dependency': 'binomial expansion                           ',\n",
       "  'question': 'In linear algebra, do I have to understand binomial expansion                           to understand trinomial                                    ?',\n",
       "  'answer': 'No, you do not have to understand the concept of binomial expansion to understand trinomial in linear algebra. Binomial expansion is a mathematical method for expanding a binomial expression of the form (x + y)^n into a sum of terms that involve the powers of x and y. A trinomial is an algebraic expression that has three terms, such as x^2 + 2xy + y^2. While both concepts are used in linear algebra, they are not directly related and understanding one does not necessarily require understanding the other.'},\n",
       " {'target_concept': 'trinomial                                    ',\n",
       "  'concept_dependency': 'inequality                                   ',\n",
       "  'question': 'In linear algebra, do I have to understand inequality                                   to understand trinomial                                    ?',\n",
       "  'answer': 'No, you do not have to understand the concept of inequality to understand trinomial in linear algebra. Inequality is a concept from mathematical logic that deals with the comparison of two values based on the relative size or magnitude of those values. A trinomial is an algebraic expression that has three terms, such as x^2 + 2xy + y^2. This concept is not directly related to inequality and is not necessary for understanding it.'},\n",
       " {'target_concept': 'trinomial                                    ',\n",
       "  'concept_dependency': 'vertical compression                         ',\n",
       "  'question': 'In linear algebra, do I have to understand vertical compression                         to understand trinomial                                    ?',\n",
       "  'answer': 'No, you do not have to understand the concept of vertical compression to understand trinomial in linear algebra. Vertical compression is a type of geometric transformation that involves compressing an object along the vertical axis. A trinomial is an algebraic expression that has three terms, such as x^2 + 2xy + y^2. This concept is not directly related to vertical compression and is not necessary for understanding it.'}]"
      ]
     },
     "execution_count": 78,
     "metadata": {},
     "output_type": "execute_result"
    }
   ],
   "source": [
    "gpt_resp"
   ]
  },
  {
   "cell_type": "code",
   "execution_count": 86,
   "metadata": {},
   "outputs": [
    {
     "name": "stdout",
     "output_type": "stream",
     "text": [
      "Index(['target_concept', 'concept_dependency', 'question', 'answer'], dtype='object')\n"
     ]
    }
   ],
   "source": [
    "df_gpt = pd.DataFrame(gpt_resp)\n",
    "print(df_gpt.columns)\n",
    "df_gpt['target_concept'] = df_gpt['target_concept'].str.strip()\n",
    "df_gpt['concept_dependency'] = df_gpt['concept_dependency'].str.strip()\n",
    "df_gpt.to_csv(\"../dat/chatgpt/sample_resps.csv\")"
   ]
  }
 ],
 "metadata": {
  "kernelspec": {
   "display_name": "Python 3.10.8 ('LD-inference')",
   "language": "python",
   "name": "python3"
  },
  "language_info": {
   "codemirror_mode": {
    "name": "ipython",
    "version": 3
   },
   "file_extension": ".py",
   "mimetype": "text/x-python",
   "name": "python",
   "nbconvert_exporter": "python",
   "pygments_lexer": "ipython3",
   "version": "3.10.8"
  },
  "orig_nbformat": 4,
  "vscode": {
   "interpreter": {
    "hash": "2b3dd287303ef379cd3bfc1446cef400144e42385eabfb9b315f60147448249f"
   }
  }
 },
 "nbformat": 4,
 "nbformat_minor": 2
}

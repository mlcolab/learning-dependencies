{
 "cells": [
  {
   "cell_type": "code",
   "execution_count": 1,
   "metadata": {},
   "outputs": [],
   "source": [
    "import wikipediaapi"
   ]
  },
  {
   "cell_type": "code",
   "execution_count": 2,
   "metadata": {},
   "outputs": [],
   "source": [
    "wiki_wiki = wikipediaapi.Wikipedia('en')\n",
    "page_py = wiki_wiki.page('Python_(programming_language)')"
   ]
  },
  {
   "cell_type": "code",
   "execution_count": 3,
   "metadata": {},
   "outputs": [
    {
     "name": "stdout",
     "output_type": "stream",
     "text": [
      "Python is a high-level, general-purpose programming language. Its design philosophy emphasizes code readability with the use of significant indentation.Python is dynamically-typed and garbage-collected. It supports multiple programming paradigms, including structured (particularly procedural), object-oriented and functional programming. It is often described as a \"batteries included\" language due to its comprehensive standard library.Guido van Rossum began working on Python in the late 1980s as a successor to the ABC programming language and first released it in 1991 as Python 0.9.0. Python 2.0 was released in 2000 and introduced new features such as list comprehensions, cycle-detecting garbage collection, reference counting, and Unicode support. Python 3.0, released in 2008, was a major revision that is not completely backward-compatible with earlier versions. Python 2 was discontinued with version 2.7.18 in 2020.Python consistently ranks as one of the most popular programming languages.\n"
     ]
    }
   ],
   "source": [
    "print(page_py.summary)"
   ]
  },
  {
   "cell_type": "code",
   "execution_count": 5,
   "metadata": {},
   "outputs": [
    {
     "name": "stdout",
     "output_type": "stream",
     "text": [
      "Python is a high-level, general-purpose programming language. Its design philosophy emphasizes code readability with the use of significant indentation.Python is dynamically-typed and garbage-collected. It supports multiple programming paradigms, including structured (particularly procedural), object-oriented and functional programming. It is often described as a \"batteries included\" language due to its comprehensive standard library.Guido van Rossum began working on Python in the late 1980s as a successor to the ABC programming language and first released it in 1991 as Python 0.9.0. Python 2.0 was released in 2000 and introduced new features such as list comprehensions, cycle-detecting garbage collection, reference counting, and Unicode support. Python 3.0, released in 2008, was a major revision that is not completely backward-compatible with earlier versions. Python 2 was discontinued with version 2.7.18 in 2020.Python consistently ranks as one of the most popular programming languag\n"
     ]
    }
   ],
   "source": [
    "print(page_py.text[0:1000])"
   ]
  },
  {
   "cell_type": "code",
   "execution_count": null,
   "metadata": {},
   "outputs": [],
   "source": [
    "print(page_py.links)"
   ]
  },
  {
   "cell_type": "code",
   "execution_count": 11,
   "metadata": {},
   "outputs": [],
   "source": [
    "import wikipedia"
   ]
  },
  {
   "cell_type": "code",
   "execution_count": 13,
   "metadata": {},
   "outputs": [],
   "source": [
    "pypage = wikipedia.page(\"Python_(programming_language)\")"
   ]
  },
  {
   "cell_type": "code",
   "execution_count": 18,
   "metadata": {},
   "outputs": [
    {
     "name": "stdout",
     "output_type": "stream",
     "text": [
      "Python is a high-level, general-purpose programming language. Its design philosophy emphasizes code readability with the use of significant indentation.Python is dynamically-typed and garbage-collected. It supports multiple programming paradigms, including structured (particularly procedural), object-oriented and functional programming. It is often described as a \"batteries included\" language due to its comprehensive standard library.Guido van Rossum began working on Python in the late 1980s as a successor to the ABC programming language and first released it in 1991 as Python 0.9.0. Python 2.0 was released in 2000 and introduced new features such as list comprehensions, cycle-detecting garbage collection, reference counting, and Unicode support. Python 3.0, released in 2008, was a major revision that is not completely backward-compatible with earlier versions. Python 2 was discontinued with version 2.7.18 in 2020.Python consistently ranks as one of the most popular programming languages.\n",
      "\n",
      "\n",
      "== History ==\n",
      "\n",
      "Python was conceived in the late 1980s by Guido van Rossum at Centrum Wiskunde & Informatica (CWI) in the Netherlands as a successor to the ABC programming language, which was inspired by SETL, capable of exception handling (from the start plus new capabilities in Python 3.11) and interfacing with the Amoeba operating system. Its implementation began in December 1989. Van Rossum shouldered sole responsibility for the project, as the lead developer, until 12 July 2018, when he announced his \"permanent vacation\" from his responsibilities as Python's \"benevolent dictator for life\", a title the Python community bestowed upon him to reflect his long-term commitment as the project's chief decision-maker. In January 2019, active Python core developers elected a five-member Steering Council to lead the project.Python 2.0 was released on 16 October 2000, with many major new features. Python 3.0, released on 3 December 2008, with many of its major features backported to Pyth\n"
     ]
    }
   ],
   "source": [
    "print(pypage.content[0:2000])"
   ]
  },
  {
   "cell_type": "code",
   "execution_count": 19,
   "metadata": {},
   "outputs": [
    {
     "name": "stdout",
     "output_type": "stream",
     "text": [
      "['\"Hello, World!\" program', '3ds Max', '?:', 'ABC (programming language)', 'ADMB', 'ALGOL', 'ALGOL 68', 'APL (programming language)', 'Abaqus', 'Academic Free License', 'Academic conference', 'Action selection', 'Activation function', 'Ada (programming language)', 'Advanced Simulation Library', 'Adversarial machine learning', 'AlexNet', 'Alex Graves (computer scientist)', 'Alex Martelli', 'Algebra', 'AlphaFold', 'AlphaGo', 'AlphaZero', 'Alternative terms for free software', 'Amazon (company)', 'AmigaOS 4', 'Amoeba (operating system)', 'Anaconda (installer)', 'Analyse-it', 'Andrew Ng', 'Android (operating system)', 'Anonymous function', 'Apache Groovy', 'Apache License', 'Apache webserver', 'Aphorism', 'Apple M1', 'Apple Public Source License', 'ArXiv (identifier)', 'Arbitrary-precision arithmetic', 'ArcGIS', 'Arithmetic operations', 'Array index', 'Array slicing', 'Artificial intelligence', 'Artificial neural network', 'Artistic License', 'Aspect-oriented programming', 'Assembly language', 'Assertion (programming)', 'Assignment (computer science)', 'Associative array', 'Astropy', 'Asynchronous Server Gateway Interface', 'Attention (machine learning)', 'Autodesk Softimage', 'Autoencoder', 'Automatic differentiation', 'Automation', 'Autoregressive model', 'BASIC', 'BERT (language model)', 'BMDP', 'BSD licenses', 'BV4.1 (software)', 'Backporting', 'Backpropagation', 'Backward compatibility', 'Batch normalization', 'Bazel (software)', 'Beerware', 'Benevolent dictator for life', 'Beta release', 'Bibcode (identifier)', 'Biopython', 'Blender (software)', 'Block (programming)', 'Boo (programming language)', 'Boolean value', 'Break statement', 'Bug tracker', 'Byte', 'Bytecode', 'C++', 'C++11', 'C++17', 'C11 (C standard revision)', 'C89 (C version)', 'C99', 'CCP Games', 'CERN', 'CLPython', 'CLU (programming language)', 'COBOL', 'CPython', 'CSPro', 'C (programming language)', 'C Sharp (programming language)', 'Cable theory', 'Cache poisoning', 'Calculus', 'Call stack', 'Capella (notation program)', 'Centrum Wiskunde & Informatica', 'Chapel (programming language)', 'CherryPy', 'Chris Lattner', 'Cinema 4D', 'CircuitPython', 'CiteSeerX (identifier)', 'Class (computer science)', 'Cluster analysis', 'Cobra (programming language)', 'Code readability', 'CoffeeScript', 'Combinatorics', 'Command line interpreter', 'Commercial software', 'Common Development and Distribution License', 'Common Language Runtime', 'Common Lisp', 'Community of practice', 'Comparison of free and open-source software licences', 'Comparison of free software for audio', 'Comparison of integrated development environments', 'Comparison of numerical-analysis software', 'Comparison of open-source and closed-source software', 'Comparison of open-source configuration management software', 'Comparison of open-source operating systems', 'Comparison of open-source programming language licensing', 'Comparison of open-source wireless drivers', 'Comparison of programming languages', 'Comparison of shopping cart software', 'Comparison of source-code-hosting facilities', 'Comparison of statistical packages', 'Compile time', 'Complex number', 'Computational learning theory', 'Computational science', 'Computer algebra system', 'Computer file', 'Computer networking', 'Computer vision', 'Concatenation', 'Conditional (programming)', 'Contributor License Agreement', 'Convolution', 'Convolutional neural network', 'Copyleft', 'Coroutine', 'Creative Commons license', 'Cross-platform software', 'CubicWeb', 'CumFreq', 'Curly bracket programming language', 'Cycle detection', 'Cython', 'DADiSP', 'DALL-E', 'DAP (software)', 'D (programming language)', 'Data Desk', 'Data analytics', 'Data augmentation', 'Data mapper pattern', 'Data type', 'Database', 'Dataplot', 'David Silver (computer scientist)', 'Debian Free Software Guidelines', 'Decimal floating point', 'DeepMind', 'Deep learning', 'Deep learning speech synthesis', 'Definition of Free Cultural Works', 'Demis Hassabis', 'Denial-of-service attack', 'Design by contract', 'Device Driver', 'Differentiable function', 'Differentiable neural computer', 'Differentiable programming', 'Diffusion process', 'Digital image processing', 'Digital rights management', 'Dispose pattern', 'Django (web framework)', 'Documentation', 'Doi (identifier)', 'Double-precision floating-point format', 'Doxygen', 'Dropbox (service)', 'Duck typing', 'Dylan (programming language)', 'Dynamic type', 'Dynamic typing', 'ECMAScript', 'EViews', 'Echo state network', 'Eclipse Public License', 'Ellipsis (programming operator)', 'End-of-life product', 'Epi Info', 'Eric Python IDE', 'Erlang (programming language)', 'Escape character', 'Esri', 'Euler (software)', 'Exception handling', 'Exception handling syntax', 'Exponentiation', 'Expression (computer science)', 'Extensibility', 'FEATool Multiphysics', 'F Sharp (programming language)', 'Facebook', 'Facial recognition system', 'Factorial', 'FastAPI', 'Fedora Linux', 'Fei-Fei Li', 'Fellow', 'Filename extension', 'Finite element method', 'Firaxis Games', 'First-class continuations', 'Flask (web framework)', 'Floating-point arithmetic', 'Floor division', 'Foobar', 'Foreach', 'Fork (software development)', 'Forth (programming language)', 'Fortran', 'Fortress (programming language)', 'Free-software license', 'FreeBSD', 'FreeCAD', 'FreeFem++', 'FreeMat', 'Free Software Foundation', 'Free Software Movement of India', 'Free and open-source graphics device driver', 'Free and open-source software', 'Free license', 'Free software', 'Free software movement', 'Freeware', 'Function (computing)', 'Function (programming)', 'Functional programming', 'GAUSS (software)', 'GDScript', 'GIMP', 'GNU Debugger', 'GNU General Public License', 'GNU Lesser General Public License', 'GNU Manifesto', 'GNU Octave', 'GPT-2', 'GPT-3', 'GTK', 'Garbage collection (computer science)', 'Gated recurrent unit', 'General-purpose programming language', 'Generational list of programming languages', 'Generative adversarial network', 'Generator (computer programming)', 'Generator (computer science)', 'Genie (programming language)', 'Genius (mathematics software)', 'Genstat', 'Gentoo Linux', 'Geoffrey Hinton', 'GitHub', 'Global interpreter lock', 'Gmsh', 'Go (programming language)', 'Godot (game engine)', 'Google', 'Google App Engine', 'Google Brain', 'Google JAX', 'Gradient descent', 'Gradual typing', 'GraphPad InStat', 'GraphPad Prism', 'Graph neural network', 'Graphcore', 'Graphical user interface', 'Graphviz', 'Gratis versus libre', 'Gretl', 'Grok (web framework)', 'Groovy (programming language)', 'Guido van Rossum', 'Half-open interval', 'Handwriting recognition', 'Hardware description language', 'Hardware restriction', 'Haskell', 'Haskell (programming language)', 'Here document', 'High-level programming language', 'History of Python', 'History of free and open-source software', 'History of programming languages', 'Houdini (software)', 'Human image synthesis', 'Hypertext Transfer Protocol', 'IBM Watson', 'IDLE', 'IDLE (Python)', 'IEEE 754', 'IPython', 'ISBN (identifier)', 'ISC license', 'ITA Software', 'Ian Goodfellow', 'Icon (programming language)', 'If-then-else', 'Image processing', 'Immutable', 'Immutable object', 'Imperative programming', 'Include directive', 'Inductive bias', 'Industrial Light & Magic', 'Infix notation', 'InfoWorld', 'Information geometry', 'Information security', 'Inkscape', 'Instagram', 'Instance data', 'Integer (computer science)', 'Integrated development environment', 'IronPython', 'Iterator', 'JASP', 'JMP (statistical software)', 'JMulTi', 'JavaScript', 'Java (programming language)', 'Java (software platform)', 'Jeff Dean (computer scientist)', 'Julia (programming language)', 'Just-in-time compilation', 'Just another Gibbs sampler', 'Jython', 'Jürgen Schmidhuber', 'Keras', 'Kotlin (programming language)', 'LIMDEP', 'LISREL', 'LLVM', 'LaMDA', 'LabVIEW', 'Lambda (programming)', 'Language binding', 'Late binding', 'Lazy evaluation', 'Lego Mindstorms EV3', 'LibreOffice', 'License proliferation', 'Lightwave', 'Linux', 'Linux distribution', 'Lisp (programming language)', 'List (computer science)', 'List comprehension', 'List comprehensions', 'List of Python software', 'List of commercial open-source applications and services', 'List of formerly open-source software', 'List of formerly proprietary software', 'List of free-software events', 'List of free and open-source Android applications', 'List of free and open-source iOS applications', 'List of free and open-source software organizations', 'List of free and open-source software packages', 'List of free and open-source web applications', 'List of free software project directories', 'List of free television software', 'List of integrated development environments for Python', 'List of numerical-analysis software', 'List of office suites', 'List of open-source bioinformatics software', 'List of open-source codecs', 'List of open-source health software', 'List of open-source routing platforms', 'List of open-source software for mathematics', 'List of open-source video games', 'List of programming languages', 'List of programming languages by type', 'List of statistical software', 'List of trademarked open-source software', 'Lock (computer science)', 'Logic programming', 'Long-term support', 'Long short-term memory', 'Loss functions for classification', 'Lua (programming language)', 'MATLAB', 'MFEM', 'MIME', 'MIT Computer Science and Artificial Intelligence Laboratory', 'MIT License', 'ML (programming language)', 'MLwiN', 'MacOS', 'Machine learning', 'Maple (software)', 'Mathcad', 'Mathematics', 'Matplotlib', 'Matrix multiplication', 'Maya (software)', 'MedCalc', 'Memory management', 'Memristor', 'Mercurial', 'Meta AI', 'Metaclass', 'Metaobject', 'Metaprogramming', 'Metasyntactic variable', 'Method (computing)', 'Method (programming)', 'MicroPython', 'Microcontroller', 'Microfit', 'Microsoft Excel', 'Microsoft Open Specification Promise', 'Microsoft Windows', 'Microthread', 'Mila (research institute)', 'Minitab', 'Mobile app', 'Mod wsgi', 'Modo (software)', 'Modula-3', 'Modular programming', 'Modulo operation', 'Monty Python', 'MotionBuilder', 'Mozilla Public License', 'Mozilla software rebranded by Debian', 'MuZero', 'Multi-paradigm programming language', 'Multilayer perceptron', 'Multimedia', 'Musical notation', 'MyHDL', 'N900', 'NASA', 'NCSS (statistical software)', 'NOP (code)', 'Nagare (web framework)', 'Name resolution (programming languages)', 'Natural language processing', 'Neologism', 'NetBSD', 'Netherlands', 'Neural Turing machine', 'Neural machine translation', 'Neuromorphic engineering', 'Nevow', 'Nim (programming language)', 'Ninja-IDE', 'Nokia', 'Non-English-based programming languages', 'Norman Jouppi', 'Notebook interface', 'Nuitka', 'Nuke (software)', 'Null pointer', 'NumPy', 'Numba', 'Number theory', 'Numerical mathematics', \"O'Reilly Media\", \"O'Reilly Open Source Convention\", 'OS/2', 'Object-oriented programming', 'Object (computer science)', 'Objective-C', 'Off-side rule', 'One Laptop per Child', 'Open-core model', 'Open-source-software movement', 'Open-source hardware', 'Open-source license', 'Open-source software', 'Open-source software development', 'Open-source software security', 'OpenAI', 'OpenAI Five', 'OpenBSD', 'OpenBUGS', 'OpenCV', 'OpenFOAM', 'OpenVMS', 'Operating system', 'Operator overloading', 'Optical character recognition', 'Orange (software)', 'Order of operations', 'Outline of free software', 'Overfitting', 'OxMetrics', 'PHP', 'PSPP', 'Package management system', 'Paint Shop Pro', 'Pascal (programming language)', 'Pattern matching', 'Pattern recognition', 'Pdoc', 'Perl', 'Permissive software license', 'Peter Norvig', 'Pip (package manager)', 'Pointer (computer programming)', 'Portage (software)', 'Ported', 'Premature optimization', 'Prettyprint', 'Printf format string', 'Procedural programming', 'Programming language', 'Programming language implementation', 'Programming paradigm', 'Project Debater', 'Project Jupyter', 'Prolog', 'Proprietary device driver', 'Proprietary firmware', 'Proprietary software', 'Pseudorandom number generator', 'Psyco', 'Public-domain software', 'Public domain', 'PyCharm', 'PyCon', 'PyDev', 'PyGTK', 'PyMC3', 'PyPy', 'PyQt', 'PyS60', 'PyTorch', 'Pydoc', 'Pygame', 'Pyjs', 'Pyladies', 'Pylons (web framework)', 'Pylons project', 'Pyramid (web framework)', 'Pyrex (programming language)', 'PythonAnywhere', 'Python Conference', 'Python License', 'Python Package Index', 'Python Software Foundation', 'Python Software Foundation License', 'Python for S60', 'Python syntax and semantics', 'Q-learning', 'Qt (software)', 'Quixote (web framework)', 'RATS (software)', 'RExcel', 'RPython', 'RStudio', 'R (programming language)', 'Raspberry Pi', 'Rational number', 'Raw string', 'Read–eval–print loop', 'Rectifier (neural networks)', 'Recurrent neural network', 'Red Hat Linux', 'Reddit', 'Reference counting', 'Reference implementation', 'Reflection (computer science)', 'Reflective programming', 'Regression analysis', 'Regular expression', 'Regularization (mathematics)', 'Relational database', 'Remote code execution', 'Residual network', 'Resource acquisition is initialization', 'Revolution Analytics', 'Revolution OS', 'Ring-lang', 'Ring (programming language)', 'Robot control', 'Round to even', 'Rounding', 'Roundup (issue tracker)', 'Ruby (programming language)', 'Run-time algorithm specialization', 'Rust (programming language)', 'S-PLUS', 'S2CID (identifier)', 'SAS (software)', 'SCO–Linux disputes', 'SETL', 'SHAZAM (software)', 'SOFA Statistics', 'SPSS', 'SPSS Modeler', 'SQL', 'SQLAlchemy', 'SUDAAN', 'SUDOC (identifier)', 'SYSTAT (software)', 'SageMath', 'Salome (software)', 'Scheme (programming language)', 'SciPy', 'ScicosLab', 'Scientific computing', 'Scikit-learn', 'Scilab', 'Scorewriter', 'Scribus', 'Scripting language', 'SegReg', 'Self-driving car', 'Self-hosting (web services)', 'Series 60', 'Set (computer science)', 'Shallow copy', 'Shared Source Initiative', 'Shed Skin', 'Shell script', 'SigmaStat', 'Sigmoid function', 'SimFiT', 'Simple DirectMedia Layer', 'Simula', 'Single-board computer', 'Sleepycat License', 'Smalltalk', 'SmartPLS', 'Softmax function', 'Software design', 'Software developer', 'Software license', 'Software patents and free software', 'Software release life cycle', 'Solaris (operating system)', 'Source-available software', 'Spam (Monty Python)', 'Speakeasy (computational environment)', 'Speech recognition', 'Sphinx (documentation generator)', 'SpiNNaker', 'Spotify', 'Stack Overflow', 'Stackless Python', 'Stan (software)', 'Standard ML', 'Standard library', 'StatView', 'StatXact', 'Stata', 'Statement (computer science)', 'State–action–reward–state–action', 'Statically-typed', 'Statistica', 'Statistical manifold', 'StatsDirect', 'Statsmodels', 'Stochastic gradient descent', 'String (computer science)', 'String interpolation', 'String literal', 'Strong and weak typing', 'Structured programming', 'Stuart J. Russell', 'Sugar (software)', 'Sugar Labs', 'Swift (programming language)', 'Symbian', 'Syntactic sugar', 'Syntax highlighting', 'System administration', 'TACTIC (web framework)', 'TIOBE Programming Community Index', 'TSP (econometrics software)', 'Tail call', 'Tcl', 'TensorFlow', 'Tensor Processing Unit', 'Tensor calculus', 'Test framework', 'Test suite', 'Text processing', 'The C Programming Language', 'The Cathedral and the Bazaar', 'The Computer Language Benchmarks Game', 'The Document Foundation', 'The Free Software Definition', 'The Open Source Definition', 'The Unscrambler', 'Theano (software)', 'There is more than one way to do it', 'This (computer programming)', 'Timeline of free and open-source software', 'Timeline of programming languages', 'Tornado (web server)', 'Training, validation, and test sets', 'Transformer (machine learning model)', 'Transpile', 'Trusted Computing', 'Tuple', 'TurboGears', 'Twisted (software)', 'Type system', 'UTF-8', 'Ubiquity (software)', 'Ubuntu (operating system)', 'Unary operation', 'Unicode', 'Unistat', 'Unit test', 'Unit testing', 'Unix-like', 'Unix shell', 'Unladen Swallow', 'Unlicense', 'VHDL', 'Variational autoencoder', 'Verilog', 'Viral license', 'Virtual machine', 'VisSim', 'Vision processing unit', 'WTFPL', 'WaveNet', 'Wayback Machine', 'Web2py', 'Web Server Gateway Interface', 'Web application', 'Web browser', 'Web framework', 'Web scraping', 'Weka (machine learning)', 'While loop', 'Whitespace character', 'Wikipedia', 'WinBUGS', 'Windows', 'Windows 7', 'Windows XP', 'Wolfram Mathematica', 'Word2vec', 'World Programming System', 'X-12-ARIMA', 'X10 (programming language)', 'XLfit', 'XLispStat', 'XploRe', 'Yahoo!', 'Yann LeCun', 'Yoshua Bengio', 'Yukihiro Matsumoto', 'Zen of Python', 'Zero-based numbering', 'Zlib License', 'Zope']\n"
     ]
    }
   ],
   "source": [
    "print(pypage.links)"
   ]
  }
 ],
 "metadata": {
  "kernelspec": {
   "display_name": "Python 3.10.8 ('LD-inference')",
   "language": "python",
   "name": "python3"
  },
  "language_info": {
   "codemirror_mode": {
    "name": "ipython",
    "version": 3
   },
   "file_extension": ".py",
   "mimetype": "text/x-python",
   "name": "python",
   "nbconvert_exporter": "python",
   "pygments_lexer": "ipython3",
   "version": "3.10.8"
  },
  "orig_nbformat": 4,
  "vscode": {
   "interpreter": {
    "hash": "2b3dd287303ef379cd3bfc1446cef400144e42385eabfb9b315f60147448249f"
   }
  }
 },
 "nbformat": 4,
 "nbformat_minor": 2
}

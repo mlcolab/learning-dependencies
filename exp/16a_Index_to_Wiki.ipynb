{
 "cells": [
  {
   "attachments": {},
   "cell_type": "markdown",
   "metadata": {},
   "source": [
    "# Index entry disambigation\n",
    "Here, the texbook index entries are mapped to Wikipedia articles using the Wikisearch disambiguation method."
   ]
  },
  {
   "cell_type": "code",
   "execution_count": 9,
   "metadata": {},
   "outputs": [],
   "source": [
    "import os\n",
    "import pandas as pd\n",
    "from tqdm import tqdm\n",
    "from collections import Counter\n",
    "import sys\n",
    "sys.path.append('../src/')\n",
    "import wiki_api\n",
    "from importlib import reload\n",
    "wiki_api = reload(wiki_api)"
   ]
  },
  {
   "cell_type": "code",
   "execution_count": 3,
   "metadata": {},
   "outputs": [],
   "source": [
    "path = \"../dat/index/\"\n",
    "\n",
    "def unique_sorted(pages):\n",
    "    pages = list(set(pages.split(\",\"))) # remove duplicates\n",
    "    pages = [p.strip() for p in pages]\n",
    "    while \"nan\" in pages: pages.remove(\"nan\")\n",
    "    pages.sort(key=int)\n",
    "    return \", \".join(pages)"
   ]
  },
  {
   "cell_type": "code",
   "execution_count": 13,
   "metadata": {},
   "outputs": [
    {
     "name": "stdout",
     "output_type": "stream",
     "text": [
      "Search for injection (Mathematics)\n",
      "Response: ['Injection', 'Bijection', 'Function', 'Inclusion map', 'Injection locking', 'Injective function', 'Surjective function', 'Supervised injection site', 'Stratospheric aerosol injection', 'Bijection, injection and surjection']\n",
      "Distances: [('Injection', 0), ('Bijection', 2), ('Function', 4), ('Inclusion map', 8), ('Injection locking', 8), ('Injective function', 9), ('Surjective function', 12), ('Supervised injection site', 16), ('Stratospheric aerosol injection', 22), ('Bijection, injection and surjection', 26)]\n"
     ]
    }
   ],
   "source": [
    "disamb = wiki_api.disambiguate(\"injection\", None, \"Mathematics\", True)\n"
   ]
  },
  {
   "cell_type": "code",
   "execution_count": 16,
   "metadata": {},
   "outputs": [
    {
     "name": "stdout",
     "output_type": "stream",
     "text": [
      "Index entry: ∩\n",
      "Search for ∩ (Mathematics)\n",
      "Response: ['Ring', 'Group', 'Matrix', 'Series', 'Function', 'Mathematics', 'Pure mathematics', 'Indian mathematics', 'Applied mathematics', 'Discrete mathematics']\n",
      "Distances: [('Ring', 4), ('Group', 5), ('Matrix', 6), ('Series', 6), ('Function', 8), ('Mathematics', 11), ('Pure mathematics', 16), ('Indian mathematics', 18), ('Applied mathematics', 19), ('Discrete mathematics', 20)]\n",
      "Wiki result: Ring (mathematics)\n",
      "Index entry: ∪\n",
      "Search for ∪ (Mathematics)\n",
      "Response: ['Ring', 'Group', 'Matrix', 'Series', 'Function', 'Mathematics', 'Pure mathematics', 'Indian mathematics', 'Applied mathematics', 'Discrete mathematics']\n",
      "Distances: [('Ring', 4), ('Group', 5), ('Matrix', 6), ('Series', 6), ('Function', 8), ('Mathematics', 11), ('Pure mathematics', 16), ('Indian mathematics', 18), ('Applied mathematics', 19), ('Discrete mathematics', 20)]\n",
      "Wiki result: Ring (mathematics)\n",
      "Index entry: \\\n",
      "Search for \\ (Mathematics)\n",
      "Response: ['Ring', 'Group', 'Matrix', 'Series', 'Function', 'Mathematics', 'Pure mathematics', 'Indian mathematics', 'Applied mathematics', 'Discrete mathematics']\n",
      "Distances: [('Ring', 4), ('Group', 5), ('Matrix', 6), ('Series', 6), ('Function', 8), ('Mathematics', 11), ('Pure mathematics', 16), ('Indian mathematics', 18), ('Applied mathematics', 19), ('Discrete mathematics', 20)]\n"
     ]
    },
    {
     "ename": "KeyboardInterrupt",
     "evalue": "",
     "output_type": "error",
     "traceback": [
      "\u001b[0;31m---------------------------------------------------------------------------\u001b[0m",
      "\u001b[0;31mKeyboardInterrupt\u001b[0m                         Traceback (most recent call last)",
      "Cell \u001b[0;32mIn[16], line 5\u001b[0m\n\u001b[1;32m      3\u001b[0m \u001b[39mfor\u001b[39;00m title \u001b[39min\u001b[39;00m index\u001b[39m.\u001b[39mconcept:\n\u001b[1;32m      4\u001b[0m     \u001b[39mprint\u001b[39m(\u001b[39mf\u001b[39m\u001b[39m\"\u001b[39m\u001b[39mIndex entry: \u001b[39m\u001b[39m{\u001b[39;00mtitle\u001b[39m}\u001b[39;00m\u001b[39m\"\u001b[39m)\n\u001b[0;32m----> 5\u001b[0m     disamb \u001b[39m=\u001b[39m wiki_api\u001b[39m.\u001b[39;49mdisambiguate(\u001b[39mstr\u001b[39;49m(title), \u001b[39mNone\u001b[39;49;00m, \u001b[39m\"\u001b[39;49m\u001b[39mMathematics\u001b[39;49m\u001b[39m\"\u001b[39;49m, \u001b[39mTrue\u001b[39;49;00m)\n\u001b[1;32m      6\u001b[0m     \u001b[39mprint\u001b[39m(\u001b[39mf\u001b[39m\u001b[39m\"\u001b[39m\u001b[39mWiki result: \u001b[39m\u001b[39m{\u001b[39;00mdisamb\u001b[39m}\u001b[39;00m\u001b[39m\"\u001b[39m)\n",
      "File \u001b[0;32m~/Documents/Studium/QDS/_ResearchProject/learning-dependencies/exp/../src/wiki_api.py:138\u001b[0m, in \u001b[0;36mdisambiguate\u001b[0;34m(term, link_set, field, verbose)\u001b[0m\n\u001b[1;32m    136\u001b[0m search_results\u001b[39m.\u001b[39msort(key\u001b[39m=\u001b[39mget_dist) \u001b[39m# sort by Levenshtein distances\u001b[39;00m\n\u001b[1;32m    137\u001b[0m \u001b[39mfor\u001b[39;00m title \u001b[39min\u001b[39;00m search_results: \n\u001b[0;32m--> 138\u001b[0m     \u001b[39mif\u001b[39;00m accept_search_result(title, link_set): \u001b[39mreturn\u001b[39;00m title\n\u001b[1;32m    139\u001b[0m \u001b[39mreturn\u001b[39;00m \u001b[39mNone\u001b[39;00m\n",
      "File \u001b[0;32m~/Documents/Studium/QDS/_ResearchProject/learning-dependencies/exp/../src/wiki_api.py:118\u001b[0m, in \u001b[0;36maccept_search_result\u001b[0;34m(search_result, link_set)\u001b[0m\n\u001b[1;32m    116\u001b[0m page \u001b[39m=\u001b[39m get_page(search_result)\n\u001b[1;32m    117\u001b[0m \u001b[39m# filter disambiguation pages\u001b[39;00m\n\u001b[0;32m--> 118\u001b[0m \u001b[39mif\u001b[39;00m is_disambiguation(page): \u001b[39mreturn\u001b[39;00m \u001b[39mFalse\u001b[39;00m\n\u001b[1;32m    119\u001b[0m \u001b[39m# have at least one outgoing link to a page of the link set\u001b[39;00m\n\u001b[1;32m    120\u001b[0m \u001b[39mif\u001b[39;00m \u001b[39mnot\u001b[39;00m link_set: \u001b[39mreturn\u001b[39;00m \u001b[39mTrue\u001b[39;00m\n",
      "File \u001b[0;32m~/Documents/Studium/QDS/_ResearchProject/learning-dependencies/exp/../src/wiki_api.py:113\u001b[0m, in \u001b[0;36mis_disambiguation\u001b[0;34m(page)\u001b[0m\n\u001b[1;32m    112\u001b[0m \u001b[39mdef\u001b[39;00m \u001b[39mis_disambiguation\u001b[39m(page):\n\u001b[0;32m--> 113\u001b[0m     \u001b[39mreturn\u001b[39;00m page\u001b[39m.\u001b[39;49msummary[\u001b[39m0\u001b[39m:\u001b[39m50\u001b[39m]\u001b[39m.\u001b[39mfind(\u001b[39m\"\u001b[39m\u001b[39mrefer\u001b[39m\u001b[39m\"\u001b[39m) \u001b[39m!=\u001b[39m \u001b[39m-\u001b[39m\u001b[39m1\u001b[39m\n",
      "File \u001b[0;32m~/opt/miniconda3/envs/LD-inference/lib/python3.10/site-packages/wikipediaapi/__init__.py:1025\u001b[0m, in \u001b[0;36mWikipediaPage.summary\u001b[0;34m(self)\u001b[0m\n\u001b[1;32m   1019\u001b[0m \u001b[39m\u001b[39m\u001b[39m\"\"\"\u001b[39;00m\n\u001b[1;32m   1020\u001b[0m \u001b[39mReturns summary of the current page.\u001b[39;00m\n\u001b[1;32m   1021\u001b[0m \n\u001b[1;32m   1022\u001b[0m \u001b[39m:return: summary\u001b[39;00m\n\u001b[1;32m   1023\u001b[0m \u001b[39m\"\"\"\u001b[39;00m\n\u001b[1;32m   1024\u001b[0m \u001b[39mif\u001b[39;00m \u001b[39mnot\u001b[39;00m \u001b[39mself\u001b[39m\u001b[39m.\u001b[39m_called[\u001b[39m'\u001b[39m\u001b[39mextracts\u001b[39m\u001b[39m'\u001b[39m]:\n\u001b[0;32m-> 1025\u001b[0m     \u001b[39mself\u001b[39;49m\u001b[39m.\u001b[39;49m_fetch(\u001b[39m'\u001b[39;49m\u001b[39mextracts\u001b[39;49m\u001b[39m'\u001b[39;49m)\n\u001b[1;32m   1026\u001b[0m \u001b[39mreturn\u001b[39;00m \u001b[39mself\u001b[39m\u001b[39m.\u001b[39m_summary\n",
      "File \u001b[0;32m~/opt/miniconda3/envs/LD-inference/lib/python3.10/site-packages/wikipediaapi/__init__.py:1148\u001b[0m, in \u001b[0;36mWikipediaPage._fetch\u001b[0;34m(self, call)\u001b[0m\n\u001b[1;32m   1147\u001b[0m \u001b[39mdef\u001b[39;00m \u001b[39m_fetch\u001b[39m(\u001b[39mself\u001b[39m, call) \u001b[39m-\u001b[39m\u001b[39m>\u001b[39m \u001b[39m'\u001b[39m\u001b[39mWikipediaPage\u001b[39m\u001b[39m'\u001b[39m:\n\u001b[0;32m-> 1148\u001b[0m     \u001b[39mgetattr\u001b[39;49m(\u001b[39mself\u001b[39;49m\u001b[39m.\u001b[39;49mwiki, call)(\u001b[39mself\u001b[39;49m)\n\u001b[1;32m   1149\u001b[0m     \u001b[39mself\u001b[39m\u001b[39m.\u001b[39m_called[call] \u001b[39m=\u001b[39m \u001b[39mTrue\u001b[39;00m\n\u001b[1;32m   1150\u001b[0m     \u001b[39mreturn\u001b[39;00m \u001b[39mself\u001b[39m\n",
      "File \u001b[0;32m~/opt/miniconda3/envs/LD-inference/lib/python3.10/site-packages/wikipediaapi/__init__.py:285\u001b[0m, in \u001b[0;36mWikipedia.extracts\u001b[0;34m(self, page, **kwargs)\u001b[0m\n\u001b[1;32m    282\u001b[0m used_params \u001b[39m=\u001b[39m kwargs\n\u001b[1;32m    283\u001b[0m used_params\u001b[39m.\u001b[39mupdate(params)\n\u001b[0;32m--> 285\u001b[0m raw \u001b[39m=\u001b[39m \u001b[39mself\u001b[39;49m\u001b[39m.\u001b[39;49m_query(\n\u001b[1;32m    286\u001b[0m     page,\n\u001b[1;32m    287\u001b[0m     used_params\n\u001b[1;32m    288\u001b[0m )\n\u001b[1;32m    289\u001b[0m \u001b[39mself\u001b[39m\u001b[39m.\u001b[39m_common_attributes(raw[\u001b[39m'\u001b[39m\u001b[39mquery\u001b[39m\u001b[39m'\u001b[39m], page)\n\u001b[1;32m    290\u001b[0m pages \u001b[39m=\u001b[39m raw[\u001b[39m'\u001b[39m\u001b[39mquery\u001b[39m\u001b[39m'\u001b[39m][\u001b[39m'\u001b[39m\u001b[39mpages\u001b[39m\u001b[39m'\u001b[39m]\n",
      "File \u001b[0;32m~/opt/miniconda3/envs/LD-inference/lib/python3.10/site-packages/wikipediaapi/__init__.py:580\u001b[0m, in \u001b[0;36mWikipedia._query\u001b[0;34m(self, page, params)\u001b[0m\n\u001b[1;32m    578\u001b[0m params[\u001b[39m'\u001b[39m\u001b[39mformat\u001b[39m\u001b[39m'\u001b[39m] \u001b[39m=\u001b[39m \u001b[39m'\u001b[39m\u001b[39mjson\u001b[39m\u001b[39m'\u001b[39m\n\u001b[1;32m    579\u001b[0m params[\u001b[39m'\u001b[39m\u001b[39mredirects\u001b[39m\u001b[39m'\u001b[39m] \u001b[39m=\u001b[39m \u001b[39m1\u001b[39m\n\u001b[0;32m--> 580\u001b[0m r \u001b[39m=\u001b[39m \u001b[39mself\u001b[39;49m\u001b[39m.\u001b[39;49m_session\u001b[39m.\u001b[39;49mget(\n\u001b[1;32m    581\u001b[0m     base_url,\n\u001b[1;32m    582\u001b[0m     params\u001b[39m=\u001b[39;49mparams,\n\u001b[1;32m    583\u001b[0m     \u001b[39m*\u001b[39;49m\u001b[39m*\u001b[39;49m\u001b[39mself\u001b[39;49m\u001b[39m.\u001b[39;49m_request_kwargs\n\u001b[1;32m    584\u001b[0m )\n\u001b[1;32m    585\u001b[0m \u001b[39mreturn\u001b[39;00m r\u001b[39m.\u001b[39mjson()\n",
      "File \u001b[0;32m~/opt/miniconda3/envs/LD-inference/lib/python3.10/site-packages/requests/sessions.py:600\u001b[0m, in \u001b[0;36mSession.get\u001b[0;34m(self, url, **kwargs)\u001b[0m\n\u001b[1;32m    592\u001b[0m \u001b[39m\u001b[39m\u001b[39mr\u001b[39m\u001b[39m\"\"\"Sends a GET request. Returns :class:`Response` object.\u001b[39;00m\n\u001b[1;32m    593\u001b[0m \n\u001b[1;32m    594\u001b[0m \u001b[39m:param url: URL for the new :class:`Request` object.\u001b[39;00m\n\u001b[1;32m    595\u001b[0m \u001b[39m:param \\*\\*kwargs: Optional arguments that ``request`` takes.\u001b[39;00m\n\u001b[1;32m    596\u001b[0m \u001b[39m:rtype: requests.Response\u001b[39;00m\n\u001b[1;32m    597\u001b[0m \u001b[39m\"\"\"\u001b[39;00m\n\u001b[1;32m    599\u001b[0m kwargs\u001b[39m.\u001b[39msetdefault(\u001b[39m\"\u001b[39m\u001b[39mallow_redirects\u001b[39m\u001b[39m\"\u001b[39m, \u001b[39mTrue\u001b[39;00m)\n\u001b[0;32m--> 600\u001b[0m \u001b[39mreturn\u001b[39;00m \u001b[39mself\u001b[39;49m\u001b[39m.\u001b[39;49mrequest(\u001b[39m\"\u001b[39;49m\u001b[39mGET\u001b[39;49m\u001b[39m\"\u001b[39;49m, url, \u001b[39m*\u001b[39;49m\u001b[39m*\u001b[39;49mkwargs)\n",
      "File \u001b[0;32m~/opt/miniconda3/envs/LD-inference/lib/python3.10/site-packages/requests/sessions.py:587\u001b[0m, in \u001b[0;36mSession.request\u001b[0;34m(self, method, url, params, data, headers, cookies, files, auth, timeout, allow_redirects, proxies, hooks, stream, verify, cert, json)\u001b[0m\n\u001b[1;32m    582\u001b[0m send_kwargs \u001b[39m=\u001b[39m {\n\u001b[1;32m    583\u001b[0m     \u001b[39m\"\u001b[39m\u001b[39mtimeout\u001b[39m\u001b[39m\"\u001b[39m: timeout,\n\u001b[1;32m    584\u001b[0m     \u001b[39m\"\u001b[39m\u001b[39mallow_redirects\u001b[39m\u001b[39m\"\u001b[39m: allow_redirects,\n\u001b[1;32m    585\u001b[0m }\n\u001b[1;32m    586\u001b[0m send_kwargs\u001b[39m.\u001b[39mupdate(settings)\n\u001b[0;32m--> 587\u001b[0m resp \u001b[39m=\u001b[39m \u001b[39mself\u001b[39;49m\u001b[39m.\u001b[39;49msend(prep, \u001b[39m*\u001b[39;49m\u001b[39m*\u001b[39;49msend_kwargs)\n\u001b[1;32m    589\u001b[0m \u001b[39mreturn\u001b[39;00m resp\n",
      "File \u001b[0;32m~/opt/miniconda3/envs/LD-inference/lib/python3.10/site-packages/requests/sessions.py:745\u001b[0m, in \u001b[0;36mSession.send\u001b[0;34m(self, request, **kwargs)\u001b[0m\n\u001b[1;32m    742\u001b[0m         \u001b[39mpass\u001b[39;00m\n\u001b[1;32m    744\u001b[0m \u001b[39mif\u001b[39;00m \u001b[39mnot\u001b[39;00m stream:\n\u001b[0;32m--> 745\u001b[0m     r\u001b[39m.\u001b[39;49mcontent\n\u001b[1;32m    747\u001b[0m \u001b[39mreturn\u001b[39;00m r\n",
      "File \u001b[0;32m~/opt/miniconda3/envs/LD-inference/lib/python3.10/site-packages/requests/models.py:899\u001b[0m, in \u001b[0;36mResponse.content\u001b[0;34m(self)\u001b[0m\n\u001b[1;32m    897\u001b[0m         \u001b[39mself\u001b[39m\u001b[39m.\u001b[39m_content \u001b[39m=\u001b[39m \u001b[39mNone\u001b[39;00m\n\u001b[1;32m    898\u001b[0m     \u001b[39melse\u001b[39;00m:\n\u001b[0;32m--> 899\u001b[0m         \u001b[39mself\u001b[39m\u001b[39m.\u001b[39m_content \u001b[39m=\u001b[39m \u001b[39mb\u001b[39;49m\u001b[39m\"\u001b[39;49m\u001b[39m\"\u001b[39;49m\u001b[39m.\u001b[39;49mjoin(\u001b[39mself\u001b[39;49m\u001b[39m.\u001b[39;49miter_content(CONTENT_CHUNK_SIZE)) \u001b[39mor\u001b[39;00m \u001b[39mb\u001b[39m\u001b[39m\"\u001b[39m\u001b[39m\"\u001b[39m\n\u001b[1;32m    901\u001b[0m \u001b[39mself\u001b[39m\u001b[39m.\u001b[39m_content_consumed \u001b[39m=\u001b[39m \u001b[39mTrue\u001b[39;00m\n\u001b[1;32m    902\u001b[0m \u001b[39m# don't need to release the connection; that's been handled by urllib3\u001b[39;00m\n\u001b[1;32m    903\u001b[0m \u001b[39m# since we exhausted the data.\u001b[39;00m\n",
      "File \u001b[0;32m~/opt/miniconda3/envs/LD-inference/lib/python3.10/site-packages/requests/models.py:816\u001b[0m, in \u001b[0;36mResponse.iter_content.<locals>.generate\u001b[0;34m()\u001b[0m\n\u001b[1;32m    814\u001b[0m \u001b[39mif\u001b[39;00m \u001b[39mhasattr\u001b[39m(\u001b[39mself\u001b[39m\u001b[39m.\u001b[39mraw, \u001b[39m\"\u001b[39m\u001b[39mstream\u001b[39m\u001b[39m\"\u001b[39m):\n\u001b[1;32m    815\u001b[0m     \u001b[39mtry\u001b[39;00m:\n\u001b[0;32m--> 816\u001b[0m         \u001b[39myield from\u001b[39;00m \u001b[39mself\u001b[39m\u001b[39m.\u001b[39mraw\u001b[39m.\u001b[39mstream(chunk_size, decode_content\u001b[39m=\u001b[39m\u001b[39mTrue\u001b[39;00m)\n\u001b[1;32m    817\u001b[0m     \u001b[39mexcept\u001b[39;00m ProtocolError \u001b[39mas\u001b[39;00m e:\n\u001b[1;32m    818\u001b[0m         \u001b[39mraise\u001b[39;00m ChunkedEncodingError(e)\n",
      "File \u001b[0;32m~/opt/miniconda3/envs/LD-inference/lib/python3.10/site-packages/urllib3/response.py:623\u001b[0m, in \u001b[0;36mHTTPResponse.stream\u001b[0;34m(self, amt, decode_content)\u001b[0m\n\u001b[1;32m    607\u001b[0m \u001b[39m\u001b[39m\u001b[39m\"\"\"\u001b[39;00m\n\u001b[1;32m    608\u001b[0m \u001b[39mA generator wrapper for the read() method. A call will block until\u001b[39;00m\n\u001b[1;32m    609\u001b[0m \u001b[39m``amt`` bytes have been read from the connection or until the\u001b[39;00m\n\u001b[0;32m   (...)\u001b[0m\n\u001b[1;32m    620\u001b[0m \u001b[39m    'content-encoding' header.\u001b[39;00m\n\u001b[1;32m    621\u001b[0m \u001b[39m\"\"\"\u001b[39;00m\n\u001b[1;32m    622\u001b[0m \u001b[39mif\u001b[39;00m \u001b[39mself\u001b[39m\u001b[39m.\u001b[39mchunked \u001b[39mand\u001b[39;00m \u001b[39mself\u001b[39m\u001b[39m.\u001b[39msupports_chunked_reads():\n\u001b[0;32m--> 623\u001b[0m     \u001b[39mfor\u001b[39;00m line \u001b[39min\u001b[39;00m \u001b[39mself\u001b[39m\u001b[39m.\u001b[39mread_chunked(amt, decode_content\u001b[39m=\u001b[39mdecode_content):\n\u001b[1;32m    624\u001b[0m         \u001b[39myield\u001b[39;00m line\n\u001b[1;32m    625\u001b[0m \u001b[39melse\u001b[39;00m:\n",
      "File \u001b[0;32m~/opt/miniconda3/envs/LD-inference/lib/python3.10/site-packages/urllib3/response.py:815\u001b[0m, in \u001b[0;36mHTTPResponse.read_chunked\u001b[0;34m(self, amt, decode_content)\u001b[0m\n\u001b[1;32m    812\u001b[0m     \u001b[39mreturn\u001b[39;00m\n\u001b[1;32m    814\u001b[0m \u001b[39mwhile\u001b[39;00m \u001b[39mTrue\u001b[39;00m:\n\u001b[0;32m--> 815\u001b[0m     \u001b[39mself\u001b[39;49m\u001b[39m.\u001b[39;49m_update_chunk_length()\n\u001b[1;32m    816\u001b[0m     \u001b[39mif\u001b[39;00m \u001b[39mself\u001b[39m\u001b[39m.\u001b[39mchunk_left \u001b[39m==\u001b[39m \u001b[39m0\u001b[39m:\n\u001b[1;32m    817\u001b[0m         \u001b[39mbreak\u001b[39;00m\n",
      "File \u001b[0;32m~/opt/miniconda3/envs/LD-inference/lib/python3.10/site-packages/urllib3/response.py:745\u001b[0m, in \u001b[0;36mHTTPResponse._update_chunk_length\u001b[0;34m(self)\u001b[0m\n\u001b[1;32m    743\u001b[0m \u001b[39mif\u001b[39;00m \u001b[39mself\u001b[39m\u001b[39m.\u001b[39mchunk_left \u001b[39mis\u001b[39;00m \u001b[39mnot\u001b[39;00m \u001b[39mNone\u001b[39;00m:\n\u001b[1;32m    744\u001b[0m     \u001b[39mreturn\u001b[39;00m\n\u001b[0;32m--> 745\u001b[0m line \u001b[39m=\u001b[39m \u001b[39mself\u001b[39;49m\u001b[39m.\u001b[39;49m_fp\u001b[39m.\u001b[39;49mfp\u001b[39m.\u001b[39;49mreadline()\n\u001b[1;32m    746\u001b[0m line \u001b[39m=\u001b[39m line\u001b[39m.\u001b[39msplit(\u001b[39mb\u001b[39m\u001b[39m\"\u001b[39m\u001b[39m;\u001b[39m\u001b[39m\"\u001b[39m, \u001b[39m1\u001b[39m)[\u001b[39m0\u001b[39m]\n\u001b[1;32m    747\u001b[0m \u001b[39mtry\u001b[39;00m:\n",
      "File \u001b[0;32m~/opt/miniconda3/envs/LD-inference/lib/python3.10/socket.py:705\u001b[0m, in \u001b[0;36mSocketIO.readinto\u001b[0;34m(self, b)\u001b[0m\n\u001b[1;32m    703\u001b[0m \u001b[39mwhile\u001b[39;00m \u001b[39mTrue\u001b[39;00m:\n\u001b[1;32m    704\u001b[0m     \u001b[39mtry\u001b[39;00m:\n\u001b[0;32m--> 705\u001b[0m         \u001b[39mreturn\u001b[39;00m \u001b[39mself\u001b[39;49m\u001b[39m.\u001b[39;49m_sock\u001b[39m.\u001b[39;49mrecv_into(b)\n\u001b[1;32m    706\u001b[0m     \u001b[39mexcept\u001b[39;00m timeout:\n\u001b[1;32m    707\u001b[0m         \u001b[39mself\u001b[39m\u001b[39m.\u001b[39m_timeout_occurred \u001b[39m=\u001b[39m \u001b[39mTrue\u001b[39;00m\n",
      "File \u001b[0;32m~/opt/miniconda3/envs/LD-inference/lib/python3.10/ssl.py:1274\u001b[0m, in \u001b[0;36mSSLSocket.recv_into\u001b[0;34m(self, buffer, nbytes, flags)\u001b[0m\n\u001b[1;32m   1270\u001b[0m     \u001b[39mif\u001b[39;00m flags \u001b[39m!=\u001b[39m \u001b[39m0\u001b[39m:\n\u001b[1;32m   1271\u001b[0m         \u001b[39mraise\u001b[39;00m \u001b[39mValueError\u001b[39;00m(\n\u001b[1;32m   1272\u001b[0m           \u001b[39m\"\u001b[39m\u001b[39mnon-zero flags not allowed in calls to recv_into() on \u001b[39m\u001b[39m%s\u001b[39;00m\u001b[39m\"\u001b[39m \u001b[39m%\u001b[39m\n\u001b[1;32m   1273\u001b[0m           \u001b[39mself\u001b[39m\u001b[39m.\u001b[39m\u001b[39m__class__\u001b[39m)\n\u001b[0;32m-> 1274\u001b[0m     \u001b[39mreturn\u001b[39;00m \u001b[39mself\u001b[39;49m\u001b[39m.\u001b[39;49mread(nbytes, buffer)\n\u001b[1;32m   1275\u001b[0m \u001b[39melse\u001b[39;00m:\n\u001b[1;32m   1276\u001b[0m     \u001b[39mreturn\u001b[39;00m \u001b[39msuper\u001b[39m()\u001b[39m.\u001b[39mrecv_into(buffer, nbytes, flags)\n",
      "File \u001b[0;32m~/opt/miniconda3/envs/LD-inference/lib/python3.10/ssl.py:1130\u001b[0m, in \u001b[0;36mSSLSocket.read\u001b[0;34m(self, len, buffer)\u001b[0m\n\u001b[1;32m   1128\u001b[0m \u001b[39mtry\u001b[39;00m:\n\u001b[1;32m   1129\u001b[0m     \u001b[39mif\u001b[39;00m buffer \u001b[39mis\u001b[39;00m \u001b[39mnot\u001b[39;00m \u001b[39mNone\u001b[39;00m:\n\u001b[0;32m-> 1130\u001b[0m         \u001b[39mreturn\u001b[39;00m \u001b[39mself\u001b[39;49m\u001b[39m.\u001b[39;49m_sslobj\u001b[39m.\u001b[39;49mread(\u001b[39mlen\u001b[39;49m, buffer)\n\u001b[1;32m   1131\u001b[0m     \u001b[39melse\u001b[39;00m:\n\u001b[1;32m   1132\u001b[0m         \u001b[39mreturn\u001b[39;00m \u001b[39mself\u001b[39m\u001b[39m.\u001b[39m_sslobj\u001b[39m.\u001b[39mread(\u001b[39mlen\u001b[39m)\n",
      "\u001b[0;31mKeyboardInterrupt\u001b[0m: "
     ]
    }
   ],
   "source": [
    "for book in os.listdir(path)[:6]:\n",
    "    index = pd.read_csv(path + book)\n",
    "    for title in index.concept:\n",
    "        print(f\"Index entry: {title}\")\n",
    "        disamb = wiki_api.disambiguate(str(title), None, \"Mathematics\", True)\n",
    "        print(f\"Wiki result: {disamb}\")\n"
   ]
  },
  {
   "cell_type": "code",
   "execution_count": 6,
   "metadata": {},
   "outputs": [
    {
     "name": "stderr",
     "output_type": "stream",
     "text": [
      "100%|██████████| 237/237 [03:23<00:00,  1.16it/s]\n",
      "100%|██████████| 302/302 [04:13<00:00,  1.19it/s]\n",
      "100%|██████████| 638/638 [07:58<00:00,  1.33it/s]\n",
      "100%|██████████| 173/173 [02:20<00:00,  1.23it/s]\n",
      "100%|██████████| 462/462 [05:58<00:00,  1.29it/s]\n",
      "100%|██████████| 477/477 [05:48<00:00,  1.37it/s]\n"
     ]
    }
   ],
   "source": [
    "for book in os.listdir(path):\n",
    "    index = pd.read_csv(path + book)\n",
    "    index.wiki_concept = [wiki_api.disambiguate(str(title), None, \"Mathematics\") for title in tqdm(index.concept)]\n",
    "    \n",
    "    index.pages = index.pages.apply(str) # to prepare join\n",
    "    wiki_index = index.groupby(\"wiki_concept\").agg({'pages': ', '.join})\n",
    "    wiki_index.pages = wiki_index.pages.apply(unique_sorted)\n",
    "    wiki_index.to_csv(\"../dat/index_by_wiki/\"+ book)"
   ]
  },
  {
   "attachments": {},
   "cell_type": "markdown",
   "metadata": {},
   "source": [
    "## Descriptive stats"
   ]
  },
  {
   "cell_type": "code",
   "execution_count": 13,
   "metadata": {},
   "outputs": [],
   "source": [
    "path = \"../dat/index_by_wiki/\"\n",
    "wiki_concepts = []\n",
    "for book in os.listdir(path):\n",
    "    index = pd.read_csv(path + book)\n",
    "    wiki_concepts.extend(index.wiki_concept)\n",
    "\n",
    "count = Counter(wiki_concepts)"
   ]
  },
  {
   "attachments": {},
   "cell_type": "markdown",
   "metadata": {},
   "source": [
    "Number of unique concepts"
   ]
  },
  {
   "cell_type": "code",
   "execution_count": 17,
   "metadata": {},
   "outputs": [
    {
     "data": {
      "text/plain": [
       "1469"
      ]
     },
     "execution_count": 17,
     "metadata": {},
     "output_type": "execute_result"
    }
   ],
   "source": [
    "len(count)"
   ]
  },
  {
   "attachments": {},
   "cell_type": "markdown",
   "metadata": {},
   "source": [
    "Concepts that appear in at least 4 books"
   ]
  },
  {
   "cell_type": "code",
   "execution_count": 15,
   "metadata": {},
   "outputs": [
    {
     "data": {
      "text/plain": [
       "175"
      ]
     },
     "execution_count": 15,
     "metadata": {},
     "output_type": "execute_result"
    }
   ],
   "source": [
    "common_concepts = [c for c in count if count[c]>=5]\n",
    "len(common_concepts)"
   ]
  },
  {
   "cell_type": "code",
   "execution_count": 16,
   "metadata": {},
   "outputs": [
    {
     "name": "stdout",
     "output_type": "stream",
     "text": [
      "['Absolute value', 'Adjoint', 'Adjugate matrix', 'Affine transformation', 'Basis (linear algebra)', 'Canonical form', 'Cauchy–Schwarz inequality', 'Change of basis', 'Closure (mathematics)', 'Coefficient', 'Complex conjugate', 'Complex conjugate root theorem', 'Complex number', 'Conjugate transpose', 'Consistency', 'Coordinate vector', \"Cramer's rule\", 'Cross product', 'Definite matrix', 'Determinant', 'Diagonal', 'Diagonal matrix', 'Diagonalizable group', 'Dimension', 'Dimension (vector space)', 'Diophantine equation', 'Distance', 'Distance matrix', 'Dot product', 'Dual space', 'Echelon formation', 'Eigendecomposition of a matrix', 'Eigenvalue algorithm', 'Elementary mathematics', 'Elementary matrix', 'Empty set', 'Equivalence relation', 'Euclidean vector', 'Function composition', 'Fundamental theorem of algebra', 'Gamma matrices', 'Gaussian elimination', 'Generalized inverse', 'Geometric transformation', 'Hermite normal form', 'Hyperplane', 'Intersection', 'Invariant (mathematics)', 'Invertible matrix', 'Isomorphism', 'Laplace expansion', 'Line (geometry)', 'Linear algebra', 'Linear combination', 'Linear independence', 'Linear map', 'Linear span', 'Linear subspace', 'Lorentz transformation', 'Mathematics', 'Matrix (mathematics)', 'Matrix addition', 'Matrix calculus', 'Matrix decomposition', 'Matrix exponential', 'Matrix multiplication', 'Matrix norm', 'Multiplicity (mathematics)', 'Null set', 'One-to-one (data model)', 'Orthogonal basis', 'Orthogonal complement', 'Orthogonal group', 'Orthogonality (mathematics)', 'Orthonormal basis', 'Outer product', 'Parallelepiped', 'Parameter', 'Permutation matrix', 'Perpendicular', 'Pivot element', 'Polynomial ring', 'Proper map', 'Quadratic formula', 'Rank (linear algebra)', 'Row and column spaces', 'Row equivalence', 'Scalar (mathematics)', 'Scalar multiplication', 'Set (mathematics)', 'Singular value', 'Spanning tree', 'Spectral theorem', 'Spectrum of a matrix', 'Substitution (logic)', 'Symmetric matrix', 'System of linear equations', 'Trace (linear algebra)', 'Transformation matrix', 'Transpose', 'Triangle inequality', 'Triangular matrix', 'Union (set theory)', 'Unit vector', 'Variable (mathematics)', 'Vector (mathematics and physics)', 'Vector notation', 'Vector space', 'Vectorization (mathematics)', 'Zero matrix', 'Characteristic polynomial', 'Eigenvalues and eigenvectors', 'General linear group', 'Identity matrix', 'Image (mathematics)', 'List of named matrices', 'Normed vector space', 'Orthogonal coordinates', 'Orthogonal matrix', 'Quadratic equation', 'Rotation matrix', 'Row and column vectors', 'Space (mathematics)', 'Split-complex number', 'Square matrix', 'Square root of a matrix', 'Subset', 'Unitary matrix', 'Cayley–Hamilton theorem', 'Coordinate system', 'Degree of a polynomial', 'Direct sum', 'Field (mathematics)', 'Function (mathematics)', 'Gram–Schmidt process', 'Inner product space', 'Invariant subspace', 'Inverse function', 'Linear equation', 'Minimal polynomial (linear algebra)', 'Minor (linear algebra)', 'Nilpotent matrix', 'Norm (mathematics)', 'Operator (mathematics)', 'Orthographic projection', 'Parallelogram law', 'Pauli matrices', 'Permutation', 'Polynomial', 'Projection (mathematics)', 'Root (disambiguation)', 'Sequence', 'Skew-symmetric matrix', 'Transformation (function)', 'Vandermonde matrix', 'Addition', 'Block matrix', 'Cartesian coordinate system', 'Eigenface', 'Heat equation', 'Inverse problem', 'Least squares', 'Linear regression', 'Multiplication', 'Multiplicative inverse', 'Pythagorean theorem', 'Random variable', 'Real number', 'Reflection (mathematics)', 'Series (mathematics)', 'Sign function', 'Standard basis', 'Volume', 'Multiset', 'Set theory']\n"
     ]
    }
   ],
   "source": [
    "print(common_concepts)"
   ]
  },
  {
   "cell_type": "code",
   "execution_count": null,
   "metadata": {},
   "outputs": [],
   "source": []
  }
 ],
 "metadata": {
  "kernelspec": {
   "display_name": "LD-inference",
   "language": "python",
   "name": "python3"
  },
  "language_info": {
   "codemirror_mode": {
    "name": "ipython",
    "version": 3
   },
   "file_extension": ".py",
   "mimetype": "text/x-python",
   "name": "python",
   "nbconvert_exporter": "python",
   "pygments_lexer": "ipython3",
   "version": "3.10.8"
  },
  "orig_nbformat": 4,
  "vscode": {
   "interpreter": {
    "hash": "2b3dd287303ef379cd3bfc1446cef400144e42385eabfb9b315f60147448249f"
   }
  }
 },
 "nbformat": 4,
 "nbformat_minor": 2
}

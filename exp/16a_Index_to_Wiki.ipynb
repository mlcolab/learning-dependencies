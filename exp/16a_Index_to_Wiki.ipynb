{
 "cells": [
  {
   "cell_type": "code",
   "execution_count": 19,
   "metadata": {},
   "outputs": [],
   "source": [
    "import os\n",
    "import pandas as pd\n",
    "from tqdm import tqdm\n",
    "from collections import Counter\n",
    "\n",
    "sys.path.append('../src/')\n",
    "import wiki_api\n",
    "#from importlib import reload\n",
    "#wiki_api = reload(wiki_api)"
   ]
  },
  {
   "cell_type": "code",
   "execution_count": 5,
   "metadata": {},
   "outputs": [],
   "source": [
    "path = \"../dat/index/\"\n",
    "\n",
    "def unique_sorted(pages):\n",
    "    pages = list(set(pages.split(\",\"))) # remove duplicates\n",
    "    pages = [p.strip() for p in pages]\n",
    "    while \"nan\" in pages: pages.remove(\"nan\")\n",
    "    pages.sort(key=int)\n",
    "    return \", \".join(pages)"
   ]
  },
  {
   "cell_type": "code",
   "execution_count": 6,
   "metadata": {},
   "outputs": [
    {
     "name": "stderr",
     "output_type": "stream",
     "text": [
      "100%|██████████| 237/237 [03:23<00:00,  1.16it/s]\n",
      "100%|██████████| 302/302 [04:13<00:00,  1.19it/s]\n",
      "100%|██████████| 638/638 [07:58<00:00,  1.33it/s]\n",
      "100%|██████████| 173/173 [02:20<00:00,  1.23it/s]\n",
      "100%|██████████| 462/462 [05:58<00:00,  1.29it/s]\n",
      "100%|██████████| 477/477 [05:48<00:00,  1.37it/s]\n"
     ]
    }
   ],
   "source": [
    "for book in os.listdir(path)[4:]:\n",
    "    index = pd.read_csv(path + book)\n",
    "    index.wiki_concept = [wiki_api.disambiguate(str(title), None, \"Mathematics\") for title in tqdm(index.concept)]\n",
    "    \n",
    "    index.pages = index.pages.apply(str) # to prepare join\n",
    "    wiki_index = index.groupby(\"wiki_concept\").agg({'pages': ', '.join})\n",
    "    wiki_index.pages = wiki_index.pages.apply(unique_sorted)\n",
    "    wiki_index.to_csv(\"../dat/index_by_wiki/\"+ book)"
   ]
  },
  {
   "attachments": {},
   "cell_type": "markdown",
   "metadata": {},
   "source": [
    "## Descriptive stats"
   ]
  },
  {
   "cell_type": "code",
   "execution_count": 13,
   "metadata": {},
   "outputs": [],
   "source": [
    "path = \"../dat/index_by_wiki/\"\n",
    "wiki_concepts = []\n",
    "for book in os.listdir(path):\n",
    "    index = pd.read_csv(path + book)\n",
    "    wiki_concepts.extend(index.wiki_concept)\n",
    "\n",
    "count = Counter(wiki_concepts)"
   ]
  },
  {
   "attachments": {},
   "cell_type": "markdown",
   "metadata": {},
   "source": [
    "Number of unique concepts"
   ]
  },
  {
   "cell_type": "code",
   "execution_count": 17,
   "metadata": {},
   "outputs": [
    {
     "data": {
      "text/plain": [
       "1469"
      ]
     },
     "execution_count": 17,
     "metadata": {},
     "output_type": "execute_result"
    }
   ],
   "source": [
    "len(count)"
   ]
  },
  {
   "attachments": {},
   "cell_type": "markdown",
   "metadata": {},
   "source": [
    "Concepts that appear in at least 4 books"
   ]
  },
  {
   "cell_type": "code",
   "execution_count": 15,
   "metadata": {},
   "outputs": [
    {
     "data": {
      "text/plain": [
       "175"
      ]
     },
     "execution_count": 15,
     "metadata": {},
     "output_type": "execute_result"
    }
   ],
   "source": [
    "common_concepts = [c for c in count if count[c]>=5]\n",
    "len(common_concepts)"
   ]
  },
  {
   "cell_type": "code",
   "execution_count": 16,
   "metadata": {},
   "outputs": [
    {
     "name": "stdout",
     "output_type": "stream",
     "text": [
      "['Absolute value', 'Adjoint', 'Adjugate matrix', 'Affine transformation', 'Basis (linear algebra)', 'Canonical form', 'Cauchy–Schwarz inequality', 'Change of basis', 'Closure (mathematics)', 'Coefficient', 'Complex conjugate', 'Complex conjugate root theorem', 'Complex number', 'Conjugate transpose', 'Consistency', 'Coordinate vector', \"Cramer's rule\", 'Cross product', 'Definite matrix', 'Determinant', 'Diagonal', 'Diagonal matrix', 'Diagonalizable group', 'Dimension', 'Dimension (vector space)', 'Diophantine equation', 'Distance', 'Distance matrix', 'Dot product', 'Dual space', 'Echelon formation', 'Eigendecomposition of a matrix', 'Eigenvalue algorithm', 'Elementary mathematics', 'Elementary matrix', 'Empty set', 'Equivalence relation', 'Euclidean vector', 'Function composition', 'Fundamental theorem of algebra', 'Gamma matrices', 'Gaussian elimination', 'Generalized inverse', 'Geometric transformation', 'Hermite normal form', 'Hyperplane', 'Intersection', 'Invariant (mathematics)', 'Invertible matrix', 'Isomorphism', 'Laplace expansion', 'Line (geometry)', 'Linear algebra', 'Linear combination', 'Linear independence', 'Linear map', 'Linear span', 'Linear subspace', 'Lorentz transformation', 'Mathematics', 'Matrix (mathematics)', 'Matrix addition', 'Matrix calculus', 'Matrix decomposition', 'Matrix exponential', 'Matrix multiplication', 'Matrix norm', 'Multiplicity (mathematics)', 'Null set', 'One-to-one (data model)', 'Orthogonal basis', 'Orthogonal complement', 'Orthogonal group', 'Orthogonality (mathematics)', 'Orthonormal basis', 'Outer product', 'Parallelepiped', 'Parameter', 'Permutation matrix', 'Perpendicular', 'Pivot element', 'Polynomial ring', 'Proper map', 'Quadratic formula', 'Rank (linear algebra)', 'Row and column spaces', 'Row equivalence', 'Scalar (mathematics)', 'Scalar multiplication', 'Set (mathematics)', 'Singular value', 'Spanning tree', 'Spectral theorem', 'Spectrum of a matrix', 'Substitution (logic)', 'Symmetric matrix', 'System of linear equations', 'Trace (linear algebra)', 'Transformation matrix', 'Transpose', 'Triangle inequality', 'Triangular matrix', 'Union (set theory)', 'Unit vector', 'Variable (mathematics)', 'Vector (mathematics and physics)', 'Vector notation', 'Vector space', 'Vectorization (mathematics)', 'Zero matrix', 'Characteristic polynomial', 'Eigenvalues and eigenvectors', 'General linear group', 'Identity matrix', 'Image (mathematics)', 'List of named matrices', 'Normed vector space', 'Orthogonal coordinates', 'Orthogonal matrix', 'Quadratic equation', 'Rotation matrix', 'Row and column vectors', 'Space (mathematics)', 'Split-complex number', 'Square matrix', 'Square root of a matrix', 'Subset', 'Unitary matrix', 'Cayley–Hamilton theorem', 'Coordinate system', 'Degree of a polynomial', 'Direct sum', 'Field (mathematics)', 'Function (mathematics)', 'Gram–Schmidt process', 'Inner product space', 'Invariant subspace', 'Inverse function', 'Linear equation', 'Minimal polynomial (linear algebra)', 'Minor (linear algebra)', 'Nilpotent matrix', 'Norm (mathematics)', 'Operator (mathematics)', 'Orthographic projection', 'Parallelogram law', 'Pauli matrices', 'Permutation', 'Polynomial', 'Projection (mathematics)', 'Root (disambiguation)', 'Sequence', 'Skew-symmetric matrix', 'Transformation (function)', 'Vandermonde matrix', 'Addition', 'Block matrix', 'Cartesian coordinate system', 'Eigenface', 'Heat equation', 'Inverse problem', 'Least squares', 'Linear regression', 'Multiplication', 'Multiplicative inverse', 'Pythagorean theorem', 'Random variable', 'Real number', 'Reflection (mathematics)', 'Series (mathematics)', 'Sign function', 'Standard basis', 'Volume', 'Multiset', 'Set theory']\n"
     ]
    }
   ],
   "source": [
    "print(common_concepts)"
   ]
  }
 ],
 "metadata": {
  "kernelspec": {
   "display_name": "LD-inference",
   "language": "python",
   "name": "python3"
  },
  "language_info": {
   "codemirror_mode": {
    "name": "ipython",
    "version": 3
   },
   "file_extension": ".py",
   "mimetype": "text/x-python",
   "name": "python",
   "nbconvert_exporter": "python",
   "pygments_lexer": "ipython3",
   "version": "3.10.8"
  },
  "orig_nbformat": 4,
  "vscode": {
   "interpreter": {
    "hash": "2b3dd287303ef379cd3bfc1446cef400144e42385eabfb9b315f60147448249f"
   }
  }
 },
 "nbformat": 4,
 "nbformat_minor": 2
}

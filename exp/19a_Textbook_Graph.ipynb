{
 "cells": [
  {
   "cell_type": "code",
   "execution_count": 8,
   "metadata": {},
   "outputs": [],
   "source": [
    "import pandas as pd\n",
    "import numpy as np"
   ]
  },
  {
   "cell_type": "code",
   "execution_count": 45,
   "metadata": {},
   "outputs": [],
   "source": [
    "PATH=\"../dat/textbooks/\"\n",
    "THRESHOLD = 2"
   ]
  },
  {
   "cell_type": "code",
   "execution_count": 18,
   "metadata": {},
   "outputs": [],
   "source": [
    "df_de3 = pd.read_json(PATH+\"de3.json\")\n",
    "adj_concepts = np.load(PATH+\"concepts.npy\")\n",
    "adj_matrix = np.load(PATH+\"adj.npy\")"
   ]
  },
  {
   "cell_type": "code",
   "execution_count": 47,
   "metadata": {},
   "outputs": [
    {
     "name": "stdout",
     "output_type": "stream",
     "text": [
      "450/6369 pruned\n"
     ]
    }
   ],
   "source": [
    "pruned = 0\n",
    "total_deps = 0\n",
    "for i, concept in enumerate(adj_concepts):\n",
    "    delete_deps = set(adj_concepts[adj_matrix[i,:]<=10-THRESHOLD])\n",
    "    proposed_deps = [d[3] for d in df_de3.loc[df_de3.concept==concept].iloc[0].dep_articles]\n",
    "    pruned_deps = set(proposed_deps).intersection(delete_deps)\n",
    "    total_deps += len(proposed_deps)\n",
    "    if len(pruned_deps):\n",
    "        pruned += len(pruned_deps)\n",
    "        #print(f\"on {concept} pruning \" + str(pruned_deps)\n",
    "        \n",
    "print(f\"{pruned}/{total_deps} are to be pruned\")"
   ]
  },
  {
   "cell_type": "code",
   "execution_count": 63,
   "metadata": {},
   "outputs": [],
   "source": [
    "def prune_deps(concept, deps):\n",
    "    i = np.where(adj_concepts==concept)[0][0]\n",
    "    delete_deps = set(adj_concepts[adj_matrix[i,:]<=10-THRESHOLD])\n",
    "    return list(set(deps).difference(delete_deps))\n",
    "    "
   ]
  },
  {
   "cell_type": "code",
   "execution_count": 64,
   "metadata": {},
   "outputs": [],
   "source": [
    "df_concepts = df_de3.copy()\n",
    "df_concepts.dep_articles = df_concepts.apply(lambda r: prune_deps(r['concept'], [d[3] for d in r['dep_articles']]), axis=1)"
   ]
  },
  {
   "cell_type": "code",
   "execution_count": 66,
   "metadata": {},
   "outputs": [],
   "source": [
    "df_concepts.to_json(PATH+\"graph.json\")\n",
    "df_concepts.to_csv(PATH+\"df_concepts.csv\",index=False)"
   ]
  }
 ],
 "metadata": {
  "kernelspec": {
   "display_name": "LD-inference",
   "language": "python",
   "name": "python3"
  },
  "language_info": {
   "codemirror_mode": {
    "name": "ipython",
    "version": 3
   },
   "file_extension": ".py",
   "mimetype": "text/x-python",
   "name": "python",
   "nbconvert_exporter": "python",
   "pygments_lexer": "ipython3",
   "version": "3.10.8"
  },
  "orig_nbformat": 4,
  "vscode": {
   "interpreter": {
    "hash": "2b3dd287303ef379cd3bfc1446cef400144e42385eabfb9b315f60147448249f"
   }
  }
 },
 "nbformat": 4,
 "nbformat_minor": 2
}

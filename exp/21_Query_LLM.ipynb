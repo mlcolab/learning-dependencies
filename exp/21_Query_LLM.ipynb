{
 "cells": [
  {
   "cell_type": "code",
   "execution_count": 2,
   "metadata": {},
   "outputs": [],
   "source": [
    "import requests\n",
    "import sys\n",
    "sys.path.append('../src/')\n",
    "import wiki_api\n",
    "import data_layer\n",
    "import json\n",
    "import numpy as np"
   ]
  },
  {
   "cell_type": "code",
   "execution_count": 3,
   "metadata": {},
   "outputs": [],
   "source": [
    "host = \"localhost\"\n",
    "port = \"8100\""
   ]
  },
  {
   "cell_type": "code",
   "execution_count": 4,
   "metadata": {},
   "outputs": [],
   "source": [
    "def get_answer(prompt):\n",
    "    url = f\"http://{host}:{port}?prompt={prompt}\"\n",
    "    response = requests.request(\"GET\", url)\n",
    "    result = json.loads(response.text)\n",
    "    return result['response'] #.replace(\"<pad> \",\"\").replace(\"</s>\", \"\")"
   ]
  },
  {
   "cell_type": "code",
   "execution_count": 70,
   "metadata": {},
   "outputs": [],
   "source": [
    "import requests\n",
    "from bs4 import BeautifulSoup\n",
    "import re\n",
    "def get_first_paragraph(title):\n",
    "    url = \"https://en.wikipedia.org/wiki/\" + str(title).replace(\" \", \"_\")\n",
    "    soup = BeautifulSoup(requests.get(url).text, 'html.parser')\n",
    "    for elem in soup.find_all(class_='mw-indicators'): # for good articles\n",
    "        elem.decompose()\n",
    "\n",
    "    summ = soup.find(class_='mw-parser-output') # Find the element or elements that contain the summary\n",
    "\n",
    "    # cleaning of thumbnails, shortdescriptions, hatnotes and style tags\n",
    "    to_clean_divs = summ.find_all('div', class_='thumb tright') + summ.find_all('div', class_=['shortdescription','hatnote']) + summ.find_all('style') + summ.find_all('link') + summ.find_all('table', class_=['metadata','sidebar']) + summ.find_all('p', 'mw-empty-elt')\n",
    "    for div in to_clean_divs:\n",
    "        div.decompose()\n",
    "\n",
    "    cutoff_div = summ.find(id='toc') # Find the div element with the id \"toc\"\n",
    "    if cutoff_div is None:\n",
    "        cutoff_div = summ.find('h2')\n",
    "        if cutoff_div is None:\n",
    "            print(\" unexpected page content on \"+ url)\n",
    "            return None\n",
    "   \n",
    "    if 'toc' in cutoff_div.parent.get('class')[0]: cutoff_div = cutoff_div.parent\n",
    "    preceding_elements = cutoff_div.find_previous_siblings()\n",
    "    \n",
    "    return list(reversed(preceding_elements))[0].text.replace(\"\\n\",\"\")"
   ]
  },
  {
   "cell_type": "code",
   "execution_count": 73,
   "metadata": {},
   "outputs": [
    {
     "data": {
      "text/plain": [
       "\"In mathematics, especially functional analysis, Bessel's inequality is a statement about the coefficients of an element x{\\\\displaystyle x}  in a Hilbert space with respect to an orthonormal sequence. The inequality was derived by F.W. Bessel in 1828.[1]\""
      ]
     },
     "execution_count": 73,
     "metadata": {},
     "output_type": "execute_result"
    }
   ],
   "source": [
    "get_first_paragraph(\"Bessel's inequality\")"
   ]
  },
  {
   "attachments": {},
   "cell_type": "markdown",
   "metadata": {},
   "source": [
    "## GALATICA OUTPUT"
   ]
  },
  {
   "cell_type": "code",
   "execution_count": 7,
   "metadata": {},
   "outputs": [
    {
     "data": {
      "text/plain": [
       "['This is a list of mathematical concepts that are required to define matrix:\\n\\n* Set\\n* Function\\n* Cartesian product\\n* Cartesian product of sets\\n* Cartesian product of functions\\n* Cartesian']"
      ]
     },
     "execution_count": 7,
     "metadata": {},
     "output_type": "execute_result"
    }
   ],
   "source": [
    "get_answer(f\"This is a list of mathematical concepts that are required to define matrix:\\n\")"
   ]
  },
  {
   "cell_type": "code",
   "execution_count": 8,
   "metadata": {},
   "outputs": [
    {
     "data": {
      "text/plain": [
       "['Brief definition of matrix:\\n\\nA matrix is a rectangular array of numbers, symbols, or expressions arranged in rows and columns.\\n\\n# 2.2.1.1 Matrix Addition']"
      ]
     },
     "execution_count": 8,
     "metadata": {},
     "output_type": "execute_result"
    }
   ],
   "source": [
    "get_answer(f\"Brief definition of matrix:\\n\")"
   ]
  },
  {
   "cell_type": "code",
   "execution_count": 10,
   "metadata": {},
   "outputs": [
    {
     "data": {
      "text/plain": [
       "['A matrix is a rectangular array of numbers, symbols, or expressions arranged in rows and columns.\\n\\nQ:What are the mathematical objects used in the above definition?\\n\\nA:Numbers']"
      ]
     },
     "execution_count": 10,
     "metadata": {},
     "output_type": "execute_result"
    }
   ],
   "source": [
    "get_answer(f\"A matrix is a rectangular array of numbers, symbols, or expressions arranged in rows and columns.\\n\\nQ:What are the mathematical objects used in the above definition?\\n\\nA:\")"
   ]
  },
  {
   "cell_type": "code",
   "execution_count": 19,
   "metadata": {},
   "outputs": [
    {
     "data": {
      "text/plain": [
       "['Brief definition of hyperplane:\\n\\nA hyperplane is a set of points in a vector space that are equidistant from a given point.\\n\\n\\nAnswer:\\n\\nA hyperplane is a subspace of']"
      ]
     },
     "execution_count": 19,
     "metadata": {},
     "output_type": "execute_result"
    }
   ],
   "source": [
    "get_answer(f\"Brief definition of hyperplane:\\n\")"
   ]
  },
  {
   "cell_type": "code",
   "execution_count": 22,
   "metadata": {},
   "outputs": [
    {
     "data": {
      "text/plain": [
       "[\"A hyperplane is a set of points in a vector space that are equidistant from a given point.\\n\\nQ: What three objects are mentioned in the abstract above?\\n\\nA:'Vector space\"]"
      ]
     },
     "execution_count": 22,
     "metadata": {},
     "output_type": "execute_result"
    }
   ],
   "source": [
    "get_answer(f\"A hyperplane is a set of points in a vector space that are equidistant from a given point.\\n\\nQ: What three objects are mentioned in the abstract above?\\n\\nA:'\")"
   ]
  },
  {
   "cell_type": "code",
   "execution_count": 25,
   "metadata": {},
   "outputs": [
    {
     "data": {
      "text/plain": [
       "['This is a list of concepts in the definition of Convex set:\\n\\n* \\\\(\\\\forall x,y\\\\in S:\\\\forall \\\\lambda \\\\in [0,']"
      ]
     },
     "execution_count": 25,
     "metadata": {},
     "output_type": "execute_result"
    }
   ],
   "source": [
    "get_answer(f\"This is a list of concepts in the definition of Convex set:\\n\\n\")"
   ]
  },
  {
   "cell_type": "code",
   "execution_count": null,
   "metadata": {},
   "outputs": [],
   "source": []
  },
  {
   "cell_type": "code",
   "execution_count": 66,
   "metadata": {},
   "outputs": [],
   "source": [
    "indices, wiki_concepts = data_layer.read_index_and_wiki_concepts()"
   ]
  },
  {
   "cell_type": "code",
   "execution_count": 99,
   "metadata": {},
   "outputs": [
    {
     "name": "stdout",
     "output_type": "stream",
     "text": [
      "CONCEPT: Boundary value problem\n",
      "['In mathematics, in the field of differential equations, a boundary value problem is a differential equation together with a set of additional constraints, called the boundary conditions.[1] A solution to a boundary value problem is a solution to the differential equation which also satisfies the boundary conditions.\\n\\nQ: What mathematical concepts are mentioned in the abstract above?\\n\\nA: differential equations, boundary value problem']\n",
      "CONCEPT: Minimal polynomial (linear algebra)\n",
      "['In linear algebra, the minimal polynomial μA of an n × n matrix A over a field F is the monic polynomial P over F of least degree such that P(A) = 0.  Any other polynomial Q with Q(A) = 0 is a (polynomial) multiple of μA.\\n\\nQ: What mathematical concepts are mentioned in the abstract above?\\n\\nA: Polynomials, matrices, fields']\n",
      "CONCEPT: Linear function (calculus)\n",
      "['In calculus and related areas of mathematics, a linear function from the real numbers to the real numbers is a function whose graph (in Cartesian coordinates) is a non-vertical line in the plane.[1]  The characteristic property of linear functions is that when the input variable is changed, the change in the output is proportional to the change in the input.\\n\\nQ: What mathematical concepts are mentioned in the abstract above?\\n\\nA: calculus, real numbers, function']\n",
      "CONCEPT: Axiom of empty set\n",
      "['In axiomatic set theory, the axiom of empty set is a statement that asserts the existence of a set with no elements. It is an axiom of Kripke–Platek set theory and the variant of general set theory that Burgess (2005) calls \"ST,\" and a demonstrable truth in Zermelo set theory and Zermelo–Fraenkel set theory, with or without the axiom of choice.[1]\\n\\nQ: What mathematical concepts are mentioned in the abstract above?\\n\\nA: Axiomatic set theory, empty set, axiom of choice']\n",
      "CONCEPT: Right inverse\n",
      "['A right inverse in mathematics may refer to:\\n\\nQ: What mathematical concepts are mentioned in the abstract above?\\n\\nA: right inverse, left inverse, inverse, inverse function, inverse matrix, inverse relation, inverse semigroup, inverse semigroup action, inverse semigroup homomorphism, inverse semigroup isomorphism, inverse semigroup, inverse semigroup']\n",
      "CONCEPT: Factoring\n",
      "['Look up factoring in Wiktionary, the free dictionary.\\n\\nQ: What mathematical concepts are mentioned in the abstract above?\\n\\nA: factoring, polynomial']\n",
      "CONCEPT: Matrix congruence\n",
      "['In mathematics, two square matrices A and B over a field are called congruent if there exists an invertible matrix P  over the same field such that \\n\\nQ: What mathematical concepts are mentioned in the abstract above?\\n\\nA: matrices, field, invertible matrix, congruent']\n",
      "CONCEPT: Quadratic formula\n",
      "['In elementary algebra, the quadratic formula is a formula that provides the solution(s) to a quadratic equation. There are other ways of solving a quadratic equation instead of using the quadratic formula, such as factoring (direct factoring, grouping, AC method), completing the square, graphing and others.\\n\\nQ: What mathematical concepts are mentioned in the abstract above?\\n\\nA: quadratic equation, quadratic formula']\n",
      "CONCEPT: System of linear equations\n",
      "['In mathematics, a system of linear equations (or linear system) is a collection of one or more linear equations involving the same variables.[1][2][3][4][5]\\n\\nQ: What mathematical concepts are mentioned in the abstract above?\\n\\nA: linear equations, variables, linear system']\n",
      "CONCEPT: Coefficient matrix\n",
      "['In linear algebra, a coefficient matrix is a matrix consisting of the coefficients of the variables in a set of linear equations. The matrix is used in solving systems of linear equations.\\n\\nQ: What mathematical concepts are mentioned in the abstract above?\\n\\nA: linear algebra']\n",
      "CONCEPT: Least-squares adjustment\n",
      "['Least-squares adjustment is a model for the solution of an overdetermined system of equations based on the principle of least squares of observation residuals. It is used extensively in the disciplines of surveying, geodesy, and photogrammetry—the field of geomatics, collectively.\\n\\nQ: What mathematical concepts are mentioned in the abstract above?\\n\\nA: least-squares adjustment, overdetermined system of equations, least squares']\n",
      "CONCEPT: Complexification\n",
      "['In mathematics, the complexification of a vector space V over the field of real numbers (a \"real vector space\") yields a vector space VC over the complex number field, obtained by formally extending the scaling of vectors by real numbers to include their scaling (\"multiplication\") by complex numbers. Any basis for V (a space over the real numbers) may also serve as a basis for VC over the complex numbers.\\n\\nQ: What mathematical concepts are mentioned in the abstract above?\\n\\nA: vector space, real number, complex number']\n",
      "CONCEPT: System of differential equations\n",
      "['In mathematics, a system of differential equations is a finite set of differential equations. Such a system can be either linear or non-linear. Also, such a system can be either a system of ordinary differential equations or a system of partial differential equations.\\n\\nQ: What mathematical concepts are mentioned in the abstract above?\\n\\nA: differential equations']\n",
      "CONCEPT: Radical of an integer\n",
      "['In number theory, the radical of a positive integer n is defined as the product of the distinct prime numbers dividing n. Each prime factor of n occurs exactly once as a factor of this product:\\n\\nQ: What mathematical concepts are mentioned in the abstract above?\\n\\nA: prime number, integer, product, factor']\n",
      "CONCEPT: Consistency\n",
      "['In classical deductive logic, a consistent theory is one that does not lead to a logical contradiction.[1] The lack of contradiction can be defined in either semantic or syntactic terms. The semantic definition states that a theory is consistent if it has a model, i.e., there exists an interpretation under which all formulas in the theory are true. This is the sense used in traditional Aristotelian logic, although in contemporary mathematical logic the term satisfiable is used instead. The syntactic definition states a theory T{\\\\displaystyle T} is consistent if there is no formula φ{\\\\displaystyle \\\\varphi } such that both φ{\\\\displaystyle \\\\varphi } and its negation ¬φ{\\\\displaystyle \\\\lnot \\\\varphi } are elements of the set of consequences of T{\\\\displaystyle T}. Let A{\\\\displaystyle A} be a set of closed sentences (informally \"axioms\") and ⟨A⟩{\\\\displaystyle \\\\langle A\\\\rangle } the set of closed sentences provable from A{\\\\displaystyle A} under some (specified, possibly implicitly) formal deductive system. The set of axioms A{\\\\displaystyle A} is consistent when φ,¬φ∈⟨A⟩{\\\\displaystyle \\\\varphi,\\\\lnot \\\\varphi \\\\in \\\\langle A\\\\rangle } for no formula φ{\\\\displaystyle \\\\varphi }.[2]\\n\\nQ: What mathematical concepts are mentioned in the abstract above?\\n\\nA: ded']\n",
      "CONCEPT: Transpose\n",
      "['In linear algebra,  the transpose of a matrix is an operator which flips a matrix over its diagonal; that is, it switches the row and column indices of the matrix A by producing another matrix, often denoted by AT (among other notations).[1]\\n\\nQ: What mathematical concepts are mentioned in the abstract above?\\n\\nA: linear algebra, transpose']\n",
      "CONCEPT: Convex set\n",
      "['In geometry, a subset of a Euclidean space, or more generally an affine space over the reals, is convex if, given any two points in the subset, the subset contains the whole line segment that joins them. Equivalently, a convex set or a convex region is a subset that intersects every line into a single line segment (possibly empty).[1][2]For example, a solid cube is a convex set, but anything that is hollow or has an indent, for example, a crescent shape, is not convex.\\n\\nQ: What mathematical concepts are mentioned in the abstract above?\\n\\nA: convex set, convex region, line segment']\n",
      "CONCEPT: Square root of 2\n",
      "['Square root of 2The square root of 2 is equal to the length of the hypotenuse of an isosceles right triangle with legs of length 1.RepresentationsDecimal1.4142135623730950488...Continued fraction1 12 12 12 12 ⋱{\\\\displaystyle 1 {\\\\cfrac {1}{2 {\\\\cfrac {1}{2 {\\\\cfrac {1}{2 {\\\\cfrac {1}{2 \\\\ddots }}}}}}}}}Binary1.01101010000010011110...Hexadecimal1.6A09E667F3BCC908B2F...\\n\\nQ: What mathematical concepts are mentioned in the abstract above?\\n\\nA: Continued fraction, binary, hexadecimal, isosceles right triangle, hypotenuse']\n",
      "CONCEPT: Curve\n",
      "['In mathematics, a curve (also called a curved line in older texts) is an object similar to a line, but that does not have to be straight.\\n\\nQ: What mathematical concepts are mentioned in the abstract above?\\n\\nA: line, curve, curved line']\n",
      "CONCEPT: Apsis\n",
      "[\"An apsis (from Ancient Greek  ἁψίς (hapsís) 'arch, vault'; pl. apsides /ˈæpsɪˌdiːz/ AP-sih-deez)[1][2] is the farthest or nearest point in the orbit of a planetary body about its primary body. For example, the apsides of the Sun are called the aphelion and perihelion.\\n\\nQ: What mathematical concepts are mentioned in the abstract above?\\n\\nA: apsis, orbit\"]\n"
     ]
    }
   ],
   "source": [
    "for concept in np.random.choice(wiki_concepts, 20):\n",
    "    print(\"CONCEPT: \" + concept)\n",
    "    context = get_first_paragraph(concept)\n",
    "    #response = get_answer(f\"Context: {context}. What concepts in this text are crucial to understand {concept}?\")\n",
    "    response = get_answer(f\"{context}\\n\\nQ: What mathematical concepts are mentioned in the abstract above?\\n\\nA:\")\n",
    "    #deps = list(map(lambda x: x.strip(), response.split(\",\")))\n",
    "    print(response)\n",
    "    #print(deps)"
   ]
  },
  {
   "attachments": {},
   "cell_type": "markdown",
   "metadata": {},
   "source": [
    "## T0PP"
   ]
  },
  {
   "cell_type": "code",
   "execution_count": 64,
   "metadata": {},
   "outputs": [],
   "source": [
    "def get_answer(prompt):\n",
    "    url = f\"http://{host}:{port}?prompt={prompt}\"\n",
    "    response = requests.request(\"GET\", url)\n",
    "    result = json.loads(response.text)\n",
    "    return result['response'].replace(\"<pad> \",\"\").replace(\"</s>\", \"\")"
   ]
  },
  {
   "cell_type": "code",
   "execution_count": 52,
   "metadata": {},
   "outputs": [
    {
     "data": {
      "text/plain": [
       "'<pad> A hyperplane is a plane in three-dimensional space that is perpendicular to all other planes and tangent to all other lines.</s>'"
      ]
     },
     "execution_count": 52,
     "metadata": {},
     "output_type": "execute_result"
    }
   ],
   "source": [
    "get_answer(f\"Simple definition of a hyperplane:\")"
   ]
  },
  {
   "cell_type": "code",
   "execution_count": 53,
   "metadata": {},
   "outputs": [
    {
     "data": {
      "text/plain": [
       "'<pad> plane, line, space</s>'"
      ]
     },
     "execution_count": 53,
     "metadata": {},
     "output_type": "execute_result"
    }
   ],
   "source": [
    "get_answer(f\"What mathematical concepts are mentioned here? A hyperplane is a plane in three-dimensional space that is perpendicular to all other planes and tangent to all other lines.\")"
   ]
  },
  {
   "cell_type": "code",
   "execution_count": 57,
   "metadata": {},
   "outputs": [
    {
     "data": {
      "text/plain": [
       "'<pad> a two-dimensional array of elements</s>'"
      ]
     },
     "execution_count": 57,
     "metadata": {},
     "output_type": "execute_result"
    }
   ],
   "source": [
    "get_answer(f\"In mathematics, what is matrix?\")"
   ]
  },
  {
   "cell_type": "code",
   "execution_count": 74,
   "metadata": {},
   "outputs": [
    {
     "data": {
      "text/plain": [
       "'A kernel is a function that maps a real number to another real number.'"
      ]
     },
     "execution_count": 74,
     "metadata": {},
     "output_type": "execute_result"
    }
   ],
   "source": [
    "get_answer(f\"Give me a detailled definition of Kernel (algebra)\")"
   ]
  },
  {
   "cell_type": "code",
   "execution_count": 62,
   "metadata": {},
   "outputs": [
    {
     "data": {
      "text/plain": [
       "'<pad> matrix transpose is a matrix operation that transposes a matrix into its identity matrix.</s>'"
      ]
     },
     "execution_count": 62,
     "metadata": {},
     "output_type": "execute_result"
    }
   ],
   "source": [
    "get_answer(f\"In linear algebra, what is matrix transpose?\")"
   ]
  },
  {
   "cell_type": "code",
   "execution_count": 63,
   "metadata": {},
   "outputs": [
    {
     "data": {
      "text/plain": [
       "'<pad> Berlin</s>'"
      ]
     },
     "execution_count": 63,
     "metadata": {},
     "output_type": "execute_result"
    }
   ],
   "source": [
    "get_answer(f\"Germany // Berlin\\nFrance // Paris\\nRussia // Moscow\\nItaly - Rome\\n USA //\")"
   ]
  },
  {
   "cell_type": "code",
   "execution_count": 174,
   "metadata": {},
   "outputs": [
    {
     "name": "stdout",
     "output_type": "stream",
     "text": [
      "0\n",
      "5\n",
      "10\n",
      "15\n",
      "20\n",
      "25\n",
      "30\n",
      "35\n",
      "40\n",
      "45\n",
      "50\n",
      "55\n",
      "60\n",
      "65\n",
      "70\n",
      "75\n",
      "80\n",
      "85\n",
      "90\n",
      "95\n",
      "100\n",
      "105\n",
      "110\n",
      "115\n",
      "120\n",
      "125\n",
      "130\n",
      "135\n",
      "140\n",
      "145\n",
      "150\n",
      "155\n",
      "160\n",
      "165\n",
      "170\n",
      "175\n",
      "180\n",
      "185\n",
      "190\n",
      "195\n",
      "200\n",
      "205\n",
      "210\n",
      "215\n",
      "220\n",
      "225\n",
      "230\n",
      "235\n",
      "240\n",
      "245\n",
      "250\n",
      "255\n",
      "260\n",
      "265\n",
      "270\n",
      "275\n",
      "280\n",
      "285\n",
      "290\n",
      "295\n",
      "300\n",
      "305\n",
      "310\n",
      "315\n",
      "320\n",
      "325\n",
      "330\n",
      "335\n",
      "340\n",
      "345\n",
      "350\n",
      "355\n",
      "360\n",
      "365\n",
      "370\n",
      "375\n",
      "380\n",
      "385\n",
      "390\n",
      "395\n",
      "400\n",
      "405\n",
      "410\n",
      "415\n",
      "420\n",
      "425\n",
      "430\n",
      "435\n",
      "440\n",
      "445\n",
      "450\n",
      "455\n",
      "460\n",
      "465\n",
      "470\n",
      "475\n",
      "480\n",
      "485\n",
      "490\n",
      "495\n",
      "500\n",
      "505\n",
      "510\n",
      "515\n",
      "520\n",
      "525\n",
      "530\n",
      "535\n",
      "540\n",
      "545\n",
      "550\n",
      "555\n",
      "560\n",
      "565\n",
      "570\n",
      "575\n",
      "580\n",
      "585\n",
      "590\n",
      "595\n",
      "600\n",
      "605\n",
      "610\n",
      "615\n",
      "620\n",
      "625\n",
      "630\n",
      "635\n",
      "640\n",
      "645\n",
      "650\n",
      "655\n",
      "660\n",
      "665\n",
      "670\n",
      "675\n",
      "680\n",
      "685\n",
      "690\n",
      "695\n",
      "700\n",
      "705\n",
      "710\n",
      "715\n",
      "720\n",
      "725\n",
      "730\n",
      "735\n",
      "740\n",
      "745\n",
      "750\n",
      "755\n",
      "760\n",
      "765\n",
      "770\n",
      "775\n",
      "780\n",
      "785\n",
      "790\n",
      "795\n",
      "800\n",
      "805\n",
      "810\n",
      "815\n",
      "820\n",
      "825\n",
      "830\n",
      "835\n",
      "840\n",
      "845\n",
      "850\n",
      "855\n",
      "860\n",
      "865\n",
      "870\n",
      "875\n",
      "880\n",
      "885\n",
      "890\n",
      "895\n",
      "900\n",
      "905\n",
      "910\n",
      "915\n",
      "920\n",
      "925\n",
      "930\n",
      "935\n",
      "940\n",
      "945\n",
      "950\n",
      "955\n",
      "960\n",
      "965\n",
      "970\n",
      "975\n",
      "980\n",
      "985\n",
      "990\n",
      "995\n",
      "1000\n",
      "1005\n",
      "1010\n",
      "1015\n",
      "1020\n",
      "1025\n",
      "1030\n",
      "1035\n",
      "1040\n",
      "1045\n",
      "1050\n",
      "1055\n",
      "1060\n",
      "1065\n",
      "1070\n",
      "1075\n",
      "1080\n",
      "1085\n",
      "1090\n",
      "1095\n",
      "1100\n",
      "1105\n",
      "1110\n",
      "1115\n",
      "1120\n",
      "1125\n",
      "1130\n",
      "1135\n",
      "1140\n",
      "1145\n",
      "1150\n",
      "1155\n",
      "1160\n",
      "1165\n",
      "1170\n",
      "1175\n",
      "1180\n",
      "1185\n",
      "1190\n",
      "1195\n",
      "1200\n",
      "1205\n",
      "1210\n",
      "1215\n",
      "1220\n",
      "1225\n",
      "1230\n",
      "1235\n",
      "1240\n",
      "1245\n",
      "1250\n",
      "1255\n",
      "1260\n",
      "1265\n",
      "1270\n",
      "1275\n",
      "1280\n",
      "1285\n",
      "1290\n",
      "1295\n",
      "1300\n"
     ]
    }
   ],
   "source": [
    "import pandas as pd\n",
    "def get_deps(i, concept):\n",
    "    if i % 5 == 0: print(i)\n",
    "    definition = get_answer(f\"What is the mathematical definition of {concept}?\")\n",
    "    response = get_answer(f\"What mathematical concepts are mentioned here: {definition}\")\n",
    "    deps = list(map(lambda x: x.strip(), response.split(\",\")))\n",
    "    return deps\n",
    "\n",
    "#concepts = np.random.choice(wiki_concepts, 100)\n",
    "deps = [get_deps(i, concept) for i, concept in enumerate(wiki_concepts)]\n",
    "df_concepts = pd.DataFrame({\"concept\": wiki_concepts, \"deps\": deps})\n",
    "#df_concepts.to_csv(\"../dat/wiki/t0pp_output.csv\")"
   ]
  },
  {
   "cell_type": "code",
   "execution_count": 175,
   "metadata": {},
   "outputs": [
    {
     "data": {
      "text/html": [
       "<div>\n",
       "<style scoped>\n",
       "    .dataframe tbody tr th:only-of-type {\n",
       "        vertical-align: middle;\n",
       "    }\n",
       "\n",
       "    .dataframe tbody tr th {\n",
       "        vertical-align: top;\n",
       "    }\n",
       "\n",
       "    .dataframe thead th {\n",
       "        text-align: right;\n",
       "    }\n",
       "</style>\n",
       "<table border=\"1\" class=\"dataframe\">\n",
       "  <thead>\n",
       "    <tr style=\"text-align: right;\">\n",
       "      <th></th>\n",
       "      <th>concept</th>\n",
       "      <th>deps</th>\n",
       "      <th>search_results</th>\n",
       "    </tr>\n",
       "  </thead>\n",
       "  <tbody>\n",
       "    <tr>\n",
       "      <th>0</th>\n",
       "      <td>Vector projection</td>\n",
       "      <td>[vector, plane, projection]</td>\n",
       "      <td>[[Vector (mathematics and physics), Vectorizat...</td>\n",
       "    </tr>\n",
       "    <tr>\n",
       "      <th>1</th>\n",
       "      <td>Affine symmetric group</td>\n",
       "      <td>[group, element, symmetry]</td>\n",
       "      <td>[[Group (mathematics), Mathematics, Gauge grou...</td>\n",
       "    </tr>\n",
       "    <tr>\n",
       "      <th>2</th>\n",
       "      <td>Ideal point</td>\n",
       "      <td>[polynomial, solution, point]</td>\n",
       "      <td>[[Polynomial, Homogeneous polynomial, Chebyshe...</td>\n",
       "    </tr>\n",
       "    <tr>\n",
       "      <th>3</th>\n",
       "      <td>Probability theory</td>\n",
       "      <td>[probability theory, statistical inference]</td>\n",
       "      <td>[[Probability theory, Probability, Probability...</td>\n",
       "    </tr>\n",
       "    <tr>\n",
       "      <th>4</th>\n",
       "      <td>Trajectory</td>\n",
       "      <td>[path, body, follow]</td>\n",
       "      <td>[[Path (topology), Hamiltonian path, Mathemati...</td>\n",
       "    </tr>\n",
       "    <tr>\n",
       "      <th>...</th>\n",
       "      <td>...</td>\n",
       "      <td>...</td>\n",
       "      <td>...</td>\n",
       "    </tr>\n",
       "    <tr>\n",
       "      <th>1298</th>\n",
       "      <td>Standard error</td>\n",
       "      <td>[a measure of the variability of a measurement]</td>\n",
       "      <td>[[Statistical dispersion, Coefficient of varia...</td>\n",
       "    </tr>\n",
       "    <tr>\n",
       "      <th>1299</th>\n",
       "      <td>Matrix decomposition</td>\n",
       "      <td>[vector, matrix, collection]</td>\n",
       "      <td>[[Vector (mathematics and physics), Vectorizat...</td>\n",
       "    </tr>\n",
       "    <tr>\n",
       "      <th>1300</th>\n",
       "      <td>Dimension</td>\n",
       "      <td>[measure, distance, time]</td>\n",
       "      <td>[[Measure (mathematics), Mathematics, Measure,...</td>\n",
       "    </tr>\n",
       "    <tr>\n",
       "      <th>1301</th>\n",
       "      <td>Orthogonality</td>\n",
       "      <td>[line, segment, perpendicular]</td>\n",
       "      <td>[[Line (geometry), Mathematics, Phase line (ma...</td>\n",
       "    </tr>\n",
       "    <tr>\n",
       "      <th>1302</th>\n",
       "      <td>Multilinear</td>\n",
       "      <td>[nonlinear function]</td>\n",
       "      <td>[[Nonlinear system, Nonlinear programming, Act...</td>\n",
       "    </tr>\n",
       "  </tbody>\n",
       "</table>\n",
       "<p>1303 rows × 3 columns</p>\n",
       "</div>"
      ],
      "text/plain": [
       "                     concept                                             deps  \\\n",
       "0          Vector projection                      [vector, plane, projection]   \n",
       "1     Affine symmetric group                       [group, element, symmetry]   \n",
       "2                Ideal point                    [polynomial, solution, point]   \n",
       "3         Probability theory      [probability theory, statistical inference]   \n",
       "4                 Trajectory                             [path, body, follow]   \n",
       "...                      ...                                              ...   \n",
       "1298          Standard error  [a measure of the variability of a measurement]   \n",
       "1299    Matrix decomposition                     [vector, matrix, collection]   \n",
       "1300               Dimension                        [measure, distance, time]   \n",
       "1301           Orthogonality                   [line, segment, perpendicular]   \n",
       "1302             Multilinear                             [nonlinear function]   \n",
       "\n",
       "                                         search_results  \n",
       "0     [[Vector (mathematics and physics), Vectorizat...  \n",
       "1     [[Group (mathematics), Mathematics, Gauge grou...  \n",
       "2     [[Polynomial, Homogeneous polynomial, Chebyshe...  \n",
       "3     [[Probability theory, Probability, Probability...  \n",
       "4     [[Path (topology), Hamiltonian path, Mathemati...  \n",
       "...                                                 ...  \n",
       "1298  [[Statistical dispersion, Coefficient of varia...  \n",
       "1299  [[Vector (mathematics and physics), Vectorizat...  \n",
       "1300  [[Measure (mathematics), Mathematics, Measure,...  \n",
       "1301  [[Line (geometry), Mathematics, Phase line (ma...  \n",
       "1302  [[Nonlinear system, Nonlinear programming, Act...  \n",
       "\n",
       "[1303 rows x 3 columns]"
      ]
     },
     "execution_count": 175,
     "metadata": {},
     "output_type": "execute_result"
    }
   ],
   "source": [
    "import wikipedia\n",
    "df_concepts['search_results'] = [[wikipedia.search(f\"{dep} (mathematics)\") for dep in deps] for deps in df_concepts.deps.values]\n",
    "df_concepts"
   ]
  },
  {
   "cell_type": "code",
   "execution_count": 176,
   "metadata": {},
   "outputs": [],
   "source": [
    "import re\n",
    "\n",
    "def strip_parenthesis(title):\n",
    "    return re.sub(r'\\([^)]*\\)', '', title).strip()\n",
    "\n",
    "df_concepts['stripped_search'] = [[list(map(strip_parenthesis, titles)) for titles in results] for results in df_concepts.search_results]\n",
    "\n",
    "import Levenshtein\n",
    "\n",
    "df_concepts['dists'] = [[list(map(lambda x: Levenshtein.distance(dep, x.lower()), titles)) for dep, titles in zip(deps, results)] for deps, results in zip(df_concepts.deps, df_concepts.stripped_search)]"
   ]
  },
  {
   "cell_type": "code",
   "execution_count": 177,
   "metadata": {},
   "outputs": [],
   "source": [
    "import wikipediaapi\n",
    "wiki_wiki = wikipediaapi.Wikipedia('en')\n",
    "\n",
    "def get_page(title):\n",
    "    try:\n",
    "        page = wiki_wiki.page(title)\n",
    "        return page\n",
    "    except wikipedia.exceptions.DisambiguationError:\n",
    "        print(\"Could not disambiguate: \" + title)\n",
    "    except wikipedia.exceptions.PageError:\n",
    "        print(\"Could not find page: \" + title)\n",
    "\n",
    "def is_disambiguation(page):\n",
    "    return page.summary[0:50].find(\"refer\") != -1"
   ]
  },
  {
   "cell_type": "code",
   "execution_count": 178,
   "metadata": {},
   "outputs": [],
   "source": [
    "concept_set = set(wiki_concepts)\n",
    "\n",
    "def accept_search_result(search_result):\n",
    "    page = get_page(search_result)\n",
    "    # filter disambiguation pages\n",
    "    if is_disambiguation(page): return False\n",
    "    outgoing_links = page.links\n",
    "    return len(concept_set.intersection(outgoing_links)) > 0\n",
    "\n",
    "def return_first_accepted(results, dists):\n",
    "    for _, title in zip(dists, results): # sort by Levenshtein distances\n",
    "        if accept_search_result(title): return title\n",
    "    return None"
   ]
  },
  {
   "cell_type": "code",
   "execution_count": 179,
   "metadata": {},
   "outputs": [
    {
     "name": "stderr",
     "output_type": "stream",
     "text": [
      "  0%|          | 0/1303 [2:20:59<?, ?it/s]\n",
      "  0%|          | 3/1303 [2:20:40<1015:58:14, 2813.46s/it]\n",
      "  0%|          | 0/1303 [2:18:42<?, ?it/s]\n",
      "  0%|          | 0/1303 [2:17:45<?, ?it/s]\n"
     ]
    }
   ],
   "source": [
    "df_concepts['dep_articles'] = [[return_first_accepted(dep_results, dep_dists) for dep_results, dep_dists in zip(deps_results, deps_dists)] for deps_results, deps_dists in zip(df_concepts.search_results, df_concepts.dists)]"
   ]
  },
  {
   "cell_type": "code",
   "execution_count": 181,
   "metadata": {},
   "outputs": [],
   "source": [
    "df_concepts.to_csv(\"../dat/llm/df_concepts.csv\")"
   ]
  },
  {
   "cell_type": "code",
   "execution_count": 192,
   "metadata": {},
   "outputs": [],
   "source": [
    "# the format is needed for plotly dashboard\n",
    "import json\n",
    "\n",
    "# nodes\n",
    "elements_all = {target: {\"data\":{\"id\":target,\"label\":target}} for target in df_concepts.concept}\n",
    "for deps in df_concepts.dep_articles:\n",
    "    for source in deps:\n",
    "        if source not in elements_all.keys(): elements_all[source] = {\"data\":{\"id\":source,\"label\":source,\"external\": True}}\n",
    "elements_all = list(elements_all.values())\n",
    "\n",
    "# edges\n",
    "for target, sources in zip(df_concepts.concept, df_concepts.dep_articles):\n",
    "    for source in sources:\n",
    "        elements_all.append({\"data\":{\"source\":source,\"target\":target}})\n",
    "\n",
    "with open('../dat/llm/graph.json', 'w') as f:\n",
    "    json.dump(elements_all, f)"
   ]
  },
  {
   "cell_type": "code",
   "execution_count": 180,
   "metadata": {},
   "outputs": [
    {
     "name": "stdout",
     "output_type": "stream",
     "text": [
      "[('Vector projection', ['vector', 'plane', 'projection'], ['Vector (mathematics and physics)', 'Plane (geometry)', 'Projection (mathematics)']), ('Affine symmetric group', ['group', 'element', 'symmetry'], ['Group (mathematics)', 'Element (mathematics)', 'Symmetry in mathematics']), ('Ideal point', ['polynomial', 'solution', 'point'], ['Polynomial', 'Equation solving', 'Fixed point (mathematics)']), ('Probability theory', ['probability theory', 'statistical inference'], ['Probability theory', 'Statistical inference']), ('Trajectory', ['path', 'body', 'follow'], ['Path (topology)', 'Mathematics', 'Mathematics']), ('Radiocarbon calibration', ['process', 'sample', 'age'], ['Contact process (mathematics)', 'Sampling (statistics)', 'Mathematics']), ('Regular matrix', ['matrix', 'vector', 'row'], ['Matrix (mathematics)', 'Vector (mathematics and physics)', 'Matrix (mathematics)']), ('Linear span', ['measure', 'distance', 'point'], ['Measure (mathematics)', 'Distance', 'Fixed point (mathematics)']), ('Linear least squares', ['minimizing', 'sum', 'square'], ['Mathematics', 'Summation', 'Square']), ('Orbital state vectors', ['vector', 'state', 'particle'], ['Vector (mathematics and physics)', 'Mathematics', 'Elementary particle']), ('Linear form', ['graph', 'point', 'combination'], ['Graph (discrete mathematics)', 'Fixed point (mathematics)', 'Combination']), ('Notation', ['arithmetic', 'system', 'symbol'], ['Arithmetic', 'Autonomous system (mathematics)', 'Glossary of mathematical symbols']), ('Injective module', ['group', 'element', 'subgroup'], ['Group (mathematics)', 'Element (mathematics)', 'Subgroup']), ('Unitary representation', ['set', 'element', 'representation'], ['Set (mathematics)', 'Element (mathematics)', 'Representation (mathematics)']), ('Eigenvector centrality', ['Eigenvector', 'eigenspace', 'eigenvector centrality'], ['Eigenvalues and eigenvectors', 'Eigenvalues and eigenvectors', 'Centrality']), ('N-vector', ['group', 'vector', 'element'], ['Group (mathematics)', 'Vector (mathematics and physics)', 'Element (mathematics)']), ('Spectrum of a matrix', ['set', 'element', 'matrix'], ['Set (mathematics)', 'Element (mathematics)', 'Matrix (mathematics)']), ('Solution', ['set', 'function', 'problem'], ['Set (mathematics)', 'Function (mathematics)', 'List of unsolved problems in mathematics']), ('Equal', ['number', 'sign', 'equal'], ['Number', 'Sign (mathematics)', 'Equals sign']), (\"Dijkstra's algorithm\", ['shortest path', 'problem', 'solve'], ['Shortest path problem', 'List of unsolved problems in mathematics', 'How to Solve It']), ('Computational complexity of matrix multiplication', ['matrix', 'multiplication'], ['Matrix (mathematics)', 'Multiplication']), ('Proxima Centauri (disambiguation)', ['binary star system', 'binary star', 'orbit'], ['Binary star', 'Binary star', 'Orbital elements']), ('Differential-algebraic system of equations', ['differential equation', 'differential operator'], ['Ordinary differential equation', 'Differential operator']), ('Orthogonal matrix', ['matrix', 'orthogonality'], ['Matrix (mathematics)', 'Orthogonality (mathematics)']), ('Quadratic function', ['polynomial', 'square', 'sum'], ['Polynomial', 'Square', 'Summation']), ('2D computer graphics', ['surface', 'representation', 'object'], ['Surface (mathematics)', 'Representation (mathematics)', 'Mathematical object']), ('String', ['set', 'character', 'character set'], ['Set (mathematics)', 'Character (mathematics)', 'Character (mathematics)']), ('Determinant', ['prime number'], ['Prime number']), ('Monic polynomial', ['coefficient', 'polynomial', 'sign'], ['Coefficient', 'Polynomial', 'Sign (mathematics)']), ('Parity (mathematics)', ['property', 'number', 'set'], ['Property (mathematics)', 'Number', 'Set (mathematics)']), ('Well-posed problem', ['problem', 'solution', 'unique'], ['List of unsolved problems in mathematics', 'Equation solving', 'Uniqueness quantification']), ('Jacobi operator', ['complex number', 'real number'], ['Absolute value', 'Real number']), ('Partition (number theory)', ['number', 'set', 'number system'], ['Number', 'Set (mathematics)', 'Number']), ('Salt (cryptography)', ['number', 'probability', 'mean'], ['Number', 'Probability theory', 'Mean']), ('Linear model', ['model', 'equation', 'system'], ['Mathematical model', 'Equation', 'Autonomous system (mathematics)']), ('Group theory', ['Group (mathematics)'], ['Mathematics']), ('Orthogonal functions', ['function', 'function', 'orthogonality'], ['Function (mathematics)', 'Function (mathematics)', 'Orthogonality (mathematics)']), ('Factor analysis', ['Data set', 'statistical technique', 'remove'], ['Set theory', 'Mathematical statistics', 'Mathematics']), ('QR decomposition', ['matrix', 'real number', 'number'], ['Matrix (mathematics)', 'Real number', 'Number']), ('Trinomial', ['polynomial', 'function', 'graph'], ['Polynomial', 'Function (mathematics)', 'Graph (discrete mathematics)']), ('Similarity', ['metric', 'measure', 'similarity'], ['Metric space', 'Measure (mathematics)', 'Jaccard index']), ('Sigma', ['constant', 'constant velocity', 'constant acceleration'], ['Constant (mathematics)', 'Velocity', 'Proportionality (mathematics)']), ('Birkhoff–Kellogg invariant-direction theorem', ['theorem', 'proof', 'concept'], ['Theorem', 'Mathematical proof', 'Mathematics']), ('Quantum group', ['group', 'charge', 'atom'], ['Group (mathematics)', 'Electric charge', 'Atom']), (\"De Moivre's formula\", ['area', 'circle', 'formula'], ['Area', 'Circle', 'Formula']), ('Homogeneous system', ['system', 'type', 'variable'], ['Autonomous system (mathematics)', 'Type theory', 'Variable (mathematics)']), ('Irreducible representation', ['group', 'representation', 'group property'], ['Group (mathematics)', 'Representation (mathematics)', 'Group (mathematics)']), ('Cross product', ['product', 'vector', 'vector product'], ['Product (mathematics)', 'Vector (mathematics and physics)', 'Cross product']), ('Torque', ['force', 'body', 'act'], ['Forcing (mathematics)', 'Mathematics', 'Mathematics']), ('Lattice (group)', ['group', 'plane', 'point'], ['Group (mathematics)', 'Plane (geometry)', 'Fixed point (mathematics)']), ('List of administrative divisions of the Tibet Autonomous Region', ['division', 'tibetan', 'region'], ['Division (mathematics)', 'Chinese mathematics', 'Domain (mathematical analysis)']), ('Irrational number', ['number', 'number system'], ['Number', 'Number']), ('Weyl character formula', ['inverse', 'vector', 'formula'], ['Proportionality (mathematics)', 'Vector (mathematics and physics)', 'Formula']), ('Midpoint', ['angle', 'right', 'side'], ['Angle', 'Mathematics', 'Sides of an equation']), ('Null hypothesis', ['hypothesis', 'true', 'test'], ['Mathematical universe hypothesis', 'Mathematics', 'GRE Mathematics Test']), ('Continued fraction', ['mixed number'], ['Fraction']), ('Origin (mathematics)', ['point', 'inflection', 'curve'], ['Fixed point (mathematics)', 'Inflection point', 'Curve']), ('Additive', ['addition', 'quantity', 'operation'], ['Addition', 'Quantity', 'Operation (mathematics)']), ('Rank', ['social rank', 'social class', 'social network'], ['Rank', 'Discrete mathematics', 'Social network']), ('Boolean algebras canonically defined', ['set', 'boolean', 'operation'], ['Set (mathematics)', 'Boolean algebra', 'Operation (mathematics)']), ('Differentiable function', ['point', 'function', 'evaluate'], ['Fixed point (mathematics)', 'Function (mathematics)', 'Mathematics']), ('N-gram', ['mass', 'unit', 'unit of force'], ['Proportionality (mathematics)', 'Unit (ring theory)', 'Force']), ('Finite field arithmetic', ['field', 'arithmetic', 'field theory'], ['Field (mathematics)', 'Arithmetic', 'Field (mathematics)']), ('Distance from a point to a line', ['measure', 'distance', 'point'], ['Measure (mathematics)', 'Distance', 'Fixed point (mathematics)']), ('Line segment', ['line', 'segment', 'line'], ['Line (geometry)', 'Mathematics', 'Line (geometry)']), ('MeCard (QR code)', ['barcode', 'two-dimensional'], ['QR code', 'Plane (geometry)']), ('Projective space', ['line', 'point', 'space'], ['Line (geometry)', 'Fixed point (mathematics)', 'Space (mathematics)']), ('Involution (mathematics)', ['number', 'curve', 'function'], ['Number', 'Curve', 'Function (mathematics)']), ('Intersection', ['line segment', 'point'], ['Line segment', 'Fixed point (mathematics)']), ('Dihedral group', ['vertices', 'congruent', 'group'], ['Graph (discrete mathematics)', 'Congruence (geometry)', 'Group (mathematics)']), ('Compound interest', ['compound', 'interest', 'time'], ['Compound interest', 'Mathematics', 'Local time (mathematics)']), ('Sign (disambiguation)', ['negative number', 'sign', 'signum'], ['Negative number', 'Sign (mathematics)', 'Sign function']), (\"Cramer's rule\", ['rule', 'thumb', 'mathematician'], ['Mathematics', 'Right-hand rule', 'Mathematician']), ('Euclidean vector', ['line of symmetry', 'vector'], ['Symmetry in mathematics', 'Vector (mathematics and physics)']), (\"Hooke's law\", ['law of elasticity', 'stress'], ['Price elasticity of demand', 'Stress (mechanics)']), ('Sample space', ['set', 'function', 'plane'], ['Set (mathematics)', 'Function (mathematics)', 'Plane (geometry)']), ('Canonical basis', ['set', 'plane', 'point'], ['Set (mathematics)', 'Plane (geometry)', 'Fixed point (mathematics)']), ('Factoring', ['prime number', 'factor', 'number'], ['Prime number', 'Factor', 'Number']), ('Multivariate statistics', ['multivariate analysis'], ['Multivariate statistics']), ('Parallel', ['line', 'perpendicular', 'line'], ['Line (geometry)', 'Perpendicular', 'Line (geometry)']), ('Matroid rank', ['symmetry', 'degree', 'group'], ['Symmetry in mathematics', 'Mathematics', 'Group (mathematics)']), ('Kronecker delta', ['asymmetry', 'measure', 'distribution'], ['Asymmetry', 'Measure (mathematics)', 'Distribution (mathematics)']), ('Operation', ['operation', 'mathematical', 'concept'], ['Operation (mathematics)', 'Mathematics', 'Mathematics']), ('Block matrix', ['matrix', 'block', 'diagonal'], ['Matrix (mathematics)', 'Mathematical Operators (Unicode block)', \"Cantor's diagonal argument\"]), ('Argument', ['product', 'number', 'quantity'], ['Product (mathematics)', 'Number', 'Quantity']), ('Dangle', ['knot', 'knotting', 'tying'], ['Knot (mathematics)', 'Knot (mathematics)', 'Discrete mathematics']), ('Arrow paradox (disambiguation)', ['paradox', 'problem', 'solution'], [\"Zeno's paradoxes\", 'List of unsolved problems in mathematics', 'Equation solving']), ('Riemann zeta function', ['convergent', 'solution', 'function'], ['Convergent series', 'Equation solving', 'Function (mathematics)']), ('Fibonacci', ['number', 'sequence', 'pattern'], ['Number', 'Sequence', 'Pattern']), ('Partition of a set', ['set', 'element', 'number'], ['Set (mathematics)', 'Element (mathematics)', 'Number']), ('Formal power series', ['prime number', 'sequence', 'number'], ['Prime number', 'Sequence', 'Number']), ('Free body diagram', ['force', 'diagram', 'body'], ['Forcing (mathematics)', 'Mathematical diagram', 'Mathematics']), ('Monoid', ['group', 'element', 'subset'], ['Group (mathematics)', 'Element (mathematics)', 'Set (mathematics)']), ('Graphite (disambiguation)', ['graph', 'graphite', 'graphite pencil'], ['Graph (discrete mathematics)', 'Graphene', 'Graphene']), ('Vandermonde matrix', ['matrix', 'diagonal', 'zero'], ['Matrix (mathematics)', \"Cantor's diagonal argument\", '0']), ('Multigrid method', ['method', 'solve', 'equation'], ['Mathematics', 'How to Solve It', 'Equation']), ('Orthogonal complement', ['set', 'element', 'orthogonal'], ['Set (mathematics)', 'Element (mathematics)', 'Orthogonality (mathematics)']), ('Spectral theorem', ['theorem', 'function', 'frequency'], ['Theorem', 'Function (mathematics)', 'Frequency domain']), ('Hyperplane', ['line', 'plane', 'perpendicular'], ['Line (geometry)', 'Plane (geometry)', 'Perpendicular']), ('Subtraction', ['operation', 'mathematical', 'concept'], ['Operation (mathematics)', 'Mathematics', 'Mathematics']), ('Matrix addition', ['operation', 'matrix', 'eigenvalue'], ['Operation (mathematics)', 'Matrix (mathematics)', 'Eigenvalues and eigenvectors']), ('Generalized eigenvector', ['orthogonal matrix'], ['Orthogonal matrix']), ('Steady state', ['state', 'flux', 'state'], ['Mathematics', 'Fluxion', 'Mathematics']), ('Linear fractional transformation', ['operation', 'convert', 'number'], ['Operation (mathematics)', 'Pure mathematics', 'Number']), ('Invariance of domain', ['property', 'set', 'object'], ['Property (mathematics)', 'Set (mathematics)', 'Mathematical object']), (\"Thévenin's theorem\", ['theorem', 'calculus'], ['Theorem', 'Calculus']), ('Fourier transform', ['transform', 'function', 'continuous'], ['Laplace transform', 'Function (mathematics)', 'Discrete mathematics']), ('Kronecker symbol', ['product', 'vector', 'scalar'], ['Product (mathematics)', 'Vector (mathematics and physics)', 'Scalar (mathematics)']), ('Complemented subspace', ['subspace', 'copy', 'space'], ['Linear subspace', 'History of mathematics', 'Space (mathematics)']), ('De Bruijn graph', ['directed graph', 'edge', 'graph'], ['Directed graph', 'Graph (discrete mathematics)', 'Graph (discrete mathematics)']), ('Law of sines', ['ratio', 'circle', 'diameter'], ['Golden ratio', 'Circle', 'Angular diameter']), ('Multiple edges', ['graph', 'edge', 'grapheme'], ['Graph (discrete mathematics)', 'Graph (discrete mathematics)', 'Gamma']), ('Algebra', ['system', 'symbol', 'operation'], ['Autonomous system (mathematics)', 'Glossary of mathematical symbols', 'Operation (mathematics)']), (\"Ceva's theorem\", ['theorem', 'geometry', 'proof'], ['Theorem', 'Geometry', 'Mathematical proof']), ('Rotation around a fixed axis', ['axis', 'rotation', 'axis of revolution'], ['Axis', 'Rotation (mathematics)', 'Solid of revolution']), ('Unit square', ['length', 'side', 'square'], ['Arc length', 'Sides of an equation', 'Square']), ('Coefficient matrix', ['matrix', 'transformation', 'coefficient'], ['Matrix (mathematics)', 'Transformation (function)', 'Coefficient']), ('Differential operator', ['map', 'function', 'operator'], ['Map (mathematics)', 'Function (mathematics)', 'Operator (mathematics)']), ('Flat module', ['subset', 'module', 'larger'], ['Set (mathematics)', 'Module (mathematics)', 'Mathematics']), ('Abscissa and ordinate', ['line', 'x-axis', 'point'], ['Line (geometry)', 'Cartesian coordinate system', 'Fixed point (mathematics)']), ('Quasigroup', ['group', 'subgroup', 'group property'], ['Group (mathematics)', 'Subgroup', 'Group (mathematics)']), ('Polynomial remainder theorem', ['theorem', 'proof', 'concept'], ['Theorem', 'Mathematical proof', 'Mathematics']), ('Span', ['line segment', 'distance', 'point'], ['Line segment', 'Distance', 'Fixed point (mathematics)']), ('Orthogonal transformation', ['transformation', 'orthogonality', 'transform'], ['Transformation (function)', 'Orthogonality (mathematics)', 'Laplace transform']), ('Foil', ['material', 'sheet', 'roll'], ['Mathematics', 'Worksheet', 'Mathematics education']), ('Multiset', ['set', 'element', 'elemental'], ['Set (mathematics)', 'Element (mathematics)', 'Euler angles']), ('Lagrange multiplier', ['inverse', 'function', 'constant'], ['Proportionality (mathematics)', 'Function (mathematics)', 'Constant (mathematics)']), ('Parallel transport', ['transport mechanism', 'time', 'transfer'], ['Higgs mechanism', 'Local time (mathematics)', 'Mathematics education']), ('Definition', ['set', 'object', 'describe'], ['Set (mathematics)', 'Mathematical object', 'Mathematical beauty']), ('Restriction', ['set', 'restriction', 'element'], ['Set (mathematics)', 'Restriction (mathematics)', 'Element (mathematics)']), (\"Farkas' lemma\", ['theorem', 'statement', 'lemma'], ['Theorem', 'Mathematical proof', 'Lemma (mathematics)']), ('Comparative statics', ['differential equation', 'motion', 'environment'], ['Ordinary differential equation', 'Motion', 'Philosophy of mathematics']), ('Set-builder notation', ['notation', 'set', 'element'], ['Mathematical notation', 'Set (mathematics)', 'Element (mathematics)']), ('Hexagonal crystal family', ['face', 'edge', 'crystal'], ['Face (geometry)', 'Graph (discrete mathematics)', 'Crystal (mathematics)']), ('Automorphism', ['group', 'homomorphism', 'group property'], ['Group (mathematics)', 'Homomorphism', 'Group (mathematics)']), ('Standard form', ['general form', 'special case'], ['Canonical form', 'Concrete Mathematics']), ('Tangent half-angle substitution', ['angle', 'tangent', 'method'], ['Angle', 'Tangent', 'Mathematics']), ('Graph (discrete mathematics)', ['graph theory', 'directed graph'], ['Graph (discrete mathematics)', 'Directed graph']), ('Half-life', ['half-life', 'time', 'interval'], ['Half-life', 'Local time (mathematics)', 'Interval (mathematics)']), ('Absolute value', ['absolute value', 'number', 'concept'], ['Absolute value', 'Number', 'Mathematics']), ('Right inverse', ['inverse', 'function', 'graph'], ['Proportionality (mathematics)', 'Function (mathematics)', 'Graph (discrete mathematics)']), ('Conjunctive normal form', ['group', 'form', 'normal'], ['Group (mathematics)', 'Canonical form', 'Canonical form']), ('Structure constants', ['set', 'number', 'property'], ['Set (mathematics)', 'Number', 'Property (mathematics)']), ('Quadratic form', ['polynomial', 'square', 'sum'], ['Polynomial', 'Square', 'Summation']), ('Oscillation', ['periodic function', 'amplitude', 'frequency'], ['Periodic function', 'Amplitude modulation', 'Frequency domain']), ('Injective function', ['set', 'function', 'map'], ['Set (mathematics)', 'Function (mathematics)', 'Map (mathematics)']), ('Sparse matrix', ['matrix', 'zero', 'zeros'], ['Matrix (mathematics)', '0', '0']), ('Inner product space', ['set', 'group', 'element'], ['Set (mathematics)', 'Group (mathematics)', 'Element (mathematics)']), ('Nilpotent matrix', ['matrix', 'diagonal', 'element'], ['Matrix (mathematics)', \"Cantor's diagonal argument\", 'Element (mathematics)']), ('Pless conference', ['meeting', 'society', 'mathematician'], ['Mathematics', 'Edinburgh Mathematical Society', 'Mathematician']), ('Jordan matrix', ['matrix', 'diagonal', 'matrix'], ['Matrix (mathematics)', \"Cantor's diagonal argument\", 'Matrix (mathematics)']), ('Nonlinear system', ['time', 'change', 'system'], ['Local time (mathematics)', 'Mathematics', 'Autonomous system (mathematics)']), ('Duality (projective geometry)', ['property', 'set', 'point'], ['Property (mathematics)', 'Set (mathematics)', 'Fixed point (mathematics)']), ('Skew-symmetric matrix', ['skewed matrix', 'eigenvalue', 'eigenvector'], ['Skew-symmetric matrix', 'Eigenvalues and eigenvectors', 'Eigenvalues and eigenvectors']), ('Wilberforce pendulum', ['mass', 'pendulum', 'length'], ['Proportionality (mathematics)', 'Pendulum', 'Arc length']), ('Perspective-n-Point', ['point', 'scene', 'view'], ['Fixed point (mathematics)', 'History of mathematics', 'Mathematics']), ('Cue sheet', ['list', 'card', 'deck'], ['Lists of mathematics topics', 'Mathematical finance', 'Trick deck']), ('Sensing', ['sensitivity', 'change', 'environment'], ['Sensitivity analysis', 'Mathematics', 'Philosophy of mathematics']), ('Underdetermined system', ['system', 'solution', 'system of equations'], ['Autonomous system (mathematics)', 'Equation solving', 'System of equations']), ('Reflection (mathematics)', ['ray', 'reflect', 'mirror'], ['Line (geometry)', 'Reflectance', 'Reflection (mathematics)']), ('Range of a function', ['set', 'value', 'continuous'], ['Set (mathematics)', 'Absolute value', 'Discrete mathematics']), ('Constant-recursive sequence', ['sequence', 'element', 'sum'], ['Sequence', 'Element (mathematics)', 'Summation']), ('Generalized linear model', ['model', 'coefficient', 'predictor'], ['Mathematical model', 'Coefficient', 'Mathematics']), ('List of trigonometric identities', ['list', 'identity', 'list'], ['Lists of mathematics topics', 'Identity (mathematics)', 'Lists of mathematics topics']), ('Inverse element', ['inverse', 'object', 'object'], ['Proportionality (mathematics)', 'Mathematical object', 'Mathematical object']), ('Mathematical induction', ['implication', 'consequence', 'rule'], ['Philosophy of mathematics', 'Logical consequence', 'Mathematics']), ('Matrix representation', ['array', 'element', 'dimension'], ['Matrix (mathematics)', 'Element (mathematics)', 'Dimension']), ('Giuseppe Peano', ['number', 'mathematician', 'concept'], ['Number', 'Mathematician', 'Mathematics']), ('Parabola', ['polygon', 'curve', 'inflection'], ['Polygon', 'Curve', 'Inflection point']), ('Formula', ['set', 'rule', 'rulebook'], ['Set (mathematics)', 'Mathematics', 'Code (disambiguation)']), ('Direct-quadrature-zero transformation', ['polarization', 'transform', 'signal'], ['Photon polarization', 'Laplace transform', 'Signal']), ('Spline (mathematics)', ['curve', 'point', 'continuous'], ['Curve', 'Fixed point (mathematics)', 'Discrete mathematics']), ('Gabriel Cramer', ['number', 'orchestra', 'symphony'], ['Number', 'Philosophy of mathematics', 'Mathematical beauty']), ('Resultant force', ['force', 'body', 'act'], ['Forcing (mathematics)', 'Mathematics', 'Mathematics']), ('Probability', ['probability', 'event', 'measure'], ['Probability theory', 'Event horizon', 'Measure (mathematics)']), ('Ordinary least squares', ['data set', 'model', 'fit'], ['Set theory', 'Mathematical model', 'Discrete mathematics']), ('Modular arithmetic', ['arithmetic', 'number', 'whole'], ['Arithmetic', 'Number', 'Locus (mathematics)']), ('Cost function', ['cost', 'production', 'cost'], ['Mathematics', 'History of mathematics', 'Mathematics']), ('Dependent and independent variables', ['dependent and independent variables'], ['Dependent and independent variables']), ('One-hot', ['one-hot', 'probability', 'hot'], ['Uniqueness quantification', 'Probability theory', 'University of Cambridge']), ('Area', ['area', 'surface', 'measure'], ['Area', 'Surface (mathematics)', 'Measure (mathematics)']), ('Group representation', ['group', 'set', 'element'], ['Group (mathematics)', 'Set (mathematics)', 'Element (mathematics)']), ('Axis–angle representation', ['axis', 'plane', 'representation'], ['Axis', 'Plane (geometry)', 'Representation (mathematics)']), ('Covariance matrix', ['covariance matrix', 'variance'], ['Covariance matrix', 'Variance']), ('Flag (linear algebra)', ['matrix', 'vector', 'combination'], ['Matrix (mathematics)', 'Vector (mathematics and physics)', 'Combination']), ('Gamma matrices', ['matrix', 'diagonal', 'zero'], ['Matrix (mathematics)', \"Cantor's diagonal argument\", '0']), ('Lowest common denominator', ['LCMD', 'LCMD(x)', 'LCMD(y)', 'LCMD(z)'], [None, None, None, None]), ('Euclidean geometry', ['geometry', 'figure', 'property'], ['Geometry', 'Mathematics', 'Property (mathematics)']), ('Linear function (calculus)', ['continuous', 'bounded', 'function'], ['Discrete mathematics', 'Bounded function', 'Function (mathematics)']), ('Pseudorandom number generator', ['pseudorandom', 'generator', 'number'], ['Pseudorandom number generator', 'Generator (mathematics)', 'Number']), ('Bases', ['set', 'operation', 'arithmetic'], ['Set (mathematics)', 'Operation (mathematics)', 'Arithmetic']), ('Householder transformation', ['symmetry', 'object', 'preserve'], ['Symmetry in mathematics', 'Mathematical object', 'Mathematical structure']), ('Cylinder', ['surface', 'sphere', 'cylinder'], ['Surface (mathematics)', 'Sphere', 'Cylinder']), ('Circumscribed circle', ['circumscribed circle'], ['Circumscribed circle']), ('Leibnitz (disambiguation)', ['theorem', 'proof', 'concept'], ['Theorem', 'Mathematical proof', 'Mathematics']), ('Eccentricity', ['measure', 'distance', 'circle'], ['Measure (mathematics)', 'Distance', 'Circle']), ('Derivative', ['change', 'function', 'value'], ['Mathematics', 'Function (mathematics)', 'Absolute value']), ('Indian independence', ['period', 'time', 'rule'], ['Mathematics', 'Local time (mathematics)', 'Mathematics']), ('Euclidean division', ['polygon', 'division', 'part'], ['Polygon', 'Division (mathematics)', 'Part III of the Mathematical Tripos']), ('Zero to the power of zero', ['0 and 1'], ['1']), ('Inequality', ['Inequality', 'number', 'set'], ['Inequality (mathematics)', 'Number', 'Set (mathematics)']), ('Polynomial expansion', ['series', 'coefficient', 'function'], ['Series (mathematics)', 'Coefficient', 'Function (mathematics)']), ('Reflection symmetry', ['symmetry axis', 'reflection', 'plane'], ['Symmetry in mathematics', 'Reflection (mathematics)', 'Plane (geometry)']), ('Index set', ['set', 'element', 'space'], ['Set (mathematics)', 'Element (mathematics)', 'Space (mathematics)']), ('Coprime integers', ['prime numbers'], ['Prime number']), ('Gram–Schmidt process', ['stochastic process', 'Markov chain', 'stationary state'], ['Stochastic process', 'Markov chain', 'Stationary state']), ('Inversion', ['operation', 'reverse', 'relation'], ['Operation (mathematics)', 'Reverse mathematics', 'Relation (mathematics)']), ('Diagonalizable matrix', ['matrix', 'element', 'diagonalize'], ['Matrix (mathematics)', 'Element (mathematics)', 'Diagonal']), ('Principal axis theorem', ['theorem', 'proof', 'concept'], ['Theorem', 'Mathematical proof', 'Mathematics']), ('Sequence', ['number', 'sequence', 'number'], ['Number', 'Sequence', 'Number']), ('Square root of a matrix', ['matrix', 'element', 'row'], ['Matrix (mathematics)', 'Element (mathematics)', 'Matrix (mathematics)']), ('Dependence relation', ['relation', 'function', 'variable'], ['Relation (mathematics)', 'Function (mathematics)', 'Variable (mathematics)']), ('Aerodynamics', ['fluid mechanics', 'fluid flow', 'and fluid dynamics'], ['Fluid mechanics', 'Fluid dynamics', 'Fluid dynamics']), ('Frobenius normal form', ['set', 'class', 'polynomial'], ['Set (mathematics)', 'Class (set theory)', 'Polynomial']), ('Scalar (physics)', ['vector', 'quantity', 'direction'], ['Vector (mathematics and physics)', 'Quantity', 'Mathematics']), ('Exponentiation by squaring', ['rule', 'generalization', 'power'], ['Mathematics', 'Generalization', 'Exponentiation']), ('Isomorphism', ['isomorphism', 'property', 'set'], ['Isomorphism', 'Property (mathematics)', 'Set (mathematics)']), ('Polynomial', ['polynomial', 'function', 'class'], ['Polynomial', 'Function (mathematics)', 'Class (set theory)']), ('Congruence', ['distance', 'property', 'set'], ['Distance', 'Property (mathematics)', 'Set (mathematics)']), ('Zero of a function', ['graph', 'point', 'x-axis'], ['Graph (discrete mathematics)', 'Fixed point (mathematics)', 'Cartesian coordinate system']), ('Tuple-versioning', ['list', 'tuple', 'algorithm'], ['Lists of mathematics topics', 'Tuple', 'Algorithm']), ('Square root of 2', ['area', 'ratio', 'rectangle'], ['Area', 'Golden ratio', 'Rectangle']), ('Mathematica (disambiguation)', ['formula', 'mathematician', 'concept'], ['Formula', 'Mathematician', 'Mathematics']), ('Vector (mathematics and physics)', ['vector', 'quantity', 'direction'], ['Vector (mathematics and physics)', 'Quantity', 'Mathematics']), ('Counterexample', ['problem', 'solution', 'result'], ['List of unsolved problems in mathematics', 'Equation solving', 'Mathematics']), ('Indefinite orthogonal group', ['group', 'element', 'distinct'], ['Group (mathematics)', 'Element (mathematics)', 'Equality (mathematics)']), ('Resultant', ['product', 'quantity', 'sum'], ['Product (mathematics)', 'Quantity', 'Summation']), ('Reflection', ['ray', 'reflect', 'light'], ['Line (geometry)', 'Reflectance', 'Mathematics']), ('Double-precision floating-point format', ['number', 'representation', 'number system'], ['Number', 'Representation (mathematics)', 'Number']), ('Multilinear map', ['map', 'combination', 'map'], ['Map (mathematics)', 'Combination', 'Map (mathematics)']), ('Parity bit', ['bit', 'bit', 'bit'], ['Bit', 'Bit', 'Bit']), ('Implicit function', ['function', 'argument', 'define'], ['Function (mathematics)', 'Argument (complex analysis)', 'Mathematics']), ('Mellin inversion theorem', ['theorem', 'function', 'inverse'], ['Theorem', 'Function (mathematics)', 'Proportionality (mathematics)']), ('Definite matrix', ['matrix', 'solution', 'matrix'], ['Matrix (mathematics)', 'Equation solving', 'Matrix (mathematics)']), ('Scatter plot', ['graph', 'relationship', 'variable'], ['Graph (discrete mathematics)', 'Relationship between mathematics and physics', 'Variable (mathematics)']), ('Hadamard product (matrices)', ['product', 'matrix', 'matrix product'], ['Product (mathematics)', 'Matrix (mathematics)', 'Matrix multiplication']), ('Bijection', ['space', 'map', 'spacetime'], ['Space (mathematics)', 'Map (mathematics)', 'Spacetime']), ('Cylindrical coordinate system', ['x', 'y', 'z'], ['Function (mathematics)', 'Mathematics', 'Z-matrix (mathematics)']), ('Root-finding algorithms', ['set', 'polynomial', 'root'], ['Set (mathematics)', 'Polynomial', 'Tetration']), ('Linear function', ['real number', 'continuous', 'function'], ['Real number', 'Discrete mathematics', 'Function (mathematics)']), ('Ordinary differential equation', ['time', 'function', 'equation'], ['Local time (mathematics)', 'Function (mathematics)', 'Equation']), ('Solution set', ['set', 'solution', 'equation'], ['Set (mathematics)', 'Equation solving', 'Equation']), ('Chebyshev polynomials', ['polynomial', 'class', 'number'], ['Polynomial', 'Class (set theory)', 'Number']), ('Range space', ['set', 'plane', 'point'], ['Set (mathematics)', 'Plane (geometry)', 'Fixed point (mathematics)']), ('Structure theorem', ['theorem', 'element', 'set'], ['Theorem', 'Element (mathematics)', 'Set (mathematics)']), ('Trace', ['curve', 'point', 'curve'], ['Curve', 'Fixed point (mathematics)', 'Curve']), (\"Boole's expansion theorem\", ['theorem', 'theorem of Boole', 'boolean'], ['Theorem', 'George Boole', 'Boolean algebra']), ('Volume of an n-ball', ['sphere', 'number', 'ball'], ['Sphere', 'Number', 'Ball (mathematics)']), ('Philosophiæ Naturalis Principia Mathematica', ['treatise', 'mathematics', 'treatise'], ['Treatise', 'Mathematics', 'Treatise']), ('Buckingham π theorem', ['theorem', 'proof', 'concept'], ['Theorem', 'Mathematical proof', 'Mathematics']), (\"Newton's law of cooling\", ['law', 'thermodynamics'], ['Mathematics', 'Zeroth law of thermodynamics']), ('Basic feasible solution', ['set', 'solution', 'feasible'], ['Set (mathematics)', 'Equation solving', 'Feasible region']), ('Linear system', ['time', 'function', 'equation'], ['Local time (mathematics)', 'Function (mathematics)', 'Equation']), ('Curve', ['point', 'curve', 'function'], ['Fixed point (mathematics)', 'Curve', 'Function (mathematics)']), ('Kernel (linear algebra)', ['vector space'], ['Vector (mathematics and physics)']), ('Characteristic (algebra)', ['property', 'element', 'set'], ['Property (mathematics)', 'Element (mathematics)', 'Set (mathematics)']), ('Verbal arithmetic', ['arithmetic', 'word', 'perform'], ['Arithmetic', 'Word problem (mathematics)', 'Mathematics education']), ('Generalized inverse', ['inverse', 'function', 'function'], ['Proportionality (mathematics)', 'Function (mathematics)', 'Function (mathematics)']), ('Interval arithmetic', ['arithmetic', 'interval', 'arithmetic operation'], ['Arithmetic', 'Interval (mathematics)', 'Arithmetic']), ('Repeller', ['field', 'repel', 'object'], ['Field (mathematics)', 'List of unsolved problems in mathematics', 'Mathematical object']), ('Glossary of string theory', ['collection', 'term', 'concept'], ['Mathematics', 'Mathematics', 'Mathematics']), ('Maxima and minima', ['point', 'curve', 'value'], ['Fixed point (mathematics)', 'Curve', 'Absolute value']), ('Self-adjoint', ['function', 'combination', 'function'], ['Function (mathematics)', 'Combination', 'Function (mathematics)']), ('Minimum distance', ['line', 'segment', 'point'], ['Line (geometry)', 'Mathematics', 'Fixed point (mathematics)']), ('Factorial', ['product', 'number', 'number system'], ['Product (mathematics)', 'Number', 'Number']), ('Self-similarity matrix', ['eigenvalue', 'matrix', 'structure'], ['Eigenvalues and eigenvectors', 'Matrix (mathematics)', 'Mathematical structure']), ('Conjugation', ['operation', 'number', 'convert'], ['Operation (mathematics)', 'Number', 'Pure mathematics']), ('Chios sheep', ['ram', 'ramification', 'ramifications'], ['Mathematical statistics', 'Ramification (mathematics)', 'Ramification (mathematics)']), ('Nilpotent operator', ['commutative', 'function', 'not'], ['Commutative property', 'Function (mathematics)', 'Mathematics']), ('Linear recurrence with constant coefficients', ['number sequence', 'repeating sequence'], ['Fibonacci number', 'Aliquot sequence']), ('Rooting', ['polynomial', 'root', 'function'], ['Polynomial', 'Tetration', 'Function (mathematics)']), ('Zero element', ['scalar', 'zero', 'scalar product'], ['Scalar (mathematics)', '0', 'Scalar (mathematics)']), ('Asymptotic expansion', ['series', 'function', 'difference'], ['Series (mathematics)', 'Function (mathematics)', 'Subtraction']), ('Cayley transform', ['order', 'preserve', 'transformation'], ['Mathematics', 'Mathematical structure', 'Transformation (function)']), ('Executive summary', ['summary', 'report', 'point'], ['Summary statistics', 'Mathematics', 'Fixed point (mathematics)']), ('Complement', ['set', 'element', 'group'], ['Set (mathematics)', 'Element (mathematics)', 'Group (mathematics)']), ('Random projection', ['random function', 'random variable'], ['Random variable', 'Random variable']), ('Geometric transformation', ['change', 'shape', 'figure'], ['Mathematics', 'Shape', 'Mathematics']), ('Lemma (mathematics)', ['theorem', 'statement', 'theorem'], ['Theorem', 'Mathematical proof', 'Theorem']), ('Scientific notation', ['system', 'number', 'write'], ['Autonomous system (mathematics)', 'Number', 'Abraham Nemeth']), ('Pierre-Simon Laplace', ['arithmetic', 'number', 'geometry'], ['Arithmetic', 'Number', 'Geometry']), ('Quadratic irrational number', ['number', 'number system'], ['Number', 'Number']), ('Proportionality (mathematics)', ['proportion', 'relationship', 'magnitude'], ['Proportionality (mathematics)', 'Relationship between mathematics and physics', 'Magnitude (mathematics)']), ('Rational function', ['real number', 'function', 'sum'], ['Real number', 'Function (mathematics)', 'Summation']), ('Turtle graphics', ['graph', 'turtle', 'traverse'], ['Graph (discrete mathematics)', 'Turtles all the way down', 'History of mathematics']), ('Matrix representation of conic sections', ['set', 'matrix', 'element'], ['Set (mathematics)', 'Matrix (mathematics)', 'Element (mathematics)']), ('Statistical model', ['system', 'model', 'behavior'], ['Autonomous system (mathematics)', 'Mathematical model', 'Pathological (mathematics)']), ('Shear mapping', ['map', 'function', 'coordinate'], ['Map (mathematics)', 'Function (mathematics)', 'Coordinate system']), ('Basis', ['set', 'plane', 'point'], ['Set (mathematics)', 'Plane (geometry)', 'Fixed point (mathematics)']), (\"Ohm's law\", ['energy', 'conservation', 'law'], ['Energy', 'Conservation law', 'Mathematics']), ('Domain', ['set', 'element', 'set'], ['Set (mathematics)', 'Element (mathematics)', 'Set (mathematics)']), ('Cuboid', ['face', 'length', 'solid'], ['Face (geometry)', 'Arc length', 'Solid geometry']), ('Variable', ['quantity', 'change', 'change rate'], ['Quantity', 'Mathematics', 'Rate (mathematics)']), ('Parallel (geometry)', ['line', 'parallel', 'line segment'], ['Line (geometry)', 'Parallelization (mathematics)', 'Line segment']), ('Characteristic polynomial', ['prime number', 'polynomial', 'coefficient'], ['Prime number', 'Polynomial', 'Coefficient']), ('Analytic geometry', ['curve', 'theory', 'geometry'], ['Curve', 'Set theory', 'Geometry']), ('Joseph Fourier', ['wave theory', 'wave motion'], ['Elliott wave principle', 'Wave']), ('Entry', ['line', 'point', 'distance'], ['Line (geometry)', 'Fixed point (mathematics)', 'Distance']), ('Regular representation', ['set', 'element', 'representation'], ['Set (mathematics)', 'Element (mathematics)', 'Representation (mathematics)']), ('Average absolute deviation', ['a measure of the variability of a population'], ['Statistical dispersion']), ('Change of base', ['change', 'system', 'number'], ['Mathematics', 'Autonomous system (mathematics)', 'Number']), ('Adjugate matrix', ['matrix', 'combination', 'matrix'], ['Matrix (mathematics)', 'Combination', 'Matrix (mathematics)']), ('Gaussian elimination', ['arithmetic mean', 'arithmetic mean square', 'remainder'], ['Arithmetic mean', 'Arithmetic mean', 'Remainder']), ('Algebraic equation', ['function', 'system', 'equation'], ['Function (mathematics)', 'Autonomous system (mathematics)', 'Equation']), ('Configuration space (physics)', ['set', 'configuration', 'system'], ['Set (mathematics)', 'Configuration space (mathematics)', 'Autonomous system (mathematics)']), ('Helmholtz equation', ['differential equation', 'fluid', 'motion'], ['Ordinary differential equation', 'Fluid mechanics', 'Motion']), ('Diophantine equation', ['polynomial', 'equation', 'unknown'], ['Polynomial', 'Equation', 'Equation']), ('Minimal polynomial', ['polynomial', 'root', 'number'], ['Polynomial', 'Tetration', 'Number']), ('Projective plane', ['x-axis', 'y-axis'], ['Cartesian coordinate system', 'Cartesian coordinate system']), ('Kindergarten (disambiguation)', ['school', 'school for children', 'math'], ['School Mathematics Project', 'Elementary mathematics', 'Mathematics']), ('Input', ['number', 'input', 'number'], ['Number', 'Input–output model', 'Number']), (\"T'au Empire\", ['symbiosis', 'plant', 'fungus'], ['Mutualism (biology)', 'Indian mathematics', 'List of common misconceptions']), ('Chemical equation', ['set', 'operation', 'substance'], ['Set (mathematics)', 'Operation (mathematics)', 'Flux']), ('Complex conjugate root theorem', ['theorem', 'proof', 'concept'], ['Theorem', 'Mathematical proof', 'Mathematics']), ('Transition matrix', ['state', 'matrix', 'transition'], ['Mathematics', 'Matrix (mathematics)', 'Mathematics']), ('Doubly stochastic matrix', ['stochastic matrix'], ['Stochastic matrix']), ('Matrix norm', ['eigenvalue', 'matrix', 'measure'], ['Eigenvalues and eigenvectors', 'Matrix (mathematics)', 'Measure (mathematics)']), ('Composition', ['substance', 'element', 'combination'], ['Flux', 'Element (mathematics)', 'Combination']), ('Negative binomial distribution', ['negative binomial distribution', 'probability', 'distribution'], ['Extended negative binomial distribution', 'Probability theory', 'Distribution (mathematics)']), ('Main diagonal', ['line', 'x-axis', 'perpendicular'], ['Line (geometry)', 'Cartesian coordinate system', 'Perpendicular']), ('Binomial theorem', ['prime number', 'square', 'number'], ['Prime number', 'Square', 'Number']), ('Cardioid', ['tangent', 'radius', 'circle'], ['Tangent', 'Radius', 'Circle']), ('Heaviside step function', ['periodic function', 'zero', 'one'], ['Periodic function', '0', 'Mathematics']), ('Unit circle', ['diameter', 'radius', 'circle'], ['Angular diameter', 'Radius', 'Circle']), ('Software-defined', ['algorithm', 'data', 'computer'], ['Algorithm', 'Mathematics', 'Discrete mathematics']), ('Linear independence', ['property', 'function', 'independent'], ['Property (mathematics)', 'Function (mathematics)', 'Mathematics']), ('Rhombus', ['polygon', 'side', 'equal'], ['Polygon', 'Sides of an equation', 'Equals sign']), ('Series and parallel circuits', ['series and parallel'], ['Series and parallel circuits']), ('Equilibrium point', ['equilibrium', 'point', 'body'], ['Equilibrium point', 'Fixed point (mathematics)', 'Mathematics']), ('Projection (linear algebra)', ['vector', 'space', 'map'], ['Vector (mathematics and physics)', 'Space (mathematics)', 'Map (mathematics)']), ('Born–Oppenheimer approximation', ['method', 'approximation', 'solution'], ['Mathematics', 'Approximation', 'Equation solving']), ('Electrical resistance and conductance', ['<unk>', '<unk>', '<unk>'], ['N-gram', 'N-gram', 'N-gram']), ('Reduced cost', ['reduced cost', 'cost', 'reduce'], ['Reduced cost', 'Mathematics', 'Mathematics']), ('Position (geometry)', ['point', 'space', 'time'], ['Fixed point (mathematics)', 'Space (mathematics)', 'Local time (mathematics)']), ('Geometric series', ['number', 'sequence', 'sum'], ['Number', 'Sequence', 'Summation']), ('Hyperbolic functions', ['x-axis', 'y-axis'], ['Cartesian coordinate system', 'Cartesian coordinate system']), ('Associative property', ['property', 'group', 'element'], ['Property (mathematics)', 'Group (mathematics)', 'Element (mathematics)']), ('Rank (linear algebra)', ['number', 'coefficient', 'combination'], ['Number', 'Coefficient', 'Combination']), ('Consistent and inconsistent equations', ['equivalent'], ['Mathematics']), ('Fourier series', ['sine', 'cosine', 'function'], ['Sine and cosine', 'Sine and cosine', 'Function (mathematics)']), ('Kernel (statistics)', ['std. dev.', 'measure'], ['Standard deviation', 'Measure (mathematics)']), ('Superposition principle', ['change', 'system', 'property'], ['Mathematics', 'Autonomous system (mathematics)', 'Property (mathematics)']), ('Functional analysis', ['theory', 'function', 'theory'], ['Set theory', 'Function (mathematics)', 'Set theory']), ('Philip Davis', ['number', 'orchestra', 'symphony'], ['Number', 'Philosophy of mathematics', 'Mathematical beauty']), ('Least squares', ['data', 'set', 'square'], ['Mathematics', 'Set (mathematics)', 'Square']), ('Half-reaction', ['reaction', 'product', 'half'], ['Mathematics', 'Product (mathematics)', 'Mathematics']), ('Multiplication algorithm', ['set', 'number', 'rule'], ['Set (mathematics)', 'Number', 'Mathematics']), ('Trace (linear algebra)', ['order', 'preserve', 'transformation'], ['Mathematics', 'Mathematical structure', 'Transformation (function)']), ('Clockwise', ['counterclockwise', 'clockwise'], ['Clockwise', 'Clockwise']), ('Orthogonality (mathematics)', ['line', 'segment', 'perpendicular'], ['Line (geometry)', 'Mathematics', 'Perpendicular']), ('Image (mathematics)', ['representation', 'object', 'mathematical'], ['Representation (mathematics)', 'Mathematical object', 'Mathematics']), ('Symmetric difference', ['symmetry', 'figure', 'part'], ['Symmetry in mathematics', 'Mathematics', 'Part III of the Mathematical Tripos']), ('QR algorithm', ['algorithm', 'recursion', 'function'], ['Algorithm', 'Recursion', 'Function (mathematics)']), ('Symmetric matrix', ['matrix', 'row', 'column'], ['Matrix (mathematics)', 'Matrix (mathematics)', 'List of Martin Gardner Mathematical Games columns']), ('FKG inequality', ['polynomial', 'root', 'square'], ['Polynomial', 'Tetration', 'Square']), ('Orientation', ['axis', 'direction', 'rotation'], ['Axis', 'Mathematics', 'Rotation (mathematics)']), ('Cesàro summation', ['group', 'element', 'sum'], ['Group (mathematics)', 'Element (mathematics)', 'Summation']), ('Unit vector', ['vector', 'set', 'sum'], ['Vector (mathematics and physics)', 'Set (mathematics)', 'Summation']), ('Coefficient', ['ratio', 'ratios', 'number'], ['Golden ratio', 'Ratio', 'Number']), ('Graph isomorphism', ['graph', 'vertex', 'edge'], ['Graph (discrete mathematics)', 'Vertex (geometry)', 'Graph (discrete mathematics)']), ('Polar decomposition', ['encoding', 'signal', 'polarization'], ['Code', 'Signal', 'Photon polarization']), ('Triangle inequality', ['polygon', 'length', 'triangle'], ['Polygon', 'Arc length', 'Golden triangle (mathematics)']), ('Factorization', ['number', 'factor', 'number'], ['Number', 'Factor', 'Number']), ('Quotient', ['ratio', 'ratios', 'number'], ['Golden ratio', 'Ratio', 'Number']), ('One-sided limit', ['limit', 'function', 'zero'], ['Limit (mathematics)', 'Function (mathematics)', '0']), ('Hermite normal form', ['polynomial', 'coefficient', 'rational'], ['Polynomial', 'Coefficient', 'Rational number']), ('Greatest common divisor', ['digit', 'number', 'ratio'], ['Significant figures', 'Number', 'Golden ratio']), ('Invariant subspace', ['subspace', 'transformation', 'invariant'], ['Linear subspace', 'Transformation (function)', 'Invariant (mathematics)']), ('Exponentiation', ['operation', 'number', 'multiply'], ['Operation (mathematics)', 'Number', 'Multiplication']), ('Proof by contradiction', ['theorem', 'proof', 'contradiction'], ['Theorem', 'Mathematical proof', 'Proof by contradiction']), ('Greatest element and least element', ['element', 'number', 'concept'], ['Element (mathematics)', 'Number', 'Mathematics']), ('Linear equation', ['relationship', 'quantity', 'expression'], ['Relationship between mathematics and physics', 'Quantity', 'Expression (mathematics)']), ('Quadrant', ['plane', 'axis', 'point'], ['Plane (geometry)', 'Axis', 'Fixed point (mathematics)']), ('One-to-one', ['set', 'element', 'pair'], ['Set (mathematics)', 'Element (mathematics)', 'Ordered pair']), ('Lorentz group', ['group', 'symmetry', 'space'], ['Group (mathematics)', 'Symmetry in mathematics', 'Space (mathematics)']), ('Saddle point', ['line', 'point', 'line segment'], ['Line (geometry)', 'Fixed point (mathematics)', 'Line segment']), ('Nominal interest rate', ['change', 'rate', 'change'], ['Mathematics', 'Rate (mathematics)', 'Mathematics']), ('Pivot element', ['line', 'point', 'line segment'], ['Line (geometry)', 'Fixed point (mathematics)', 'Line segment']), ('Proof by infinite descent', ['proof', 'theorem', 'proof'], ['Mathematical proof', 'Theorem', 'Mathematical proof']), ('Direct sum of modules', ['set', 'group', 'element'], ['Set (mathematics)', 'Group (mathematics)', 'Element (mathematics)']), ('Least-squares function approximation', ['function', 'minimize', 'difference'], ['Function (mathematics)', 'Mathematics', 'Subtraction']), ('Axiom of countable choice', ['set', 'element', 'number'], ['Set (mathematics)', 'Element (mathematics)', 'Number']), ('Unitary operator', ['operator', 'function', 'argument'], ['Operator (mathematics)', 'Function (mathematics)', 'Argument (complex analysis)']), ('Parallelepiped', ['polygon', 'length', 'width'], ['Polygon', 'Arc length', 'Surface of constant width']), ('Scene graph', ['scene', 'graph', 'structure'], ['History of mathematics', 'Graph (discrete mathematics)', 'Mathematical structure']), ('Euclidean plane isometry', ['isometric projection', 'spherical geometry'], ['Isometric projection', 'Spherical geometry']), ('Logarithmic scale', ['group', 'number', 'scale'], ['Group (mathematics)', 'Number', 'Music and mathematics']), ('Ideal', ['set', 'function', 'value'], ['Set (mathematics)', 'Function (mathematics)', 'Absolute value']), ('Quotient space (linear algebra)', ['set', 'subset', 'space'], ['Set (mathematics)', 'Set (mathematics)', 'Space (mathematics)']), ('Stochastic matrix', ['matrix', 'element', 'distribution'], ['Matrix (mathematics)', 'Element (mathematics)', 'Distribution (mathematics)']), ('Flatland (disambiguation)', ['surface', 'feature', 'dimension'], ['Surface (mathematics)', 'Mathematical structure', 'Dimension']), ('Commutative ring', ['group', 'element', 'isomorphic'], ['Group (mathematics)', 'Element (mathematics)', 'Isomorphism']), ('Convex set', ['set', 'curve', 'point'], ['Set (mathematics)', 'Curve', 'Fixed point (mathematics)']), ('Matrix sign function', ['matrix', 'sign', 'function'], ['Matrix (mathematics)', 'Sign (mathematics)', 'Function (mathematics)']), ('Orthogonal diagonalization', ['matrix', 'transform', 'space'], ['Matrix (mathematics)', 'Laplace transform', 'Space (mathematics)']), ('Lorentz transformation', ['translation', 'transformation', 'observer'], ['Translation (geometry)', 'Transformation (function)', 'Pure mathematics']), ('Function (mathematics)', ['relation', 'relational', 'mathematical'], ['Relation (mathematics)', 'Binary relation', 'Mathematics']), ('Property (disambiguation)', ['property of a set'], ['Property (mathematics)']), ('Principal component analysis', ['data set', 'variable', 'reduce'], ['Set theory', 'Variable (mathematics)', 'Mathematics']), ('Injection', ['process', 'substance', 'convert'], ['Contact process (mathematics)', 'Flux', 'Pure mathematics']), ('Rijndael S-box', ['bit', 'encrypt', 'data'], ['Bit', 'Encryption', 'Mathematics']), ('Chemical thermodynamics', ['set', 'rule', 'system'], ['Set (mathematics)', 'Mathematics', 'Autonomous system (mathematics)']), ('Lists of unsolved problems', ['list', 'problem', 'solve'], ['Lists of mathematics topics', 'List of unsolved problems in mathematics', 'How to Solve It']), ('Equation', ['relationship', 'quantity', 'statement'], ['Relationship between mathematics and physics', 'Quantity', 'Mathematical proof']), ('Directed graph', ['directed graph', 'point', 'edge'], ['Directed graph', 'Fixed point (mathematics)', 'Graph (discrete mathematics)']), ('Antipodal point', ['latitude', 'point', 'origin'], ['Latitude', 'Fixed point (mathematics)', 'Origin (mathematics)']), ('Univariate', ['a function', 'value', 'function'], ['Function (mathematics)', 'Absolute value', 'Function (mathematics)']), ('Event (probability theory)', ['probability', 'occurrence', 'event'], ['Probability theory', 'Outline of discrete mathematics', 'Event horizon']), ('Defective matrix', ['matrix', 'singularity', 'matrix multiplication'], ['Matrix (mathematics)', 'Singularity (mathematics)', 'Matrix multiplication']), ('Lefschetz fixed-point theorem', ['theorem', 'proof', 'concept'], ['Theorem', 'Mathematical proof', 'Mathematics']), ('Degree of a polynomial', ['degree', 'polynomial', 'term'], ['Mathematics', 'Polynomial', 'Mathematics']), ('Time-scale calculus', ['time', 'system', 'analyze'], ['Local time (mathematics)', 'Autonomous system (mathematics)', 'Mathematical software']), ('Mind42', ['set', 'number', 'number system'], ['Set (mathematics)', 'Number', 'Number']), ('Composite', ['set', 'element', 'elemental'], ['Set (mathematics)', 'Element (mathematics)', 'Euler angles']), ('Rule of 72', ['prime number', 'rule of thumb'], ['Prime number', 'Right-hand rule']), ('Joseph-Louis Lagrange', ['number', 'mathematician', 'concept'], ['Number', 'Mathematician', 'Mathematics']), ('Algebraically closed field', ['Field', 'element', 'field'], ['Field (mathematics)', 'Element (mathematics)', 'Field (mathematics)']), ('Four color theorem', ['theorem', 'set', 'number'], ['Theorem', 'Set (mathematics)', 'Number']), ('Output', ['absorption', 'system', 'energy'], ['Absorption law', 'Autonomous system (mathematics)', 'Energy']), ('Euclidean distance', ['measure', 'distance', 'point'], ['Measure (mathematics)', 'Distance', 'Fixed point (mathematics)']), ('Subspace theorem', ['theorem', 'proof', 'concept'], ['Theorem', 'Mathematical proof', 'Mathematics']), ('Geometrical properties of polynomial roots', ['set', 'line', 'point'], ['Set (mathematics)', 'Line (geometry)', 'Fixed point (mathematics)']), ('Fundamental', ['number', 'number system', 'prime'], ['Number', 'Number', 'Prime number']), ('Fredholm operator', ['mapping', 'function', 'continuous'], ['Map (mathematics)', 'Function (mathematics)', 'Discrete mathematics']), ('Variance', ['a measure of the spread of a population'], ['Greek letters used in mathematics, science, and engineering']), ('Mathematical economics', ['mathematical model', 'behavior', 'economy'], ['Mathematical model', 'Pathological (mathematics)', 'Mathematics']), ('Well-defined expression', ['solution', 'problem', 'expression'], ['Equation solving', 'List of unsolved problems in mathematics', 'Expression (mathematics)']), ('Homogeneous function', ['function', 'initial condition', 'function'], ['Function (mathematics)', 'Initial condition', 'Function (mathematics)']), ('Difference of two squares', ['square', 'difference', 'square root'], ['Square', 'Subtraction', 'Square root']), ('Arithmetic progression', ['order', 'number', 'sequence'], ['Mathematics', 'Number', 'Sequence']), ('Andrey Markov', ['probability', 'model', 'generate'], ['Probability theory', 'Mathematical model', 'Generator (mathematics)']), ('Contradiction', ['contradiction', 'statement', 'statement'], ['Proof by contradiction', 'Mathematical proof', 'Mathematical proof']), ('Identity element', ['identity', 'object', 'same'], ['Identity (mathematics)', 'Mathematical object', 'Mathematics']), ('Velocity', ['momentum', 'velocity', 'change'], ['Angular momentum', 'Velocity', 'Mathematics']), ('Adjacency matrix', ['matrix', 'element', 'original'], ['Matrix (mathematics)', 'Element (mathematics)', 'Mathematics']), ('Euclid (disambiguation)', ['geometry', 'symmetry', 'asymmetry'], ['Geometry', 'Symmetry in mathematics', 'Asymmetry']), ('Simple harmonic motion', ['periodic motion', 'amplitude', 'frequency'], ['Periodic function', 'Amplitude modulation', 'Frequency domain']), ('Rayleigh quotient', ['wave', 'medium', 'amplitude'], ['Wave', 'Bracket (mathematics)', 'Amplitude modulation']), ('Curve fitting', ['data set', 'curve', 'fit'], ['Set theory', 'Curve', 'Discrete mathematics']), ('Zero object (algebra)', ['number', 'object', 'function'], ['Number', 'Mathematical object', 'Function (mathematics)']), ('Transformation matrix', ['matrix', 'transform', 'matrix algebra'], ['Matrix (mathematics)', 'Laplace transform', 'Matrix multiplication']), ('CheiRank', ['symmetry', 'graph', 'measure'], ['Symmetry in mathematics', 'Graph (discrete mathematics)', 'Measure (mathematics)']), ('Transpose of a linear map', ['inverse', 'ratio', 'multiply'], ['Proportionality (mathematics)', 'Golden ratio', 'Multiplication']), ('Function composition', ['function', 'function composition', 'function'], ['Function (mathematics)', 'Function composition', 'Function (mathematics)']), ('Conjugacy class', ['class of all conjugacy classes'], ['Conjugacy class']), ('Intrinsics', ['property', 'set', 'element'], ['Property (mathematics)', 'Set (mathematics)', 'Element (mathematics)']), ('Integration', ['operation', 'number', 'set'], ['Operation (mathematics)', 'Number', 'Set (mathematics)']), ('Shear', ['force', 'body', 'act'], ['Forcing (mathematics)', 'Mathematics', 'Mathematics']), ('General linear group', ['group', 'element', 'elemental'], ['Group (mathematics)', 'Element (mathematics)', 'Euler angles']), ('Volume', ['volume', 'solid', 'measure'], ['Volume', 'Solid geometry', 'Measure (mathematics)']), ('Inverse trigonometric functions', ['inverse trigonometric functions', 'sine', 'cosine'], ['Inverse trigonometric functions', 'Sine and cosine', 'Sine and cosine']), ('Pythagorean theorem', ['ratio', 'length', 'side'], ['Golden ratio', 'Arc length', 'Sides of an equation']), ('Algebraic expression', ['expression', 'number', 'symbol'], ['Expression (mathematics)', 'Number', 'Glossary of mathematical symbols']), ('Square matrix', ['matrix', 'vector', 'row'], ['Matrix (mathematics)', 'Vector (mathematics and physics)', 'Matrix (mathematics)']), ('Rotation (mathematics)', ['change', 'direction', 'motion'], ['Mathematics', 'Mathematics', 'Motion']), ('Idempotence', ['property', 'function', 'argument'], ['Property (mathematics)', 'Function (mathematics)', 'Argument (complex analysis)']), ('Ideal (ring theory)', ['group', 'ring', 'subset'], ['Group (mathematics)', 'Ring (mathematics)', 'Set (mathematics)']), ('Linear congruential generator', ['prime number', 'generator', 'combination'], ['Prime number', 'Generator (mathematics)', 'Combination']), ('Error correction code', ['error correction', 'code', 'data'], ['Error correction code', 'Mathematics', 'Mathematics']), ('Euclidean algorithm', ['algorithm', 'find', 'path'], ['Algorithm', 'Mathematics', 'Path (topology)']), ('Elementary operations', ['arithmetic', 'operation', 'number'], ['Arithmetic', 'Operation (mathematics)', 'Number']), ('Inverse function theorem', ['theorem', 'proof', 'concept'], ['Theorem', 'Mathematical proof', 'Mathematics']), ('Tegra', ['polynomial', 'quadratic', 'function'], ['Polynomial', 'Quadratic equation', 'Function (mathematics)']), ('Logistic function', ['function', 'combination', 'function'], ['Function (mathematics)', 'Combination', 'Function (mathematics)']), ('Division by zero', ['zero', 'number', 'divide'], ['0', 'Number', 'Division (mathematics)']), ('LU decomposition', ['matrix', 'decomposition', 'transform'], ['Matrix (mathematics)', 'Singular value decomposition', 'Laplace transform']), ('Power rule', ['rule', 'thumb', 'mathematician'], ['Mathematics', 'Right-hand rule', 'Mathematician']), ('Break-even', ['point of no return'], ['Mathematics']), ('Fundamental theorem of calculus', ['theorem', 'proof', 'concept'], ['Theorem', 'Mathematical proof', 'Mathematics']), ('Scalar', ['number', 'fraction', 'express'], ['Number', 'Fraction', 'Mathematics']), ('Radon transform', ['symmetry', 'transformation'], ['Symmetry in mathematics', 'Transformation (function)']), ('Circle', ['tangent', 'figure', 'end'], ['Tangent', 'Mathematics', 'Mathematics']), ('Distance', ['measure', 'distance', 'point'], ['Measure (mathematics)', 'Distance', 'Fixed point (mathematics)']), ('Geometric algebra', ['axiom', 'rule', 'system'], ['Axiom', 'Mathematics', 'Autonomous system (mathematics)']), ('Hermann Weyl', ['physics', 'astronomy', 'math'], ['Vector (mathematics and physics)', 'Kerala school of astronomy and mathematics', 'Mathematics']), ('Red box', ['area', 'screen', 'rectangle'], ['Area', 'Matrix (mathematics)', 'Rectangle']), ('Discrete-time Markov chain', ['discrete-time Markov chain'], ['Discrete-time Markov chain']), ('Nuclear operators between Banach spaces', ['operator', 'Banach space', 'map'], ['Operator (mathematics)', 'Banach space', 'Map (mathematics)']), ('Jordan normal form', ['set', 'element', 'group'], ['Set (mathematics)', 'Element (mathematics)', 'Group (mathematics)']), ('Real number', ['number', 'number system', 'real number'], ['Number', 'Number', 'Real number']), ('Orthogonal group', ['group', 'element', 'orthogonal'], ['Group (mathematics)', 'Element (mathematics)', 'Orthogonality (mathematics)']), ('Smith normal form', ['set', 'group', 'equivalence'], ['Set (mathematics)', 'Group (mathematics)', 'Equivalence relation']), ('Venn diagram', ['set', 'number', 'diagram'], ['Set (mathematics)', 'Number', 'Mathematical diagram']), ('Cornell Notes', ['set', 'line', 'rule'], ['Set (mathematics)', 'Line (geometry)', 'Mathematics']), ('Exact diagonalization', ['method', 'solve', 'equation'], ['Mathematics', 'How to Solve It', 'Equation']), ('Geometry', ['set', 'rule', 'describe'], ['Set (mathematics)', 'Mathematics', 'Mathematical beauty']), ('Rule of Sarrus', ['rule', 'thumb', 'mathematician'], ['Mathematics', 'Right-hand rule', 'Mathematician']), ('Zero-product property', ['product', 'vector', 'zero'], ['Product (mathematics)', 'Vector (mathematics and physics)', '0']), ('Outer product', ['product', 'product', 'product line'], ['Product (mathematics)', 'Product (mathematics)', 'Multiplication']), ('Linear algebra', ['system', 'solution', 'equation'], ['Autonomous system (mathematics)', 'Equation solving', 'Equation']), ('Generator', ['current', 'device', 'produce'], ['Current (mathematics)', 'Three-body problem', 'Mathematics']), ('Congruence (geometry)', ['distance', 'point', 'plane'], ['Distance', 'Fixed point (mathematics)', 'Plane (geometry)']), (\"Gauss's method\", ['averaging', 'solve', 'equation'], ['Average', 'How to Solve It', 'Equation']), ('Tensor rank decomposition', ['scalar', 'vector', 'space'], ['Scalar (mathematics)', 'Vector (mathematics and physics)', 'Space (mathematics)']), ('Geometric hashing', ['hash function', 'function', 'compute'], ['Perfect hash function', 'Function (mathematics)', 'Computability theory']), ('Exterior algebra', ['set', 'element', 'group'], ['Set (mathematics)', 'Element (mathematics)', 'Group (mathematics)']), ('Decoder', ['digital', 'signal', 'convert'], ['Discrete mathematics', 'Signal', 'Pure mathematics']), ('Wheatstone bridge', ['transistor', 'circuit', 'input'], ['Bipolar junction transistor', 'Electrical network', 'Input–output model']), ('Taylor series', ['number', 'sequence', 'sum'], ['Number', 'Sequence', 'Summation']), ('System of equations', ['set', 'equation', 'connect'], ['Set (mathematics)', 'Equation', 'Connector (mathematics)']), ('Exponential growth', ['exponential growth', 'rate', 'time'], ['Exponential growth', 'Rate (mathematics)', 'Local time (mathematics)']), ('Glide reflection', ['wave', 'reflection', 'surface'], ['Wave', 'Reflection (mathematics)', 'Surface (mathematics)']), ('Branch and bound', ['tree', 'branch', 'node'], ['Spanning tree', 'Mathematics', 'Vertex (graph theory)']), ('Axis', ['line', 'circle', 'center'], ['Line (geometry)', 'Circle', 'Mathematics']), ('Single-precision floating-point format', ['digit', 'number', 'fraction'], ['Significant figures', 'Number', 'Fraction']), ('Addition', ['operation', 'mathematical', 'concept'], ['Operation (mathematics)', 'Mathematics', 'Mathematics']), ('Binomial distribution', ['set', 'element', 'sum'], ['Set (mathematics)', 'Element (mathematics)', 'Summation']), (\"L'Hôpital's rule\", ['rule', 'thumb', 'mathematician'], ['Mathematics', 'Right-hand rule', 'Mathematician']), ('Axiom of empty set', ['set', 'element', 'axiom'], ['Set (mathematics)', 'Element (mathematics)', 'Axiom']), ('Cosine similarity', ['similarity', 'measure', 'vector'], ['Jaccard index', 'Measure (mathematics)', 'Vector (mathematics and physics)']), ('Converse (logic)', ['statement', 'truth', 'opposite'], ['Mathematical proof', 'Vacuous truth', 'Additive inverse']), ('Examples of Markov chains', ['probability', 'distribution', 'random'], ['Probability theory', 'Distribution (mathematics)', 'Random walk']), ('Shear and moment diagram', ['force', 'diagram', 'body'], ['Forcing (mathematics)', 'Mathematical diagram', 'Mathematics']), ('Order of magnitude', ['number', 'multiple', 'number'], ['Number', 'Multiple (mathematics)', 'Number']), ('Dot product', ['product', 'quantity', 'quantity'], ['Product (mathematics)', 'Quantity', 'Quantity']), ('Closed-household economy', ['household', 'economy', 'close'], ['Household', 'Mathematics', 'Closeness (mathematics)']), ('Eigenvalue algorithm', ['method', 'solve', 'equation'], ['Mathematics', 'How to Solve It', 'Equation']), ('RC circuit', ['reactance', 'circuit', 'current'], ['Susceptance', 'Electrical network', 'Current (mathematics)']), ('Lemma', ['conditional statement', 'true if', 'statement'], ['Vacuous truth', 'Mathematics', 'Mathematical proof']), ('Electric potential', ['charge', 'field', 'charge density'], ['Electric charge', 'Field (mathematics)', 'Charge density']), ('Arf invariant', ['group', 'class', 'equivalence'], ['Group (mathematics)', 'Class (set theory)', 'Equivalence relation']), ('Cancellation property', ['property', 'function', 'zero'], ['Property (mathematics)', 'Function (mathematics)', '0']), ('Electrical network', ['set', 'node', 'power'], ['Set (mathematics)', 'Vertex (graph theory)', 'Exponentiation']), ('Knowledge space', ['set', 'system', 'state'], ['Set (mathematics)', 'Autonomous system (mathematics)', 'Mathematics']), ('Gram matrix', ['group', 'matrix', 'element'], ['Group (mathematics)', 'Matrix (mathematics)', 'Element (mathematics)']), ('Trace class', ['class', 'function', 'inverse'], ['Class (set theory)', 'Function (mathematics)', 'Proportionality (mathematics)']), ('Multiplicative inverse', ['inverse', 'function', 'multiplicative'], ['Proportionality (mathematics)', 'Function (mathematics)', 'Multiplication']), ('Dynamical systems theory', ['differential equations', 'dynamical system'], ['Differential equation', 'Dynamical systems theory']), ('Continuous function', ['time', 'space', 'function'], ['Local time (mathematics)', 'Space (mathematics)', 'Function (mathematics)']), ('Imaginary unit', ['number that is neither real nor a real number'], ['Real number']), ('Change of basis', ['change', 'system', 'number'], ['Mathematics', 'Autonomous system (mathematics)', 'Number']), ('Dividend aristocrat', ['consecutive', 'year', 'dividend'], ['Harshad number', 'Mathematics', 'Division (mathematics)']), ('Time-utility function', ['utility', 'function', 'measure'], ['Utility', 'Function (mathematics)', 'Measure (mathematics)']), ('Antisymmetric relation', ['inverse', 'relation', 'relational'], ['Proportionality (mathematics)', 'Relation (mathematics)', 'Binary relation']), ('Diagonalization', ['line', 'x-axis', 'segment'], ['Line (geometry)', 'Cartesian coordinate system', 'Mathematics']), ('Argument (complex analysis)', ['set', 'axiom', 'theory'], ['Set (mathematics)', 'Axiom', 'Set theory']), ('Alternating', ['time', 'function', 'period'], ['Local time (mathematics)', 'Function (mathematics)', 'Mathematics']), ('Vertical line test', ['test', 'variance', 'equality'], ['GRE Mathematics Test', 'Variance', 'Equality (mathematics)']), ('Scaling (geometry)', ['ratio', 'ratios', 'number'], ['Golden ratio', 'Ratio', 'Number']), ('Cardinality of the continuum', ['set', 'function', 'value'], ['Set (mathematics)', 'Function (mathematics)', 'Absolute value']), ('Shear modulus', ['material', 'stiffness', 'measure'], ['Mathematics', 'Stiffness', 'Measure (mathematics)']), ('Ellipse', ['polygon', 'curve', 'tangent'], ['Polygon', 'Curve', 'Tangent']), ('Correlation coefficient', ['degree of correlation', 'measure'], ['Correlation', 'Measure (mathematics)']), ('Index', ['size', 'measure', 'element'], ['Magnitude (mathematics)', 'Measure (mathematics)', 'Element (mathematics)']), (\"Zorn's lemma\", ['theorem', 'statement', 'lemma'], ['Theorem', 'Mathematical proof', 'Lemma (mathematics)']), ('Partial equivalence relation', ['partial equivalence relation'], ['Partial equivalence relation']), ('Sphere', ['surface', 'volume', 'spherical'], ['Surface (mathematics)', 'Volume', 'Spherical coordinate system']), ('Iconic', ['polygon', 'curve', 'tangency'], ['Polygon', 'Curve', 'Tangent']), ('Maple (software)', ['computer', 'system', 'algebra'], ['Discrete mathematics', 'Autonomous system (mathematics)', 'Algebra']), ('Hamming bound', ['set', 'curve', 'function'], ['Set (mathematics)', 'Curve', 'Function (mathematics)']), ('Linear programming', ['model', 'problem', 'solve'], ['Mathematical model', 'List of unsolved problems in mathematics', 'How to Solve It']), ('Modified discrete cosine transform', ['transform', 'amplitude', 'phase'], ['Laplace transform', 'Amplitude modulation', 'Phase line (mathematics)']), ('Homogeneous coordinates', ['set', 'point', 'coordinate'], ['Set (mathematics)', 'Fixed point (mathematics)', 'Coordinate system']), ('Quadratic equation', ['coefficient', 'polynomial', 'equation'], ['Coefficient', 'Polynomial', 'Equation']), ('Deviation', ['a measure of the spread of a population'], ['Greek letters used in mathematics, science, and engineering']), ('Diophantine approximation', ['prime number'], ['Prime number']), ('Identity (mathematics)', ['property', 'set', 'property'], ['Property (mathematics)', 'Set (mathematics)', 'Property (mathematics)']), ('Phon', ['syllable', 'meter', 'rhythm'], ['Indian mathematics', 'Metre', 'The Geometry of Musical Rhythm']), ('Graph of a function', ['graph', 'function', 'representation'], ['Graph (discrete mathematics)', 'Function (mathematics)', 'Representation (mathematics)']), ('Cayley graph', ['directed line', 'graph', 'edge'], ['Directed graph', 'Graph (discrete mathematics)', 'Graph (discrete mathematics)']), ('Partial fraction decomposition', ['partial fraction', 'fraction', 'multiply'], ['Partial fraction decomposition', 'Fraction', 'Multiplication']), ('Galton board', ['operation', 'board', 'arithmetic'], ['Operation (mathematics)', 'Chinese mathematics', 'Arithmetic']), ('Diagonal matrix', ['matrix', 'element', 'diagonal'], ['Matrix (mathematics)', 'Element (mathematics)', \"Cantor's diagonal argument\"]), ('Symmetric relation', ['inverse', 'relation', 'relational'], ['Proportionality (mathematics)', 'Relation (mathematics)', 'Binary relation']), ('Parameter (disambiguation)', ['constant', 'constant', 'number'], ['Constant (mathematics)', 'Constant (mathematics)', 'Number']), ('Image segmentation', ['set', 'image', 'region'], ['Set (mathematics)', 'Image (mathematics)', 'Domain (mathematical analysis)']), ('Companion matrix', ['matrix', 'complement', 'element'], ['Matrix (mathematics)', 'Complement (set theory)', 'Element (mathematics)']), ('Remainder', ['remainder', 'division', 'whole number'], ['Remainder', 'Division (mathematics)', 'Whole number']), ('Linearity', ['function', 'variable', 'combination'], ['Function (mathematics)', 'Variable (mathematics)', 'Combination']), (\"Bessel's inequality\", ['positive constant'], ['Mathematical constant']), ('Shot grouping', ['set', 'sequence', 'shot'], ['Set (mathematics)', 'Sequence', 'Pi (film)']), ('Asymptote', ['point', 'curve', 'tangent'], ['Fixed point (mathematics)', 'Curve', 'Tangent']), ('Orthogonal coordinates', ['set', 'coordinate', 'coordinate system'], ['Set (mathematics)', 'Coordinate system', 'Coordinate system']), ('Hamming(7,4)', ['length', 'side', 'square'], ['Arc length', 'Sides of an equation', 'Square']), ('Optical path length', ['distance', 'space', 'light'], ['Distance', 'Space (mathematics)', 'Mathematics']), ('Principal ideal', ['set', 'number', 'inverse'], ['Set (mathematics)', 'Number', 'Proportionality (mathematics)']), ('Morphism', ['identity', 'function', 'object'], ['Identity (mathematics)', 'Function (mathematics)', 'Mathematical object']), ('Pivot', ['spherical surface', 'point of rotation'], ['Sphere', 'Rotation (mathematics)']), ('Antimagic square', ['vertex', 'side', 'square'], ['Vertex (geometry)', 'Sides of an equation', 'Square']), ('Irreducible polynomial', ['coefficient', 'sign', 'polynomial'], ['Coefficient', 'Sign (mathematics)', 'Polynomial']), ('Normal (geometry)', ['line', 'x-axis', 'y-axis'], ['Line (geometry)', 'Cartesian coordinate system', 'Cartesian coordinate system']), ('Lagrange polynomial', ['differential equation', 'solution', 'polynomial'], ['Ordinary differential equation', 'Equation solving', 'Polynomial']), ('Extraneous and missing solutions', ['solution', 'system', 'underlying'], ['Equation solving', 'Autonomous system (mathematics)', 'Mathematical optimization']), ('Cayley table', ['number', 'table', 'number'], ['Number', 'Mathematical table', 'Number']), ('Finitely generated module', ['group', 'module', 'generate'], ['Group (mathematics)', 'Module (mathematics)', 'Generator (mathematics)']), ('Example', ['set', 'axiom', 'theory'], ['Set (mathematics)', 'Axiom', 'Set theory']), ('Parameter', ['a mathematical quantity that specifies the value of a particular quantity'], ['Variable (mathematics)']), ('Parent function', ['function', 'case', 'function'], ['Function (mathematics)', 'Mathematics', 'Function (mathematics)']), ('Bijection, injection and surjection', ['projection', 'ray', 'ray diagram'], ['Projection (mathematics)', 'Line (geometry)', 'Penrose diagram']), (\"Euler's formula\", ['area', 'triangle', 'formula'], ['Area', 'Golden triangle (mathematics)', 'Formula']), ('Interval (mathematics)', ['set', 'line', 'point'], ['Set (mathematics)', 'Line (geometry)', 'Fixed point (mathematics)']), ('Residual sum of squares', ['field', 'vector', 'square'], ['Field (mathematics)', 'Vector (mathematics and physics)', 'Square']), ('Finite set', ['set', 'element', 'group'], ['Set (mathematics)', 'Element (mathematics)', 'Group (mathematics)']), ('Snake lemma', ['theorem', 'axiom', 'prove'], ['Theorem', 'Axiom', 'Automated theorem proving']), ('Invariant subspace problem', ['subspace', 'problem', 'solution'], ['Linear subspace', 'List of unsolved problems in mathematics', 'Equation solving']), ('Leading-order term', ['term', 'series', 'term'], ['Mathematics', 'Series (mathematics)', 'Mathematics']), ('Pandiagonal magic square', ['length', 'side', 'square'], ['Arc length', 'Sides of an equation', 'Square']), ('Random Fibonacci sequence', ['number sequence', 'number', 'sequence'], ['Fibonacci number', 'Number', 'Sequence']), ('Vector multiplication', ['vector', 'add', 'subtract'], ['Vector (mathematics and physics)', 'Addition', 'Subtraction']), ('Words, Words, Words (disambiguation)', ['series', 'word', 'word'], ['Series (mathematics)', 'Word problem (mathematics)', 'Word problem (mathematics)']), ('History of logarithms', ['natural logarithm', 'sequence', 'number'], ['Natural logarithm', 'Sequence', 'Number']), ('Module (mathematics)', ['set', 'operation', 'arithmetic'], ['Set (mathematics)', 'Operation (mathematics)', 'Arithmetic']), ('Mathematical structure', ['set', 'axiom', 'theory'], ['Set (mathematics)', 'Axiom', 'Set theory']), ('Annual percentage yield', ['rate', 'investment', 'return'], ['Rate (mathematics)', 'Quantitative analysis (finance)', 'Mathematics']), ('Hilbert space', ['set', 'point', 'Hilbert space'], ['Set (mathematics)', 'Fixed point (mathematics)', 'Hilbert space']), ('Subspace', ['axis', 'plane', 'point'], ['Axis', 'Plane (geometry)', 'Fixed point (mathematics)']), ('Condition number', ['system', 'equilibrium', 'measure'], ['Autonomous system (mathematics)', 'Equilibrium point', 'Measure (mathematics)']), ('Multiplicity', ['ratio', 'number', 'quantity'], ['Golden ratio', 'Number', 'Quantity']), ('Initial condition', ['set', 'condition', 'process'], ['Set (mathematics)', 'Necessity and sufficiency', 'Contact process (mathematics)']), ('Fibonacci number', ['prime number', 'number', 'sum'], ['Prime number', 'Number', 'Summation']), ('Norm', ['mean', 'average', 'measure'], ['Mean', 'Average', 'Measure (mathematics)']), ('Quadrilateral', ['polygon', 'side', 'polygon'], ['Polygon', 'Sides of an equation', 'Polygon']), ('Absorbing Markov chain', ['Markov chain', 'state', 'system'], ['Markov chain', 'Mathematics', 'Autonomous system (mathematics)']), ('Cubic function', ['function', 'value', 'return'], ['Function (mathematics)', 'Absolute value', 'Mathematics']), ('Projection (mathematics)', ['map', 'point', 'plane'], ['Map (mathematics)', 'Fixed point (mathematics)', 'Plane (geometry)']), ('Binary code', ['binary number', 'digit', 'arithmetic'], ['Binary number', 'Significant figures', 'Arithmetic']), ('Implication', ['implication', 'consequence', 'logic'], ['Philosophy of mathematics', 'Logical consequence', 'Mathematical logic']), ('Interval', ['time', 'interval', 'timepiece'], ['Local time (mathematics)', 'Interval (mathematics)', 'Mainspring']), ('Phasor', ['vector', 'quantity', 'direction'], ['Vector (mathematics and physics)', 'Quantity', 'Mathematics']), ('Object', ['set', 'element', 'number'], ['Set (mathematics)', 'Element (mathematics)', 'Number']), ('Golden rectangle', ['diagonal', 'length', 'width'], [\"Cantor's diagonal argument\", 'Arc length', 'Surface of constant width']), ('Triple product', ['product', 'quantity', 'product'], ['Product (mathematics)', 'Quantity', 'Product (mathematics)']), ('Prefix code', ['digit', 'number', 'sequence'], ['Significant figures', 'Number', 'Sequence']), ('Standard deviation', ['measure', 'variability', 'mean'], ['Measure (mathematics)', 'Heart rate variability', 'Mean']), ('Positive operator (Hilbert space)', ['Hilbert space', 'real line', 'function'], ['Hilbert space', 'Real number', 'Function (mathematics)']), ('Harmonic function', ['periodic function', 'function', 'sense'], ['Periodic function', 'Function (mathematics)', 'Mathematics']), ('Symmetry (geometry)', ['set', 'mirror', 'figure'], ['Set (mathematics)', 'Reflection (mathematics)', 'Mathematics']), ('Dual basis', ['a set of orthogonal axes'], ['Orthogonality (mathematics)']), ('Hyperspace (disambiguation)', ['spacetime'], ['Spacetime']), ('Semisimple operator', ['operator', 'mathematical', 'not'], ['Operator (mathematics)', 'Mathematics', 'Mathematics']), ('Long division', ['division by zero'], ['Division by zero']), ('Constant term', ['term', 'term', 'term'], ['Mathematics', 'Mathematics', 'Mathematics']), ('Negative number', ['negative real number', 'real number'], ['Sign (mathematics)', 'Real number']), ('Restriction (mathematics)', ['condition', 'solution', 'exist'], ['Necessity and sufficiency', 'Equation solving', 'Mathematics']), ('Interquartile range', ['median', 'mean', 'mode'], ['Median', 'Mean', 'Mode (statistics)']), ('Summary', ['text', 'summary', 'point'], ['Graduate Texts in Mathematics', 'Summary statistics', 'Fixed point (mathematics)']), ('Normal', ['distribution', 'mean', 'zero'], ['Distribution (mathematics)', 'Mean', '0']), ('Triangular matrix', ['matrix', 'diagonal', 'matrix'], ['Matrix (mathematics)', \"Cantor's diagonal argument\", 'Matrix (mathematics)']), ('Jacobian matrix and determinant', ['matrix', 'determinant', 'row'], ['Matrix (mathematics)', 'Determinant', 'Matrix (mathematics)']), ('Reciprocal', ['ratio', 'denominator', 'numerator'], ['Golden ratio', 'Lowest common denominator', 'Fraction']), ('Orthogonal polynomials', ['polynomial', 'root', 'distinct'], ['Polynomial', 'Tetration', 'Equality (mathematics)']), ('Conformal map', ['conformal map', 'bounded domain'], ['Conformal map', 'Upper and lower bounds']), ('Canonical form', ['group', 'subset', 'element'], ['Group (mathematics)', 'Set (mathematics)', 'Element (mathematics)']), ('Complementary event', ['event', 'logically', 'equivalent'], ['Event horizon', 'Logical equivalence', 'Mathematics']), ('Identity function', ['identity of a function'], ['Identity function']), ('Matrix exponential', ['matrix', 'function', 'combination'], ['Matrix (mathematics)', 'Function (mathematics)', 'Combination']), ('Net reproduction rate', ['nrr', 'number', 'ratio'], ['Spring (mathematics)', 'Number', 'Golden ratio']), ('Partial least squares regression', ['estimation', 'model', 'parameter'], ['Point estimation', 'Mathematical model', 'Parameter']), ('Relation', ['set', 'rule', 'determine'], ['Set (mathematics)', 'Mathematics', 'Mathematics']), ('Even and odd functions', ['point', 'function', 'zero'], ['Fixed point (mathematics)', 'Function (mathematics)', '0']), ('Series (mathematics)', ['sequence', 'element', 'number'], ['Sequence', 'Element (mathematics)', 'Number']), ('Heat equation', ['change', 'temperature', 'equation'], ['Mathematics', 'Temperature', 'Equation']), ('Product (mathematics)', ['number', 'quantity', 'sum'], ['Number', 'Quantity', 'Summation']), ('Scalar (mathematics)', ['scalar', 'number', 'object'], ['Scalar (mathematics)', 'Number', 'Mathematical object']), ('Right-hand rule', ['rule', 'thumb', 'mathematician'], ['Mathematics', 'Right-hand rule', 'Mathematician']), ('Correspondence', ['set', 'point', 'respect'], ['Set (mathematics)', 'Fixed point (mathematics)', 'Mathematics']), ('Classification of discontinuities', ['set', 'rule', 'discontinuity'], ['Set (mathematics)', 'Mathematics', 'Classification of discontinuities']), ('Rule of product', ['product', 'rule', 'thumb'], ['Product (mathematics)', 'Mathematics', 'Right-hand rule']), ('Loop invariant', ['property', 'argument', 'function'], ['Property (mathematics)', 'Argument (complex analysis)', 'Function (mathematics)']), ('Vibration', ['periodic motion', 'amplitude', 'frequency'], ['Periodic function', 'Amplitude modulation', 'Frequency domain']), ('Finite field', ['set', 'number', 'element'], ['Set (mathematics)', 'Number', 'Element (mathematics)']), ('Minimal polynomial (field theory)', ['polynomial', 'zero', 'zeros'], ['Polynomial', '0', '0']), ('Perpendicular', ['line', 'perpendicular', 'line'], ['Line (geometry)', 'Perpendicular', 'Line (geometry)']), ('Radius', ['diameter', 'circle', 'length'], ['Angular diameter', 'Circle', 'Arc length']), ('Median (geometry)', ['line', 'segment', 'midpoint'], ['Line (geometry)', 'Mathematics', 'Midpoint']), ('Summation', ['set', 'element', 'sum'], ['Set (mathematics)', 'Element (mathematics)', 'Summation']), ('Delaunay triangulation', ['set', 'plane', 'point'], ['Set (mathematics)', 'Plane (geometry)', 'Fixed point (mathematics)']), ('Unit sphere', ['sphere', 'radius', 'unit'], ['Sphere', 'Radius', 'Unit (ring theory)']), ('Horizontal line test', ['slope', 'test', 'line'], ['Slope', 'GRE Mathematics Test', 'Line (geometry)']), ('Similarity measure', ['degree of similarity'], ['Mathematics']), ('Cache placement policies', ['data structure', 'memory', 'algorithm'], ['Data structure', 'Sparse distributed memory', 'Algorithm']), ('Square root', ['ratio', 'circle', 'diameter'], ['Golden ratio', 'Circle', 'Angular diameter']), ('Perimeter', ['diameter', 'circle', 'length'], ['Angular diameter', 'Circle', 'Arc length']), ('Power series', ['number', 'power', 'sequence'], ['Number', 'Exponentiation', 'Sequence']), ('Feature scaling', ['factor', 'size', 'change'], ['Factor', 'Magnitude (mathematics)', 'Mathematics']), ('Product rule', ['product', 'quantity', 'rule'], ['Product (mathematics)', 'Quantity', 'Mathematics']), ('MATLAB', ['programming', 'language', 'high'], ['Mathematics', 'Language of mathematics', 'Mathematics']), ('Disquisitiones Arithmeticae', ['treatise', 'mathematics', 'treatise'], ['Treatise', 'Mathematics', 'Treatise']), ('Scalar multiplication', ['scalar multiplication'], ['Scalar multiplication']), ('Graph', ['graph', 'function', 'graphing'], ['Graph (discrete mathematics)', 'Function (mathematics)', 'Graph (discrete mathematics)']), ('Erlangen program', ['set', 'function', 'equivalence'], ['Set (mathematics)', 'Function (mathematics)', 'Equivalence relation']), ('Primary decomposition', ['fraction', 'substance', 'part'], ['Fraction', 'Flux', 'Part III of the Mathematical Tripos']), ('Multiplication', ['operation', 'mathematical', 'concept'], ['Operation (mathematics)', 'Mathematics', 'Mathematics']), ('Matrix equivalence', ['matrix', 'vector', 'interchange'], ['Matrix (mathematics)', 'Vector (mathematics and physics)', 'Mathematical and theoretical biology']), ('Operator theory', ['operator theory', 'mathematical analysis'], ['Operator theory', 'Mathematical analysis']), ('Spectrum (functional analysis)', ['set', 'inequality', 'number'], ['Set (mathematics)', 'Inequality (mathematics)', 'Number']), ('Affine hull', ['set', 'plane', 'point'], ['Set (mathematics)', 'Plane (geometry)', 'Fixed point (mathematics)']), ('Moment magnitude scale', ['magnitude', 'disturbance', 'measure'], ['Magnitude (mathematics)', 'Perturbation theory (quantum mechanics)', 'Measure (mathematics)']), ('Staircase paradox', ['function', 'problem', 'solution'], ['Function (mathematics)', 'List of unsolved problems in mathematics', 'Equation solving']), ('Geometric Description Language', ['geometry', 'language', 'object'], ['Geometry', 'Language of mathematics', 'Mathematical object']), ('Geometric progression', ['number', 'step', 'sequence'], ['Number', 'Mathematical induction', 'Sequence']), ('PageRank', ['Web page rank'], ['PageRank']), ('List of things named after Carl Friedrich Gauss', ['list', 'thing', 'name'], ['Lists of mathematics topics', 'Philosophy of mathematics', 'Mathematics']), ('Application', ['function', 'value', 'return'], ['Function (mathematics)', 'Absolute value', 'Mathematics']), ('Direct proof', ['proof', 'argument', 'logic'], ['Mathematical proof', 'Argument (complex analysis)', 'Mathematical logic']), ('Altitude (triangle)', ['line', 'triangle', 'vertices'], ['Line (geometry)', 'Golden triangle (mathematics)', 'Graph (discrete mathematics)']), ('Fahrenheit (disambiguation)', ['temperature', 'scale', 'temperature'], ['Temperature', 'Music and mathematics', 'Temperature']), ('Force', ['vector', 'quantity', 'direction'], ['Vector (mathematics and physics)', 'Quantity', 'Mathematics']), ('Elementary algebra', ['set', 'rule', 'solve'], ['Set (mathematics)', 'Mathematics', 'How to Solve It']), ('System of linear equations', ['set', 'function', 'equation'], ['Set (mathematics)', 'Function (mathematics)', 'Equation']), ('Expectation', ['probability', 'event', 'measure'], ['Probability theory', 'Event horizon', 'Measure (mathematics)']), ('Parametrization', ['discrete', 'function', 'transform'], ['Discrete mathematics', 'Function (mathematics)', 'Laplace transform']), ('Imaginary number', ['number theory', 'complex number'], ['Number theory', 'Absolute value']), ('Transitive relation', ['relation', 'subordinate', 'party'], ['Relation (mathematics)', 'Subordinator (mathematics)', 'Vedic Mathematics']), ('Relaxation (iterative method)', ['method', 'solve', 'equation'], ['Mathematics', 'How to Solve It', 'Equation']), ('Cauchy–Schwarz inequality', ['tangent', 'curve', 'normal'], ['Tangent', 'Curve', 'Canonical form']), ('Complex analysis', ['function', 'structure', 'study'], ['Function (mathematics)', 'Mathematical structure', 'Mathematics']), ('Multiplicity (mathematics)', ['count', 'property', 'set'], ['Mathematics', 'Property (mathematics)', 'Set (mathematics)']), ('Euclidean space', ['dimensionality', 'space', 'number'], ['Dimension', 'Space (mathematics)', 'Number']), ('Great-circle distance', ['spherical surface', 'measure', 'distance'], ['Sphere', 'Measure (mathematics)', 'Distance']), ('Prime number', ['prime number', 'number', 'concept'], ['Prime number', 'Number', 'Mathematics']), ('Row- and column-major order', ['digit', 'number', 'arrange'], ['Significant figures', 'Number', 'Discrete mathematics']), ('Similarity (geometry)', ['figure', 'similarity', 'figure'], ['Mathematics', 'Jaccard index', 'Mathematics']), ('Dependent type', ['object', 'type', 'manipulate'], ['Mathematical object', 'Type theory', 'Manipulative (mathematics education)']), ('Addition principle', ['product', 'element', 'sum'], ['Product (mathematics)', 'Element (mathematics)', 'Summation']), ('Vector', ['line', 'segment', 'point'], ['Line (geometry)', 'Mathematics', 'Fixed point (mathematics)']), ('Natural transformation', ['transformation', 'preserve', 'structure'], ['Transformation (function)', 'Mathematical structure', 'Mathematical structure']), ('Piecewise', ['series', 'function', 'sum'], ['Series (mathematics)', 'Function (mathematics)', 'Summation']), (\"Descartes' theorem\", ['sum', 'triangle', 'angle'], ['Summation', 'Golden triangle (mathematics)', 'Angle']), ('Singular solution', ['differential equation', 'solution', 'unique'], ['Ordinary differential equation', 'Equation solving', 'Uniqueness quantification']), ('Group action', ['group', 'individual', 'act'], ['Group (mathematics)', 'Mathematics', 'Mathematics']), ('Outcome', ['effect', 'measure', 'measurable'], ['Mathematics', 'Measure (mathematics)', 'Measurable function']), ('Probability vector', ['probability', 'event', 'vector'], ['Probability theory', 'Event horizon', 'Vector (mathematics and physics)']), ('Row equivalence', ['set', 'column', 'row'], ['Set (mathematics)', 'List of Martin Gardner Mathematical Games columns', 'Matrix (mathematics)']), ('Positive definiteness', ['positive definiteness', 'cardinality', 'set'], ['Positive definiteness', 'Cardinality', 'Set (mathematics)']), ('Linear regression', ['model', 'describe', 'relationship'], ['Mathematical model', 'Mathematical beauty', 'Relationship between mathematics and physics']), ('Even', ['number', 'divisor', '2'], ['Number', 'Divisor', 'Mathematics']), ('Dehn invariant', ['set', 'element', 'group'], ['Set (mathematics)', 'Element (mathematics)', 'Group (mathematics)']), ('Subset', ['set', 'element', 'elemental'], ['Set (mathematics)', 'Element (mathematics)', 'Euler angles']), ('Unit cube', ['number', 'cube', 'number'], ['Number', \"Rubik's Cube\", 'Number']), ('Parametric equation', ['relationship', 'quantity', 'equation'], ['Relationship between mathematics and physics', 'Quantity', 'Equation']), ('Random variable', ['probability', 'distribution', 'variable'], ['Probability theory', 'Distribution (mathematics)', 'Variable (mathematics)']), (\"Hoeffding's independence test\", ['set', 'variable', 'test'], ['Set (mathematics)', 'Variable (mathematics)', 'GRE Mathematics Test']), (\"Spearman's rank correlation coefficient\", ['r', 'rho', 'rhombohedron'], ['Mathematics', 'Rho', 'Rhombohedron']), ('Digit', ['digit', 'number', 'write'], ['Significant figures', 'Number', 'Abraham Nemeth']), ('Common base', ['prime number', 'divisor'], ['Prime number', 'Divisor']), ('Shift', ['change', 'direction', 'vector'], ['Mathematics', 'Mathematics', 'Vector (mathematics and physics)']), ('Canonical coordinates', ['x', 'y'], ['Function (mathematics)', 'Mathematics']), (\"T'aqañawi\", ['syllable', 'meter', 'rhythm'], ['Indian mathematics', 'Metre', 'The Geometry of Musical Rhythm']), ('Normal matrix', ['norm', 'matrix', 'matrix multiplication'], ['Norm (mathematics)', 'Matrix (mathematics)', 'Matrix multiplication']), ('Linear dynamical system', ['time', 'function', 'equation'], ['Local time (mathematics)', 'Function (mathematics)', 'Equation']), ('Line at infinity', ['line', 'end', 'never'], ['Line (geometry)', 'Mathematics', 'Philosophy of mathematics']), ('Natural number', ['number', 'whole', 'number system'], ['Number', 'Locus (mathematics)', 'Number']), ('Skew-Hermitian matrix', ['skewed matrix', 'Hermitian matrix'], ['Skew-symmetric matrix', 'Hermitian matrix']), ('Charge density', ['charge', 'volume', 'charge density'], ['Electric charge', 'Volume', 'Charge density']), (\"Cantor's diagonal argument\", ['set', 'number', 'proof'], ['Set (mathematics)', 'Number', 'Mathematical proof']), (\"Taylor's theorem\", ['Fourier transform'], ['Fourier transform']), ('Kernel', ['set', 'function', 'map'], ['Set (mathematics)', 'Function (mathematics)', 'Map (mathematics)']), ('Poincaré recurrence theorem', ['theorem', 'theorem of Poincaré', 'geometry'], ['Theorem', 'Henri Poincaré', 'Geometry']), ('Linear code', ['code', 'bit', 'combination'], ['Mathematics', 'Bit', 'Combination']), ('Binary operation', ['binary number', 'arithmetic operation'], ['Binary number', 'Arithmetic']), ('Quotient space', ['subset', 'Hilbert space', 'function'], ['Set (mathematics)', 'Hilbert space', 'Function (mathematics)']), ('Geometric calculus', ['differential equation', 'function', 'variable'], ['Ordinary differential equation', 'Function (mathematics)', 'Variable (mathematics)']), ('Tetrahedron', ['polygon', 'figure', 'side'], ['Polygon', 'Mathematics', 'Sides of an equation']), ('Homogeneous differential equation', ['time', 'function', 'equation'], ['Local time (mathematics)', 'Function (mathematics)', 'Equation']), ('Hyperbola', ['hyperbola', 'curve', 'point'], ['Hyperbola', 'Curve', 'Fixed point (mathematics)']), ('Line (geometry)', ['line', 'straight', 'line segment'], ['Line (geometry)', 'Line (geometry)', 'Line segment']), ('Linear discriminant analysis', ['statistical technique', 'continuous', 'normally distributed'], ['Mathematical statistics', 'Discrete mathematics', 'Sum of normally distributed random variables']), ('Matrix (mathematics)', ['array', 'element', 'dimension'], ['Matrix (mathematics)', 'Element (mathematics)', 'Dimension']), ('Similarity transformation', ['similarity', 'transformation', 'point'], ['Jaccard index', 'Transformation (function)', 'Fixed point (mathematics)']), ('Separable space', ['set', 'space', 'element'], ['Set (mathematics)', 'Space (mathematics)', 'Element (mathematics)']), ('Conformable matrix', ['conformable', 'matrix', 'matrix multiplication'], ['Conformable matrix', 'Matrix (mathematics)', 'Matrix multiplication']), ('Set (mathematics)', ['collection', 'object', 'number'], ['Mathematics', 'Mathematical object', 'Number']), ('Reduced form', ['group', 'order', 'element'], ['Group (mathematics)', 'Mathematics', 'Element (mathematics)']), ('Routh–Hurwitz stability criterion', ['stability', 'system', 'criterion'], ['Stability theory', 'Autonomous system (mathematics)', 'Kelly criterion']), ('Union (set theory)', ['set', 'element', 'distinct'], ['Set (mathematics)', 'Element (mathematics)', 'Equality (mathematics)']), ('Summation notation', ['series', 'number', 'notation'], ['Series (mathematics)', 'Number', 'Mathematical notation']), ('Inverse function', ['inverse', 'function', 'graph'], ['Proportionality (mathematics)', 'Function (mathematics)', 'Graph (discrete mathematics)']), ('Transformation', ['change', 'state', 'system'], ['Mathematics', 'Mathematics', 'Autonomous system (mathematics)']), ('Intercept', ['line', 'point', 'line segment'], ['Line (geometry)', 'Fixed point (mathematics)', 'Line segment']), ('Competitive equilibrium', ['game theory', 'utility', 'equilibrium'], ['Evolutionary game theory', 'Utility', 'Equilibrium point']), ('Combination', ['set', 'element', 'permutation'], ['Set (mathematics)', 'Element (mathematics)', 'Permutation group']), ('Formal proof', ['formal system', 'proof', 'theorem'], ['Formal system', 'Mathematical proof', 'Theorem']), ('Elementary matrix', ['matrix', 'vector', 'combination'], ['Matrix (mathematics)', 'Vector (mathematics and physics)', 'Combination']), ('Orthogonalization', ['transform', 'vector', 'operation'], ['Laplace transform', 'Vector (mathematics and physics)', 'Operation (mathematics)']), ('Reaction rate', ['rate', 'reaction', 'measure'], ['Rate (mathematics)', 'Mathematics', 'Measure (mathematics)']), ('Cayley–Hamilton theorem', ['theorem', 'proof', 'concept'], ['Theorem', 'Mathematical proof', 'Mathematics']), ('David Hilbert', ['theorem', 'theorem proving', 'mathematician'], ['Theorem', 'Automated theorem proving', 'Mathematician']), ('Recursion', ['function', 'apply', 'recur'], ['Function (mathematics)', 'Mathematics', 'Maximum power transfer theorem']), ('Abstract algebra', ['set', 'axiom', 'rule'], ['Set (mathematics)', 'Axiom', 'Mathematics']), ('Magnetic vector potential', ['vector quantity', 'product', 'vector'], ['Vector (mathematics and physics)', 'Product (mathematics)', 'Vector (mathematics and physics)']), ('Positive Thinking', ['positive attitude', 'attitude', 'math'], ['Mathematics', 'Mathematics', 'Mathematics']), ('Sign function', ['sign', 'number', 'function'], ['Sign (mathematics)', 'Number', 'Function (mathematics)']), ('Closure (mathematics)', ['set', 'element', 'group'], ['Set (mathematics)', 'Element (mathematics)', 'Group (mathematics)']), ('Row echelon form', ['algorithm', 'recursion', 'function'], ['Algorithm', 'Recursion', 'Function (mathematics)']), ('Integer programming', ['set', 'number', 'operation'], ['Set (mathematics)', 'Number', 'Operation (mathematics)']), ('Laplace operator', ['operator', 'differential', 'function'], ['Operator (mathematics)', 'Differential equation', 'Function (mathematics)']), ('Theorem', ['principle', 'law', 'statement'], ['Stationary-action principle', 'Mathematics', 'Mathematical proof']), ('Matroid', ['group', 'element', 'graph'], ['Group (mathematics)', 'Element (mathematics)', 'Graph (discrete mathematics)']), ('Hessenberg matrix', ['group', 'matrix', 'element'], ['Group (mathematics)', 'Matrix (mathematics)', 'Element (mathematics)']), ('Quotient ring', ['subring', 'element', 'ring'], ['Subring', 'Element (mathematics)', 'Ring (mathematics)']), ('Applied mathematics', ['applied mathematics'], ['Applied mathematics']), ('Multiplicative function', ['Multiplication'], ['Multiplication']), ('Signum', ['symbol', 'symbolism', 'mathematical symbol'], ['Glossary of mathematical symbols', 'Mathematical notation', 'Glossary of mathematical symbols']), ('Equivalence relation', ['inverse', 'relation', 'relational'], ['Proportionality (mathematics)', 'Relation (mathematics)', 'Binary relation']), ('Implicit theories of intelligence', ['theory', 'brain', 'information'], ['Set theory', 'Mathematics', 'Information source (mathematics)']), ('Anti-diagonal matrix', ['matrix', 'diagonal', 'element'], ['Matrix (mathematics)', \"Cantor's diagonal argument\", 'Element (mathematics)']), ('Locality-sensitive hashing', ['hash function', 'function', 'algorithm'], ['Perfect hash function', 'Function (mathematics)', 'Algorithm']), (\"Euclid's Elements\", ['collection', 'figure', 'geometry'], ['Mathematics', 'Mathematics', 'Geometry']), (\"Hölder's inequality\", ['f(x)', 'function', 'x'], ['Function (mathematics)', 'Function (mathematics)', 'Function (mathematics)']), ('Angle', ['measure', 'angle', 'line'], ['Measure (mathematics)', 'Angle', 'Line (geometry)']), ('Celsius family', ['temperature', 'family', 'temperature'], ['Temperature', 'Indexed family', 'Temperature']), ('Bilinear form', ['x-coordinate', 'y-coordinate', 'point'], ['Coordinate system', 'Cartesian coordinate system', 'Fixed point (mathematics)']), ('Constant', ['number', 'number', 'change'], ['Number', 'Number', 'Mathematics']), ('Borel functional calculus', ['set', 'function', 'value'], ['Set (mathematics)', 'Function (mathematics)', 'Absolute value']), ('Parity of a permutation', ['a sequence', 'permutation', 'element'], ['Sequence', 'Permutation group', 'Element (mathematics)']), ('Computer algebra system', ['arithmetic', 'logical', 'program'], ['Arithmetic', 'Axiom', 'Mathematics']), ('Matrix polynomial', ['matrix', 'polynomial', 'degree'], ['Matrix (mathematics)', 'Polynomial', 'Mathematics']), ('Homogeneous polynomial', ['coefficient', 'polynomial', 'coefficient'], ['Coefficient', 'Polynomial', 'Coefficient']), ('Algebraic integer', ['number', 'whole', 'divisor'], ['Number', 'Locus (mathematics)', 'Divisor']), ('Curvilinear coordinates', ['x', 'y'], ['Function (mathematics)', 'Mathematics']), ('Self-adjoint operator', ['derivative', 'function', 'combination'], ['Derivative', 'Function (mathematics)', 'Combination']), ('Map projection', ['map', 'scale', 'paper'], ['Map (mathematics)', 'Music and mathematics', 'Mathematics of paper folding']), (\"Kirchhoff's laws\", ['set', 'law', 'set'], ['Set (mathematics)', 'Mathematics', 'Set (mathematics)']), ('Matrix multiplication algorithm', ['matrix', 'multiply', 'method'], ['Matrix (mathematics)', 'Multiplication', 'Mathematics']), ('Exponential function', ['increase', 'decrease', 'function'], ['Mathematics', 'Sequence', 'Function (mathematics)']), ('Number line', ['line', 'segment', 'plane'], ['Line (geometry)', 'Mathematics', 'Plane (geometry)']), ('Stinespring dilation theorem', ['surface', 'area', 'sphere'], ['Surface (mathematics)', 'Area', 'Sphere']), ('Natural logarithm', ['digit', 'number', 'ratio'], ['Significant figures', 'Number', 'Golden ratio']), ('Viscosity', ['kinematics', 'fluid', 'pressure'], ['Kinematics', 'Fluid mechanics', 'Pressure']), ('Plane (geometry)', ['surface', 'figure', 'draw'], ['Surface (mathematics)', 'Mathematics', 'Discrete mathematics']), ('Root of unity', ['number', 'root', 'square'], ['Number', 'Tetration', 'Square']), ('Borsuk–Ulam theorem', ['theorem', 'theorem of Borsuk and Ulam'], ['Theorem', 'Borsuk–Ulam theorem']), ('Normal operator', ['operator', 'scalar', 'combination'], ['Operator (mathematics)', 'Scalar (mathematics)', 'Combination']), ('Ring (mathematics)', ['group', 'element', 'arrange'], ['Group (mathematics)', 'Element (mathematics)', 'Discrete mathematics']), ('Quadratic', ['polynomial', 'function', 'graph'], ['Polynomial', 'Function (mathematics)', 'Graph (discrete mathematics)']), ('Dimension theorem for vector spaces', ['theorem', 'proof', 'concept'], ['Theorem', 'Mathematical proof', 'Mathematics']), ('Nth root', ['coefficient', 'polynomial', 'root'], ['Coefficient', 'Polynomial', 'Tetration']), ('Square', ['length', 'side', 'figure'], ['Arc length', 'Sides of an equation', 'Mathematics']), ('General relativity', ['theory', 'gravitation', 'theory'], ['Set theory', 'Gravity', 'Set theory']), ('Hypatia (disambiguation)', ['number', 'mathematician', 'concept'], ['Number', 'Mathematician', 'Mathematics']), ('Endogeneity (econometrics)', ['stochastic', 'variable', 'influence'], ['Stochastic process', 'Variable (mathematics)', 'Mathematics']), ('Error detection and correction', ['error correction', 'system', 'detect'], ['Error correction code', 'Autonomous system (mathematics)', 'Parity (mathematics)']), ('Perspective (geometry)', ['line', 'point', 'sight'], ['Line (geometry)', 'Fixed point (mathematics)', 'Telescopic sight']), ('Singular value', ['number', 'number system'], ['Number', 'Number']), ('List of statistics articles', ['period', 'list', 'article'], ['Mathematics', 'Lists of mathematics topics', 'Mathematics']), (\"Archimedes' principle\", ['rule', 'geometry', 'rule of thumb'], ['Mathematics', 'Geometry', 'Right-hand rule']), ('Rational number', ['ratio', 'number', 'whole'], ['Golden ratio', 'Number', 'Locus (mathematics)']), ('Abraham de Moivre', ['arithmetic', 'number', 'geometry'], ['Arithmetic', 'Number', 'Geometry']), ('Magnetic field', ['vector', 'quantity', 'direction'], ['Vector (mathematics and physics)', 'Quantity', 'Mathematics']), ('Coding theory', ['coding theory', 'theory of computation'], ['Coding theory', 'Theory of computation']), ('Feasible region', ['set', 'coordinate', 'space'], ['Set (mathematics)', 'Coordinate system', 'Space (mathematics)']), ('Matrix multiplication', ['matrix', 'multiplication'], ['Matrix (mathematics)', 'Multiplication']), ('Identity matrix', ['identity matrix', 'matrix', 'element'], ['Identity matrix', 'Matrix (mathematics)', 'Element (mathematics)']), ('Equation solving', ['process', 'determine', 'value'], ['Contact process (mathematics)', 'Mathematics', 'Absolute value']), ('Shape', ['figure', 'geometry', 'figure'], ['Mathematics', 'Geometry', 'Mathematics']), ('Spinor', ['field', 'vector', 'combination'], ['Field (mathematics)', 'Vector (mathematics and physics)', 'Combination']), ('Fisher–Yates shuffle', ['algorithm', 'random', 'algorithmic'], ['Algorithm', 'Random walk', 'Algorithm']), ('A Random Walk Down Wall Street', ['probability', 'walk', 'random'], ['Probability theory', 'Random walk', 'Random walk']), ('Coset', ['coset', 'coset group', 'coset product'], ['Coset', 'Coset', 'Coset enumeration']), ('Least-squares adjustment', ['fit', 'model', 'data'], ['Discrete mathematics', 'Mathematical model', 'Mathematics']), ('Root mean square', ['number', 'column', 'root'], ['Number', 'List of Martin Gardner Mathematical Games columns', 'Tetration']), ('Polynomial interpolation', ['interpolation', 'point', 'method'], ['Linear interpolation', 'Fixed point (mathematics)', 'Mathematics']), ('Specular reflection', ['refractive index', 'medium', 'surface'], ['Refractive index', 'Bracket (mathematics)', 'Surface (mathematics)']), ('Quotient space (topology)', ['topological space', 'subset'], ['Topological space', 'Set (mathematics)']), ('Diagonal', ['line', 'x-axis', 'segment'], ['Line (geometry)', 'Cartesian coordinate system', 'Mathematics']), ('Chinese remainder theorem', ['theorem', 'proof', 'concept'], ['Theorem', 'Mathematical proof', 'Mathematics']), ('Improper rotation', ['rotor', 'revolution', 'axis'], ['Rotor (mathematics)', 'Mathematics', 'Axis']), ('Binomial coefficient', ['number', 'term', 'expansion'], ['Number', 'Mathematics', 'Series expansion']), ('Row and column vectors', ['line segment', 'quantity', 'vector'], ['Line segment', 'Quantity', 'Vector (mathematics and physics)']), ('Differential equation', ['differential equation', 'continuous system', 'model'], ['Ordinary differential equation', 'Discrete mathematics', 'Mathematical model']), ('Focus (optics)', ['point', 'focus', 'image'], ['Fixed point (mathematics)', 'Mathematics', 'Image (mathematics)']), ('Correlation', ['similarity', 'measure', 'variable'], ['Jaccard index', 'Measure (mathematics)', 'Variable (mathematics)']), ('Eigenface', ['eigenvector', 'matrix', 'surface'], ['Eigenvalues and eigenvectors', 'Matrix (mathematics)', 'Surface (mathematics)']), ('Google matrix', ['matrix', 'matrix multiplication'], ['Matrix (mathematics)', 'Matrix multiplication']), ('Adjoint', ['function', 'combination', 'function'], ['Function (mathematics)', 'Combination', 'Function (mathematics)']), ('Approximation', ['model', 'problem', 'solution'], ['Mathematical model', 'List of unsolved problems in mathematics', 'Equation solving']), ('Annihilator (ring theory)', ['ring', 'subring', 'ring property'], ['Ring (mathematics)', 'Subring', 'Ring (mathematics)']), (\"Desargues's theorem\", ['theorem', 'geometry', 'proof'], ['Theorem', 'Geometry', 'Mathematical proof']), ('Semi-major and semi-minor axes', ['symmetry', 'axis', 'symmetry group'], ['Symmetry in mathematics', 'Axis', 'Symmetry in mathematics']), ('Line–line intersection', ['line', 'point', 'line segment'], ['Line (geometry)', 'Fixed point (mathematics)', 'Line segment']), ('Complexification', ['entropy', 'system', 'interact'], ['Entropy (information theory)', 'Autonomous system (mathematics)', 'Mathematics']), ('Tuple', ['set', 'element', 'number'], ['Set (mathematics)', 'Element (mathematics)', 'Number']), ('Hamming code', ['binary number', 'code', 'number'], ['Binary number', 'Mathematics', 'Number']), ('Division (mathematics)', ['operation', 'number', 'reduce'], ['Operation (mathematics)', 'Number', 'Mathematics']), ('Linear subspace', ['subspace', 'linear space', 'space'], ['Linear subspace', 'Space (mathematics)', 'Space (mathematics)']), ('Complex plane', ['plane', 'real', 'imaginary'], ['Plane (geometry)', 'Pure mathematics', 'Imaginary unit']), ('Algebra over a field', ['set', 'axiom', 'theory'], ['Set (mathematics)', 'Axiom', 'Set theory']), ('Result', ['product', 'vector', 'scalar'], ['Product (mathematics)', 'Vector (mathematics and physics)', 'Scalar (mathematics)']), ('Time-invariant system', ['system', 'time', 'change'], ['Autonomous system (mathematics)', 'Local time (mathematics)', 'Mathematics']), ('Random number generation', ['Random', 'number', 'generator'], ['Random walk', 'Number', 'Generator (mathematics)']), ('Asmara', ['pitch', 'symphony', 'music'], ['Mathematics', 'Mathematical beauty', 'Music and mathematics']), (\"Lagrange's formula\", ['generalization', 'gravitation', 'law'], ['Generalization', 'Gravity', 'Mathematics']), ('Category of small categories', ['subcategory', 'category', 'category of small categories'], ['Subcategory', 'Category (mathematics)', 'Category (mathematics)']), ('Shift operator', ['operator', 'shift', 'number'], ['Operator (mathematics)', 'Shift operator', 'Number']), ('Codomain', ['set', 'domain', 'subset'], ['Set (mathematics)', 'Domain (mathematical analysis)', 'Set (mathematics)']), (\"Kirchhoff's circuit laws\", ['current', 'voltage', 'inverse'], ['Current (mathematics)', 'Voltage', 'Proportionality (mathematics)']), ('Pigeonhole principle', ['position', 'time', 'motion'], ['Position (geometry)', 'Local time (mathematics)', 'Motion']), ('Factorization of polynomials', ['polynomial', 'factor', 'polynomial factorization'], ['Polynomial', 'Factor', 'Factorization of polynomials']), ('Laplacian matrix', ['vector', 'space', 'matrix'], ['Vector (mathematics and physics)', 'Space (mathematics)', 'Matrix (mathematics)']), ('Polygon triangulation', ['polygon', 'line', 'vertex'], ['Polygon', 'Line (geometry)', 'Vertex (geometry)']), ('Aircraft principal axes', ['axis', 'rotation', 'axis of revolution'], ['Axis', 'Rotation (mathematics)', 'Solid of revolution']), ('Four-vector', ['Fourier series'], ['Fourier analysis']), ('Vector bundle', ['vector', 'collection', 'vector space'], ['Vector (mathematics and physics)', 'Mathematics', 'Vector (mathematics and physics)']), ('Orthogonal basis', ['basis', 'orthogonal', 'basis'], ['Basis (linear algebra)', 'Orthogonality (mathematics)', 'Basis (linear algebra)']), ('Divisor', ['product', 'number', 'number system'], ['Product (mathematics)', 'Number', 'Number']), ('Hermann Grassmann', ['symplectic geometry', 'symplectic manifold', 'symplectic geometry'], ['Symplectic geometry', 'Symplectic manifold', 'Symplectic geometry']), ('Radical of an integer', ['prime number', 'product', 'number'], ['Prime number', 'Product (mathematics)', 'Number']), ('Coefficient of multiple correlation', ['<unk>', '<unk>', '<unk>'], ['N-gram', 'N-gram', 'N-gram']), ('Experiment', ['change', 'effect', 'variable'], ['Mathematics', 'Mathematics', 'Variable (mathematics)']), ('Rank–nullity theorem', ['theorem', 'proof', 'concept'], ['Theorem', 'Mathematical proof', 'Mathematics']), ('Leading zero', ['digit', 'number', 'zero'], ['Significant figures', 'Number', '0']), ('Triviality (mathematics)', ['property', 'set', 'element'], ['Property (mathematics)', 'Set (mathematics)', 'Element (mathematics)']), ('Law of cosines', ['cosine rule'], ['Law of cosines']), ('Annuity', ['periodic payment', 'payment', 'interest'], ['Annuity', 'Annuity', 'Mathematics']), ('Sine and cosine', ['ratio', 'ratios', 'number'], ['Golden ratio', 'Ratio', 'Number']), ('Plane', ['surface', 'surface area', 'volume'], ['Surface (mathematics)', 'Surface area', 'Volume']), ('Field (mathematics)', ['set', 'plane', 'point'], ['Set (mathematics)', 'Plane (geometry)', 'Fixed point (mathematics)']), ('Nonlinear programming', ['problem', 'solution', 'function'], ['List of unsolved problems in mathematics', 'Equation solving', 'Function (mathematics)']), ('Orbital plane', ['a plane in which a body moves around a fixed centre'], ['Rotation around a fixed axis']), ('Extrapolation', ['function', 'estimate', 'technique'], ['Function (mathematics)', 'Mathematics', 'Relaxation (approximation)']), ('Cyclic subspace', ['tangent line', 'surface', 'sphere'], ['Tangent', 'Surface (mathematics)', 'Sphere']), ('Change of variables', ['change', 'value', 'variable'], ['Mathematics', 'Absolute value', 'Variable (mathematics)']), ('Phase (waves)', ['change', 'phase', 'wave'], ['Mathematics', 'Phase line (mathematics)', 'Wave']), ('Issai Schur', ['symplectic curve', 'symplectic geometry'], ['Symplectic geometry', 'Symplectic geometry']), ('Nilpotent', ['zero'], ['0']), ('Completing the square', ['complete', 'side', 'square'], ['Mathematics', 'Sides of an equation', 'Square']), ('If and only if', ['if', 'only if'], ['Mathematics', 'If and only if']), ('Mathematical statistics', ['probability theory', 'statistics'], ['Probability theory', 'Mathematical statistics']), ('Image space', ['set', 'point', 'plane'], ['Set (mathematics)', 'Fixed point (mathematics)', 'Plane (geometry)']), ('Power iteration', ['operation', 'sequence', 'power'], ['Operation (mathematics)', 'Sequence', 'Exponentiation']), ('Projections onto convex sets', ['projections', 'convexity'], ['Projection (mathematics)', 'Convex set']), ('Integer sequence', ['field', 'operation', 'sequence'], ['Field (mathematics)', 'Operation (mathematics)', 'Sequence']), ('Inverse-square law', ['ratio', 'circle', 'circumference'], ['Golden ratio', 'Circle', \"Earth's circumference\"]), ('Pauli matrices', ['group', 'matrix', 'rank'], ['Group (mathematics)', 'Matrix (mathematics)', 'Rank (linear algebra)']), ('Triangulation (disambiguation)', ['polygon', 'length', 'triangle'], ['Polygon', 'Arc length', 'Golden triangle (mathematics)']), ('Axiom', ['statement', 'truth', 'statement'], ['Mathematical proof', 'Vacuous truth', 'Mathematical proof']), (\"Gauss's law\", ['law of elasticity', 'stress'], ['Price elasticity of demand', 'Stress (mechanics)']), ('Sensitivity analysis', ['sensitivity', 'model', 'change'], ['Sensitivity analysis', 'Mathematical model', 'Mathematics']), ('Focus (geometry)', ['point', 'focus', 'image'], ['Fixed point (mathematics)', 'Mathematics', 'Image (mathematics)']), ('Toeplitz matrix', ['matrix', 'diagonal', 'zero'], ['Matrix (mathematics)', \"Cantor's diagonal argument\", '0']), ('Automorphic form', ['group', 'homomorphism', 'group'], ['Group (mathematics)', 'Homomorphism', 'Group (mathematics)']), ('Conductor', ['material', 'electricity', 'carry'], ['Mathematics', 'Electricity', 'Carry (arithmetic)']), ('Vector graphics', ['a set of points that can be resized without losing quality'], ['Vector graphics']), ('Polynomial long division', ['long division'], ['Division (mathematics)']), ('Spectral imaging', ['ray', 'reflect', 'scene'], ['Line (geometry)', 'Reflectance', 'History of mathematics']), ('Midcontinent Independent System Operator', ['company', 'distribution', 'company'], ['Mathematics', 'Distribution (mathematics)', 'Mathematics']), ('Inclusion–exclusion principle', ['set', 'element', 'add'], ['Set (mathematics)', 'Element (mathematics)', 'Addition']), ('Scalar projection', ['vector', 'plane', 'projection'], ['Vector (mathematics and physics)', 'Plane (geometry)', 'Projection (mathematics)']), ('Synthetic division', ['prime number', 'number', 'division'], ['Prime number', 'Number', 'Division (mathematics)']), (\"Sylvester's law of inertia\", ['force', 'resist', 'motion'], ['Forcing (mathematics)', 'Electrical resistivity and conductivity', 'Motion']), ('Law of total variance', ['difference', 'mean', 'square'], ['Subtraction', 'Mean', 'Square']), ('Recurrence relation', ['periodic function', 'zero', 'one'], ['Periodic function', '0', 'Mathematics']), ('Dimensional analysis', ['analyzing', 'technique', 'data'], ['Discrete mathematics', 'Relaxation (approximation)', 'Mathematics']), ('Mathematics of Sudoku', ['logic', 'puzzle', 'math'], ['Mathematical logic', 'Mathematical puzzle', 'Mathematics']), ('Dynamics (mechanics)', ['theory', 'motion', 'theory'], ['Set theory', 'Motion', 'Set theory']), ('Banach space', ['set', 'function', 'number'], ['Set (mathematics)', 'Function (mathematics)', 'Number']), ('Normal distribution', ['mean', 'distribution', 'standard deviation'], ['Mean', 'Distribution (mathematics)', 'Standard deviation']), ('Johnson–Lindenstrauss lemma', ['set', 'function', 'class'], ['Set (mathematics)', 'Function (mathematics)', 'Class (set theory)']), ('Mathematical proof', ['theorem', 'result', 'prove'], ['Theorem', 'Mathematics', 'Automated theorem proving']), ('Dilation', ['change', 'size', 'body'], ['Mathematics', 'Magnitude (mathematics)', 'Mathematics']), ('Inverse demand function', ['constant price function'], ['Constant function']), ('Rate (mathematics)', ['change', 'rate', 'quantity'], ['Mathematics', 'Rate (mathematics)', 'Quantity']), ('Power series solution of differential equations', ['series', 'solution', 'equation'], ['Series (mathematics)', 'Equation solving', 'Equation']), ('Vertex (graph theory)', ['graph', 'point', 'line'], ['Graph (discrete mathematics)', 'Fixed point (mathematics)', 'Line (geometry)']), ('Transpose', ['inverse', 'ratio', 'multiply'], ['Proportionality (mathematics)', 'Golden ratio', 'Multiplication']), ('Surface area', ['area', 'measure', 'surface'], ['Area', 'Measure (mathematics)', 'Surface (mathematics)']), ('Logarithm', ['ratio', 'ratios', 'number'], ['Golden ratio', 'Ratio', 'Number']), ('Free module', ['group', 'element', 'add'], ['Group (mathematics)', 'Element (mathematics)', 'Addition']), ('Normal form', ['set', 'element', 'group'], ['Set (mathematics)', 'Element (mathematics)', 'Group (mathematics)']), ('Mean', ['measure', 'mean', 'median'], ['Measure (mathematics)', 'Mean', 'Median']), ('Characteristic equation', ['system', 'equation', 'describe'], ['Autonomous system (mathematics)', 'Equation', 'Mathematical beauty']), ('Cartesian coordinate system', ['x', 'y'], ['Function (mathematics)', 'Mathematics']), ('Gaussian algorithm', ['algorithm', 'heuristic', 'algorithmic'], ['Algorithm', 'Heuristic (computer science)', 'Algorithm']), ('Krylov subspace', ['subspace', 'Hilbert space', 'function'], ['Linear subspace', 'Hilbert space', 'Function (mathematics)']), ('Polarization identity', ['polarization', 'vector space', 'property'], ['Photon polarization', 'Vector (mathematics and physics)', 'Property (mathematics)']), ('Abelian group', ['group', 'element', 'number'], ['Group (mathematics)', 'Element (mathematics)', 'Number']), ('Frieze group', ['group', 'characteristic', 'element'], ['Group (mathematics)', 'Characteristic', 'Element (mathematics)']), ('Inverse', ['inverse', 'function', 'graph'], ['Proportionality (mathematics)', 'Function (mathematics)', 'Graph (discrete mathematics)']), ('Attractor', ['line', 'point', 'converge'], ['Line (geometry)', 'Fixed point (mathematics)', 'Limit (mathematics)']), ('Spherical coordinate system', ['spherical coordinate system', 'spherical coordinate system'], ['Spherical coordinate system', 'Spherical coordinate system']), ('Metric signature', ['metric', 'measure', 'distance'], ['Metric space', 'Measure (mathematics)', 'Distance']), ('Fundamental theorem of algebra', ['group', 'subgroup', 'identity element'], ['Group (mathematics)', 'Subgroup', 'Identity element']), ('Eigenvalues and eigenvectors', ['eigenvalue', 'eigenvector', 'matrix'], ['Eigenvalues and eigenvectors', 'Eigenvalues and eigenvectors', 'Matrix (mathematics)']), ('Quotient rule', ['product', 'quotient', 'sum'], ['Product (mathematics)', 'Quotient', 'Summation']), ('Collectively exhaustive events', ['set', 'event', 'probability'], ['Set (mathematics)', 'Event horizon', 'Probability theory']), ('Fraction', ['ratio', 'ratios', 'number'], ['Golden ratio', 'Ratio', 'Number']), ('Trivial topology', ['topology', 'set', 'subset'], ['Topology', 'Set (mathematics)', 'Set (mathematics)']), ('Parallel processing', ['parallel', 'computer', 'operate'], ['Parallelization (mathematics)', 'Discrete mathematics', 'Discrete mathematics']), ('Projective geometry', ['space', 'time', 'theory'], ['Space (mathematics)', 'Local time (mathematics)', 'Set theory']), ('Matrix similarity', ['inverse', 'matrix', 'vector'], ['Proportionality (mathematics)', 'Matrix (mathematics)', 'Vector (mathematics and physics)']), ('Projection', ['surface', 'plane', 'projection'], ['Surface (mathematics)', 'Plane (geometry)', 'Projection (mathematics)']), ('Flow network', ['graph theory', 'directed graph', 'node'], ['Graph (discrete mathematics)', 'Directed graph', 'Vertex (graph theory)']), ('Vertex', ['line segment', 'point', 'intersection'], ['Line segment', 'Fixed point (mathematics)', 'Intersection']), ('Convex cone', ['sphere', 'cone', 'base'], ['Sphere', 'Convex cone', 'Mathematics']), ('Unbounded operator', ['point', 'function', 'function'], ['Fixed point (mathematics)', 'Function (mathematics)', 'Function (mathematics)']), ('Rational expression', ['ratio', 'number', 'ratio number'], ['Golden ratio', 'Number', 'Golden ratio']), ('Jacobi identity', ['complex number', 'real number'], ['Absolute value', 'Real number']), ('Successive over-relaxation', ['enlargement', 'set', 'element'], ['Scaling (geometry)', 'Set (mathematics)', 'Element (mathematics)']), ('Interpolation', ['interpolation', 'estimate', 'point'], ['Linear interpolation', 'Mathematics', 'Fixed point (mathematics)']), ('Orthonormal basis', ['basis', 'transformation', 'transform'], ['Basis (linear algebra)', 'Transformation (function)', 'Laplace transform']), ('Radian', ['measure', 'angle', 'degree'], ['Measure (mathematics)', 'Angle', 'Mathematics']), ('Spectral theory', ['spectra', 'theory', 'function'], ['Spectra (mathematical association)', 'Set theory', 'Function (mathematics)']), ('Polynomial-time reduction', ['reduction', 'step', 'number'], ['Reductionism', 'Mathematical induction', 'Number']), ('Vector space', ['set', 'vector', 'vector space'], ['Set (mathematics)', 'Vector (mathematics and physics)', 'Vector (mathematics and physics)']), ('Translation (geometry)', ['translation', 'point', 'space'], ['Translation (geometry)', 'Fixed point (mathematics)', 'Space (mathematics)']), ('Polar coordinate system', ['x', 'y', 'z'], ['Function (mathematics)', 'Mathematics', 'Z-matrix (mathematics)']), ('Schur decomposition', ['set', 'function', 'orthogonality'], ['Set (mathematics)', 'Function (mathematics)', 'Orthogonality (mathematics)']), ('Legendre polynomials', ['degree n'], ['Degree (graph theory)']), ('Monotonic function', ['continuous', 'function', 'parameter'], ['Discrete mathematics', 'Function (mathematics)', 'Parameter']), ('Steinitz exchange lemma', ['set', 'identity', 'element'], ['Set (mathematics)', 'Identity (mathematics)', 'Element (mathematics)']), ('Fundamental theorem of linear algebra', ['theorem', 'proof', 'concept'], ['Theorem', 'Mathematical proof', 'Mathematics']), ('Homography', ['product', 'vector', 'function'], ['Product (mathematics)', 'Vector (mathematics and physics)', 'Function (mathematics)']), ('Commutative property', ['property', 'group', 'element'], ['Property (mathematics)', 'Group (mathematics)', 'Element (mathematics)']), ('Intersection (set theory)', ['set', 'group', 'element'], ['Set (mathematics)', 'Group (mathematics)', 'Element (mathematics)']), ('Element (mathematics)', ['set', 'unit', 'set'], ['Set (mathematics)', 'Unit (ring theory)', 'Set (mathematics)']), ('Indeterminate', ['bounded', 'function', 'limit'], ['Bounded function', 'Function (mathematics)', 'Limit (mathematics)']), ('ROOT', ['ratio', 'circle', 'circumference'], ['Golden ratio', 'Circle', \"Earth's circumference\"]), ('Differentiable manifold', ['topology', 'point', 'collection'], ['Topology', 'Fixed point (mathematics)', 'Mathematics']), ('Logarithmic spiral', ['increase', 'size', 'spiral'], ['Mathematics', 'Magnitude (mathematics)', 'Golden spiral']), ('Sample mean and covariance', ['mean', 'mean value', 'median'], ['Mean', 'Mean', 'Median']), ('Base ten block', ['tensor', 'group', 'tensor product'], ['Tensor', 'Group (mathematics)', 'Tensor']), ('Cholesky decomposition', ['recursion', 'algorithm', 'polynomial'], ['Recursion', 'Algorithm', 'Polynomial']), ('Affine space', ['space', 'pattern', 'point'], ['Space (mathematics)', 'Pattern', 'Fixed point (mathematics)']), ('Rigid body', ['deformable', 'body', 'material'], ['Mathematics Subject Classification', 'Mathematics', 'Mathematics']), ('Minor (linear algebra)', ['group', 'real number', 'subgroup'], ['Group (mathematics)', 'Real number', 'Subgroup']), ('Direction cosine', ['angle', 'curve', 'direction'], ['Angle', 'Curve', 'Mathematics']), ('Linear inequality', ['set', 'number', 'inequality'], ['Set (mathematics)', 'Number', 'Inequality (mathematics)']), ('Trigonometric functions', ['set', 'number', 'operation'], ['Set (mathematics)', 'Number', 'Operation (mathematics)']), ('Axial symmetry', ['symmetry of a plane'], ['Symmetry in mathematics']), ('Trivial group', ['group', 'element', 'distinct'], ['Group (mathematics)', 'Element (mathematics)', 'Equality (mathematics)']), ('Dyad', ['vertex', 'pair', 'vertices'], ['Vertex (geometry)', 'Ordered pair', 'Graph (discrete mathematics)']), ('State vector', ['state', 'vector', 'system'], ['Mathematics', 'Vector (mathematics and physics)', 'Autonomous system (mathematics)']), ('Equivalence', ['property', 'set', 'object'], ['Property (mathematics)', 'Set (mathematics)', 'Mathematical object']), ('Compression', ['ratio', 'compression', 'ratio'], ['Golden ratio', 'Lossless compression', 'Golden ratio']), ('Laplacian vector field', ['field', 'vector', 'combination'], ['Field (mathematics)', 'Vector (mathematics and physics)', 'Combination']), ('Gram (disambiguation)', ['grammatical case'], ['Recursion']), ('Conclusion', ['logical argument', 'statement', 'result'], ['Logical conjunction', 'Mathematical proof', 'Mathematics']), ('Leontief production function', ['product', 'stage', 'stage of production'], ['Product (mathematics)', 'Pure mathematics', 'Production function']), ('Singular homology', ['group', 'element', 'distinct'], ['Group (mathematics)', 'Element (mathematics)', 'Equality (mathematics)']), ('Sesquilinear form', ['polynomial', 'curve', 'combination'], ['Polynomial', 'Curve', 'Combination']), ('Vectorization', ['function', 'transform', 'vector'], ['Function (mathematics)', 'Laplace transform', 'Vector (mathematics and physics)']), ('Common logarithm', ['digit', 'number', 'ratio'], ['Significant figures', 'Number', 'Golden ratio']), ('Function space', ['set', 'function', 'plane'], ['Set (mathematics)', 'Function (mathematics)', 'Plane (geometry)']), ('Discriminant', ['difference', 'measure', 'number'], ['Subtraction', 'Measure (mathematics)', 'Number']), ('Loss function', ['loss function', 'function', 'change'], ['Loss function', 'Function (mathematics)', 'Mathematics']), ('Zero matrix', ['matrix', 'element', 'row'], ['Matrix (mathematics)', 'Element (mathematics)', 'Matrix (mathematics)']), ('Euler angles', ['measure', 'angle', 'line'], ['Measure (mathematics)', 'Angle', 'Line (geometry)']), ('Diagonally dominant matrix', ['matrix', 'diagonal', 'element'], ['Matrix (mathematics)', \"Cantor's diagonal argument\", 'Element (mathematics)']), ('Markov chain', ['probability', 'model', 'modeler'], ['Probability theory', 'Mathematical model', 'Mathematical model']), ('Consistency', ['property', 'set', 'object'], ['Property (mathematics)', 'Set (mathematics)', 'Mathematical object']), ('Dicyclic group', ['group', 'element', 'kind'], ['Group (mathematics)', 'Element (mathematics)', 'Stirling numbers of the second kind']), ('Constrained optimization', ['function', 'problem', 'solution'], ['Function (mathematics)', 'List of unsolved problems in mathematics', 'Equation solving']), ('Hausdorff dimension', ['measure', 'distance', 'point'], ['Measure (mathematics)', 'Distance', 'Fixed point (mathematics)']), ('Möbius transformation', ['topology', 'boundary', 'surface'], ['Topology', 'Boundary (topology)', 'Surface (mathematics)']), ('Pourbaix diagram', ['trajectories', 'solution', 'diagram'], ['Trajectory', 'Equation solving', 'Mathematical diagram']), (\"Descartes' rule of signs\", ['rule of signs', 'prime number'], [\"Descartes' rule of signs\", 'Prime number']), ('Physical property', ['property', 'substance', 'property'], ['Property (mathematics)', 'Flux', 'Property (mathematics)']), ('Nullity', ['0'], ['0']), ('Convergence', ['vector', 'point', 'convergence'], ['Vector (mathematics and physics)', 'Fixed point (mathematics)', 'Limit (mathematics)']), ('Vector calculus', ['vector', 'theory', 'vector space'], ['Vector (mathematics and physics)', 'Set theory', 'Vector (mathematics and physics)']), ('Constant function', ['zero', 'function', 'equal'], ['0', 'Function (mathematics)', 'Equals sign']), ('Generator matrix', ['matrix', 'element', 'group'], ['Matrix (mathematics)', 'Element (mathematics)', 'Group (mathematics)']), ('Angle of rotation', ['angular velocity', 'momentum'], ['Angular momentum', 'Angular momentum']), ('Cartesian product', ['product', 'vector', 'vector product'], ['Product (mathematics)', 'Vector (mathematics and physics)', 'Cross product']), ('GJMS operator', ['product', 'vector', 'scalar'], ['Product (mathematics)', 'Vector (mathematics and physics)', 'Scalar (mathematics)']), ('Generalizations of Fibonacci numbers', ['number sequence', 'number theory'], ['Fibonacci number', 'Number theory']), ('Slope', ['line', 'x-axis', 'perpendicular'], ['Line (geometry)', 'Cartesian coordinate system', 'Perpendicular']), ('Axiomatic system', ['proof', 'axiom', 'system'], ['Mathematical proof', 'Axiom', 'Autonomous system (mathematics)']), ('Tensor product', ['product', 'vector', 'scalar'], ['Product (mathematics)', 'Vector (mathematics and physics)', 'Scalar (mathematics)']), ('Additive inverse', ['inverse', 'function', 'graph'], ['Proportionality (mathematics)', 'Function (mathematics)', 'Graph (discrete mathematics)']), ('Fibonacci polynomials', ['prime number', 'sequence', 'number'], ['Prime number', 'Sequence', 'Number']), ('The C++ Programming Language', ['programming', 'language', 'high'], ['Mathematics', 'Language of mathematics', 'Mathematics']), (\"Student's t-test\", ['test', 'compare', 'group'], ['GRE Mathematics Test', 'Pure mathematics', 'Group (mathematics)']), ('Characteristic vector', ['vector', 'combination', 'vector space'], ['Vector (mathematics and physics)', 'Combination', 'Vector (mathematics and physics)']), ('Simplex', ['graph', 'vertex', 'edge'], ['Graph (discrete mathematics)', 'Vertex (geometry)', 'Graph (discrete mathematics)']), ('Exponential decay', ['time', 'function', 'decrease'], ['Local time (mathematics)', 'Function (mathematics)', 'Sequence']), ('Cyclic and separating vector', ['vector', 'line', 'separation'], ['Vector (mathematics and physics)', 'Line (geometry)', 'Six degrees of separation']), ('Itoh–Tsujii inversion algorithm', ['algorithm', 'solve', 'equation'], ['Algorithm', 'How to Solve It', 'Equation']), ('Solve', ['problem', 'formula', 'solve'], ['List of unsolved problems in mathematics', 'Formula', 'How to Solve It']), ('Grassmannian', ['Grassmannian curve', 'curve', 'topology'], ['Tropical geometry', 'Curve', 'Topology']), ('Subfield', ['field', 'subfield', 'field theory'], ['Field (mathematics)', 'Field extension', 'Field (mathematics)']), ('Vector field', ['field', 'vector', 'scalar'], ['Field (mathematics)', 'Vector (mathematics and physics)', 'Scalar (mathematics)']), ('Symmetric group', ['group', 'element', 'subgroup'], ['Group (mathematics)', 'Element (mathematics)', 'Subgroup']), ('Heading', ['line', 'axis', 'rotation'], ['Line (geometry)', 'Axis', 'Rotation (mathematics)']), ('Skew lines', ['line', 'x-axis', 'parallel'], ['Line (geometry)', 'Cartesian coordinate system', 'Parallelization (mathematics)']), ('Commute', ['vehicle', 'distance', 'travel'], ['Applied mathematics', 'Distance', 'Time travel']), ('Transfer function matrix', ['matrix', 'function', 'element'], ['Matrix (mathematics)', 'Function (mathematics)', 'Element (mathematics)']), ('White noise', ['number', 'digit', 'sequence'], ['Number', 'Significant figures', 'Sequence']), ('Direction', ['direction', 'field', 'vector'], ['Mathematics', 'Field (mathematics)', 'Vector (mathematics and physics)']), ('Basis (linear algebra)', ['set', 'vector', 'vector space'], ['Set (mathematics)', 'Vector (mathematics and physics)', 'Vector (mathematics and physics)']), ('Topological homomorphism', ['topological space', 'map', 'space'], ['Topological space', 'Map (mathematics)', 'Space (mathematics)']), ('Function of several complex variables', ['complex number', 'function', 'set'], ['Absolute value', 'Function (mathematics)', 'Set (mathematics)']), ('Topological vector space', ['topology', 'vector space', 'order'], ['Topology', 'Vector (mathematics and physics)', 'Mathematics']), ('Wronskian', ['product', 'vector', 'scalar'], ['Product (mathematics)', 'Vector (mathematics and physics)', 'Scalar (mathematics)']), ('Dimension (vector space)', ['measure', 'distance', 'point'], ['Measure (mathematics)', 'Distance', 'Fixed point (mathematics)']), (\"Pascal's triangle\", ['length', 'side', 'triangle'], ['Arc length', 'Sides of an equation', 'Golden triangle (mathematics)']), ('Symmetric form', ['symmetry', 'form', 'line'], ['Symmetry in mathematics', 'Canonical form', 'Line (geometry)']), ('Centroid', ['line', 'point', 'intersection'], ['Line (geometry)', 'Fixed point (mathematics)', 'Intersection']), ('Molar volume', ['meter', 'volume', 'length'], ['Metre', 'Volume', 'Arc length']), ('Permutation matrix', ['matrix', 'permutation', 'combination'], ['Matrix (mathematics)', 'Permutation group', 'Combination']), ('Well-order', ['set', 'element', 'type'], ['Set (mathematics)', 'Element (mathematics)', 'Type theory']), ('Joint Force Air Component Commander', ['force', 'commander', 'commander-in-chief'], ['Forcing (mathematics)', 'Paul Glaister', None]), ('Cubic equation', ['coefficient', 'polynomial', 'equation'], ['Coefficient', 'Polynomial', 'Equation']), ('Decomposition of spectrum (functional analysis)', ['set', 'function', 'continuous'], ['Set (mathematics)', 'Function (mathematics)', 'Discrete mathematics']), ('3D projection', ['surface', 'projection', 'object'], ['Surface (mathematics)', 'Projection (mathematics)', 'Mathematical object']), ('Recursion (computer science)', ['function', 'apply', 'recur'], ['Function (mathematics)', 'Mathematics', 'Maximum power transfer theorem']), ('On-Line Encyclopedia of Integer Sequences', ['sequence', 'database', 'sequencer'], ['Sequence', 'Mathematics', 'Sequence']), ('Disjoint sets', ['set', 'element', 'elemental'], ['Set (mathematics)', 'Element (mathematics)', 'Euler angles']), ('Arrow notation', ['commutative', 'arrow', 'commutator'], ['Commutative property', 'Mathematical operators and symbols in Unicode', 'Commutator']), ('Computer-generated', ['image', 'computer', 'generate'], ['Image (mathematics)', 'Discrete mathematics', 'Generator (mathematics)']), ('Ellipsis (disambiguation)', ['ellipse', 'circle'], ['Ellipse', 'Circle']), ('Map (mathematics)', ['graph', 'function', 'graph'], ['Graph (discrete mathematics)', 'Function (mathematics)', 'Graph (discrete mathematics)']), ('Profit maximization', ['profit', 'maximize', 'firm'], ['Mathematics', 'Expectation–maximization algorithm', 'Mathematical analysis']), ('Factor', ['number', 'number', 'multiplier'], ['Number', 'Number', 'Multiplication']), ('Signed distance function', ['distance', 'point', 'set'], ['Distance', 'Fixed point (mathematics)', 'Set (mathematics)']), ('Fock state', ['orbital', 'system', 'electron'], ['Molecular orbital', 'Autonomous system (mathematics)', 'Electron']), ('Round-off error', ['deviation', 'value', 'true'], ['Deviation (statistics)', 'Absolute value', 'Mathematics']), ('Riesz representation theorem', ['theorem', 'proof', 'concept'], ['Theorem', 'Mathematical proof', 'Mathematics']), ('3D rotation group', ['axis', 'figure', 'symmetry'], ['Axis', 'Mathematics', 'Symmetry in mathematics']), ('Permutation', ['set', 'element', 'combination'], ['Set (mathematics)', 'Element (mathematics)', 'Combination']), ('Coordinate vector', ['line of symmetry', 'vector'], ['Symmetry in mathematics', 'Vector (mathematics and physics)']), ('Universal approximation theorem', ['theorem', 'proof', 'concept'], ['Theorem', 'Mathematical proof', 'Mathematics']), ('Thue–Morse sequence', ['prime number', 'order', 'sequence'], ['Prime number', 'Mathematics', 'Sequence']), ('Free variables and bound variables', ['free variables and bound variables'], ['Free variables and bound variables']), ('Pearson correlation coefficient', ['measure', 'relationship', 'variable'], ['Measure (mathematics)', 'Relationship between mathematics and physics', 'Variable (mathematics)']), ('Monomial', ['number', 'group', 'number'], ['Number', 'Group (mathematics)', 'Number']), ('Degenerate bilinear form', ['group', 'form', 'combination'], ['Group (mathematics)', 'Canonical form', 'Combination']), ('Minimal polynomial (linear algebra)', ['polynomial', 'zero', 'root'], ['Polynomial', '0', 'Tetration']), ('Linear differential equation', ['time', 'function', 'equation'], ['Local time (mathematics)', 'Function (mathematics)', 'Equation']), ('Explicit formula', ['relationship', 'statement', 'formula'], ['Relationship between mathematics and physics', 'Mathematical proof', 'Formula']), ('Annihilator', ['symbiosis', 'host', 'symbiont'], ['Mutualism (biology)', 'Applied mathematics', 'Phylogenetic reconciliation']), ('Empty set', ['set', 'element', 'type'], ['Set (mathematics)', 'Element (mathematics)', 'Type theory']), ('The Last Supper (disambiguation)', ['table', 'place', 'person'], ['Mathematical table', 'Mathematics', 'Graph (discrete mathematics)']), ('Web server directory index', ['list', 'directory', 'content'], ['Lists of mathematics topics', 'University of Cambridge', 'Mathematics']), ('Cofactor', ['prime number', 'product', 'number'], ['Prime number', 'Product (mathematics)', 'Number']), ('Position (team sports)', ['position', 'field', 'player'], ['Position (geometry)', 'Field (mathematics)', 'Recreational mathematics']), (\"Schur's theorem\", ['theorem', 'geometry', 'proof'], ['Theorem', 'Geometry', 'Mathematical proof']), ('Field extension', ['field', 'function', 'increase'], ['Field (mathematics)', 'Function (mathematics)', 'Mathematics']), ('Symmetric bilinear form', ['group', 'symmetry', 'form'], ['Group (mathematics)', 'Symmetry in mathematics', 'Canonical form']), ('Marginal product', ['product', 'revenue', 'cost'], ['Product (mathematics)', 'Business mathematics', 'Mathematics']), ('Primitive root modulo n', ['prime number', 'modulo n'], ['Prime number', 'Modulo (mathematics)']), ('Dual space', ['metric', 'space', 'point'], ['Metric space', 'Space (mathematics)', 'Fixed point (mathematics)']), ('Poynting vector', ['line of sight', 'vector'], ['Sight reduction', 'Vector (mathematics and physics)']), ('Augustin-Louis Cauchy', ['arithmetic', 'number', 'geometry'], ['Arithmetic', 'Number', 'Geometry']), ('1 + 2 + 3 + 4 + ⋯', ['arithmetic progression', 'number', 'ratio'], ['Arithmetic progression', 'Number', 'Golden ratio']), ('Law of total probability', ['probability', 'event', 'sum'], ['Probability theory', 'Event horizon', 'Summation']), ('Subspace topology', ['topology of a subspace'], ['Subspace topology']), ('Complex conjugate of a vector space', ['complex number', 'vector space'], ['Absolute value', 'Vector (mathematics and physics)']), ('Dense set', ['set', 'property', 'element'], ['Set (mathematics)', 'Property (mathematics)', 'Element (mathematics)']), ('Self-similarity', ['property', 'structure', 'set'], ['Property (mathematics)', 'Mathematical structure', 'Set (mathematics)']), ('Matrix congruence', ['inverse', 'matrix', 'congruent'], ['Proportionality (mathematics)', 'Matrix (mathematics)', 'Congruence (geometry)']), ('Pointwise', ['line', 'x-axis', 'segment'], ['Line (geometry)', 'Cartesian coordinate system', 'Mathematics']), ('Quadrant (plane geometry)', ['quadrant (geometry)'], ['Quadrant (plane geometry)']), ('Isometry', ['line', 'x-axis', 'segment'], ['Line (geometry)', 'Cartesian coordinate system', 'Mathematics']), ('Included angle', ['measure', 'angle', 'line'], ['Measure (mathematics)', 'Angle', 'Line (geometry)']), ('Matrix calculus', ['differential geometry', 'calculus'], ['Differential geometry', 'Calculus']), ('Total subset', ['set', 'element', 'group'], ['Set (mathematics)', 'Element (mathematics)', 'Group (mathematics)']), ('Real projective plane', ['y-axis', 'x-axis'], ['Cartesian coordinate system', 'Cartesian coordinate system']), ('Median', ['Group (mathematics)'], ['Mathematics']), ('Backup rotation scheme', ['backup', 'scheme', 'rotate'], ['Backup rotation scheme', 'Scheme (mathematics)', 'Rotating black hole']), ('Distributive property', ['property', 'member', 'group'], ['Property (mathematics)', 'Applied mathematics', 'Group (mathematics)']), ('Affine transformation', ['transformation', 'preserve', 'shape'], ['Transformation (function)', 'Mathematical structure', 'Shape']), ('Division algorithm', ['algorithm', 'number', 'perform'], ['Algorithm', 'Number', 'Mathematics education']), ('Direct sum', ['arithmetic mean', 'sum'], ['Arithmetic mean', 'Summation']), ('Real coordinate space', ['set', 'point', 'coordinate'], ['Set (mathematics)', 'Fixed point (mathematics)', 'Coordinate system']), ('Idempotent (ring theory)', ['group', 'ring', 'degree'], ['Group (mathematics)', 'Ring (mathematics)', 'Mathematics']), ('Smartphone', ['number', 'phone', 'text'], ['Number', 'Microsoft Math Solver', 'Graduate Texts in Mathematics']), ('Multilinear form', ['polynomial', 'coefficient', 'form'], ['Polynomial', 'Coefficient', 'Canonical form']), ('Laplace expansion', ['series', 'differential equation', 'solve'], ['Series (mathematics)', 'Ordinary differential equation', 'How to Solve It']), ('Quadratic formula', ['polynomial', 'root', 'square'], ['Polynomial', 'Tetration', 'Square']), ('Contraction', ['contraction', 'vector', 'reduce'], ['Contraction mapping', 'Vector (mathematics and physics)', 'Mathematics']), ('Boundary value problem', ['boundary value problem', 'function', 'solution'], ['Boundary value problem', 'Function (mathematics)', 'Equation solving']), ('Three-dimensional space', ['a three-dimensional object', 'a plane', 'and a surface'], ['Space (mathematics)', 'Plane (geometry)', 'Surface (mathematics)']), ('Coordinate system', ['geometry'], ['Geometry']), ('Eros (disambiguation)', ['surface', 'sphere', 'body'], ['Surface (mathematics)', 'Sphere', 'Mathematics']), ('Metric', ['length', 'unit', 'length unit'], ['Arc length', 'Unit (ring theory)', 'Reciprocal length']), ('Normed vector space', ['vector space', 'norm', 'space'], ['Vector (mathematics and physics)', 'Norm (mathematics)', 'Space (mathematics)']), ('Object composition', ['group', 'object', 'combine'], ['Group (mathematics)', 'Mathematical object', 'Mathematical joke']), ('Carl Friedrich Gauss', ['theorem', 'theorem proving', 'mathematician'], ['Theorem', 'Automated theorem proving', 'Mathematician']), ('Graded vector space', ['order', 'space', 'element'], ['Mathematics', 'Space (mathematics)', 'Element (mathematics)']), ('Rotation matrix', ['matrix', 'axis', 'rotate'], ['Matrix (mathematics)', 'Axis', 'Rotating black hole']), ('Involution', ['change', 'shape', 'curve'], ['Mathematics', 'Shape', 'Curve']), ('Sum', ['set', 'element', 'sum'], ['Set (mathematics)', 'Element (mathematics)', 'Summation']), ('Blank (solution)', ['problem', 'solution', 'solution'], ['List of unsolved problems in mathematics', 'Equation solving', 'Equation solving']), ('Recurrence', ['event', 'repeat', 'cycle'], ['Event horizon', 'Pattern', 'Mathematics']), ('Cancel', ['reversal', 'sign', 'sign change'], ['Geomagnetic reversal', 'Sign (mathematics)', 'Sign (mathematics)']), ('Jordan–Chevalley decomposition', ['series', 'polynomial', 'decomposition'], ['Series (mathematics)', 'Polynomial', 'Singular value decomposition']), (\"Parseval's identity\", ['product', 'vector', 'scalar'], ['Product (mathematics)', 'Vector (mathematics and physics)', 'Scalar (mathematics)']), ('Majorana equation', ['set of equations that describes the motion of a particle in a vacuum'], ['Motion']), (\"Young's inequality for products\", ['function', 'sum', 'function'], ['Function (mathematics)', 'Summation', 'Function (mathematics)']), ('Perfect square', ['length', 'side', 'square'], ['Arc length', 'Sides of an equation', 'Square']), ('Singular value decomposition', ['set', 'number', 'product'], ['Set (mathematics)', 'Number', 'Product (mathematics)']), ('Schauder basis', ['basis', 'set', 'polynomial'], ['Basis (linear algebra)', 'Set (mathematics)', 'Polynomial']), ('Moore–Penrose inverse', ['inverse', 'function', 'function'], ['Proportionality (mathematics)', 'Function (mathematics)', 'Function (mathematics)']), ('Point reflection', ['surface', 'reflection', 'point'], ['Surface (mathematics)', 'Reflection (mathematics)', 'Fixed point (mathematics)']), ('Definite quadratic form', ['quadratic form', 'linear system', 'equation'], ['Quadratic form', 'Linear system', 'Equation']), ('Dual module', ['matrices', 'set', 'element'], ['Matrix (mathematics)', 'Set (mathematics)', 'Element (mathematics)']), ('Real-valued function', ['point', 'function', 'line'], ['Fixed point (mathematics)', 'Function (mathematics)', 'Line (geometry)']), ('Logical equivalence', ['true if and only if'], ['If and only if']), ('Spectrum', ['set', 'function', 'value'], ['Set (mathematics)', 'Function (mathematics)', 'Absolute value']), ('Row and column spaces', ['set', 'plane', 'point'], ['Set (mathematics)', 'Plane (geometry)', 'Fixed point (mathematics)']), ('Adder–subtractor', ['add', 'subtract', 'number'], ['Addition', 'Subtraction', 'Number']), ('Surjective function', ['subdomain', 'function', 'domain'], ['Numerical methods for partial differential equations', 'Function (mathematics)', 'Domain (mathematical analysis)']), ('Eigendecomposition of a matrix', ['matrix', 'eigenvalue', 'row'], ['Matrix (mathematics)', 'Eigenvalues and eigenvectors', 'Matrix (mathematics)']), ('Survival analysis', ['survival analysis'], ['Survival analysis']), ('Form', ['set', 'shape', 'rule'], ['Set (mathematics)', 'Shape', 'Mathematics']), (\"Lagrange's identity\", ['map', 'function', 'number'], ['Map (mathematics)', 'Function (mathematics)', 'Number']), ('Learning curve', ['graph', 'student', 'number'], ['Graph (discrete mathematics)', 'Mathematics', 'Number']), ('Negation introduction', ['statement', 'false', 'mathematician'], ['Mathematical proof', 'Discrete mathematics', 'Mathematician']), ('Golden-section search', ['algorithm', 'converge', 'solution'], ['Algorithm', 'Limit (mathematics)', 'Equation solving']), ('Hamming weight', ['symmetry', 'measure'], ['Symmetry in mathematics', 'Measure (mathematics)']), ('Kernel (algebra)', ['group', 'element', 'set'], ['Group (mathematics)', 'Element (mathematics)', 'Set (mathematics)']), ('Gröbner basis', ['set', 'eigenvector', 'group'], ['Set (mathematics)', 'Eigenvalues and eigenvectors', 'Group (mathematics)']), ('Whole number', ['natural number', 'number', 'sum'], ['Natural number', 'Number', 'Summation']), ('Leonhard Euler', ['arithmetic', 'number', 'mathematician'], ['Arithmetic', 'Number', 'Mathematician']), ('Associated Legendre polynomials', ['polynomial', 'root', 'combination'], ['Polynomial', 'Tetration', 'Combination']), ('Area of a circle', ['area', 'circle', 'measure'], ['Area', 'Circle', 'Measure (mathematics)']), ('Intermediate value theorem', ['theorem', 'proof', 'concept'], ['Theorem', 'Mathematical proof', 'Mathematics']), ('Order of operations', ['order', 'sequence', 'operation'], ['Mathematics', 'Sequence', 'Operation (mathematics)']), ('Rational root theorem', ['theorem', 'proof', 'concept'], ['Theorem', 'Mathematical proof', 'Mathematics']), ('Group', ['set', 'arrangement', 'way'], ['Set (mathematics)', 'Mathematics', 'Applied mathematics']), ('Ordered pair', ['order', 'pair', 'vector'], ['Mathematics', 'Ordered pair', 'Vector (mathematics and physics)']), ('Integral', ['set', 'element', 'sum'], ['Set (mathematics)', 'Element (mathematics)', 'Summation']), ('Fingerprint', ['ridges', 'valleys'], ['Face (geometry)', 'History of mathematics']), ('Hermitian adjoint', ['inverse', 'function', 'combination'], ['Proportionality (mathematics)', 'Function (mathematics)', 'Combination']), ('Complex number', ['digit', 'number', 'digits'], ['Significant figures', 'Number', 'Pi']), ('Autonomous system (mathematics)', ['system', 'operate', 'intervention'], ['Autonomous system (mathematics)', 'Discrete mathematics', 'Mathematical modelling of infectious diseases']), ('Parallelogram law', ['law of sines', 'law of cosines'], ['Law of sines', 'Law of cosines']), ('Thermal conduction', ['place', 'heat', 'transfer'], ['Mathematics', 'Heat equation', 'Mathematics education']), ('Zero divisor', ['zero divisor', 'zero product'], ['Zero divisor', 'Infinite product']), ('Code', ['bit', 'sequence', 'bit rate'], ['Bit', 'Sequence', 'Rate (mathematics)']), ('Uncorrelatedness (probability theory)', ['property', 'random variable', 'state'], ['Property (mathematics)', 'Random variable', 'Mathematics']), ('Reduction', ['arithmetic', 'number', 'digit'], ['Arithmetic', 'Number', 'Significant figures']), ('Point at infinity', ['point', 'space', 'infinity'], ['Fixed point (mathematics)', 'Space (mathematics)', 'Infinity']), ('Generating function', ['function', 'generate', 'function'], ['Function (mathematics)', 'Generator (mathematics)', 'Function (mathematics)']), ('Perron–Frobenius theorem', ['theorem', 'proof', 'concept'], ['Theorem', 'Mathematical proof', 'Mathematics']), ('Y-intercept', ['graph', 'point', 'y-axis'], ['Graph (discrete mathematics)', 'Fixed point (mathematics)', 'Cartesian coordinate system']), ('Projection matrix', ['matrix', 'vector', 'plane'], ['Matrix (mathematics)', 'Vector (mathematics and physics)', 'Plane (geometry)']), ('Examples of vector spaces', ['vector', 'space', 'spacetime'], ['Vector (mathematics and physics)', 'Space (mathematics)', 'Spacetime']), ('Invertible matrix', ['matrix', 'inverse', 'matrix multiplication'], ['Matrix (mathematics)', 'Proportionality (mathematics)', 'Matrix multiplication']), ('Circuit', ['closed loop', 'circle', 'arc'], ['Control theory', 'Circle', 'Curve']), ('Event', ['conditional', 'statement', 'truth'], ['Conditional expectation', 'Mathematical proof', 'Vacuous truth']), ('Flavour (particle physics)', ['quantum number', 'quark', 'property'], ['Mathematical formulation of quantum mechanics', 'Quark', 'Property (mathematics)']), ('Norm (mathematics)', ['mean', 'average', 'measure'], ['Mean', 'Average', 'Measure (mathematics)']), ('Conic section', ['polygon', 'curve', 'tangency'], ['Polygon', 'Curve', 'Tangent']), ('Hamming distance', ['measure', 'distance', 'point'], ['Measure (mathematics)', 'Distance', 'Fixed point (mathematics)']), ('Migration', ['change', 'population', 'change'], ['Mathematics', 'Mathematics', 'Mathematics']), ('Orthonormality', ['property', 'vector', 'set'], ['Property (mathematics)', 'Vector (mathematics and physics)', 'Set (mathematics)']), ('Radical', ['prime number', 'power', 'number'], ['Prime number', 'Exponentiation', 'Number']), ('Linear combination', ['set', 'vector', 'vector space'], ['Set (mathematics)', 'Vector (mathematics and physics)', 'Vector (mathematics and physics)']), ('Voltage drop', ['voltage', 'drop', 'current'], ['Voltage', 'Pitch drop experiment', 'Current (mathematics)']), ('Homomorphism', ['homomorphism', 'object', 'respect'], ['Homomorphism', 'Mathematical object', 'Mathematics']), ('Galerkin method', ['method', 'solve', 'equation'], ['Mathematics', 'How to Solve It', 'Equation']), ('Covariance', ['measure', 'variability', 'random'], ['Measure (mathematics)', 'Heart rate variability', 'Random walk']), ('Polynomial transformation', ['polynomial', 'change', 'form'], ['Polynomial', 'Mathematics', 'Canonical form']), ('Inequality (mathematics)', ['Inequality', 'number', 'set'], ['Inequality (mathematics)', 'Number', 'Set (mathematics)']), ('Vanishing point', ['point', 'curve', 'gradient'], ['Fixed point (mathematics)', 'Curve', 'Gradient descent']), ('Inductive reasoning', ['deductive reasoning', 'logic'], ['Deductive reasoning', 'Mathematical logic']), ('Endpoint', ['line', 'point', 'distance'], ['Line (geometry)', 'Fixed point (mathematics)', 'Distance']), ('Dihedral angle', ['measure', 'angle', 'ray'], ['Measure (mathematics)', 'Angle', 'Line (geometry)']), ('Sampling (statistics)', ['population', 'sample', 'sample size'], ['Mathematics', 'Sampling (statistics)', 'Sample size determination']), ('Camille Jordan', ['symplectic curve', 'symplectic geometry'], ['Symplectic geometry', 'Symplectic geometry']), ('Point-to-point', ['line', 'segment', 'point'], ['Line (geometry)', 'Mathematics', 'Fixed point (mathematics)']), ('Complex conjugate', ['complex number', 'real number'], ['Absolute value', 'Real number']), ('Low-density parity-check code', ['bit', 'code', 'symbol'], ['Bit', 'Mathematics', 'Glossary of mathematical symbols']), ('Charles Hermite', ['polynomial', 'coefficient', 'rational'], ['Polynomial', 'Coefficient', 'Rational number']), ('Cube root', ['ratio', 'root', 'square'], ['Golden ratio', 'Tetration', 'Square']), ('Frigyes Riesz', ['number', 'orchestra', 'symphony'], ['Number', 'Philosophy of mathematics', 'Mathematical beauty']), ('Box product', ['product', 'vector', 'vector product'], ['Product (mathematics)', 'Vector (mathematics and physics)', 'Cross product']), ('Conjugate transpose', ['inverse', 'function', 'graph'], ['Proportionality (mathematics)', 'Function (mathematics)', 'Graph (discrete mathematics)']), ('Modulus', ['ratio', 'ratios', 'number'], ['Golden ratio', 'Ratio', 'Number']), ('Standard basis', ['arithmetic mean', 'number', 'set'], ['Arithmetic mean', 'Number', 'Set (mathematics)']), (\"Itô's lemma\", ['theorem', 'statement', 'lemma'], ['Theorem', 'Mathematical proof', 'Lemma (mathematics)']), ('Mahalanobis distance', ['measure', 'point', 'distance'], ['Measure (mathematics)', 'Fixed point (mathematics)', 'Distance']), ('Unitary matrix', ['matrix', 'vector', 'combination'], ['Matrix (mathematics)', 'Vector (mathematics and physics)', 'Combination']), ('Decoding methods', ['bit', 'channel', 'encode'], ['Bit', 'Recreational mathematics', 'Code']), ('Kosambi–Karhunen–Loève theorem', ['theorem', 'proof', 'concept'], ['Theorem', 'Mathematical proof', 'Mathematics']), ('Shannon coding', ['coding', 'system', 'code'], ['Mathematics', 'Autonomous system (mathematics)', 'Mathematics']), ('Algebra of random variables', ['stochastic process', 'probability', 'distribution'], ['Stochastic process', 'Probability theory', 'Distribution (mathematics)']), ('System of differential equations', ['set', 'equation', 'interact'], ['Set (mathematics)', 'Equation', 'Mathematics']), ('Tridiagonal matrix', ['matrix', 'row', 'column'], ['Matrix (mathematics)', 'Matrix (mathematics)', 'List of Martin Gardner Mathematical Games columns']), ('Hermitian matrix', ['matrix', 'vector', 'combination'], ['Matrix (mathematics)', 'Vector (mathematics and physics)', 'Combination']), ('Trajectory inference', ['probability', 'event', 'estimate'], ['Probability theory', 'Event horizon', 'Mathematics']), ('LINPACK benchmarks', ['set', 'number', 'operation'], ['Set (mathematics)', 'Number', 'Operation (mathematics)']), ('Factor theorem', ['degree n', 'polynomial', 'factor'], ['Degree (graph theory)', 'Polynomial', 'Factor']), ('Apsis', ['ratio', 'ratios', 'number'], ['Golden ratio', 'Ratio', 'Number']), ('Commutative algebra', ['group', 'element', 'arrange'], ['Group (mathematics)', 'Element (mathematics)', 'Discrete mathematics']), ('Matrix unit', ['length', 'unit', 'length unit'], ['Arc length', 'Unit (ring theory)', 'Reciprocal length']), ('Particle swarm optimization', ['stochastic', 'algorithm', 'algorithmic'], ['Stochastic process', 'Algorithm', 'Algorithm']), ('Projection-slice theorem', ['theorem', 'proof', 'concept'], ['Theorem', 'Mathematical proof', 'Mathematics']), ('Common-mode rejection ratio', ['CMRR', 'CMRR formula', 'CMRR function'], ['Jack Wolf', None, 'Zobel network']), ('Stretch', ['spherical', 'curve', 'stretch'], ['Spherical coordinate system', 'Curve', 'Stretch factor']), ('Magnitude', ['size', 'measure', 'distance'], ['Magnitude (mathematics)', 'Measure (mathematics)', 'Distance']), ('Augmented matrix', ['row', 'column', 'matrix'], ['Matrix (mathematics)', 'List of Martin Gardner Mathematical Games columns', 'Matrix (mathematics)']), ('Position angle', ['angular momentum', 'angle', 'revolution'], ['Angular momentum operator', 'Angle', 'Mathematics']), ('Coefficient of determination', ['model', 'observation', 'explain'], ['Mathematical model', 'Mathematics', 'Mathematics']), ('Degree', ['measure', 'angle', 'degree'], ['Measure (mathematics)', 'Angle', 'Mathematics']), ('Modified Mercalli intensity scale', ['logarithm', 'scale', 'number'], ['Natural logarithm', 'Music and mathematics', 'Number']), ('Hypotenuse', ['length', 'side', 'side length'], ['Arc length', 'Sides of an equation', 'Mathematics']), ('Simplex algorithm', ['algorithm', 'solve', 'problem'], ['Algorithm', 'How to Solve It', 'List of unsolved problems in mathematics']), ('Compression (physics)', ['compressive stress', 'stress'], ['Stress (mechanics)', 'Stress (mechanics)']), ('Differentiation', ['operation', 'mathematical', 'concept'], ['Operation (mathematics)', 'Mathematics', 'Mathematics']), ('Nonlinear dimensionality reduction', ['reducing', 'number', 'variable'], ['Mathematics', 'Number', 'Variable (mathematics)']), ('Regression analysis', ['estimation', 'model', 'parameter'], ['Point estimation', 'Mathematical model', 'Parameter']), ('Divergence of the sum of the reciprocals of the primes', ['prime factorization', 'prime number', 'ratio'], ['Integer factorization', 'Prime number', 'Golden ratio']), ('Linear map', ['map', 'function', 'y'], ['Map (mathematics)', 'Function (mathematics)', 'Mathematics']), ('Rotation', ['axis', 'rotation', 'axis of revolution'], ['Axis', 'Rotation (mathematics)', 'Solid of revolution']), ('Standard error', ['a measure of the variability of a measurement'], ['Statistical dispersion']), ('Matrix decomposition', ['vector', 'matrix', 'collection'], ['Vector (mathematics and physics)', 'Matrix (mathematics)', 'Mathematics']), ('Dimension', ['measure', 'distance', 'time'], ['Measure (mathematics)', 'Distance', 'Local time (mathematics)']), ('Orthogonality', ['line', 'segment', 'perpendicular'], ['Line (geometry)', 'Mathematics', 'Perpendicular']), ('Multilinear', ['nonlinear function'], ['Nonlinear system'])]\n"
     ]
    }
   ],
   "source": [
    "print(list(zip(df_concepts.concept, df_concepts.deps, df_concepts.dep_articles)))"
   ]
  }
 ],
 "metadata": {
  "kernelspec": {
   "display_name": "LD-inference",
   "language": "python",
   "name": "python3"
  },
  "language_info": {
   "codemirror_mode": {
    "name": "ipython",
    "version": 3
   },
   "file_extension": ".py",
   "mimetype": "text/x-python",
   "name": "python",
   "nbconvert_exporter": "python",
   "pygments_lexer": "ipython3",
   "version": "3.10.8"
  },
  "orig_nbformat": 4,
  "vscode": {
   "interpreter": {
    "hash": "2b3dd287303ef379cd3bfc1446cef400144e42385eabfb9b315f60147448249f"
   }
  }
 },
 "nbformat": 4,
 "nbformat_minor": 2
}

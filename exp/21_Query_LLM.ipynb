{
 "cells": [
  {
   "cell_type": "code",
   "execution_count": 12,
   "metadata": {},
   "outputs": [],
   "source": [
    "import numpy as np\n",
    "import pandas as pd\n",
    "import requests\n",
    "import json\n",
    "import ast\n",
    "\n",
    "import sys\n",
    "sys.path.append('../src/')\n",
    "import wiki_api\n",
    "import data_layer\n",
    "import graph_api\n"
   ]
  },
  {
   "cell_type": "code",
   "execution_count": 2,
   "metadata": {},
   "outputs": [],
   "source": [
    "host = \"localhost\"\n",
    "port = \"8100\""
   ]
  },
  {
   "attachments": {},
   "cell_type": "markdown",
   "metadata": {},
   "source": [
    "# T0PP"
   ]
  },
  {
   "attachments": {},
   "cell_type": "markdown",
   "metadata": {},
   "source": [
    "## Example outputs"
   ]
  },
  {
   "cell_type": "code",
   "execution_count": 52,
   "metadata": {},
   "outputs": [
    {
     "data": {
      "text/plain": [
       "'<pad> A hyperplane is a plane in three-dimensional space that is perpendicular to all other planes and tangent to all other lines.</s>'"
      ]
     },
     "execution_count": 52,
     "metadata": {},
     "output_type": "execute_result"
    }
   ],
   "source": [
    "get_answer(f\"Simple definition of a hyperplane:\")"
   ]
  },
  {
   "cell_type": "code",
   "execution_count": 53,
   "metadata": {},
   "outputs": [
    {
     "data": {
      "text/plain": [
       "'<pad> plane, line, space</s>'"
      ]
     },
     "execution_count": 53,
     "metadata": {},
     "output_type": "execute_result"
    }
   ],
   "source": [
    "get_answer(f\"What mathematical concepts are mentioned here? A hyperplane is a plane in three-dimensional space that is perpendicular to all other planes and tangent to all other lines.\")"
   ]
  },
  {
   "cell_type": "code",
   "execution_count": 57,
   "metadata": {},
   "outputs": [
    {
     "data": {
      "text/plain": [
       "'<pad> a two-dimensional array of elements</s>'"
      ]
     },
     "execution_count": 57,
     "metadata": {},
     "output_type": "execute_result"
    }
   ],
   "source": [
    "get_answer(f\"In mathematics, what is matrix?\")"
   ]
  },
  {
   "cell_type": "code",
   "execution_count": 74,
   "metadata": {},
   "outputs": [
    {
     "data": {
      "text/plain": [
       "'A kernel is a function that maps a real number to another real number.'"
      ]
     },
     "execution_count": 74,
     "metadata": {},
     "output_type": "execute_result"
    }
   ],
   "source": [
    "get_answer(f\"Give me a detailled definition of Kernel (algebra)\")"
   ]
  },
  {
   "cell_type": "code",
   "execution_count": 62,
   "metadata": {},
   "outputs": [
    {
     "data": {
      "text/plain": [
       "'<pad> matrix transpose is a matrix operation that transposes a matrix into its identity matrix.</s>'"
      ]
     },
     "execution_count": 62,
     "metadata": {},
     "output_type": "execute_result"
    }
   ],
   "source": [
    "get_answer(f\"In linear algebra, what is matrix transpose?\")"
   ]
  },
  {
   "cell_type": "code",
   "execution_count": 63,
   "metadata": {},
   "outputs": [
    {
     "data": {
      "text/plain": [
       "'<pad> Berlin</s>'"
      ]
     },
     "execution_count": 63,
     "metadata": {},
     "output_type": "execute_result"
    }
   ],
   "source": [
    "get_answer(f\"Germany // Berlin\\nFrance // Paris\\nRussia // Moscow\\nItaly - Rome\\n USA //\")"
   ]
  },
  {
   "attachments": {},
   "cell_type": "markdown",
   "metadata": {},
   "source": [
    "## Dep Extraction"
   ]
  },
  {
   "cell_type": "code",
   "execution_count": 4,
   "metadata": {},
   "outputs": [],
   "source": [
    "def get_answer(prompt):\n",
    "    url = f\"http://{host}:{port}?prompt={prompt}\"\n",
    "    response = requests.request(\"GET\", url)\n",
    "    result = json.loads(response.text)\n",
    "    return result['response'].replace(\"<pad> \",\"\").replace(\"</s>\", \"\")"
   ]
  },
  {
   "cell_type": "code",
   "execution_count": null,
   "metadata": {},
   "outputs": [],
   "source": [
    "def get_deps(i, concept):\n",
    "    if i % 5 == 0: print(i)\n",
    "    definition = get_answer(f\"What is the mathematical definition of {concept}?\")\n",
    "    response = get_answer(f\"What mathematical concepts are mentioned here: {definition}\")\n",
    "    deps = list(map(lambda x: x.strip(), response.split(\",\")))\n",
    "    return deps\n",
    "\n",
    "_, wiki_concepts = data_layer.read_index_and_wiki_concepts()\n",
    "wiki_concepts = list(wiki_concepts)\n",
    "\n",
    "#concepts = np.random.choice(wiki_concepts, 100)\n",
    "deps = [get_deps(i, concept) for i, concept in enumerate(wiki_concepts)]\n",
    "df_concepts = pd.DataFrame({\"concept\": wiki_concepts, \"deps\": deps})\n",
    "df_concepts.to_csv(\"../dat/llm/t0pp_output.csv\")"
   ]
  },
  {
   "cell_type": "code",
   "execution_count": 13,
   "metadata": {},
   "outputs": [],
   "source": [
    "#df_concepts = pd.read_csv(\"../dat/llm/t0pp_output.csv\")\n",
    "#df_concepts.deps = df_concepts.deps.apply(ast.literal_eval)"
   ]
  },
  {
   "cell_type": "code",
   "execution_count": null,
   "metadata": {},
   "outputs": [],
   "source": [
    "link_set = set(wiki_concepts)\n",
    "df_concepts['dep_articles'] = [print(i) or [wiki_api.disambiguate(dep, link_set, \"Mathematics\") for dep in concept_deps] for i, concept_deps in enumerate(df_concepts.deps)]"
   ]
  },
  {
   "cell_type": "code",
   "execution_count": 21,
   "metadata": {},
   "outputs": [],
   "source": [
    "df_concepts = pd.read_csv(\"../dat/llm/df_concepts.csv\")\n",
    "df_concepts.drop(columns=df_concepts.columns[0], axis=1, inplace=True)\n",
    "df_concepts.deps = df_concepts.deps.apply(ast.literal_eval)\n",
    "df_concepts.dep_articles = df_concepts.dep_articles.apply(ast.literal_eval)"
   ]
  },
  {
   "cell_type": "code",
   "execution_count": 22,
   "metadata": {},
   "outputs": [],
   "source": [
    "def delete_reflexive(concept, dep_articles):\n",
    "    return list(filter(lambda x: x!=concept, dep_articles))\n",
    "df_concepts.dep_articles = [delete_reflexive(concept, dep_articles) for concept, dep_articles in zip(df_concepts.concept, df_concepts.dep_articles)]"
   ]
  },
  {
   "cell_type": "code",
   "execution_count": 25,
   "metadata": {},
   "outputs": [],
   "source": [
    "df_concepts.to_csv(\"../dat/llm/df_concepts.csv\")"
   ]
  },
  {
   "cell_type": "code",
   "execution_count": 26,
   "metadata": {},
   "outputs": [],
   "source": [
    "graph_api.save_graph('../dat/llm/graph.json', df_concepts.concept, df_concepts.dep_articles)"
   ]
  },
  {
   "cell_type": "code",
   "execution_count": null,
   "metadata": {},
   "outputs": [],
   "source": [
    "#print(list(zip(df_concepts.concept, df_concepts.deps, df_concepts.dep_articles)))"
   ]
  },
  {
   "attachments": {},
   "cell_type": "markdown",
   "metadata": {},
   "source": [
    "# Galactica"
   ]
  },
  {
   "cell_type": "code",
   "execution_count": 4,
   "metadata": {},
   "outputs": [],
   "source": [
    "def get_answer(prompt):\n",
    "    url = f\"http://{host}:{port}?prompt={prompt}\"\n",
    "    response = requests.request(\"GET\", url)\n",
    "    result = json.loads(response.text)\n",
    "    return result['response'] #.replace(\"<pad> \",\"\").replace(\"</s>\", \"\")"
   ]
  },
  {
   "cell_type": "code",
   "execution_count": 7,
   "metadata": {},
   "outputs": [
    {
     "data": {
      "text/plain": [
       "['This is a list of mathematical concepts that are required to define matrix:\\n\\n* Set\\n* Function\\n* Cartesian product\\n* Cartesian product of sets\\n* Cartesian product of functions\\n* Cartesian']"
      ]
     },
     "execution_count": 7,
     "metadata": {},
     "output_type": "execute_result"
    }
   ],
   "source": [
    "get_answer(f\"This is a list of mathematical concepts that are required to define matrix:\\n\")"
   ]
  },
  {
   "cell_type": "code",
   "execution_count": 8,
   "metadata": {},
   "outputs": [
    {
     "data": {
      "text/plain": [
       "['Brief definition of matrix:\\n\\nA matrix is a rectangular array of numbers, symbols, or expressions arranged in rows and columns.\\n\\n# 2.2.1.1 Matrix Addition']"
      ]
     },
     "execution_count": 8,
     "metadata": {},
     "output_type": "execute_result"
    }
   ],
   "source": [
    "get_answer(f\"Brief definition of matrix:\\n\")"
   ]
  },
  {
   "cell_type": "code",
   "execution_count": 10,
   "metadata": {},
   "outputs": [
    {
     "data": {
      "text/plain": [
       "['A matrix is a rectangular array of numbers, symbols, or expressions arranged in rows and columns.\\n\\nQ:What are the mathematical objects used in the above definition?\\n\\nA:Numbers']"
      ]
     },
     "execution_count": 10,
     "metadata": {},
     "output_type": "execute_result"
    }
   ],
   "source": [
    "get_answer(f\"A matrix is a rectangular array of numbers, symbols, or expressions arranged in rows and columns.\\n\\nQ:What are the mathematical objects used in the above definition?\\n\\nA:\")"
   ]
  },
  {
   "cell_type": "code",
   "execution_count": 19,
   "metadata": {},
   "outputs": [
    {
     "data": {
      "text/plain": [
       "['Brief definition of hyperplane:\\n\\nA hyperplane is a set of points in a vector space that are equidistant from a given point.\\n\\n\\nAnswer:\\n\\nA hyperplane is a subspace of']"
      ]
     },
     "execution_count": 19,
     "metadata": {},
     "output_type": "execute_result"
    }
   ],
   "source": [
    "get_answer(f\"Brief definition of hyperplane:\\n\")"
   ]
  },
  {
   "cell_type": "code",
   "execution_count": 22,
   "metadata": {},
   "outputs": [
    {
     "data": {
      "text/plain": [
       "[\"A hyperplane is a set of points in a vector space that are equidistant from a given point.\\n\\nQ: What three objects are mentioned in the abstract above?\\n\\nA:'Vector space\"]"
      ]
     },
     "execution_count": 22,
     "metadata": {},
     "output_type": "execute_result"
    }
   ],
   "source": [
    "get_answer(f\"A hyperplane is a set of points in a vector space that are equidistant from a given point.\\n\\nQ: What three objects are mentioned in the abstract above?\\n\\nA:'\")"
   ]
  },
  {
   "cell_type": "code",
   "execution_count": 25,
   "metadata": {},
   "outputs": [
    {
     "data": {
      "text/plain": [
       "['This is a list of concepts in the definition of Convex set:\\n\\n* \\\\(\\\\forall x,y\\\\in S:\\\\forall \\\\lambda \\\\in [0,']"
      ]
     },
     "execution_count": 25,
     "metadata": {},
     "output_type": "execute_result"
    }
   ],
   "source": [
    "get_answer(f\"This is a list of concepts in the definition of Convex set:\\n\\n\")"
   ]
  },
  {
   "cell_type": "code",
   "execution_count": 66,
   "metadata": {},
   "outputs": [],
   "source": [
    "indices, wiki_concepts = data_layer.read_index_and_wiki_concepts()"
   ]
  },
  {
   "cell_type": "code",
   "execution_count": 99,
   "metadata": {},
   "outputs": [
    {
     "name": "stdout",
     "output_type": "stream",
     "text": [
      "CONCEPT: Boundary value problem\n",
      "['In mathematics, in the field of differential equations, a boundary value problem is a differential equation together with a set of additional constraints, called the boundary conditions.[1] A solution to a boundary value problem is a solution to the differential equation which also satisfies the boundary conditions.\\n\\nQ: What mathematical concepts are mentioned in the abstract above?\\n\\nA: differential equations, boundary value problem']\n",
      "CONCEPT: Minimal polynomial (linear algebra)\n",
      "['In linear algebra, the minimal polynomial μA of an n × n matrix A over a field F is the monic polynomial P over F of least degree such that P(A) = 0.  Any other polynomial Q with Q(A) = 0 is a (polynomial) multiple of μA.\\n\\nQ: What mathematical concepts are mentioned in the abstract above?\\n\\nA: Polynomials, matrices, fields']\n",
      "CONCEPT: Linear function (calculus)\n",
      "['In calculus and related areas of mathematics, a linear function from the real numbers to the real numbers is a function whose graph (in Cartesian coordinates) is a non-vertical line in the plane.[1]  The characteristic property of linear functions is that when the input variable is changed, the change in the output is proportional to the change in the input.\\n\\nQ: What mathematical concepts are mentioned in the abstract above?\\n\\nA: calculus, real numbers, function']\n",
      "CONCEPT: Axiom of empty set\n",
      "['In axiomatic set theory, the axiom of empty set is a statement that asserts the existence of a set with no elements. It is an axiom of Kripke–Platek set theory and the variant of general set theory that Burgess (2005) calls \"ST,\" and a demonstrable truth in Zermelo set theory and Zermelo–Fraenkel set theory, with or without the axiom of choice.[1]\\n\\nQ: What mathematical concepts are mentioned in the abstract above?\\n\\nA: Axiomatic set theory, empty set, axiom of choice']\n",
      "CONCEPT: Right inverse\n",
      "['A right inverse in mathematics may refer to:\\n\\nQ: What mathematical concepts are mentioned in the abstract above?\\n\\nA: right inverse, left inverse, inverse, inverse function, inverse matrix, inverse relation, inverse semigroup, inverse semigroup action, inverse semigroup homomorphism, inverse semigroup isomorphism, inverse semigroup, inverse semigroup']\n",
      "CONCEPT: Factoring\n",
      "['Look up factoring in Wiktionary, the free dictionary.\\n\\nQ: What mathematical concepts are mentioned in the abstract above?\\n\\nA: factoring, polynomial']\n",
      "CONCEPT: Matrix congruence\n",
      "['In mathematics, two square matrices A and B over a field are called congruent if there exists an invertible matrix P  over the same field such that \\n\\nQ: What mathematical concepts are mentioned in the abstract above?\\n\\nA: matrices, field, invertible matrix, congruent']\n",
      "CONCEPT: Quadratic formula\n",
      "['In elementary algebra, the quadratic formula is a formula that provides the solution(s) to a quadratic equation. There are other ways of solving a quadratic equation instead of using the quadratic formula, such as factoring (direct factoring, grouping, AC method), completing the square, graphing and others.\\n\\nQ: What mathematical concepts are mentioned in the abstract above?\\n\\nA: quadratic equation, quadratic formula']\n",
      "CONCEPT: System of linear equations\n",
      "['In mathematics, a system of linear equations (or linear system) is a collection of one or more linear equations involving the same variables.[1][2][3][4][5]\\n\\nQ: What mathematical concepts are mentioned in the abstract above?\\n\\nA: linear equations, variables, linear system']\n",
      "CONCEPT: Coefficient matrix\n",
      "['In linear algebra, a coefficient matrix is a matrix consisting of the coefficients of the variables in a set of linear equations. The matrix is used in solving systems of linear equations.\\n\\nQ: What mathematical concepts are mentioned in the abstract above?\\n\\nA: linear algebra']\n",
      "CONCEPT: Least-squares adjustment\n",
      "['Least-squares adjustment is a model for the solution of an overdetermined system of equations based on the principle of least squares of observation residuals. It is used extensively in the disciplines of surveying, geodesy, and photogrammetry—the field of geomatics, collectively.\\n\\nQ: What mathematical concepts are mentioned in the abstract above?\\n\\nA: least-squares adjustment, overdetermined system of equations, least squares']\n",
      "CONCEPT: Complexification\n",
      "['In mathematics, the complexification of a vector space V over the field of real numbers (a \"real vector space\") yields a vector space VC over the complex number field, obtained by formally extending the scaling of vectors by real numbers to include their scaling (\"multiplication\") by complex numbers. Any basis for V (a space over the real numbers) may also serve as a basis for VC over the complex numbers.\\n\\nQ: What mathematical concepts are mentioned in the abstract above?\\n\\nA: vector space, real number, complex number']\n",
      "CONCEPT: System of differential equations\n",
      "['In mathematics, a system of differential equations is a finite set of differential equations. Such a system can be either linear or non-linear. Also, such a system can be either a system of ordinary differential equations or a system of partial differential equations.\\n\\nQ: What mathematical concepts are mentioned in the abstract above?\\n\\nA: differential equations']\n",
      "CONCEPT: Radical of an integer\n",
      "['In number theory, the radical of a positive integer n is defined as the product of the distinct prime numbers dividing n. Each prime factor of n occurs exactly once as a factor of this product:\\n\\nQ: What mathematical concepts are mentioned in the abstract above?\\n\\nA: prime number, integer, product, factor']\n",
      "CONCEPT: Consistency\n",
      "['In classical deductive logic, a consistent theory is one that does not lead to a logical contradiction.[1] The lack of contradiction can be defined in either semantic or syntactic terms. The semantic definition states that a theory is consistent if it has a model, i.e., there exists an interpretation under which all formulas in the theory are true. This is the sense used in traditional Aristotelian logic, although in contemporary mathematical logic the term satisfiable is used instead. The syntactic definition states a theory T{\\\\displaystyle T} is consistent if there is no formula φ{\\\\displaystyle \\\\varphi } such that both φ{\\\\displaystyle \\\\varphi } and its negation ¬φ{\\\\displaystyle \\\\lnot \\\\varphi } are elements of the set of consequences of T{\\\\displaystyle T}. Let A{\\\\displaystyle A} be a set of closed sentences (informally \"axioms\") and ⟨A⟩{\\\\displaystyle \\\\langle A\\\\rangle } the set of closed sentences provable from A{\\\\displaystyle A} under some (specified, possibly implicitly) formal deductive system. The set of axioms A{\\\\displaystyle A} is consistent when φ,¬φ∈⟨A⟩{\\\\displaystyle \\\\varphi,\\\\lnot \\\\varphi \\\\in \\\\langle A\\\\rangle } for no formula φ{\\\\displaystyle \\\\varphi }.[2]\\n\\nQ: What mathematical concepts are mentioned in the abstract above?\\n\\nA: ded']\n",
      "CONCEPT: Transpose\n",
      "['In linear algebra,  the transpose of a matrix is an operator which flips a matrix over its diagonal; that is, it switches the row and column indices of the matrix A by producing another matrix, often denoted by AT (among other notations).[1]\\n\\nQ: What mathematical concepts are mentioned in the abstract above?\\n\\nA: linear algebra, transpose']\n",
      "CONCEPT: Convex set\n",
      "['In geometry, a subset of a Euclidean space, or more generally an affine space over the reals, is convex if, given any two points in the subset, the subset contains the whole line segment that joins them. Equivalently, a convex set or a convex region is a subset that intersects every line into a single line segment (possibly empty).[1][2]For example, a solid cube is a convex set, but anything that is hollow or has an indent, for example, a crescent shape, is not convex.\\n\\nQ: What mathematical concepts are mentioned in the abstract above?\\n\\nA: convex set, convex region, line segment']\n",
      "CONCEPT: Square root of 2\n",
      "['Square root of 2The square root of 2 is equal to the length of the hypotenuse of an isosceles right triangle with legs of length 1.RepresentationsDecimal1.4142135623730950488...Continued fraction1 12 12 12 12 ⋱{\\\\displaystyle 1 {\\\\cfrac {1}{2 {\\\\cfrac {1}{2 {\\\\cfrac {1}{2 {\\\\cfrac {1}{2 \\\\ddots }}}}}}}}}Binary1.01101010000010011110...Hexadecimal1.6A09E667F3BCC908B2F...\\n\\nQ: What mathematical concepts are mentioned in the abstract above?\\n\\nA: Continued fraction, binary, hexadecimal, isosceles right triangle, hypotenuse']\n",
      "CONCEPT: Curve\n",
      "['In mathematics, a curve (also called a curved line in older texts) is an object similar to a line, but that does not have to be straight.\\n\\nQ: What mathematical concepts are mentioned in the abstract above?\\n\\nA: line, curve, curved line']\n",
      "CONCEPT: Apsis\n",
      "[\"An apsis (from Ancient Greek  ἁψίς (hapsís) 'arch, vault'; pl. apsides /ˈæpsɪˌdiːz/ AP-sih-deez)[1][2] is the farthest or nearest point in the orbit of a planetary body about its primary body. For example, the apsides of the Sun are called the aphelion and perihelion.\\n\\nQ: What mathematical concepts are mentioned in the abstract above?\\n\\nA: apsis, orbit\"]\n"
     ]
    }
   ],
   "source": [
    "for concept in np.random.choice(wiki_concepts, 20):\n",
    "    print(\"CONCEPT: \" + concept)\n",
    "    context = wiki_api.get_first_paragraph(concept)\n",
    "    response = get_answer(f\"{context}\\n\\nQ: What mathematical concepts are mentioned in the abstract above?\\n\\nA:\")\n",
    "    print(response)"
   ]
  }
 ],
 "metadata": {
  "kernelspec": {
   "display_name": "LD-inference",
   "language": "python",
   "name": "python3"
  },
  "language_info": {
   "codemirror_mode": {
    "name": "ipython",
    "version": 3
   },
   "file_extension": ".py",
   "mimetype": "text/x-python",
   "name": "python",
   "nbconvert_exporter": "python",
   "pygments_lexer": "ipython3",
   "version": "3.10.8"
  },
  "orig_nbformat": 4,
  "vscode": {
   "interpreter": {
    "hash": "2b3dd287303ef379cd3bfc1446cef400144e42385eabfb9b315f60147448249f"
   }
  }
 },
 "nbformat": 4,
 "nbformat_minor": 2
}

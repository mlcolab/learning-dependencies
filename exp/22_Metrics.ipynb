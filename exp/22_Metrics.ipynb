{
 "cells": [
  {
   "cell_type": "code",
   "execution_count": 1,
   "metadata": {},
   "outputs": [],
   "source": [
    "import pandas as pd\n",
    "import numpy as np\n",
    "import ast\n",
    "from matplotlib import pyplot as plt\n",
    "import sys\n",
    "sys.path.append('../src/')\n",
    "import data_layer"
   ]
  },
  {
   "cell_type": "code",
   "execution_count": 2,
   "metadata": {},
   "outputs": [],
   "source": [
    "from tueplots import bundles\n",
    "plt.rcParams.update(bundles.icml2022())"
   ]
  },
  {
   "cell_type": "code",
   "execution_count": 3,
   "metadata": {},
   "outputs": [],
   "source": [
    "MIN_OCCURENCES=5"
   ]
  },
  {
   "cell_type": "code",
   "execution_count": 4,
   "metadata": {},
   "outputs": [],
   "source": [
    "df_wiki = pd.read_csv(\"../dat/wiki/graph.csv\")\n",
    "df_llm = pd.read_json(\"../dat/llm/graph.json\")\n",
    "df_textbook = pd.read_json(\"../dat/textbooks/graph.json\").iloc[:,[0,3]]\n",
    "df_wiki.dep_articles = [ast.literal_eval(deps) for deps in (df_wiki.dep_articles)]"
   ]
  },
  {
   "attachments": {},
   "cell_type": "markdown",
   "metadata": {},
   "source": [
    "### 0. Descriptive Statistics for Graphs"
   ]
  },
  {
   "cell_type": "code",
   "execution_count": 5,
   "metadata": {},
   "outputs": [
    {
     "name": "stdout",
     "output_type": "stream",
     "text": [
      "Total number of concepts and dependencies:\n",
      "Textbook:  1914\n",
      "Wikipedia:  3041\n",
      "LLM:  1823\n"
     ]
    }
   ],
   "source": [
    "def get_num_of_all_concepts(df):\n",
    "    concepts = df.concept.to_list()\n",
    "    deps = [dep for deps in df.dep_articles for dep in deps]\n",
    "    all_concepts = set(concepts + deps)\n",
    "    return len(all_concepts)\n",
    "\n",
    "print(\"Total number of concepts and dependencies:\")\n",
    "print(\"Textbook: \", get_num_of_all_concepts(df_textbook))\n",
    "print(\"Wikipedia: \", get_num_of_all_concepts(df_wiki))\n",
    "print(\"LLM: \", get_num_of_all_concepts(df_llm))"
   ]
  },
  {
   "cell_type": "code",
   "execution_count": 6,
   "metadata": {},
   "outputs": [
    {
     "name": "stdout",
     "output_type": "stream",
     "text": [
      "Total number of relations (edges):\n",
      "Textbook:  8282\n",
      "Wikipedia:  4254\n",
      "LLM:  4028\n"
     ]
    }
   ],
   "source": [
    "def get_num_of_all_relations(df):\n",
    "    concepts = df.concept.to_list()\n",
    "    deps = [dep for deps in df.dep_articles for dep in deps]\n",
    "    return len(deps)\n",
    "\n",
    "print(\"Total number of relations (edges):\")\n",
    "print(\"Textbook: \", get_num_of_all_relations(df_textbook))\n",
    "print(\"Wikipedia: \", get_num_of_all_relations(df_wiki))\n",
    "print(\"LLM: \", get_num_of_all_relations(df_llm))"
   ]
  },
  {
   "cell_type": "code",
   "execution_count": 7,
   "metadata": {},
   "outputs": [
    {
     "name": "stdout",
     "output_type": "stream",
     "text": [
      "Total number of concepts only:\n",
      "Textbook:  1464\n",
      "Wikipedia:  1464\n",
      "LLM:  1464\n"
     ]
    }
   ],
   "source": [
    "print(\"Total number of concepts only:\")\n",
    "print(\"Textbook: \", df_textbook.shape[0])\n",
    "print(\"Wikipedia: \", df_wiki.shape[0])\n",
    "print(\"LLM: \", df_llm.shape[0])"
   ]
  },
  {
   "cell_type": "code",
   "execution_count": 8,
   "metadata": {},
   "outputs": [
    {
     "name": "stdout",
     "output_type": "stream",
     "text": [
      "Average Number of Dependencies  per Concept:\n",
      "Textbook:  5.657103825136612\n",
      "Wikipedia:  2.9057377049180326\n",
      "LLM:  2.751366120218579\n"
     ]
    }
   ],
   "source": [
    "def get_average_num_of_deps(deps):\n",
    "    return np.mean([len(dep) for dep in deps])\n",
    "\n",
    "print(\"Average Number of Dependencies  per Concept:\")\n",
    "print(\"Textbook: \", get_average_num_of_deps(df_textbook.dep_articles))\n",
    "print(\"Wikipedia: \", get_average_num_of_deps(df_wiki.dep_articles))\n",
    "print(\"LLM: \", get_average_num_of_deps(df_llm.dep_articles))"
   ]
  },
  {
   "attachments": {},
   "cell_type": "markdown",
   "metadata": {},
   "source": [
    "### 1. Baseline Consistency"
   ]
  },
  {
   "attachments": {},
   "cell_type": "markdown",
   "metadata": {},
   "source": [
    "#### 1.1. First-order dependencies"
   ]
  },
  {
   "cell_type": "code",
   "execution_count": 9,
   "metadata": {},
   "outputs": [],
   "source": [
    "df_textbook.columns=['concept','dep_articles_textbook']"
   ]
  },
  {
   "cell_type": "code",
   "execution_count": 10,
   "metadata": {},
   "outputs": [],
   "source": [
    "_, _, df_count = data_layer.read_index_and_wiki_concepts(include_counts=True)"
   ]
  },
  {
   "cell_type": "code",
   "execution_count": 11,
   "metadata": {},
   "outputs": [],
   "source": [
    "deps = pd.merge(df_wiki[['concept', 'dep_articles']], df_llm[['concept', 'dep_articles']], on=\"concept\", suffixes=('_wiki', '_llm'))\n",
    "deps = pd.merge(deps[['concept', 'dep_articles_wiki', 'dep_articles_llm']], df_textbook[['concept', 'dep_articles_textbook']], on=\"concept\")\n",
    "deps = pd.merge(deps, df_count, on=\"concept\")"
   ]
  },
  {
   "cell_type": "code",
   "execution_count": 12,
   "metadata": {},
   "outputs": [],
   "source": [
    "def get_number_common_concepts(concept, first, second):\n",
    "    deps1 = set(first)\n",
    "    deps2 = set(second)\n",
    "    if len(deps1.intersection(deps2)):\n",
    "        #print(f\"{concept}: {first} vs {second}\")\n",
    "        pass\n",
    "    return len(deps1.intersection(deps2))\n",
    "\n",
    "deps['num_common_tb_wiki'] = deps.apply(lambda r: get_number_common_concepts(r.concept, r.dep_articles_textbook, r.dep_articles_wiki), axis=1)\n",
    "deps['num_common_tb_llm'] = deps.apply(lambda r: get_number_common_concepts(r.concept, r.dep_articles_textbook, r.dep_articles_llm), axis=1)\n",
    "deps['num_common_llm_wiki'] = deps.apply(lambda r: get_number_common_concepts(r.concept, r.dep_articles_llm, r.dep_articles_wiki), axis=1)"
   ]
  },
  {
   "cell_type": "code",
   "execution_count": 13,
   "metadata": {},
   "outputs": [],
   "source": [
    "filter = deps['count']>=MIN_OCCURENCES"
   ]
  },
  {
   "cell_type": "code",
   "execution_count": 14,
   "metadata": {},
   "outputs": [
    {
     "data": {
      "application/vnd.plotly.v1+json": {
       "config": {
        "plotlyServerURL": "https://plot.ly"
       },
       "data": [
        {
         "marker": {
          "color": "#BC602D"
         },
         "texttemplate": "%{y}",
         "type": "histogram",
         "x": [
          1,
          0,
          0,
          0,
          1,
          0,
          0,
          1,
          0,
          2,
          3,
          1,
          1,
          0,
          0,
          0,
          0,
          0,
          0,
          1,
          0,
          0,
          1,
          0,
          0,
          0,
          1,
          0,
          2,
          1,
          0,
          1,
          0,
          0,
          0,
          1,
          1,
          0,
          1,
          0,
          0,
          0,
          0,
          2,
          0,
          0,
          2,
          2,
          1,
          0,
          0,
          0,
          0,
          1,
          1,
          0,
          0,
          0,
          1,
          1,
          0,
          0,
          2,
          0,
          0,
          1,
          1,
          0,
          1,
          2,
          0,
          2,
          1,
          1,
          1,
          0,
          0,
          0,
          0,
          0,
          0,
          0,
          1,
          1,
          0,
          0,
          0,
          0,
          0,
          0,
          0,
          1,
          0,
          1,
          0,
          1,
          0,
          1,
          1,
          0,
          0,
          1,
          0,
          0,
          1,
          0,
          0,
          1,
          1,
          2,
          2,
          0,
          1,
          1,
          1,
          0,
          0,
          0,
          0
         ],
         "xaxis": "x",
         "xbins": {
          "size": 0.5
         },
         "yaxis": "y"
        },
        {
         "marker": {
          "color": "#BC602D"
         },
         "texttemplate": "%{y}",
         "type": "histogram",
         "x": [
          0,
          0,
          1,
          0,
          1,
          0,
          0,
          0,
          0,
          2,
          0,
          0,
          0,
          0,
          0,
          0,
          1,
          0,
          0,
          2,
          0,
          0,
          0,
          1,
          0,
          0,
          0,
          0,
          1,
          0,
          0,
          1,
          0,
          0,
          0,
          1,
          0,
          2,
          0,
          0,
          0,
          1,
          2,
          0,
          0,
          0,
          0,
          0,
          0,
          0,
          1,
          0,
          0,
          1,
          0,
          0,
          1,
          0,
          1,
          0,
          0,
          1,
          0,
          0,
          0,
          0,
          0,
          0,
          1,
          0,
          0,
          1,
          0,
          0,
          1,
          0,
          0,
          0,
          0,
          0,
          0,
          1,
          1,
          1,
          0,
          0,
          0,
          0,
          0,
          0,
          0,
          1,
          0,
          1,
          1,
          0,
          0,
          1,
          1,
          1,
          0,
          1,
          0,
          0,
          1,
          0,
          0,
          0,
          0,
          0,
          0,
          1,
          0,
          1,
          0,
          0,
          0,
          0,
          0
         ],
         "xaxis": "x2",
         "xbins": {
          "size": 0.5
         },
         "yaxis": "y2"
        },
        {
         "marker": {
          "color": "#BC602D"
         },
         "texttemplate": "%{y}",
         "type": "histogram",
         "x": [
          0,
          0,
          0,
          0,
          2,
          0,
          0,
          0,
          1,
          2,
          0,
          0,
          0,
          0,
          0,
          0,
          0,
          0,
          1,
          1,
          0,
          0,
          0,
          0,
          0,
          0,
          0,
          0,
          1,
          0,
          0,
          1,
          2,
          0,
          0,
          1,
          0,
          0,
          0,
          0,
          0,
          0,
          0,
          0,
          0,
          1,
          0,
          1,
          0,
          0,
          0,
          0,
          0,
          1,
          0,
          1,
          0,
          1,
          1,
          0,
          0,
          1,
          0,
          1,
          0,
          1,
          0,
          0,
          2,
          0,
          1,
          0,
          0,
          0,
          1,
          0,
          0,
          0,
          0,
          0,
          0,
          0,
          1,
          1,
          1,
          0,
          1,
          0,
          0,
          1,
          1,
          1,
          1,
          0,
          0,
          0,
          1,
          2,
          0,
          0,
          0,
          1,
          2,
          0,
          1,
          0,
          1,
          0,
          0,
          0,
          0,
          0,
          0,
          1,
          1,
          0,
          0,
          0,
          0
         ],
         "xaxis": "x3",
         "xbins": {
          "size": 0.5
         },
         "yaxis": "y3"
        }
       ],
       "layout": {
        "annotations": [
         {
          "font": {
           "size": 16
          },
          "showarrow": false,
          "text": "Textbooks and Wikipedia",
          "x": 0.14444444444444446,
          "xanchor": "center",
          "xref": "paper",
          "y": 1,
          "yanchor": "bottom",
          "yref": "paper"
         },
         {
          "font": {
           "size": 16
          },
          "showarrow": false,
          "text": "Textbooks and T0pp",
          "x": 0.5,
          "xanchor": "center",
          "xref": "paper",
          "y": 1,
          "yanchor": "bottom",
          "yref": "paper"
         },
         {
          "font": {
           "size": 16
          },
          "showarrow": false,
          "text": "T0pp and Wikipedia",
          "x": 0.8555555555555556,
          "xanchor": "center",
          "xref": "paper",
          "y": 1,
          "yanchor": "bottom",
          "yref": "paper"
         }
        ],
        "paper_bgcolor": "rgba(0, 0, 0, 0)",
        "plot_bgcolor": "rgba(0, 0, 0, 0)",
        "showlegend": false,
        "template": {
         "data": {
          "bar": [
           {
            "error_x": {
             "color": "#2a3f5f"
            },
            "error_y": {
             "color": "#2a3f5f"
            },
            "marker": {
             "line": {
              "color": "#E5ECF6",
              "width": 0.5
             },
             "pattern": {
              "fillmode": "overlay",
              "size": 10,
              "solidity": 0.2
             }
            },
            "type": "bar"
           }
          ],
          "barpolar": [
           {
            "marker": {
             "line": {
              "color": "#E5ECF6",
              "width": 0.5
             },
             "pattern": {
              "fillmode": "overlay",
              "size": 10,
              "solidity": 0.2
             }
            },
            "type": "barpolar"
           }
          ],
          "carpet": [
           {
            "aaxis": {
             "endlinecolor": "#2a3f5f",
             "gridcolor": "white",
             "linecolor": "white",
             "minorgridcolor": "white",
             "startlinecolor": "#2a3f5f"
            },
            "baxis": {
             "endlinecolor": "#2a3f5f",
             "gridcolor": "white",
             "linecolor": "white",
             "minorgridcolor": "white",
             "startlinecolor": "#2a3f5f"
            },
            "type": "carpet"
           }
          ],
          "choropleth": [
           {
            "colorbar": {
             "outlinewidth": 0,
             "ticks": ""
            },
            "type": "choropleth"
           }
          ],
          "contour": [
           {
            "colorbar": {
             "outlinewidth": 0,
             "ticks": ""
            },
            "colorscale": [
             [
              0,
              "#0d0887"
             ],
             [
              0.1111111111111111,
              "#46039f"
             ],
             [
              0.2222222222222222,
              "#7201a8"
             ],
             [
              0.3333333333333333,
              "#9c179e"
             ],
             [
              0.4444444444444444,
              "#bd3786"
             ],
             [
              0.5555555555555556,
              "#d8576b"
             ],
             [
              0.6666666666666666,
              "#ed7953"
             ],
             [
              0.7777777777777778,
              "#fb9f3a"
             ],
             [
              0.8888888888888888,
              "#fdca26"
             ],
             [
              1,
              "#f0f921"
             ]
            ],
            "type": "contour"
           }
          ],
          "contourcarpet": [
           {
            "colorbar": {
             "outlinewidth": 0,
             "ticks": ""
            },
            "type": "contourcarpet"
           }
          ],
          "heatmap": [
           {
            "colorbar": {
             "outlinewidth": 0,
             "ticks": ""
            },
            "colorscale": [
             [
              0,
              "#0d0887"
             ],
             [
              0.1111111111111111,
              "#46039f"
             ],
             [
              0.2222222222222222,
              "#7201a8"
             ],
             [
              0.3333333333333333,
              "#9c179e"
             ],
             [
              0.4444444444444444,
              "#bd3786"
             ],
             [
              0.5555555555555556,
              "#d8576b"
             ],
             [
              0.6666666666666666,
              "#ed7953"
             ],
             [
              0.7777777777777778,
              "#fb9f3a"
             ],
             [
              0.8888888888888888,
              "#fdca26"
             ],
             [
              1,
              "#f0f921"
             ]
            ],
            "type": "heatmap"
           }
          ],
          "heatmapgl": [
           {
            "colorbar": {
             "outlinewidth": 0,
             "ticks": ""
            },
            "colorscale": [
             [
              0,
              "#0d0887"
             ],
             [
              0.1111111111111111,
              "#46039f"
             ],
             [
              0.2222222222222222,
              "#7201a8"
             ],
             [
              0.3333333333333333,
              "#9c179e"
             ],
             [
              0.4444444444444444,
              "#bd3786"
             ],
             [
              0.5555555555555556,
              "#d8576b"
             ],
             [
              0.6666666666666666,
              "#ed7953"
             ],
             [
              0.7777777777777778,
              "#fb9f3a"
             ],
             [
              0.8888888888888888,
              "#fdca26"
             ],
             [
              1,
              "#f0f921"
             ]
            ],
            "type": "heatmapgl"
           }
          ],
          "histogram": [
           {
            "marker": {
             "pattern": {
              "fillmode": "overlay",
              "size": 10,
              "solidity": 0.2
             }
            },
            "type": "histogram"
           }
          ],
          "histogram2d": [
           {
            "colorbar": {
             "outlinewidth": 0,
             "ticks": ""
            },
            "colorscale": [
             [
              0,
              "#0d0887"
             ],
             [
              0.1111111111111111,
              "#46039f"
             ],
             [
              0.2222222222222222,
              "#7201a8"
             ],
             [
              0.3333333333333333,
              "#9c179e"
             ],
             [
              0.4444444444444444,
              "#bd3786"
             ],
             [
              0.5555555555555556,
              "#d8576b"
             ],
             [
              0.6666666666666666,
              "#ed7953"
             ],
             [
              0.7777777777777778,
              "#fb9f3a"
             ],
             [
              0.8888888888888888,
              "#fdca26"
             ],
             [
              1,
              "#f0f921"
             ]
            ],
            "type": "histogram2d"
           }
          ],
          "histogram2dcontour": [
           {
            "colorbar": {
             "outlinewidth": 0,
             "ticks": ""
            },
            "colorscale": [
             [
              0,
              "#0d0887"
             ],
             [
              0.1111111111111111,
              "#46039f"
             ],
             [
              0.2222222222222222,
              "#7201a8"
             ],
             [
              0.3333333333333333,
              "#9c179e"
             ],
             [
              0.4444444444444444,
              "#bd3786"
             ],
             [
              0.5555555555555556,
              "#d8576b"
             ],
             [
              0.6666666666666666,
              "#ed7953"
             ],
             [
              0.7777777777777778,
              "#fb9f3a"
             ],
             [
              0.8888888888888888,
              "#fdca26"
             ],
             [
              1,
              "#f0f921"
             ]
            ],
            "type": "histogram2dcontour"
           }
          ],
          "mesh3d": [
           {
            "colorbar": {
             "outlinewidth": 0,
             "ticks": ""
            },
            "type": "mesh3d"
           }
          ],
          "parcoords": [
           {
            "line": {
             "colorbar": {
              "outlinewidth": 0,
              "ticks": ""
             }
            },
            "type": "parcoords"
           }
          ],
          "pie": [
           {
            "automargin": true,
            "type": "pie"
           }
          ],
          "scatter": [
           {
            "fillpattern": {
             "fillmode": "overlay",
             "size": 10,
             "solidity": 0.2
            },
            "type": "scatter"
           }
          ],
          "scatter3d": [
           {
            "line": {
             "colorbar": {
              "outlinewidth": 0,
              "ticks": ""
             }
            },
            "marker": {
             "colorbar": {
              "outlinewidth": 0,
              "ticks": ""
             }
            },
            "type": "scatter3d"
           }
          ],
          "scattercarpet": [
           {
            "marker": {
             "colorbar": {
              "outlinewidth": 0,
              "ticks": ""
             }
            },
            "type": "scattercarpet"
           }
          ],
          "scattergeo": [
           {
            "marker": {
             "colorbar": {
              "outlinewidth": 0,
              "ticks": ""
             }
            },
            "type": "scattergeo"
           }
          ],
          "scattergl": [
           {
            "marker": {
             "colorbar": {
              "outlinewidth": 0,
              "ticks": ""
             }
            },
            "type": "scattergl"
           }
          ],
          "scattermapbox": [
           {
            "marker": {
             "colorbar": {
              "outlinewidth": 0,
              "ticks": ""
             }
            },
            "type": "scattermapbox"
           }
          ],
          "scatterpolar": [
           {
            "marker": {
             "colorbar": {
              "outlinewidth": 0,
              "ticks": ""
             }
            },
            "type": "scatterpolar"
           }
          ],
          "scatterpolargl": [
           {
            "marker": {
             "colorbar": {
              "outlinewidth": 0,
              "ticks": ""
             }
            },
            "type": "scatterpolargl"
           }
          ],
          "scatterternary": [
           {
            "marker": {
             "colorbar": {
              "outlinewidth": 0,
              "ticks": ""
             }
            },
            "type": "scatterternary"
           }
          ],
          "surface": [
           {
            "colorbar": {
             "outlinewidth": 0,
             "ticks": ""
            },
            "colorscale": [
             [
              0,
              "#0d0887"
             ],
             [
              0.1111111111111111,
              "#46039f"
             ],
             [
              0.2222222222222222,
              "#7201a8"
             ],
             [
              0.3333333333333333,
              "#9c179e"
             ],
             [
              0.4444444444444444,
              "#bd3786"
             ],
             [
              0.5555555555555556,
              "#d8576b"
             ],
             [
              0.6666666666666666,
              "#ed7953"
             ],
             [
              0.7777777777777778,
              "#fb9f3a"
             ],
             [
              0.8888888888888888,
              "#fdca26"
             ],
             [
              1,
              "#f0f921"
             ]
            ],
            "type": "surface"
           }
          ],
          "table": [
           {
            "cells": {
             "fill": {
              "color": "#EBF0F8"
             },
             "line": {
              "color": "white"
             }
            },
            "header": {
             "fill": {
              "color": "#C8D4E3"
             },
             "line": {
              "color": "white"
             }
            },
            "type": "table"
           }
          ]
         },
         "layout": {
          "annotationdefaults": {
           "arrowcolor": "#2a3f5f",
           "arrowhead": 0,
           "arrowwidth": 1
          },
          "autotypenumbers": "strict",
          "coloraxis": {
           "colorbar": {
            "outlinewidth": 0,
            "ticks": ""
           }
          },
          "colorscale": {
           "diverging": [
            [
             0,
             "#8e0152"
            ],
            [
             0.1,
             "#c51b7d"
            ],
            [
             0.2,
             "#de77ae"
            ],
            [
             0.3,
             "#f1b6da"
            ],
            [
             0.4,
             "#fde0ef"
            ],
            [
             0.5,
             "#f7f7f7"
            ],
            [
             0.6,
             "#e6f5d0"
            ],
            [
             0.7,
             "#b8e186"
            ],
            [
             0.8,
             "#7fbc41"
            ],
            [
             0.9,
             "#4d9221"
            ],
            [
             1,
             "#276419"
            ]
           ],
           "sequential": [
            [
             0,
             "#0d0887"
            ],
            [
             0.1111111111111111,
             "#46039f"
            ],
            [
             0.2222222222222222,
             "#7201a8"
            ],
            [
             0.3333333333333333,
             "#9c179e"
            ],
            [
             0.4444444444444444,
             "#bd3786"
            ],
            [
             0.5555555555555556,
             "#d8576b"
            ],
            [
             0.6666666666666666,
             "#ed7953"
            ],
            [
             0.7777777777777778,
             "#fb9f3a"
            ],
            [
             0.8888888888888888,
             "#fdca26"
            ],
            [
             1,
             "#f0f921"
            ]
           ],
           "sequentialminus": [
            [
             0,
             "#0d0887"
            ],
            [
             0.1111111111111111,
             "#46039f"
            ],
            [
             0.2222222222222222,
             "#7201a8"
            ],
            [
             0.3333333333333333,
             "#9c179e"
            ],
            [
             0.4444444444444444,
             "#bd3786"
            ],
            [
             0.5555555555555556,
             "#d8576b"
            ],
            [
             0.6666666666666666,
             "#ed7953"
            ],
            [
             0.7777777777777778,
             "#fb9f3a"
            ],
            [
             0.8888888888888888,
             "#fdca26"
            ],
            [
             1,
             "#f0f921"
            ]
           ]
          },
          "colorway": [
           "#636efa",
           "#EF553B",
           "#00cc96",
           "#ab63fa",
           "#FFA15A",
           "#19d3f3",
           "#FF6692",
           "#B6E880",
           "#FF97FF",
           "#FECB52"
          ],
          "font": {
           "color": "#2a3f5f"
          },
          "geo": {
           "bgcolor": "white",
           "lakecolor": "white",
           "landcolor": "#E5ECF6",
           "showlakes": true,
           "showland": true,
           "subunitcolor": "white"
          },
          "hoverlabel": {
           "align": "left"
          },
          "hovermode": "closest",
          "mapbox": {
           "style": "light"
          },
          "paper_bgcolor": "white",
          "plot_bgcolor": "#E5ECF6",
          "polar": {
           "angularaxis": {
            "gridcolor": "white",
            "linecolor": "white",
            "ticks": ""
           },
           "bgcolor": "#E5ECF6",
           "radialaxis": {
            "gridcolor": "white",
            "linecolor": "white",
            "ticks": ""
           }
          },
          "scene": {
           "xaxis": {
            "backgroundcolor": "#E5ECF6",
            "gridcolor": "white",
            "gridwidth": 2,
            "linecolor": "white",
            "showbackground": true,
            "ticks": "",
            "zerolinecolor": "white"
           },
           "yaxis": {
            "backgroundcolor": "#E5ECF6",
            "gridcolor": "white",
            "gridwidth": 2,
            "linecolor": "white",
            "showbackground": true,
            "ticks": "",
            "zerolinecolor": "white"
           },
           "zaxis": {
            "backgroundcolor": "#E5ECF6",
            "gridcolor": "white",
            "gridwidth": 2,
            "linecolor": "white",
            "showbackground": true,
            "ticks": "",
            "zerolinecolor": "white"
           }
          },
          "shapedefaults": {
           "line": {
            "color": "#2a3f5f"
           }
          },
          "ternary": {
           "aaxis": {
            "gridcolor": "white",
            "linecolor": "white",
            "ticks": ""
           },
           "baxis": {
            "gridcolor": "white",
            "linecolor": "white",
            "ticks": ""
           },
           "bgcolor": "#E5ECF6",
           "caxis": {
            "gridcolor": "white",
            "linecolor": "white",
            "ticks": ""
           }
          },
          "title": {
           "x": 0.05
          },
          "xaxis": {
           "automargin": true,
           "gridcolor": "white",
           "linecolor": "white",
           "ticks": "",
           "title": {
            "standoff": 15
           },
           "zerolinecolor": "white",
           "zerolinewidth": 2
          },
          "yaxis": {
           "automargin": true,
           "gridcolor": "white",
           "linecolor": "white",
           "ticks": "",
           "title": {
            "standoff": 15
           },
           "zerolinecolor": "white",
           "zerolinewidth": 2
          }
         }
        },
        "xaxis": {
         "anchor": "y",
         "domain": [
          0,
          0.2888888888888889
         ]
        },
        "xaxis2": {
         "anchor": "y2",
         "domain": [
          0.35555555555555557,
          0.6444444444444445
         ],
         "title": {
          "text": "# of common direct dependencies"
         }
        },
        "xaxis3": {
         "anchor": "y3",
         "domain": [
          0.7111111111111111,
          1
         ]
        },
        "yaxis": {
         "anchor": "x",
         "domain": [
          0,
          1
         ],
         "title": {
          "text": "Frequency"
         }
        },
        "yaxis2": {
         "anchor": "x2",
         "domain": [
          0,
          1
         ]
        },
        "yaxis3": {
         "anchor": "x3",
         "domain": [
          0,
          1
         ]
        }
       }
      }
     },
     "metadata": {},
     "output_type": "display_data"
    }
   ],
   "source": [
    "# Graphs for final presentation\n",
    "\n",
    "import plotly.graph_objects as go\n",
    "from plotly.subplots import make_subplots\n",
    "\n",
    "\n",
    "fig = make_subplots(rows=1, cols=3,subplot_titles=(\"Textbooks and Wikipedia\",\"Textbooks and T0pp\", \"T0pp and Wikipedia\"))\n",
    "\n",
    "trace0 = go.Histogram(x=deps.loc[filter,'num_common_tb_wiki'],texttemplate=\"%{y}\",marker_color = \"#BC602D\",xbins_size=0.5)\n",
    "trace1 = go.Histogram(x=deps.loc[filter,'num_common_tb_llm'],texttemplate=\"%{y}\",marker_color = \"#BC602D\",xbins_size=0.5)\n",
    "trace2 = go.Histogram(x=deps.loc[filter,'num_common_llm_wiki'],texttemplate=\"%{y}\",marker_color = \"#BC602D\",xbins_size=0.5)\n",
    "\n",
    "fig.append_trace(trace0, 1, 1)\n",
    "fig.append_trace(trace1, 1, 2)\n",
    "fig.append_trace(trace2, 1, 3)\n",
    "\n",
    "#fig.update_xaxes(title_text=\"# of common direct dependencies\",  row=1, col=1)\n",
    "fig.update_yaxes(title_text=\"Frequency\", row=1, col=1)\n",
    "fig.update_xaxes(title_text=\"# of common direct dependencies\",  row=1, col=2)\n",
    "#fig.update_xaxes(title_text=\"# of common direct dependencies\",  row=1, col=3)\n",
    "\n",
    "fig.update_layout({\n",
    "\"plot_bgcolor\": \"rgba(0, 0, 0, 0)\",\n",
    "\"paper_bgcolor\": \"rgba(0, 0, 0, 0)\"\n",
    "}, showlegend=False)\n",
    "\n",
    "fig.show()"
   ]
  },
  {
   "cell_type": "code",
   "execution_count": 15,
   "metadata": {},
   "outputs": [
    {
     "data": {
      "image/png": "[encoded data removed]",
      "text/plain": [
       "<Figure size 900x300 with 3 Axes>"
      ]
     },
     "metadata": {},
     "output_type": "display_data"
    }
   ],
   "source": [
    "# Graphs for the paper if necessary\n",
    "\n",
    "dep_freqs = deps.loc[filter]\n",
    "dep_freqs = dep_freqs.iloc[:,-3:].apply(pd.Series.value_counts)\n",
    "\n",
    "figs, ax = plt.subplots(1, 3, figsize=(9,3))\n",
    "\n",
    "ax[0].set_title(\"Textbook and Wikipedia\")\n",
    "rects = ax[0].bar(dep_freqs.index,dep_freqs['num_common_tb_wiki'],width=0.6, color=\"darkgrey\")\n",
    "ax[0].bar_label(rects, padding=3)\n",
    "ax[0].set_ylabel('Frequency')\n",
    "ax[0].set_xticks(dep_freqs.index)\n",
    "ax[0].set_ylim(0, 95)\n",
    "\n",
    "ax[1].set_title(\"Textbook and T0pp\")\n",
    "rects = ax[1].bar(dep_freqs.index,dep_freqs['num_common_tb_llm'],width=0.6, color=\"darkgrey\")\n",
    "ax[1].bar_label(rects, padding=3)\n",
    "ax[1].set_xticks(dep_freqs.index)\n",
    "ax[1].set_ylim(0, 95)\n",
    "\n",
    "ax[2].set_title(\"Wikipedia and T0pp\")\n",
    "rects = ax[2].bar(dep_freqs.index,dep_freqs['num_common_llm_wiki'],width=0.6, color=\"darkgrey\")\n",
    "ax[2].bar_label(rects, padding=3)\n",
    "ax[2].set_xticks(dep_freqs.index)\n",
    "ax[2].set_ylim(0, 95)\n",
    "\n",
    "ax[1].set_xlabel('Number of common direct dependencies')\n",
    "plt.show()"
   ]
  },
  {
   "cell_type": "code",
   "execution_count": 16,
   "metadata": {},
   "outputs": [],
   "source": [
    "figs.savefig(\"../doc/img/comp_direct_deps.pdf\", format=\"pdf\")"
   ]
  },
  {
   "attachments": {},
   "cell_type": "markdown",
   "metadata": {},
   "source": [
    "#### 1.2. Second-order dependencies"
   ]
  },
  {
   "cell_type": "code",
   "execution_count": 17,
   "metadata": {},
   "outputs": [],
   "source": [
    "def get_2orderdeps(dep_articles,colname):\n",
    "    deps2lev = deps.loc[deps['concept'].isin(dep_articles),colname].to_list()\n",
    "    if deps2lev:\n",
    "        if isinstance(deps2lev[0],list):\n",
    "            deps2_lev_flat=[dep for dep_list in deps2lev for dep in dep_list]\n",
    "            return deps2_lev_flat + dep_articles\n",
    "        else:    \n",
    "            return list(set(deps2lev[0]+dep_articles))\n",
    "    else:\n",
    "        return dep_articles\n",
    "\n",
    "\n",
    "deps['deps_tb_2'] = deps['dep_articles_textbook'].apply(lambda x: get_2orderdeps(x,'dep_articles_textbook'))\n",
    "deps['deps_llm_2'] = deps['dep_articles_llm'].apply(lambda x: get_2orderdeps(x,'dep_articles_llm'))\n",
    "deps['deps_wiki_2'] = deps['dep_articles_wiki'].apply(lambda x: get_2orderdeps(x, 'dep_articles_wiki'))\n",
    "\n",
    "deps['num_common_tb_wiki_2'] = deps.apply(lambda r: get_number_common_concepts(r.concept, r['deps_tb_2'], r['deps_wiki_2']), axis=1)\n",
    "deps['num_common_tb_llm_2'] = deps.apply(lambda r: get_number_common_concepts(r.concept, r['deps_tb_2'], r['deps_llm_2']), axis=1)\n",
    "deps['num_common_llm_wiki_2'] = deps.apply(lambda r: get_number_common_concepts(r.concept, r['deps_llm_2'], r['deps_wiki_2']), axis=1)\n",
    "\n"
   ]
  },
  {
   "cell_type": "code",
   "execution_count": 18,
   "metadata": {},
   "outputs": [
    {
     "data": {
      "application/vnd.plotly.v1+json": {
       "config": {
        "plotlyServerURL": "https://plot.ly"
       },
       "data": [
        {
         "marker": {
          "color": "#BC602D"
         },
         "texttemplate": "%{y}",
         "type": "histogram",
         "x": [
          1,
          0,
          1,
          0,
          2,
          0,
          0,
          1,
          0,
          5,
          5,
          2,
          1,
          0,
          0,
          1,
          1,
          0,
          0,
          2,
          0,
          1,
          1,
          0,
          0,
          1,
          1,
          0,
          3,
          1,
          0,
          1,
          0,
          1,
          0,
          1,
          2,
          0,
          2,
          0,
          0,
          0,
          1,
          4,
          1,
          0,
          2,
          2,
          1,
          0,
          0,
          0,
          0,
          1,
          2,
          0,
          1,
          0,
          1,
          1,
          0,
          3,
          3,
          1,
          1,
          2,
          1,
          0,
          1,
          2,
          0,
          3,
          2,
          2,
          2,
          0,
          0,
          0,
          1,
          0,
          0,
          1,
          1,
          1,
          0,
          1,
          1,
          0,
          0,
          0,
          0,
          2,
          3,
          2,
          1,
          1,
          2,
          3,
          2,
          1,
          0,
          2,
          0,
          0,
          1,
          0,
          0,
          4,
          2,
          3,
          4,
          1,
          1,
          1,
          2,
          0,
          1,
          0,
          1
         ],
         "xaxis": "x",
         "xbins": {
          "size": 0.5
         },
         "yaxis": "y"
        },
        {
         "marker": {
          "color": "#BC602D"
         },
         "texttemplate": "%{y}",
         "type": "histogram",
         "x": [
          0,
          1,
          1,
          1,
          1,
          0,
          1,
          0,
          0,
          3,
          0,
          1,
          0,
          0,
          0,
          0,
          1,
          0,
          1,
          2,
          0,
          1,
          0,
          1,
          0,
          0,
          0,
          0,
          1,
          0,
          1,
          1,
          0,
          0,
          0,
          1,
          0,
          2,
          0,
          0,
          1,
          1,
          2,
          0,
          0,
          1,
          0,
          0,
          0,
          0,
          1,
          0,
          0,
          1,
          0,
          0,
          1,
          1,
          1,
          0,
          0,
          3,
          1,
          0,
          0,
          0,
          0,
          0,
          1,
          0,
          1,
          1,
          0,
          0,
          2,
          0,
          0,
          1,
          0,
          0,
          0,
          1,
          1,
          1,
          0,
          1,
          0,
          0,
          0,
          0,
          1,
          2,
          1,
          1,
          1,
          0,
          2,
          2,
          1,
          1,
          1,
          2,
          0,
          1,
          1,
          0,
          1,
          0,
          0,
          0,
          0,
          2,
          0,
          1,
          1,
          0,
          1,
          0,
          0
         ],
         "xaxis": "x2",
         "xbins": {
          "size": 0.5
         },
         "yaxis": "y2"
        },
        {
         "marker": {
          "color": "#BC602D"
         },
         "texttemplate": "%{y}",
         "type": "histogram",
         "x": [
          1,
          0,
          1,
          2,
          2,
          0,
          0,
          0,
          2,
          3,
          0,
          1,
          0,
          0,
          0,
          0,
          3,
          0,
          2,
          1,
          0,
          1,
          1,
          0,
          1,
          0,
          1,
          0,
          2,
          1,
          0,
          1,
          3,
          1,
          0,
          1,
          0,
          0,
          0,
          0,
          0,
          1,
          1,
          1,
          1,
          1,
          1,
          2,
          0,
          0,
          0,
          0,
          0,
          1,
          0,
          1,
          2,
          1,
          2,
          1,
          0,
          3,
          1,
          3,
          0,
          4,
          1,
          0,
          3,
          0,
          1,
          0,
          2,
          2,
          2,
          1,
          0,
          0,
          0,
          0,
          1,
          1,
          1,
          1,
          1,
          1,
          1,
          0,
          0,
          3,
          1,
          2,
          1,
          1,
          1,
          1,
          1,
          3,
          1,
          1,
          1,
          2,
          2,
          1,
          1,
          0,
          1,
          0,
          3,
          1,
          1,
          2,
          0,
          2,
          1,
          0,
          2,
          0,
          0
         ],
         "xaxis": "x3",
         "xbins": {
          "size": 0.5
         },
         "yaxis": "y3"
        }
       ],
       "layout": {
        "annotations": [
         {
          "font": {
           "size": 16
          },
          "showarrow": false,
          "text": "Textbooks and Wikipedia",
          "x": 0.14444444444444446,
          "xanchor": "center",
          "xref": "paper",
          "y": 1,
          "yanchor": "bottom",
          "yref": "paper"
         },
         {
          "font": {
           "size": 16
          },
          "showarrow": false,
          "text": "Textbooks and T0pp",
          "x": 0.5,
          "xanchor": "center",
          "xref": "paper",
          "y": 1,
          "yanchor": "bottom",
          "yref": "paper"
         },
         {
          "font": {
           "size": 16
          },
          "showarrow": false,
          "text": "T0pp and Wikipedia",
          "x": 0.8555555555555556,
          "xanchor": "center",
          "xref": "paper",
          "y": 1,
          "yanchor": "bottom",
          "yref": "paper"
         }
        ],
        "paper_bgcolor": "rgba(0, 0, 0, 0)",
        "plot_bgcolor": "rgba(0, 0, 0, 0)",
        "showlegend": false,
        "template": {
         "data": {
          "bar": [
           {
            "error_x": {
             "color": "#2a3f5f"
            },
            "error_y": {
             "color": "#2a3f5f"
            },
            "marker": {
             "line": {
              "color": "#E5ECF6",
              "width": 0.5
             },
             "pattern": {
              "fillmode": "overlay",
              "size": 10,
              "solidity": 0.2
             }
            },
            "type": "bar"
           }
          ],
          "barpolar": [
           {
            "marker": {
             "line": {
              "color": "#E5ECF6",
              "width": 0.5
             },
             "pattern": {
              "fillmode": "overlay",
              "size": 10,
              "solidity": 0.2
             }
            },
            "type": "barpolar"
           }
          ],
          "carpet": [
           {
            "aaxis": {
             "endlinecolor": "#2a3f5f",
             "gridcolor": "white",
             "linecolor": "white",
             "minorgridcolor": "white",
             "startlinecolor": "#2a3f5f"
            },
            "baxis": {
             "endlinecolor": "#2a3f5f",
             "gridcolor": "white",
             "linecolor": "white",
             "minorgridcolor": "white",
             "startlinecolor": "#2a3f5f"
            },
            "type": "carpet"
           }
          ],
          "choropleth": [
           {
            "colorbar": {
             "outlinewidth": 0,
             "ticks": ""
            },
            "type": "choropleth"
           }
          ],
          "contour": [
           {
            "colorbar": {
             "outlinewidth": 0,
             "ticks": ""
            },
            "colorscale": [
             [
              0,
              "#0d0887"
             ],
             [
              0.1111111111111111,
              "#46039f"
             ],
             [
              0.2222222222222222,
              "#7201a8"
             ],
             [
              0.3333333333333333,
              "#9c179e"
             ],
             [
              0.4444444444444444,
              "#bd3786"
             ],
             [
              0.5555555555555556,
              "#d8576b"
             ],
             [
              0.6666666666666666,
              "#ed7953"
             ],
             [
              0.7777777777777778,
              "#fb9f3a"
             ],
             [
              0.8888888888888888,
              "#fdca26"
             ],
             [
              1,
              "#f0f921"
             ]
            ],
            "type": "contour"
           }
          ],
          "contourcarpet": [
           {
            "colorbar": {
             "outlinewidth": 0,
             "ticks": ""
            },
            "type": "contourcarpet"
           }
          ],
          "heatmap": [
           {
            "colorbar": {
             "outlinewidth": 0,
             "ticks": ""
            },
            "colorscale": [
             [
              0,
              "#0d0887"
             ],
             [
              0.1111111111111111,
              "#46039f"
             ],
             [
              0.2222222222222222,
              "#7201a8"
             ],
             [
              0.3333333333333333,
              "#9c179e"
             ],
             [
              0.4444444444444444,
              "#bd3786"
             ],
             [
              0.5555555555555556,
              "#d8576b"
             ],
             [
              0.6666666666666666,
              "#ed7953"
             ],
             [
              0.7777777777777778,
              "#fb9f3a"
             ],
             [
              0.8888888888888888,
              "#fdca26"
             ],
             [
              1,
              "#f0f921"
             ]
            ],
            "type": "heatmap"
           }
          ],
          "heatmapgl": [
           {
            "colorbar": {
             "outlinewidth": 0,
             "ticks": ""
            },
            "colorscale": [
             [
              0,
              "#0d0887"
             ],
             [
              0.1111111111111111,
              "#46039f"
             ],
             [
              0.2222222222222222,
              "#7201a8"
             ],
             [
              0.3333333333333333,
              "#9c179e"
             ],
             [
              0.4444444444444444,
              "#bd3786"
             ],
             [
              0.5555555555555556,
              "#d8576b"
             ],
             [
              0.6666666666666666,
              "#ed7953"
             ],
             [
              0.7777777777777778,
              "#fb9f3a"
             ],
             [
              0.8888888888888888,
              "#fdca26"
             ],
             [
              1,
              "#f0f921"
             ]
            ],
            "type": "heatmapgl"
           }
          ],
          "histogram": [
           {
            "marker": {
             "pattern": {
              "fillmode": "overlay",
              "size": 10,
              "solidity": 0.2
             }
            },
            "type": "histogram"
           }
          ],
          "histogram2d": [
           {
            "colorbar": {
             "outlinewidth": 0,
             "ticks": ""
            },
            "colorscale": [
             [
              0,
              "#0d0887"
             ],
             [
              0.1111111111111111,
              "#46039f"
             ],
             [
              0.2222222222222222,
              "#7201a8"
             ],
             [
              0.3333333333333333,
              "#9c179e"
             ],
             [
              0.4444444444444444,
              "#bd3786"
             ],
             [
              0.5555555555555556,
              "#d8576b"
             ],
             [
              0.6666666666666666,
              "#ed7953"
             ],
             [
              0.7777777777777778,
              "#fb9f3a"
             ],
             [
              0.8888888888888888,
              "#fdca26"
             ],
             [
              1,
              "#f0f921"
             ]
            ],
            "type": "histogram2d"
           }
          ],
          "histogram2dcontour": [
           {
            "colorbar": {
             "outlinewidth": 0,
             "ticks": ""
            },
            "colorscale": [
             [
              0,
              "#0d0887"
             ],
             [
              0.1111111111111111,
              "#46039f"
             ],
             [
              0.2222222222222222,
              "#7201a8"
             ],
             [
              0.3333333333333333,
              "#9c179e"
             ],
             [
              0.4444444444444444,
              "#bd3786"
             ],
             [
              0.5555555555555556,
              "#d8576b"
             ],
             [
              0.6666666666666666,
              "#ed7953"
             ],
             [
              0.7777777777777778,
              "#fb9f3a"
             ],
             [
              0.8888888888888888,
              "#fdca26"
             ],
             [
              1,
              "#f0f921"
             ]
            ],
            "type": "histogram2dcontour"
           }
          ],
          "mesh3d": [
           {
            "colorbar": {
             "outlinewidth": 0,
             "ticks": ""
            },
            "type": "mesh3d"
           }
          ],
          "parcoords": [
           {
            "line": {
             "colorbar": {
              "outlinewidth": 0,
              "ticks": ""
             }
            },
            "type": "parcoords"
           }
          ],
          "pie": [
           {
            "automargin": true,
            "type": "pie"
           }
          ],
          "scatter": [
           {
            "fillpattern": {
             "fillmode": "overlay",
             "size": 10,
             "solidity": 0.2
            },
            "type": "scatter"
           }
          ],
          "scatter3d": [
           {
            "line": {
             "colorbar": {
              "outlinewidth": 0,
              "ticks": ""
             }
            },
            "marker": {
             "colorbar": {
              "outlinewidth": 0,
              "ticks": ""
             }
            },
            "type": "scatter3d"
           }
          ],
          "scattercarpet": [
           {
            "marker": {
             "colorbar": {
              "outlinewidth": 0,
              "ticks": ""
             }
            },
            "type": "scattercarpet"
           }
          ],
          "scattergeo": [
           {
            "marker": {
             "colorbar": {
              "outlinewidth": 0,
              "ticks": ""
             }
            },
            "type": "scattergeo"
           }
          ],
          "scattergl": [
           {
            "marker": {
             "colorbar": {
              "outlinewidth": 0,
              "ticks": ""
             }
            },
            "type": "scattergl"
           }
          ],
          "scattermapbox": [
           {
            "marker": {
             "colorbar": {
              "outlinewidth": 0,
              "ticks": ""
             }
            },
            "type": "scattermapbox"
           }
          ],
          "scatterpolar": [
           {
            "marker": {
             "colorbar": {
              "outlinewidth": 0,
              "ticks": ""
             }
            },
            "type": "scatterpolar"
           }
          ],
          "scatterpolargl": [
           {
            "marker": {
             "colorbar": {
              "outlinewidth": 0,
              "ticks": ""
             }
            },
            "type": "scatterpolargl"
           }
          ],
          "scatterternary": [
           {
            "marker": {
             "colorbar": {
              "outlinewidth": 0,
              "ticks": ""
             }
            },
            "type": "scatterternary"
           }
          ],
          "surface": [
           {
            "colorbar": {
             "outlinewidth": 0,
             "ticks": ""
            },
            "colorscale": [
             [
              0,
              "#0d0887"
             ],
             [
              0.1111111111111111,
              "#46039f"
             ],
             [
              0.2222222222222222,
              "#7201a8"
             ],
             [
              0.3333333333333333,
              "#9c179e"
             ],
             [
              0.4444444444444444,
              "#bd3786"
             ],
             [
              0.5555555555555556,
              "#d8576b"
             ],
             [
              0.6666666666666666,
              "#ed7953"
             ],
             [
              0.7777777777777778,
              "#fb9f3a"
             ],
             [
              0.8888888888888888,
              "#fdca26"
             ],
             [
              1,
              "#f0f921"
             ]
            ],
            "type": "surface"
           }
          ],
          "table": [
           {
            "cells": {
             "fill": {
              "color": "#EBF0F8"
             },
             "line": {
              "color": "white"
             }
            },
            "header": {
             "fill": {
              "color": "#C8D4E3"
             },
             "line": {
              "color": "white"
             }
            },
            "type": "table"
           }
          ]
         },
         "layout": {
          "annotationdefaults": {
           "arrowcolor": "#2a3f5f",
           "arrowhead": 0,
           "arrowwidth": 1
          },
          "autotypenumbers": "strict",
          "coloraxis": {
           "colorbar": {
            "outlinewidth": 0,
            "ticks": ""
           }
          },
          "colorscale": {
           "diverging": [
            [
             0,
             "#8e0152"
            ],
            [
             0.1,
             "#c51b7d"
            ],
            [
             0.2,
             "#de77ae"
            ],
            [
             0.3,
             "#f1b6da"
            ],
            [
             0.4,
             "#fde0ef"
            ],
            [
             0.5,
             "#f7f7f7"
            ],
            [
             0.6,
             "#e6f5d0"
            ],
            [
             0.7,
             "#b8e186"
            ],
            [
             0.8,
             "#7fbc41"
            ],
            [
             0.9,
             "#4d9221"
            ],
            [
             1,
             "#276419"
            ]
           ],
           "sequential": [
            [
             0,
             "#0d0887"
            ],
            [
             0.1111111111111111,
             "#46039f"
            ],
            [
             0.2222222222222222,
             "#7201a8"
            ],
            [
             0.3333333333333333,
             "#9c179e"
            ],
            [
             0.4444444444444444,
             "#bd3786"
            ],
            [
             0.5555555555555556,
             "#d8576b"
            ],
            [
             0.6666666666666666,
             "#ed7953"
            ],
            [
             0.7777777777777778,
             "#fb9f3a"
            ],
            [
             0.8888888888888888,
             "#fdca26"
            ],
            [
             1,
             "#f0f921"
            ]
           ],
           "sequentialminus": [
            [
             0,
             "#0d0887"
            ],
            [
             0.1111111111111111,
             "#46039f"
            ],
            [
             0.2222222222222222,
             "#7201a8"
            ],
            [
             0.3333333333333333,
             "#9c179e"
            ],
            [
             0.4444444444444444,
             "#bd3786"
            ],
            [
             0.5555555555555556,
             "#d8576b"
            ],
            [
             0.6666666666666666,
             "#ed7953"
            ],
            [
             0.7777777777777778,
             "#fb9f3a"
            ],
            [
             0.8888888888888888,
             "#fdca26"
            ],
            [
             1,
             "#f0f921"
            ]
           ]
          },
          "colorway": [
           "#636efa",
           "#EF553B",
           "#00cc96",
           "#ab63fa",
           "#FFA15A",
           "#19d3f3",
           "#FF6692",
           "#B6E880",
           "#FF97FF",
           "#FECB52"
          ],
          "font": {
           "color": "#2a3f5f"
          },
          "geo": {
           "bgcolor": "white",
           "lakecolor": "white",
           "landcolor": "#E5ECF6",
           "showlakes": true,
           "showland": true,
           "subunitcolor": "white"
          },
          "hoverlabel": {
           "align": "left"
          },
          "hovermode": "closest",
          "mapbox": {
           "style": "light"
          },
          "paper_bgcolor": "white",
          "plot_bgcolor": "#E5ECF6",
          "polar": {
           "angularaxis": {
            "gridcolor": "white",
            "linecolor": "white",
            "ticks": ""
           },
           "bgcolor": "#E5ECF6",
           "radialaxis": {
            "gridcolor": "white",
            "linecolor": "white",
            "ticks": ""
           }
          },
          "scene": {
           "xaxis": {
            "backgroundcolor": "#E5ECF6",
            "gridcolor": "white",
            "gridwidth": 2,
            "linecolor": "white",
            "showbackground": true,
            "ticks": "",
            "zerolinecolor": "white"
           },
           "yaxis": {
            "backgroundcolor": "#E5ECF6",
            "gridcolor": "white",
            "gridwidth": 2,
            "linecolor": "white",
            "showbackground": true,
            "ticks": "",
            "zerolinecolor": "white"
           },
           "zaxis": {
            "backgroundcolor": "#E5ECF6",
            "gridcolor": "white",
            "gridwidth": 2,
            "linecolor": "white",
            "showbackground": true,
            "ticks": "",
            "zerolinecolor": "white"
           }
          },
          "shapedefaults": {
           "line": {
            "color": "#2a3f5f"
           }
          },
          "ternary": {
           "aaxis": {
            "gridcolor": "white",
            "linecolor": "white",
            "ticks": ""
           },
           "baxis": {
            "gridcolor": "white",
            "linecolor": "white",
            "ticks": ""
           },
           "bgcolor": "#E5ECF6",
           "caxis": {
            "gridcolor": "white",
            "linecolor": "white",
            "ticks": ""
           }
          },
          "title": {
           "x": 0.05
          },
          "xaxis": {
           "automargin": true,
           "gridcolor": "white",
           "linecolor": "white",
           "ticks": "",
           "title": {
            "standoff": 15
           },
           "zerolinecolor": "white",
           "zerolinewidth": 2
          },
          "yaxis": {
           "automargin": true,
           "gridcolor": "white",
           "linecolor": "white",
           "ticks": "",
           "title": {
            "standoff": 15
           },
           "zerolinecolor": "white",
           "zerolinewidth": 2
          }
         }
        },
        "xaxis": {
         "anchor": "y",
         "domain": [
          0,
          0.2888888888888889
         ]
        },
        "xaxis2": {
         "anchor": "y2",
         "domain": [
          0.35555555555555557,
          0.6444444444444445
         ],
         "title": {
          "text": "# of common direct  and second-level dependencies"
         }
        },
        "xaxis3": {
         "anchor": "y3",
         "domain": [
          0.7111111111111111,
          1
         ]
        },
        "yaxis": {
         "anchor": "x",
         "domain": [
          0,
          1
         ],
         "title": {
          "text": "Frequency"
         }
        },
        "yaxis2": {
         "anchor": "x2",
         "domain": [
          0,
          1
         ]
        },
        "yaxis3": {
         "anchor": "x3",
         "domain": [
          0,
          1
         ]
        }
       }
      }
     },
     "metadata": {},
     "output_type": "display_data"
    }
   ],
   "source": [
    "# Graphs for presentation\n",
    "\n",
    "fig = make_subplots(rows=1, cols=3,subplot_titles=(\"Textbooks and Wikipedia\",\"Textbooks and T0pp\", \"T0pp and Wikipedia\"))\n",
    "\n",
    "trace0 = go.Histogram(x=deps.loc[filter,'num_common_tb_wiki_2'],texttemplate=\"%{y}\",marker_color = \"#BC602D\",xbins_size=0.5)\n",
    "trace1 = go.Histogram(x=deps.loc[filter,'num_common_tb_llm_2'],texttemplate=\"%{y}\",marker_color = \"#BC602D\",xbins_size=0.5)\n",
    "trace2 = go.Histogram(x=deps.loc[filter,'num_common_llm_wiki_2'],texttemplate=\"%{y}\",marker_color = \"#BC602D\",xbins_size=0.5)\n",
    "\n",
    "fig.append_trace(trace0, 1, 1)\n",
    "fig.append_trace(trace1, 1, 2)\n",
    "fig.append_trace(trace2, 1, 3)\n",
    "\n",
    "#fig.update_xaxes(title_text=\"# of common direct+2nd-level dependencies\",  row=1, col=1)\n",
    "fig.update_yaxes(title_text=\"Frequency\", row=1, col=1)\n",
    "fig.update_xaxes(title_text=\"# of common direct  and second-level dependencies\",  row=1, col=2)\n",
    "#fig.update_xaxes(title_text=\"# of common direct+2nd-level dependencies\",  row=1, col=3)\n",
    "\n",
    "fig.update_layout({\n",
    "\"plot_bgcolor\": \"rgba(0, 0, 0, 0)\",\n",
    "\"paper_bgcolor\": \"rgba(0, 0, 0, 0)\",\n",
    "}, showlegend=False)\n",
    "\n",
    "fig.show()"
   ]
  },
  {
   "cell_type": "code",
   "execution_count": 19,
   "metadata": {},
   "outputs": [
    {
     "data": {
      "image/png": "[encoded data removed]",
      "text/plain": [
       "<Figure size 900x300 with 3 Axes>"
      ]
     },
     "metadata": {},
     "output_type": "display_data"
    }
   ],
   "source": [
    "# Graphs for the paper if necessary\n",
    "\n",
    "dep_freqs = deps.loc[filter]\n",
    "dep_freqs = dep_freqs.iloc[:,-3:].apply(pd.Series.value_counts)\n",
    "\n",
    "figs, ax = plt.subplots(1, 3, figsize=(9,3))\n",
    "\n",
    "ax[0].set_title(\"Textbook and Wikipedia\")\n",
    "rects = ax[0].bar(dep_freqs.index,dep_freqs['num_common_tb_wiki_2'],width=0.6, color=\"darkgrey\")\n",
    "ax[0].bar_label(rects, padding=3)\n",
    "ax[0].set_ylabel('Frequency')\n",
    "ax[0].set_xticks(dep_freqs.index)\n",
    "ax[0].set_ylim(0, 95)\n",
    "\n",
    "ax[1].set_title(\"Textbook and T0pp\")\n",
    "rects = ax[1].bar(dep_freqs.index,dep_freqs['num_common_tb_llm_2'],width=0.6, color=\"darkgrey\")\n",
    "ax[1].bar_label(rects, padding=3)\n",
    "ax[1].set_xticks(dep_freqs.index)\n",
    "ax[1].set_ylim(0, 95)\n",
    "\n",
    "ax[2].set_title(\"Wikipedia and T0pp\")\n",
    "rects = ax[2].bar(dep_freqs.index,dep_freqs['num_common_llm_wiki_2'],width=0.6, color=\"darkgrey\")\n",
    "ax[2].bar_label(rects, padding=3)\n",
    "ax[2].set_xticks(dep_freqs.index)\n",
    "ax[2].set_ylim(0, 95)\n",
    "\n",
    "ax[1].set_xlabel('Number of common direct  and second-level dependencies')\n",
    "plt.show()"
   ]
  },
  {
   "cell_type": "code",
   "execution_count": 20,
   "metadata": {},
   "outputs": [],
   "source": [
    "figs.savefig(\"../doc/img/comp_second_deps.pdf\", format=\"pdf\")"
   ]
  },
  {
   "attachments": {},
   "cell_type": "markdown",
   "metadata": {},
   "source": [
    "### Precision: 1st, 2nd and 3rd - order dependencies"
   ]
  },
  {
   "cell_type": "code",
   "execution_count": 21,
   "metadata": {},
   "outputs": [],
   "source": [
    "# +2nd and 3rd order dependencies\n",
    "\n",
    "deps['deps_tb_3'] = deps['deps_tb_2'].apply(lambda x: get_2orderdeps(x,'dep_articles_textbook'))\n",
    "deps['deps_llm_3'] = deps['deps_llm_2'].apply(lambda x: get_2orderdeps(x,'dep_articles_llm'))\n",
    "deps['deps_wiki_3'] = deps['deps_wiki_2'].apply(lambda x: get_2orderdeps(x, 'dep_articles_wiki'))\n",
    "\n",
    "deps['num_common_tb_wiki_3'] = deps.apply(lambda r: get_number_common_concepts(r.concept, r['deps_tb_3'], r['deps_wiki_3']), axis=1)\n",
    "deps['num_common_tb_llm_3'] = deps.apply(lambda r: get_number_common_concepts(r.concept, r['deps_tb_3'], r['deps_llm_3']), axis=1)\n",
    "deps['num_common_llm_wiki_3'] = deps.apply(lambda r: get_number_common_concepts(r.concept, r['deps_llm_3'], r['deps_wiki_3']), axis=1)\n",
    "\n",
    "deps[\"num_wiki_3\"] = deps['deps_wiki_3'].apply(lambda x: len(x))\n",
    "deps[\"num_llm_3\"] = deps['deps_llm_3'].apply(lambda x: len(x))\n",
    "deps[\"num_textbook_3\"] = deps['deps_tb_3'].apply(lambda x: len(x))\n",
    "\n",
    "deps[\"precision_tb_llm_llm_3\"] = deps['num_common_tb_llm_3']/deps[\"num_llm_3\"] \n",
    "deps[\"precision_llm_wiki_llm_3\"] = deps['num_common_llm_wiki_3']/deps[\"num_llm_3\"] "
   ]
  },
  {
   "cell_type": "code",
   "execution_count": 22,
   "metadata": {},
   "outputs": [],
   "source": [
    "# 1st-order dependencies\n",
    "deps[\"num_wiki\"] = deps.dep_articles_wiki.apply(lambda x: len(x))\n",
    "deps[\"num_llm\"] = deps.dep_articles_llm.apply(lambda x: len(x))\n",
    "deps[\"num_textbook\"] = deps.dep_articles_textbook.apply(lambda x: len(x))\n",
    "\n",
    "deps[\"precision_tb_llm_llm_1\"] = deps['num_common_tb_llm']/deps[\"num_llm\"] \n",
    "deps[\"precision_llm_wiki_llm_1\"] = deps['num_common_llm_wiki']/deps[\"num_llm\"] \n",
    "\n",
    "# +2nd-order dependencies\n",
    "deps[\"num_wiki_2\"] = deps['deps_wiki_2'].apply(lambda x: len(x))\n",
    "deps[\"num_llm_2\"] = deps['deps_llm_2'].apply(lambda x: len(x))\n",
    "deps[\"num_textbook_2\"] = deps['deps_tb_2'].apply(lambda x: len(x))\n",
    "\n",
    "deps[\"precision_tb_llm_llm_2\"] = deps['num_common_tb_llm_2']/deps[\"num_llm_2\"] \n",
    "deps[\"precision_llm_wiki_llm_2\"] = deps['num_common_llm_wiki_2']/deps[\"num_llm_2\"] \n",
    "\n",
    "\n",
    "deps = deps.fillna(0)"
   ]
  },
  {
   "cell_type": "code",
   "execution_count": 24,
   "metadata": {},
   "outputs": [
    {
     "data": {
      "image/png": "[encoded data removed]",
      "text/plain": [
       "<Figure size 700x600 with 6 Axes>"
      ]
     },
     "metadata": {},
     "output_type": "display_data"
    }
   ],
   "source": [
    "deps_filt = deps.loc[filter]\n",
    "\n",
    "figs, ax = plt.subplots(3, 2, figsize=(7,6))\n",
    "\n",
    "# 1st order\n",
    "ax[0,0].set_title(\"With Respect to Textbook\")\n",
    "ax[0,0].hist(deps_filt['precision_tb_llm_llm_1'],bins=20, range = (0,1),color=\"darkgrey\",\n",
    "             weights=np.ones(len(deps_filt['precision_tb_llm_llm_1'])) / len(deps_filt['precision_tb_llm_llm_1']))\n",
    "ax[0,0].set_xlim(0, 1)\n",
    "ax[0,0].set_ylabel('1st-order dependencies', rotation=0, labelpad=50)\n",
    "\n",
    "ax[0,1].set_title(\"With Respect to Wikipedia\")\n",
    "ax[0,1].hist(deps_filt['precision_llm_wiki_llm_1'],bins=20, range = (0,1), color=\"darkgrey\",\n",
    "             weights=np.ones(len(deps_filt['precision_llm_wiki_llm_1'])) / len(deps_filt['precision_llm_wiki_llm_1']))\n",
    "ax[0,1].set_xlim(0, 1)\n",
    "\n",
    "# 2nd order\n",
    "\n",
    "ax[1,0].hist(deps_filt['precision_tb_llm_llm_2'],bins=20, range = (0,1),color=\"darkgrey\",\n",
    "             weights=np.ones(len(deps_filt['precision_tb_llm_llm_2'])) / len(deps_filt['precision_tb_llm_llm_2']))\n",
    "ax[1,0].set_xlim(0, 1)\n",
    "ax[1,0].set_ylabel('2nd-order dependencies', rotation=0, labelpad=50)\n",
    "\n",
    "ax[1,1].hist(deps_filt['precision_llm_wiki_llm_2'],bins=20, range = (0,1), color=\"darkgrey\",\n",
    "             weights=np.ones(len(deps_filt['precision_llm_wiki_llm_2'])) / len(deps_filt['precision_llm_wiki_llm_2']))\n",
    "ax[1,1].set_xlim(0, 1)\n",
    "\n",
    "# 3rd order\n",
    "\n",
    "ax[2,0].hist(deps_filt['precision_tb_llm_llm_3'],bins=20, range = (0,1),color=\"darkgrey\",\n",
    "             weights=np.ones(len(deps_filt['precision_tb_llm_llm_3'])) / len(deps_filt['precision_tb_llm_llm_3']))\n",
    "ax[2,0].set_xlim(0, 1)\n",
    "ax[2,0].set_ylabel('3rd-order dependencies', rotation=0, labelpad=50)\n",
    "\n",
    "ax[2,1].hist(deps_filt['precision_llm_wiki_llm_3'],bins=20, range = (0,1), color=\"darkgrey\",\n",
    "             weights=np.ones(len(deps_filt['precision_llm_wiki_llm_3'])) / len(deps_filt['precision_llm_wiki_llm_3']))\n",
    "ax[2,1].set_xlim(0, 1)\n",
    "\n",
    "\n",
    "ax[2,0].set_xlabel('Precision')\n",
    "ax[2,1].set_xlabel('Precision')\n",
    "\n",
    "plt.show()"
   ]
  },
  {
   "cell_type": "code",
   "execution_count": 25,
   "metadata": {},
   "outputs": [],
   "source": [
    "figs.savefig(\"../doc/img/precision_deps_3rd_order.pdf\", format=\"pdf\")"
   ]
  },
  {
   "cell_type": "code",
   "execution_count": null,
   "metadata": {},
   "outputs": [],
   "source": []
  }
 ],
 "metadata": {
  "kernelspec": {
   "display_name": "LD-inference",
   "language": "python",
   "name": "python3"
  },
  "language_info": {
   "codemirror_mode": {
    "name": "ipython",
    "version": 3
   },
   "file_extension": ".py",
   "mimetype": "text/x-python",
   "name": "python",
   "nbconvert_exporter": "python",
   "pygments_lexer": "ipython3",
   "version": "3.10.8"
  },
  "orig_nbformat": 4,
  "vscode": {
   "interpreter": {
    "hash": "2b3dd287303ef379cd3bfc1446cef400144e42385eabfb9b315f60147448249f"
   }
  }
 },
 "nbformat": 4,
 "nbformat_minor": 2
}

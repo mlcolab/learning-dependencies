{
 "cells": [
  {
   "cell_type": "code",
   "execution_count": 1,
   "metadata": {},
   "outputs": [],
   "source": [
    "import pandas as pd\n",
    "import numpy as np\n",
    "import ast\n",
    "from matplotlib import pyplot as plt\n",
    "import sys\n",
    "sys.path.append('../src/')\n",
    "import data_layer\n"
   ]
  },
  {
   "cell_type": "code",
   "execution_count": 2,
   "metadata": {},
   "outputs": [],
   "source": [
    "from tueplots import bundles\n",
    "plt.rcParams.update(bundles.icml2022())"
   ]
  },
  {
   "cell_type": "code",
   "execution_count": 3,
   "metadata": {},
   "outputs": [],
   "source": [
    "MIN_OCCURENCES=5"
   ]
  },
  {
   "cell_type": "code",
   "execution_count": 14,
   "metadata": {},
   "outputs": [],
   "source": [
    "df_wiki = pd.read_csv(\"../dat/wiki/graph.csv\")\n",
    "df_llm = pd.read_json(\"../dat/llm/graph.json\")\n",
    "df_textbook = pd.read_json(\"../dat/textbooks/graph.json\").iloc[:,[0,3]]\n",
    "df_wiki.dep_articles = [ast.literal_eval(deps) for deps in (df_wiki.dep_articles)]"
   ]
  },
  {
   "attachments": {},
   "cell_type": "markdown",
   "metadata": {},
   "source": [
    "### 0. Descriptive Statistics for Graphs"
   ]
  },
  {
   "cell_type": "code",
   "execution_count": 15,
   "metadata": {},
   "outputs": [
    {
     "name": "stdout",
     "output_type": "stream",
     "text": [
      "Total number of concepts and dependencies:\n",
      "Textbook:  1914\n",
      "Wikipedia:  3041\n",
      "LLM:  1823\n"
     ]
    }
   ],
   "source": [
    "def get_num_of_all_concepts(df):\n",
    "    concepts = df.concept.to_list()\n",
    "    deps = [dep for deps in df.dep_articles for dep in deps]\n",
    "    all_concepts = set(concepts + deps)\n",
    "    return len(all_concepts)\n",
    "\n",
    "print(\"Total number of concepts and dependencies:\")\n",
    "print(\"Textbook: \", get_num_of_all_concepts(df_textbook))\n",
    "print(\"Wikipedia: \", get_num_of_all_concepts(df_wiki))\n",
    "print(\"LLM: \", get_num_of_all_concepts(df_llm))"
   ]
  },
  {
   "cell_type": "code",
   "execution_count": 18,
   "metadata": {},
   "outputs": [
    {
     "name": "stdout",
     "output_type": "stream",
     "text": [
      "Total number of concepts only:\n",
      "Textbook:  1464\n",
      "Wikipedia:  1464\n",
      "LLM:  1464\n"
     ]
    }
   ],
   "source": [
    "print(\"Total number of concepts only:\")\n",
    "print(\"Textbook: \", df_textbook.shape[0])\n",
    "print(\"Wikipedia: \", df_wiki.shape[0])\n",
    "print(\"LLM: \", df_llm.shape[0])"
   ]
  },
  {
   "cell_type": "code",
   "execution_count": 19,
   "metadata": {},
   "outputs": [
    {
     "name": "stdout",
     "output_type": "stream",
     "text": [
      "Average Number of Dependencies  per Concept:\n",
      "Textbook:  5.657103825136612\n",
      "Wikipedia:  2.9057377049180326\n",
      "LLM:  2.751366120218579\n"
     ]
    }
   ],
   "source": [
    "def get_average_num_of_deps(deps):\n",
    "    return np.mean([len(dep) for dep in deps])\n",
    "\n",
    "print(\"Average Number of Dependencies  per Concept:\")\n",
    "print(\"Textbook: \", get_average_num_of_deps(df_textbook.dep_articles))\n",
    "print(\"Wikipedia: \", get_average_num_of_deps(df_wiki.dep_articles))\n",
    "print(\"LLM: \", get_average_num_of_deps(df_llm.dep_articles))"
   ]
  },
  {
   "cell_type": "code",
   "execution_count": null,
   "metadata": {},
   "outputs": [],
   "source": [
    "# It is not possible to calculate the number of orders for the histogram!!!\n",
    "\n",
    "# def check_dep(concept,d):\n",
    "#     try:\n",
    "#         deps=d[concept]\n",
    "#         return deps\n",
    "#     except:\n",
    "#         pass\n",
    "    \n",
    "\n",
    "# def calc_levels(df):\n",
    "#     d =  {concept:dep for concept,dep in zip (df.concept,df.dep_articles)} \n",
    "#     n_levels = 1\n",
    "#     d_levels={}\n",
    "#     for concept in list(d.keys())[:10]:\n",
    "#         deps = check_dep(concept,d)\n",
    "#         while deps:\n",
    "#             n_levels+=1\n",
    "#             deps = set([i for dep in deps  if check_dep(dep,d) for i in check_dep(dep,d)])  \n",
    "#         d_levels[concept] = n_levels-1\n",
    "#         print(d_levels)\n",
    "#     return d_levels\n",
    "\n",
    "# calc_levels(df_textbook)"
   ]
  },
  {
   "cell_type": "code",
   "execution_count": 32,
   "metadata": {},
   "outputs": [
    {
     "data": {
      "text/html": [
       "<div>\n",
       "<style scoped>\n",
       "    .dataframe tbody tr th:only-of-type {\n",
       "        vertical-align: middle;\n",
       "    }\n",
       "\n",
       "    .dataframe tbody tr th {\n",
       "        vertical-align: top;\n",
       "    }\n",
       "\n",
       "    .dataframe thead th {\n",
       "        text-align: right;\n",
       "    }\n",
       "</style>\n",
       "<table border=\"1\" class=\"dataframe\">\n",
       "  <thead>\n",
       "    <tr style=\"text-align: right;\">\n",
       "      <th>dep_articles</th>\n",
       "      <th>#CITEREFFrobenius1912</th>\n",
       "      <th>#CITEREFHoene-Wroński1812</th>\n",
       "      <th>#CITEREFJohnson1955</th>\n",
       "      <th>#CITEREFMuir1882</th>\n",
       "      <th>#CITEREFPerron1907</th>\n",
       "      <th>#Notation and terminology</th>\n",
       "      <th>#Source and target languages</th>\n",
       "      <th>%C4%80ryabha%E1%B9%ADa%27s sine table</th>\n",
       "      <th>%CE%99</th>\n",
       "      <th>0</th>\n",
       "      <th>...</th>\n",
       "      <th>Worldview</th>\n",
       "      <th>Writing system#Directionality</th>\n",
       "      <th>X</th>\n",
       "      <th>X chromosome</th>\n",
       "      <th>X-ray computed tomography</th>\n",
       "      <th>Zenith</th>\n",
       "      <th>Zero</th>\n",
       "      <th>Zero element</th>\n",
       "      <th>Zero of a function</th>\n",
       "      <th>Zero vector</th>\n",
       "    </tr>\n",
       "    <tr>\n",
       "      <th>concept</th>\n",
       "      <th></th>\n",
       "      <th></th>\n",
       "      <th></th>\n",
       "      <th></th>\n",
       "      <th></th>\n",
       "      <th></th>\n",
       "      <th></th>\n",
       "      <th></th>\n",
       "      <th></th>\n",
       "      <th></th>\n",
       "      <th></th>\n",
       "      <th></th>\n",
       "      <th></th>\n",
       "      <th></th>\n",
       "      <th></th>\n",
       "      <th></th>\n",
       "      <th></th>\n",
       "      <th></th>\n",
       "      <th></th>\n",
       "      <th></th>\n",
       "      <th></th>\n",
       "    </tr>\n",
       "  </thead>\n",
       "  <tbody>\n",
       "    <tr>\n",
       "      <th>0</th>\n",
       "      <td>0</td>\n",
       "      <td>0</td>\n",
       "      <td>0</td>\n",
       "      <td>0</td>\n",
       "      <td>0</td>\n",
       "      <td>0</td>\n",
       "      <td>0</td>\n",
       "      <td>0</td>\n",
       "      <td>0</td>\n",
       "      <td>0</td>\n",
       "      <td>...</td>\n",
       "      <td>0</td>\n",
       "      <td>0</td>\n",
       "      <td>0</td>\n",
       "      <td>0</td>\n",
       "      <td>0</td>\n",
       "      <td>0</td>\n",
       "      <td>0</td>\n",
       "      <td>0</td>\n",
       "      <td>0</td>\n",
       "      <td>0</td>\n",
       "    </tr>\n",
       "    <tr>\n",
       "      <th>1</th>\n",
       "      <td>0</td>\n",
       "      <td>0</td>\n",
       "      <td>0</td>\n",
       "      <td>0</td>\n",
       "      <td>0</td>\n",
       "      <td>0</td>\n",
       "      <td>0</td>\n",
       "      <td>0</td>\n",
       "      <td>0</td>\n",
       "      <td>0</td>\n",
       "      <td>...</td>\n",
       "      <td>0</td>\n",
       "      <td>0</td>\n",
       "      <td>0</td>\n",
       "      <td>0</td>\n",
       "      <td>0</td>\n",
       "      <td>0</td>\n",
       "      <td>0</td>\n",
       "      <td>0</td>\n",
       "      <td>0</td>\n",
       "      <td>0</td>\n",
       "    </tr>\n",
       "    <tr>\n",
       "      <th>2012 in science</th>\n",
       "      <td>0</td>\n",
       "      <td>0</td>\n",
       "      <td>0</td>\n",
       "      <td>0</td>\n",
       "      <td>0</td>\n",
       "      <td>0</td>\n",
       "      <td>0</td>\n",
       "      <td>0</td>\n",
       "      <td>0</td>\n",
       "      <td>0</td>\n",
       "      <td>...</td>\n",
       "      <td>0</td>\n",
       "      <td>0</td>\n",
       "      <td>0</td>\n",
       "      <td>0</td>\n",
       "      <td>0</td>\n",
       "      <td>0</td>\n",
       "      <td>0</td>\n",
       "      <td>0</td>\n",
       "      <td>0</td>\n",
       "      <td>0</td>\n",
       "    </tr>\n",
       "    <tr>\n",
       "      <th>2D computer graphics</th>\n",
       "      <td>0</td>\n",
       "      <td>0</td>\n",
       "      <td>0</td>\n",
       "      <td>0</td>\n",
       "      <td>0</td>\n",
       "      <td>0</td>\n",
       "      <td>0</td>\n",
       "      <td>0</td>\n",
       "      <td>0</td>\n",
       "      <td>0</td>\n",
       "      <td>...</td>\n",
       "      <td>0</td>\n",
       "      <td>0</td>\n",
       "      <td>0</td>\n",
       "      <td>0</td>\n",
       "      <td>0</td>\n",
       "      <td>0</td>\n",
       "      <td>0</td>\n",
       "      <td>0</td>\n",
       "      <td>0</td>\n",
       "      <td>0</td>\n",
       "    </tr>\n",
       "    <tr>\n",
       "      <th>ALGOL 58</th>\n",
       "      <td>0</td>\n",
       "      <td>0</td>\n",
       "      <td>0</td>\n",
       "      <td>0</td>\n",
       "      <td>0</td>\n",
       "      <td>0</td>\n",
       "      <td>0</td>\n",
       "      <td>0</td>\n",
       "      <td>0</td>\n",
       "      <td>0</td>\n",
       "      <td>...</td>\n",
       "      <td>0</td>\n",
       "      <td>0</td>\n",
       "      <td>0</td>\n",
       "      <td>0</td>\n",
       "      <td>0</td>\n",
       "      <td>0</td>\n",
       "      <td>0</td>\n",
       "      <td>0</td>\n",
       "      <td>0</td>\n",
       "      <td>0</td>\n",
       "    </tr>\n",
       "    <tr>\n",
       "      <th>...</th>\n",
       "      <td>...</td>\n",
       "      <td>...</td>\n",
       "      <td>...</td>\n",
       "      <td>...</td>\n",
       "      <td>...</td>\n",
       "      <td>...</td>\n",
       "      <td>...</td>\n",
       "      <td>...</td>\n",
       "      <td>...</td>\n",
       "      <td>...</td>\n",
       "      <td>...</td>\n",
       "      <td>...</td>\n",
       "      <td>...</td>\n",
       "      <td>...</td>\n",
       "      <td>...</td>\n",
       "      <td>...</td>\n",
       "      <td>...</td>\n",
       "      <td>...</td>\n",
       "      <td>...</td>\n",
       "      <td>...</td>\n",
       "      <td>...</td>\n",
       "    </tr>\n",
       "    <tr>\n",
       "      <th>Zero of a function</th>\n",
       "      <td>0</td>\n",
       "      <td>0</td>\n",
       "      <td>0</td>\n",
       "      <td>0</td>\n",
       "      <td>0</td>\n",
       "      <td>0</td>\n",
       "      <td>0</td>\n",
       "      <td>0</td>\n",
       "      <td>0</td>\n",
       "      <td>0</td>\n",
       "      <td>...</td>\n",
       "      <td>0</td>\n",
       "      <td>0</td>\n",
       "      <td>0</td>\n",
       "      <td>0</td>\n",
       "      <td>0</td>\n",
       "      <td>0</td>\n",
       "      <td>0</td>\n",
       "      <td>0</td>\n",
       "      <td>0</td>\n",
       "      <td>0</td>\n",
       "    </tr>\n",
       "    <tr>\n",
       "      <th>Zero-dimensional space</th>\n",
       "      <td>0</td>\n",
       "      <td>0</td>\n",
       "      <td>0</td>\n",
       "      <td>0</td>\n",
       "      <td>0</td>\n",
       "      <td>0</td>\n",
       "      <td>0</td>\n",
       "      <td>0</td>\n",
       "      <td>0</td>\n",
       "      <td>0</td>\n",
       "      <td>...</td>\n",
       "      <td>0</td>\n",
       "      <td>0</td>\n",
       "      <td>0</td>\n",
       "      <td>0</td>\n",
       "      <td>0</td>\n",
       "      <td>0</td>\n",
       "      <td>0</td>\n",
       "      <td>0</td>\n",
       "      <td>0</td>\n",
       "      <td>0</td>\n",
       "    </tr>\n",
       "    <tr>\n",
       "      <th>Zero-product property</th>\n",
       "      <td>0</td>\n",
       "      <td>0</td>\n",
       "      <td>0</td>\n",
       "      <td>0</td>\n",
       "      <td>0</td>\n",
       "      <td>0</td>\n",
       "      <td>0</td>\n",
       "      <td>0</td>\n",
       "      <td>0</td>\n",
       "      <td>0</td>\n",
       "      <td>...</td>\n",
       "      <td>0</td>\n",
       "      <td>0</td>\n",
       "      <td>0</td>\n",
       "      <td>0</td>\n",
       "      <td>0</td>\n",
       "      <td>0</td>\n",
       "      <td>0</td>\n",
       "      <td>1</td>\n",
       "      <td>0</td>\n",
       "      <td>0</td>\n",
       "    </tr>\n",
       "    <tr>\n",
       "      <th>Zorn's lemma</th>\n",
       "      <td>0</td>\n",
       "      <td>0</td>\n",
       "      <td>0</td>\n",
       "      <td>0</td>\n",
       "      <td>0</td>\n",
       "      <td>0</td>\n",
       "      <td>0</td>\n",
       "      <td>0</td>\n",
       "      <td>0</td>\n",
       "      <td>0</td>\n",
       "      <td>...</td>\n",
       "      <td>0</td>\n",
       "      <td>0</td>\n",
       "      <td>0</td>\n",
       "      <td>0</td>\n",
       "      <td>0</td>\n",
       "      <td>0</td>\n",
       "      <td>0</td>\n",
       "      <td>0</td>\n",
       "      <td>0</td>\n",
       "      <td>0</td>\n",
       "    </tr>\n",
       "    <tr>\n",
       "      <th>Ω-consistent theory</th>\n",
       "      <td>0</td>\n",
       "      <td>0</td>\n",
       "      <td>0</td>\n",
       "      <td>0</td>\n",
       "      <td>0</td>\n",
       "      <td>0</td>\n",
       "      <td>0</td>\n",
       "      <td>0</td>\n",
       "      <td>0</td>\n",
       "      <td>0</td>\n",
       "      <td>...</td>\n",
       "      <td>0</td>\n",
       "      <td>0</td>\n",
       "      <td>0</td>\n",
       "      <td>0</td>\n",
       "      <td>0</td>\n",
       "      <td>0</td>\n",
       "      <td>0</td>\n",
       "      <td>0</td>\n",
       "      <td>0</td>\n",
       "      <td>0</td>\n",
       "    </tr>\n",
       "  </tbody>\n",
       "</table>\n",
       "<p>1376 rows × 2055 columns</p>\n",
       "</div>"
      ],
      "text/plain": [
       "dep_articles            #CITEREFFrobenius1912  #CITEREFHoene-Wroński1812  \\\n",
       "concept                                                                    \n",
       "0                                           0                          0   \n",
       "1                                           0                          0   \n",
       "2012 in science                             0                          0   \n",
       "2D computer graphics                        0                          0   \n",
       "ALGOL 58                                    0                          0   \n",
       "...                                       ...                        ...   \n",
       "Zero of a function                          0                          0   \n",
       "Zero-dimensional space                      0                          0   \n",
       "Zero-product property                       0                          0   \n",
       "Zorn's lemma                                0                          0   \n",
       "Ω-consistent theory                         0                          0   \n",
       "\n",
       "dep_articles            #CITEREFJohnson1955  #CITEREFMuir1882  \\\n",
       "concept                                                         \n",
       "0                                         0                 0   \n",
       "1                                         0                 0   \n",
       "2012 in science                           0                 0   \n",
       "2D computer graphics                      0                 0   \n",
       "ALGOL 58                                  0                 0   \n",
       "...                                     ...               ...   \n",
       "Zero of a function                        0                 0   \n",
       "Zero-dimensional space                    0                 0   \n",
       "Zero-product property                     0                 0   \n",
       "Zorn's lemma                              0                 0   \n",
       "Ω-consistent theory                       0                 0   \n",
       "\n",
       "dep_articles            #CITEREFPerron1907  #Notation and terminology  \\\n",
       "concept                                                                 \n",
       "0                                        0                          0   \n",
       "1                                        0                          0   \n",
       "2012 in science                          0                          0   \n",
       "2D computer graphics                     0                          0   \n",
       "ALGOL 58                                 0                          0   \n",
       "...                                    ...                        ...   \n",
       "Zero of a function                       0                          0   \n",
       "Zero-dimensional space                   0                          0   \n",
       "Zero-product property                    0                          0   \n",
       "Zorn's lemma                             0                          0   \n",
       "Ω-consistent theory                      0                          0   \n",
       "\n",
       "dep_articles            #Source and target languages  \\\n",
       "concept                                                \n",
       "0                                                  0   \n",
       "1                                                  0   \n",
       "2012 in science                                    0   \n",
       "2D computer graphics                               0   \n",
       "ALGOL 58                                           0   \n",
       "...                                              ...   \n",
       "Zero of a function                                 0   \n",
       "Zero-dimensional space                             0   \n",
       "Zero-product property                              0   \n",
       "Zorn's lemma                                       0   \n",
       "Ω-consistent theory                                0   \n",
       "\n",
       "dep_articles            %C4%80ryabha%E1%B9%ADa%27s sine table  %CE%99  0  ...  \\\n",
       "concept                                                                   ...   \n",
       "0                                                           0       0  0  ...   \n",
       "1                                                           0       0  0  ...   \n",
       "2012 in science                                             0       0  0  ...   \n",
       "2D computer graphics                                        0       0  0  ...   \n",
       "ALGOL 58                                                    0       0  0  ...   \n",
       "...                                                       ...     ... ..  ...   \n",
       "Zero of a function                                          0       0  0  ...   \n",
       "Zero-dimensional space                                      0       0  0  ...   \n",
       "Zero-product property                                       0       0  0  ...   \n",
       "Zorn's lemma                                                0       0  0  ...   \n",
       "Ω-consistent theory                                         0       0  0  ...   \n",
       "\n",
       "dep_articles            Worldview  Writing system#Directionality  X  \\\n",
       "concept                                                               \n",
       "0                               0                              0  0   \n",
       "1                               0                              0  0   \n",
       "2012 in science                 0                              0  0   \n",
       "2D computer graphics            0                              0  0   \n",
       "ALGOL 58                        0                              0  0   \n",
       "...                           ...                            ... ..   \n",
       "Zero of a function              0                              0  0   \n",
       "Zero-dimensional space          0                              0  0   \n",
       "Zero-product property           0                              0  0   \n",
       "Zorn's lemma                    0                              0  0   \n",
       "Ω-consistent theory             0                              0  0   \n",
       "\n",
       "dep_articles            X chromosome  X-ray computed tomography  Zenith  Zero  \\\n",
       "concept                                                                         \n",
       "0                                  0                          0       0     0   \n",
       "1                                  0                          0       0     0   \n",
       "2012 in science                    0                          0       0     0   \n",
       "2D computer graphics               0                          0       0     0   \n",
       "ALGOL 58                           0                          0       0     0   \n",
       "...                              ...                        ...     ...   ...   \n",
       "Zero of a function                 0                          0       0     0   \n",
       "Zero-dimensional space             0                          0       0     0   \n",
       "Zero-product property              0                          0       0     0   \n",
       "Zorn's lemma                       0                          0       0     0   \n",
       "Ω-consistent theory                0                          0       0     0   \n",
       "\n",
       "dep_articles            Zero element  Zero of a function  Zero vector  \n",
       "concept                                                                \n",
       "0                                  0                   0            0  \n",
       "1                                  0                   0            0  \n",
       "2012 in science                    0                   0            0  \n",
       "2D computer graphics               0                   0            0  \n",
       "ALGOL 58                           0                   0            0  \n",
       "...                              ...                 ...          ...  \n",
       "Zero of a function                 0                   0            0  \n",
       "Zero-dimensional space             0                   0            0  \n",
       "Zero-product property              1                   0            0  \n",
       "Zorn's lemma                       0                   0            0  \n",
       "Ω-consistent theory                0                   0            0  \n",
       "\n",
       "[1376 rows x 2055 columns]"
      ]
     },
     "execution_count": 32,
     "metadata": {},
     "output_type": "execute_result"
    }
   ],
   "source": [
    "def create_adj(df):\n",
    "    df_long = df.loc[:,[\"concept\",\"dep_articles\"]].explode('dep_articles')\n",
    "    df_pairs = df_long.groupby(['concept', 'dep_articles']).size().reset_index(name='count')\n",
    "    adj_matrix = df_pairs.pivot_table(index='concept', columns='dep_articles', values='count', fill_value=0)\n",
    "    return adj_matrix\n",
    "\n",
    "create_adj(df_wiki)"
   ]
  },
  {
   "attachments": {},
   "cell_type": "markdown",
   "metadata": {},
   "source": [
    "### 1. Baseline Consistency"
   ]
  },
  {
   "cell_type": "code",
   "execution_count": 20,
   "metadata": {},
   "outputs": [],
   "source": [
    "df_textbook.columns=['concept','dep_articles_textbook']"
   ]
  },
  {
   "cell_type": "code",
   "execution_count": 11,
   "metadata": {},
   "outputs": [],
   "source": [
    "_, _, df_count = data_layer.read_index_and_wiki_concepts(include_counts=True)"
   ]
  },
  {
   "cell_type": "code",
   "execution_count": 16,
   "metadata": {},
   "outputs": [],
   "source": [
    "deps = pd.merge(df_wiki[['concept', 'dep_articles']], df_llm[['concept', 'dep_articles']], on=\"concept\", suffixes=('_wiki', '_llm'))\n",
    "deps = pd.merge(deps[['concept', 'dep_articles_wiki', 'dep_articles_llm']], df_textbook[['concept', 'dep_articles_textbook']], on=\"concept\")\n",
    "deps = pd.merge(deps, df_count, on=\"concept\")"
   ]
  },
  {
   "cell_type": "code",
   "execution_count": 13,
   "metadata": {},
   "outputs": [],
   "source": [
    "def get_number_common_concepts(concept, first, second):\n",
    "    deps1 = set(first)\n",
    "    deps2 = set(second)\n",
    "    if len(deps1.intersection(deps2)):\n",
    "        #print(f\"{concept}: {first} vs {second}\")\n",
    "        pass\n",
    "    return len(deps1.intersection(deps2))\n",
    "\n",
    "deps['num_common_tb_wiki'] = deps.apply(lambda r: get_number_common_concepts(r.concept, r.dep_articles_textbook, r.dep_articles_wiki), axis=1)\n",
    "deps['num_common_tb_llm'] = deps.apply(lambda r: get_number_common_concepts(r.concept, r.dep_articles_textbook, r.dep_articles_llm), axis=1)\n",
    "deps['num_common_llm_wiki'] = deps.apply(lambda r: get_number_common_concepts(r.concept, r.dep_articles_llm, r.dep_articles_wiki), axis=1)"
   ]
  },
  {
   "cell_type": "code",
   "execution_count": 33,
   "metadata": {},
   "outputs": [],
   "source": [
    "filter = deps['count']>=MIN_OCCURENCES"
   ]
  },
  {
   "cell_type": "code",
   "execution_count": 20,
   "metadata": {},
   "outputs": [
    {
     "data": {
      "application/vnd.plotly.v1+json": {
       "config": {
        "plotlyServerURL": "https://plot.ly"
       },
       "data": [
        {
         "marker": {
          "color": "#BC602D"
         },
         "texttemplate": "%{y}",
         "type": "histogram",
         "x": [
          1,
          1,
          0,
          0,
          1,
          0,
          0,
          1,
          0,
          0,
          0,
          1,
          1,
          1,
          0,
          1,
          0,
          0,
          0,
          0,
          0,
          1,
          0,
          1,
          0,
          0,
          0,
          0,
          1,
          1,
          1,
          1,
          0,
          0,
          1,
          0,
          1,
          2,
          1,
          0,
          1,
          0,
          2,
          0,
          0,
          1,
          2,
          1,
          0,
          0,
          1,
          1,
          0,
          1,
          1,
          2,
          1,
          2,
          0,
          0,
          0,
          0,
          2,
          0,
          1,
          0,
          0,
          0,
          0,
          0,
          0,
          0,
          2,
          0,
          0,
          1,
          1,
          0,
          0,
          0,
          0,
          1,
          0,
          0,
          1,
          0,
          0,
          1,
          0,
          0,
          0,
          1,
          1,
          0,
          0,
          2,
          0,
          0,
          1,
          2,
          0,
          0,
          0,
          0,
          0,
          0,
          0,
          1,
          0,
          1,
          0,
          0,
          2,
          2,
          0,
          1,
          1,
          1
         ],
         "xaxis": "x",
         "xbins": {
          "size": 0.5
         },
         "yaxis": "y"
        },
        {
         "marker": {
          "color": "#BC602D"
         },
         "texttemplate": "%{y}",
         "type": "histogram",
         "x": [
          2,
          1,
          0,
          0,
          1,
          0,
          0,
          0,
          0,
          0,
          0,
          0,
          0,
          0,
          0,
          0,
          0,
          0,
          0,
          1,
          0,
          0,
          0,
          1,
          0,
          0,
          0,
          0,
          1,
          1,
          0,
          0,
          0,
          0,
          0,
          1,
          0,
          0,
          1,
          0,
          1,
          0,
          0,
          0,
          0,
          1,
          1,
          1,
          1,
          0,
          0,
          1,
          0,
          0,
          0,
          0,
          1,
          2,
          1,
          0,
          0,
          1,
          0,
          1,
          1,
          0,
          0,
          0,
          0,
          0,
          1,
          2,
          0,
          0,
          1,
          0,
          1,
          2,
          0,
          0,
          1,
          0,
          0,
          0,
          1,
          0,
          0,
          0,
          0,
          0,
          0,
          0,
          0,
          0,
          0,
          0,
          0,
          0,
          0,
          0,
          0,
          0,
          1,
          0,
          0,
          0,
          0,
          0,
          0,
          1,
          1,
          0,
          0,
          0,
          0,
          1,
          0,
          1
         ],
         "xaxis": "x2",
         "xbins": {
          "size": 0.5
         },
         "yaxis": "y2"
        },
        {
         "marker": {
          "color": "#BC602D"
         },
         "texttemplate": "%{y}",
         "type": "histogram",
         "x": [
          1,
          1,
          0,
          0,
          2,
          1,
          0,
          0,
          0,
          0,
          0,
          1,
          0,
          0,
          1,
          0,
          0,
          1,
          1,
          0,
          0,
          0,
          0,
          1,
          0,
          0,
          0,
          0,
          0,
          0,
          0,
          0,
          2,
          1,
          0,
          0,
          0,
          0,
          2,
          1,
          1,
          0,
          0,
          0,
          0,
          1,
          1,
          1,
          0,
          0,
          0,
          1,
          1,
          0,
          1,
          1,
          1,
          2,
          0,
          0,
          1,
          0,
          0,
          0,
          1,
          0,
          0,
          0,
          1,
          0,
          0,
          0,
          0,
          0,
          1,
          0,
          0,
          0,
          0,
          0,
          0,
          0,
          1,
          0,
          1,
          0,
          0,
          0,
          0,
          0,
          0,
          0,
          0,
          0,
          1,
          0,
          0,
          0,
          0,
          0,
          0,
          0,
          0,
          0,
          0,
          0,
          0,
          0,
          0,
          1,
          0,
          1,
          0,
          0,
          1,
          1,
          0,
          1
         ],
         "xaxis": "x3",
         "xbins": {
          "size": 0.5
         },
         "yaxis": "y3"
        }
       ],
       "layout": {
        "annotations": [
         {
          "font": {
           "size": 16
          },
          "showarrow": false,
          "text": "Textbooks and Wikipedia",
          "x": 0.14444444444444446,
          "xanchor": "center",
          "xref": "paper",
          "y": 1,
          "yanchor": "bottom",
          "yref": "paper"
         },
         {
          "font": {
           "size": 16
          },
          "showarrow": false,
          "text": "Textbooks and T0pp",
          "x": 0.5,
          "xanchor": "center",
          "xref": "paper",
          "y": 1,
          "yanchor": "bottom",
          "yref": "paper"
         },
         {
          "font": {
           "size": 16
          },
          "showarrow": false,
          "text": "T0pp and Wikipedia",
          "x": 0.8555555555555556,
          "xanchor": "center",
          "xref": "paper",
          "y": 1,
          "yanchor": "bottom",
          "yref": "paper"
         }
        ],
        "paper_bgcolor": "rgba(255,255,255, 1)",
        "plot_bgcolor": "rgba(255,255,255, 1)",
        "showlegend": false,
        "template": {
         "data": {
          "bar": [
           {
            "error_x": {
             "color": "#2a3f5f"
            },
            "error_y": {
             "color": "#2a3f5f"
            },
            "marker": {
             "line": {
              "color": "#E5ECF6",
              "width": 0.5
             },
             "pattern": {
              "fillmode": "overlay",
              "size": 10,
              "solidity": 0.2
             }
            },
            "type": "bar"
           }
          ],
          "barpolar": [
           {
            "marker": {
             "line": {
              "color": "#E5ECF6",
              "width": 0.5
             },
             "pattern": {
              "fillmode": "overlay",
              "size": 10,
              "solidity": 0.2
             }
            },
            "type": "barpolar"
           }
          ],
          "carpet": [
           {
            "aaxis": {
             "endlinecolor": "#2a3f5f",
             "gridcolor": "white",
             "linecolor": "white",
             "minorgridcolor": "white",
             "startlinecolor": "#2a3f5f"
            },
            "baxis": {
             "endlinecolor": "#2a3f5f",
             "gridcolor": "white",
             "linecolor": "white",
             "minorgridcolor": "white",
             "startlinecolor": "#2a3f5f"
            },
            "type": "carpet"
           }
          ],
          "choropleth": [
           {
            "colorbar": {
             "outlinewidth": 0,
             "ticks": ""
            },
            "type": "choropleth"
           }
          ],
          "contour": [
           {
            "colorbar": {
             "outlinewidth": 0,
             "ticks": ""
            },
            "colorscale": [
             [
              0,
              "#0d0887"
             ],
             [
              0.1111111111111111,
              "#46039f"
             ],
             [
              0.2222222222222222,
              "#7201a8"
             ],
             [
              0.3333333333333333,
              "#9c179e"
             ],
             [
              0.4444444444444444,
              "#bd3786"
             ],
             [
              0.5555555555555556,
              "#d8576b"
             ],
             [
              0.6666666666666666,
              "#ed7953"
             ],
             [
              0.7777777777777778,
              "#fb9f3a"
             ],
             [
              0.8888888888888888,
              "#fdca26"
             ],
             [
              1,
              "#f0f921"
             ]
            ],
            "type": "contour"
           }
          ],
          "contourcarpet": [
           {
            "colorbar": {
             "outlinewidth": 0,
             "ticks": ""
            },
            "type": "contourcarpet"
           }
          ],
          "heatmap": [
           {
            "colorbar": {
             "outlinewidth": 0,
             "ticks": ""
            },
            "colorscale": [
             [
              0,
              "#0d0887"
             ],
             [
              0.1111111111111111,
              "#46039f"
             ],
             [
              0.2222222222222222,
              "#7201a8"
             ],
             [
              0.3333333333333333,
              "#9c179e"
             ],
             [
              0.4444444444444444,
              "#bd3786"
             ],
             [
              0.5555555555555556,
              "#d8576b"
             ],
             [
              0.6666666666666666,
              "#ed7953"
             ],
             [
              0.7777777777777778,
              "#fb9f3a"
             ],
             [
              0.8888888888888888,
              "#fdca26"
             ],
             [
              1,
              "#f0f921"
             ]
            ],
            "type": "heatmap"
           }
          ],
          "heatmapgl": [
           {
            "colorbar": {
             "outlinewidth": 0,
             "ticks": ""
            },
            "colorscale": [
             [
              0,
              "#0d0887"
             ],
             [
              0.1111111111111111,
              "#46039f"
             ],
             [
              0.2222222222222222,
              "#7201a8"
             ],
             [
              0.3333333333333333,
              "#9c179e"
             ],
             [
              0.4444444444444444,
              "#bd3786"
             ],
             [
              0.5555555555555556,
              "#d8576b"
             ],
             [
              0.6666666666666666,
              "#ed7953"
             ],
             [
              0.7777777777777778,
              "#fb9f3a"
             ],
             [
              0.8888888888888888,
              "#fdca26"
             ],
             [
              1,
              "#f0f921"
             ]
            ],
            "type": "heatmapgl"
           }
          ],
          "histogram": [
           {
            "marker": {
             "pattern": {
              "fillmode": "overlay",
              "size": 10,
              "solidity": 0.2
             }
            },
            "type": "histogram"
           }
          ],
          "histogram2d": [
           {
            "colorbar": {
             "outlinewidth": 0,
             "ticks": ""
            },
            "colorscale": [
             [
              0,
              "#0d0887"
             ],
             [
              0.1111111111111111,
              "#46039f"
             ],
             [
              0.2222222222222222,
              "#7201a8"
             ],
             [
              0.3333333333333333,
              "#9c179e"
             ],
             [
              0.4444444444444444,
              "#bd3786"
             ],
             [
              0.5555555555555556,
              "#d8576b"
             ],
             [
              0.6666666666666666,
              "#ed7953"
             ],
             [
              0.7777777777777778,
              "#fb9f3a"
             ],
             [
              0.8888888888888888,
              "#fdca26"
             ],
             [
              1,
              "#f0f921"
             ]
            ],
            "type": "histogram2d"
           }
          ],
          "histogram2dcontour": [
           {
            "colorbar": {
             "outlinewidth": 0,
             "ticks": ""
            },
            "colorscale": [
             [
              0,
              "#0d0887"
             ],
             [
              0.1111111111111111,
              "#46039f"
             ],
             [
              0.2222222222222222,
              "#7201a8"
             ],
             [
              0.3333333333333333,
              "#9c179e"
             ],
             [
              0.4444444444444444,
              "#bd3786"
             ],
             [
              0.5555555555555556,
              "#d8576b"
             ],
             [
              0.6666666666666666,
              "#ed7953"
             ],
             [
              0.7777777777777778,
              "#fb9f3a"
             ],
             [
              0.8888888888888888,
              "#fdca26"
             ],
             [
              1,
              "#f0f921"
             ]
            ],
            "type": "histogram2dcontour"
           }
          ],
          "mesh3d": [
           {
            "colorbar": {
             "outlinewidth": 0,
             "ticks": ""
            },
            "type": "mesh3d"
           }
          ],
          "parcoords": [
           {
            "line": {
             "colorbar": {
              "outlinewidth": 0,
              "ticks": ""
             }
            },
            "type": "parcoords"
           }
          ],
          "pie": [
           {
            "automargin": true,
            "type": "pie"
           }
          ],
          "scatter": [
           {
            "fillpattern": {
             "fillmode": "overlay",
             "size": 10,
             "solidity": 0.2
            },
            "type": "scatter"
           }
          ],
          "scatter3d": [
           {
            "line": {
             "colorbar": {
              "outlinewidth": 0,
              "ticks": ""
             }
            },
            "marker": {
             "colorbar": {
              "outlinewidth": 0,
              "ticks": ""
             }
            },
            "type": "scatter3d"
           }
          ],
          "scattercarpet": [
           {
            "marker": {
             "colorbar": {
              "outlinewidth": 0,
              "ticks": ""
             }
            },
            "type": "scattercarpet"
           }
          ],
          "scattergeo": [
           {
            "marker": {
             "colorbar": {
              "outlinewidth": 0,
              "ticks": ""
             }
            },
            "type": "scattergeo"
           }
          ],
          "scattergl": [
           {
            "marker": {
             "colorbar": {
              "outlinewidth": 0,
              "ticks": ""
             }
            },
            "type": "scattergl"
           }
          ],
          "scattermapbox": [
           {
            "marker": {
             "colorbar": {
              "outlinewidth": 0,
              "ticks": ""
             }
            },
            "type": "scattermapbox"
           }
          ],
          "scatterpolar": [
           {
            "marker": {
             "colorbar": {
              "outlinewidth": 0,
              "ticks": ""
             }
            },
            "type": "scatterpolar"
           }
          ],
          "scatterpolargl": [
           {
            "marker": {
             "colorbar": {
              "outlinewidth": 0,
              "ticks": ""
             }
            },
            "type": "scatterpolargl"
           }
          ],
          "scatterternary": [
           {
            "marker": {
             "colorbar": {
              "outlinewidth": 0,
              "ticks": ""
             }
            },
            "type": "scatterternary"
           }
          ],
          "surface": [
           {
            "colorbar": {
             "outlinewidth": 0,
             "ticks": ""
            },
            "colorscale": [
             [
              0,
              "#0d0887"
             ],
             [
              0.1111111111111111,
              "#46039f"
             ],
             [
              0.2222222222222222,
              "#7201a8"
             ],
             [
              0.3333333333333333,
              "#9c179e"
             ],
             [
              0.4444444444444444,
              "#bd3786"
             ],
             [
              0.5555555555555556,
              "#d8576b"
             ],
             [
              0.6666666666666666,
              "#ed7953"
             ],
             [
              0.7777777777777778,
              "#fb9f3a"
             ],
             [
              0.8888888888888888,
              "#fdca26"
             ],
             [
              1,
              "#f0f921"
             ]
            ],
            "type": "surface"
           }
          ],
          "table": [
           {
            "cells": {
             "fill": {
              "color": "#EBF0F8"
             },
             "line": {
              "color": "white"
             }
            },
            "header": {
             "fill": {
              "color": "#C8D4E3"
             },
             "line": {
              "color": "white"
             }
            },
            "type": "table"
           }
          ]
         },
         "layout": {
          "annotationdefaults": {
           "arrowcolor": "#2a3f5f",
           "arrowhead": 0,
           "arrowwidth": 1
          },
          "autotypenumbers": "strict",
          "coloraxis": {
           "colorbar": {
            "outlinewidth": 0,
            "ticks": ""
           }
          },
          "colorscale": {
           "diverging": [
            [
             0,
             "#8e0152"
            ],
            [
             0.1,
             "#c51b7d"
            ],
            [
             0.2,
             "#de77ae"
            ],
            [
             0.3,
             "#f1b6da"
            ],
            [
             0.4,
             "#fde0ef"
            ],
            [
             0.5,
             "#f7f7f7"
            ],
            [
             0.6,
             "#e6f5d0"
            ],
            [
             0.7,
             "#b8e186"
            ],
            [
             0.8,
             "#7fbc41"
            ],
            [
             0.9,
             "#4d9221"
            ],
            [
             1,
             "#276419"
            ]
           ],
           "sequential": [
            [
             0,
             "#0d0887"
            ],
            [
             0.1111111111111111,
             "#46039f"
            ],
            [
             0.2222222222222222,
             "#7201a8"
            ],
            [
             0.3333333333333333,
             "#9c179e"
            ],
            [
             0.4444444444444444,
             "#bd3786"
            ],
            [
             0.5555555555555556,
             "#d8576b"
            ],
            [
             0.6666666666666666,
             "#ed7953"
            ],
            [
             0.7777777777777778,
             "#fb9f3a"
            ],
            [
             0.8888888888888888,
             "#fdca26"
            ],
            [
             1,
             "#f0f921"
            ]
           ],
           "sequentialminus": [
            [
             0,
             "#0d0887"
            ],
            [
             0.1111111111111111,
             "#46039f"
            ],
            [
             0.2222222222222222,
             "#7201a8"
            ],
            [
             0.3333333333333333,
             "#9c179e"
            ],
            [
             0.4444444444444444,
             "#bd3786"
            ],
            [
             0.5555555555555556,
             "#d8576b"
            ],
            [
             0.6666666666666666,
             "#ed7953"
            ],
            [
             0.7777777777777778,
             "#fb9f3a"
            ],
            [
             0.8888888888888888,
             "#fdca26"
            ],
            [
             1,
             "#f0f921"
            ]
           ]
          },
          "colorway": [
           "#636efa",
           "#EF553B",
           "#00cc96",
           "#ab63fa",
           "#FFA15A",
           "#19d3f3",
           "#FF6692",
           "#B6E880",
           "#FF97FF",
           "#FECB52"
          ],
          "font": {
           "color": "#2a3f5f"
          },
          "geo": {
           "bgcolor": "white",
           "lakecolor": "white",
           "landcolor": "#E5ECF6",
           "showlakes": true,
           "showland": true,
           "subunitcolor": "white"
          },
          "hoverlabel": {
           "align": "left"
          },
          "hovermode": "closest",
          "mapbox": {
           "style": "light"
          },
          "paper_bgcolor": "white",
          "plot_bgcolor": "#E5ECF6",
          "polar": {
           "angularaxis": {
            "gridcolor": "white",
            "linecolor": "white",
            "ticks": ""
           },
           "bgcolor": "#E5ECF6",
           "radialaxis": {
            "gridcolor": "white",
            "linecolor": "white",
            "ticks": ""
           }
          },
          "scene": {
           "xaxis": {
            "backgroundcolor": "#E5ECF6",
            "gridcolor": "white",
            "gridwidth": 2,
            "linecolor": "white",
            "showbackground": true,
            "ticks": "",
            "zerolinecolor": "white"
           },
           "yaxis": {
            "backgroundcolor": "#E5ECF6",
            "gridcolor": "white",
            "gridwidth": 2,
            "linecolor": "white",
            "showbackground": true,
            "ticks": "",
            "zerolinecolor": "white"
           },
           "zaxis": {
            "backgroundcolor": "#E5ECF6",
            "gridcolor": "white",
            "gridwidth": 2,
            "linecolor": "white",
            "showbackground": true,
            "ticks": "",
            "zerolinecolor": "white"
           }
          },
          "shapedefaults": {
           "line": {
            "color": "#2a3f5f"
           }
          },
          "ternary": {
           "aaxis": {
            "gridcolor": "white",
            "linecolor": "white",
            "ticks": ""
           },
           "baxis": {
            "gridcolor": "white",
            "linecolor": "white",
            "ticks": ""
           },
           "bgcolor": "#E5ECF6",
           "caxis": {
            "gridcolor": "white",
            "linecolor": "white",
            "ticks": ""
           }
          },
          "title": {
           "x": 0.05
          },
          "xaxis": {
           "automargin": true,
           "gridcolor": "white",
           "linecolor": "white",
           "ticks": "",
           "title": {
            "standoff": 15
           },
           "zerolinecolor": "white",
           "zerolinewidth": 2
          },
          "yaxis": {
           "automargin": true,
           "gridcolor": "white",
           "linecolor": "white",
           "ticks": "",
           "title": {
            "standoff": 15
           },
           "zerolinecolor": "white",
           "zerolinewidth": 2
          }
         }
        },
        "title": {
         "font": {
          "color": "#000000",
          "family": "Times New Roman"
         }
        },
        "xaxis": {
         "anchor": "y",
         "color": "#000000",
         "domain": [
          0,
          0.2888888888888889
         ],
         "linecolor": "#000000"
        },
        "xaxis2": {
         "anchor": "y2",
         "color": "#000000",
         "domain": [
          0.35555555555555557,
          0.6444444444444445
         ],
         "linecolor": "#000000",
         "title": {
          "text": "# of common direct dependencies"
         }
        },
        "xaxis3": {
         "anchor": "y3",
         "color": "#000000",
         "domain": [
          0.7111111111111111,
          1
         ],
         "linecolor": "#000000"
        },
        "yaxis": {
         "anchor": "x",
         "color": "#000000",
         "domain": [
          0,
          1
         ],
         "linecolor": "#000000",
         "title": {
          "text": "Frequency"
         }
        },
        "yaxis2": {
         "anchor": "x2",
         "color": "#000000",
         "domain": [
          0,
          1
         ],
         "linecolor": "#000000",
         "title": {
          "text": "Frequency"
         }
        },
        "yaxis3": {
         "anchor": "x3",
         "color": "#000000",
         "domain": [
          0,
          1
         ],
         "linecolor": "#000000",
         "title": {
          "text": "Frequency"
         }
        }
       }
      }
     },
     "metadata": {},
     "output_type": "display_data"
    }
   ],
   "source": [
    "import plotly.graph_objects as go\n",
    "from plotly.subplots import make_subplots\n",
    "\n",
    "\n",
    "fig = make_subplots(rows=1, cols=3,subplot_titles=(\"Textbooks and Wikipedia\",\"Textbooks and T0pp\", \"T0pp and Wikipedia\"))\n",
    "\n",
    "trace0 = go.Histogram(x=deps.loc[filter,'num_common_tb_wiki'],texttemplate=\"%{y}\",marker_color = \"#BC602D\",xbins_size=0.5)\n",
    "trace1 = go.Histogram(x=deps.loc[filter,'num_common_tb_llm'],texttemplate=\"%{y}\",marker_color = \"#BC602D\",xbins_size=0.5)\n",
    "trace2 = go.Histogram(x=deps.loc[filter,'num_common_llm_wiki'],texttemplate=\"%{y}\",marker_color = \"#BC602D\",xbins_size=0.5)\n",
    "\n",
    "fig.append_trace(trace0, 1, 1)\n",
    "fig.append_trace(trace1, 1, 2)\n",
    "fig.append_trace(trace2, 1, 3)\n",
    "\n",
    "#fig.update_xaxes(title_text=\"# of common direct dependencies\",  row=1, col=1)\n",
    "fig.update_yaxes(title_text=\"Frequency\", row=1, col=1)\n",
    "fig.update_xaxes(title_text=\"# of common direct dependencies\",  row=1, col=2)\n",
    "#fig.update_xaxes(title_text=\"# of common direct dependencies\",  row=1, col=3)\n",
    "\n",
    "fig.update_layout({\n",
    "\"plot_bgcolor\": \"rgba(0, 0, 0, 0)\",\n",
    "\"paper_bgcolor\": \"rgba(0, 0, 0, 0)\"\n",
    "}, showlegend=False)\n",
    "\n",
    "fig.show()"
   ]
  },
  {
   "cell_type": "code",
   "execution_count": 83,
   "metadata": {},
   "outputs": [
    {
     "data": {
      "image/png": "[encoded data removed]",
      "text/plain": [
       "<Figure size 900x300 with 3 Axes>"
      ]
     },
     "metadata": {},
     "output_type": "display_data"
    }
   ],
   "source": [
    "dep_freqs = deps.loc[filter]\n",
    "dep_freqs = dep_freqs.iloc[:,-3:].apply(pd.Series.value_counts)\n",
    "\n",
    "figs, ax = plt.subplots(1, 3, figsize=(9,3))\n",
    "\n",
    "ax[0].set_title(\"Textbook and Wikipedia\")\n",
    "rects = ax[0].bar(dep_freqs.index,dep_freqs['num_common_tb_wiki'],width=0.6, color=\"darkgrey\")\n",
    "ax[0].bar_label(rects, padding=3)\n",
    "ax[0].set_ylabel('Frequency')\n",
    "ax[0].set_xticks(dep_freqs.index)\n",
    "ax[0].set_ylim(0, 95)\n",
    "\n",
    "ax[1].set_title(\"Textbook and T0pp\")\n",
    "rects = ax[1].bar(dep_freqs.index,dep_freqs['num_common_tb_llm'],width=0.6, color=\"darkgrey\")\n",
    "ax[1].bar_label(rects, padding=3)\n",
    "ax[1].set_xticks(dep_freqs.index)\n",
    "ax[1].set_ylim(0, 95)\n",
    "\n",
    "ax[2].set_title(\"Wikipedia and T0pp\")\n",
    "rects = ax[2].bar(dep_freqs.index,dep_freqs['num_common_llm_wiki'],width=0.6, color=\"darkgrey\")\n",
    "ax[2].bar_label(rects, padding=3)\n",
    "ax[2].set_xticks(dep_freqs.index)\n",
    "ax[2].set_ylim(0, 95)\n",
    "\n",
    "ax[1].set_xlabel('Number of common direct dependencies')\n",
    "plt.show()"
   ]
  },
  {
   "cell_type": "code",
   "execution_count": 87,
   "metadata": {},
   "outputs": [],
   "source": [
    "figs.savefig(\"../doc/img/comp_direct_deps.pdf\", format=\"pdf\")"
   ]
  },
  {
   "attachments": {},
   "cell_type": "markdown",
   "metadata": {},
   "source": [
    "### + 2nd level"
   ]
  },
  {
   "cell_type": "code",
   "execution_count": 84,
   "metadata": {},
   "outputs": [],
   "source": [
    "def get_2leveldeps(dep_articles,colname):\n",
    "    deps2lev = deps.loc[deps['concept'].isin(dep_articles),colname].to_list()\n",
    "    if deps2lev:\n",
    "        if isinstance(deps2lev[0],list):\n",
    "            deps2_lev_flat=[dep for dep_list in deps2lev for dep in dep_list]\n",
    "            return deps2_lev_flat + dep_articles\n",
    "        else:    \n",
    "            return list(set(deps2lev[0]+dep_articles))\n",
    "    else:\n",
    "        return dep_articles\n",
    "\n",
    "\n",
    "deps['2levdeps_tb'] = deps['dep_articles_textbook'].apply(lambda x: get_2leveldeps(x,'dep_articles_textbook'))\n",
    "deps['2levdeps_llm'] = deps['dep_articles_llm'].apply(lambda x: get_2leveldeps(x,'dep_articles_llm'))\n",
    "deps['2levdeps_wiki'] = deps['dep_articles_wiki'].apply(lambda x: get_2leveldeps(x, 'dep_articles_wiki'))\n",
    "\n",
    "deps['num_common_tb_wiki2'] = deps.apply(lambda r: get_number_common_concepts(r.concept, r['2levdeps_tb'], r['2levdeps_wiki']), axis=1)\n",
    "deps['num_common_tb_llm2'] = deps.apply(lambda r: get_number_common_concepts(r.concept, r['2levdeps_tb'], r['2levdeps_llm']), axis=1)\n",
    "deps['num_common_llm_wiki2'] = deps.apply(lambda r: get_number_common_concepts(r.concept, r['2levdeps_llm'], r['2levdeps_wiki']), axis=1)"
   ]
  },
  {
   "cell_type": "code",
   "execution_count": 11,
   "metadata": {},
   "outputs": [
    {
     "data": {
      "application/vnd.plotly.v1+json": {
       "config": {
        "plotlyServerURL": "https://plot.ly"
       },
       "data": [
        {
         "marker": {
          "color": "#BC602D"
         },
         "texttemplate": "%{y}",
         "type": "histogram",
         "x": [
          1,
          1,
          0,
          0,
          1,
          0,
          1,
          1,
          1,
          0,
          0,
          1,
          1,
          5,
          0,
          1,
          0,
          3,
          2,
          1,
          0,
          1,
          1,
          2,
          0,
          1,
          0,
          0,
          2,
          1,
          1,
          1,
          0,
          0,
          1,
          0,
          1,
          3,
          2,
          0,
          1,
          0,
          3,
          0,
          1,
          1,
          3,
          1,
          0,
          0,
          1,
          1,
          0,
          2,
          2,
          3,
          1,
          3,
          1,
          0,
          0,
          1,
          3,
          1,
          2,
          1,
          0,
          0,
          1,
          0,
          1,
          0,
          2,
          0,
          3,
          1,
          2,
          1,
          0,
          0,
          1,
          2,
          2,
          1,
          1,
          0,
          0,
          2,
          0,
          0,
          0,
          1,
          1,
          1,
          0,
          4,
          0,
          0,
          1,
          2,
          0,
          0,
          0,
          1,
          0,
          0,
          0,
          1,
          0,
          3,
          0,
          0,
          2,
          2,
          1,
          1,
          2,
          2
         ],
         "xaxis": "x",
         "xbins": {
          "size": 0.5
         },
         "yaxis": "y"
        },
        {
         "marker": {
          "color": "#BC602D"
         },
         "texttemplate": "%{y}",
         "type": "histogram",
         "x": [
          2,
          1,
          0,
          0,
          1,
          0,
          0,
          0,
          1,
          0,
          0,
          1,
          0,
          0,
          0,
          1,
          0,
          1,
          0,
          1,
          0,
          0,
          0,
          2,
          1,
          0,
          1,
          0,
          1,
          1,
          0,
          0,
          0,
          0,
          0,
          1,
          0,
          1,
          1,
          1,
          1,
          0,
          0,
          0,
          0,
          1,
          1,
          1,
          1,
          1,
          0,
          1,
          1,
          0,
          1,
          0,
          1,
          3,
          2,
          0,
          1,
          1,
          0,
          1,
          2,
          0,
          0,
          0,
          0,
          1,
          1,
          2,
          0,
          0,
          3,
          0,
          1,
          2,
          1,
          0,
          1,
          0,
          2,
          1,
          1,
          0,
          1,
          0,
          0,
          0,
          1,
          0,
          0,
          1,
          0,
          0,
          0,
          0,
          0,
          0,
          0,
          0,
          1,
          0,
          1,
          0,
          0,
          0,
          0,
          2,
          1,
          0,
          0,
          0,
          0,
          1,
          0,
          2
         ],
         "xaxis": "x2",
         "xbins": {
          "size": 0.5
         },
         "yaxis": "y2"
        },
        {
         "marker": {
          "color": "#BC602D"
         },
         "texttemplate": "%{y}",
         "type": "histogram",
         "x": [
          1,
          2,
          0,
          0,
          3,
          1,
          0,
          0,
          1,
          1,
          0,
          1,
          0,
          0,
          3,
          0,
          0,
          2,
          3,
          1,
          0,
          1,
          1,
          2,
          1,
          0,
          2,
          2,
          1,
          0,
          1,
          3,
          2,
          1,
          0,
          1,
          0,
          1,
          2,
          1,
          1,
          0,
          1,
          0,
          0,
          1,
          2,
          1,
          0,
          0,
          0,
          1,
          1,
          2,
          1,
          4,
          1,
          2,
          2,
          0,
          1,
          1,
          1,
          3,
          2,
          1,
          0,
          0,
          1,
          1,
          1,
          0,
          0,
          0,
          3,
          1,
          1,
          1,
          0,
          1,
          2,
          2,
          1,
          1,
          2,
          0,
          0,
          0,
          1,
          0,
          0,
          0,
          0,
          2,
          1,
          1,
          0,
          0,
          0,
          0,
          0,
          0,
          0,
          1,
          0,
          0,
          0,
          1,
          0,
          2,
          0,
          2,
          0,
          1,
          2,
          1,
          1,
          2
         ],
         "xaxis": "x3",
         "xbins": {
          "size": 0.5
         },
         "yaxis": "y3"
        }
       ],
       "layout": {
        "annotations": [
         {
          "font": {
           "size": 16
          },
          "showarrow": false,
          "text": "Textbooks and Wikipedia",
          "x": 0.14444444444444446,
          "xanchor": "center",
          "xref": "paper",
          "y": 1,
          "yanchor": "bottom",
          "yref": "paper"
         },
         {
          "font": {
           "size": 16
          },
          "showarrow": false,
          "text": "Textbooks and T0pp",
          "x": 0.5,
          "xanchor": "center",
          "xref": "paper",
          "y": 1,
          "yanchor": "bottom",
          "yref": "paper"
         },
         {
          "font": {
           "size": 16
          },
          "showarrow": false,
          "text": "T0pp and Wikipedia",
          "x": 0.8555555555555556,
          "xanchor": "center",
          "xref": "paper",
          "y": 1,
          "yanchor": "bottom",
          "yref": "paper"
         }
        ],
        "paper_bgcolor": "rgba(0, 0, 0, 0)",
        "plot_bgcolor": "rgba(0, 0, 0, 0)",
        "showlegend": false,
        "template": {
         "data": {
          "bar": [
           {
            "error_x": {
             "color": "#2a3f5f"
            },
            "error_y": {
             "color": "#2a3f5f"
            },
            "marker": {
             "line": {
              "color": "#E5ECF6",
              "width": 0.5
             },
             "pattern": {
              "fillmode": "overlay",
              "size": 10,
              "solidity": 0.2
             }
            },
            "type": "bar"
           }
          ],
          "barpolar": [
           {
            "marker": {
             "line": {
              "color": "#E5ECF6",
              "width": 0.5
             },
             "pattern": {
              "fillmode": "overlay",
              "size": 10,
              "solidity": 0.2
             }
            },
            "type": "barpolar"
           }
          ],
          "carpet": [
           {
            "aaxis": {
             "endlinecolor": "#2a3f5f",
             "gridcolor": "white",
             "linecolor": "white",
             "minorgridcolor": "white",
             "startlinecolor": "#2a3f5f"
            },
            "baxis": {
             "endlinecolor": "#2a3f5f",
             "gridcolor": "white",
             "linecolor": "white",
             "minorgridcolor": "white",
             "startlinecolor": "#2a3f5f"
            },
            "type": "carpet"
           }
          ],
          "choropleth": [
           {
            "colorbar": {
             "outlinewidth": 0,
             "ticks": ""
            },
            "type": "choropleth"
           }
          ],
          "contour": [
           {
            "colorbar": {
             "outlinewidth": 0,
             "ticks": ""
            },
            "colorscale": [
             [
              0,
              "#0d0887"
             ],
             [
              0.1111111111111111,
              "#46039f"
             ],
             [
              0.2222222222222222,
              "#7201a8"
             ],
             [
              0.3333333333333333,
              "#9c179e"
             ],
             [
              0.4444444444444444,
              "#bd3786"
             ],
             [
              0.5555555555555556,
              "#d8576b"
             ],
             [
              0.6666666666666666,
              "#ed7953"
             ],
             [
              0.7777777777777778,
              "#fb9f3a"
             ],
             [
              0.8888888888888888,
              "#fdca26"
             ],
             [
              1,
              "#f0f921"
             ]
            ],
            "type": "contour"
           }
          ],
          "contourcarpet": [
           {
            "colorbar": {
             "outlinewidth": 0,
             "ticks": ""
            },
            "type": "contourcarpet"
           }
          ],
          "heatmap": [
           {
            "colorbar": {
             "outlinewidth": 0,
             "ticks": ""
            },
            "colorscale": [
             [
              0,
              "#0d0887"
             ],
             [
              0.1111111111111111,
              "#46039f"
             ],
             [
              0.2222222222222222,
              "#7201a8"
             ],
             [
              0.3333333333333333,
              "#9c179e"
             ],
             [
              0.4444444444444444,
              "#bd3786"
             ],
             [
              0.5555555555555556,
              "#d8576b"
             ],
             [
              0.6666666666666666,
              "#ed7953"
             ],
             [
              0.7777777777777778,
              "#fb9f3a"
             ],
             [
              0.8888888888888888,
              "#fdca26"
             ],
             [
              1,
              "#f0f921"
             ]
            ],
            "type": "heatmap"
           }
          ],
          "heatmapgl": [
           {
            "colorbar": {
             "outlinewidth": 0,
             "ticks": ""
            },
            "colorscale": [
             [
              0,
              "#0d0887"
             ],
             [
              0.1111111111111111,
              "#46039f"
             ],
             [
              0.2222222222222222,
              "#7201a8"
             ],
             [
              0.3333333333333333,
              "#9c179e"
             ],
             [
              0.4444444444444444,
              "#bd3786"
             ],
             [
              0.5555555555555556,
              "#d8576b"
             ],
             [
              0.6666666666666666,
              "#ed7953"
             ],
             [
              0.7777777777777778,
              "#fb9f3a"
             ],
             [
              0.8888888888888888,
              "#fdca26"
             ],
             [
              1,
              "#f0f921"
             ]
            ],
            "type": "heatmapgl"
           }
          ],
          "histogram": [
           {
            "marker": {
             "pattern": {
              "fillmode": "overlay",
              "size": 10,
              "solidity": 0.2
             }
            },
            "type": "histogram"
           }
          ],
          "histogram2d": [
           {
            "colorbar": {
             "outlinewidth": 0,
             "ticks": ""
            },
            "colorscale": [
             [
              0,
              "#0d0887"
             ],
             [
              0.1111111111111111,
              "#46039f"
             ],
             [
              0.2222222222222222,
              "#7201a8"
             ],
             [
              0.3333333333333333,
              "#9c179e"
             ],
             [
              0.4444444444444444,
              "#bd3786"
             ],
             [
              0.5555555555555556,
              "#d8576b"
             ],
             [
              0.6666666666666666,
              "#ed7953"
             ],
             [
              0.7777777777777778,
              "#fb9f3a"
             ],
             [
              0.8888888888888888,
              "#fdca26"
             ],
             [
              1,
              "#f0f921"
             ]
            ],
            "type": "histogram2d"
           }
          ],
          "histogram2dcontour": [
           {
            "colorbar": {
             "outlinewidth": 0,
             "ticks": ""
            },
            "colorscale": [
             [
              0,
              "#0d0887"
             ],
             [
              0.1111111111111111,
              "#46039f"
             ],
             [
              0.2222222222222222,
              "#7201a8"
             ],
             [
              0.3333333333333333,
              "#9c179e"
             ],
             [
              0.4444444444444444,
              "#bd3786"
             ],
             [
              0.5555555555555556,
              "#d8576b"
             ],
             [
              0.6666666666666666,
              "#ed7953"
             ],
             [
              0.7777777777777778,
              "#fb9f3a"
             ],
             [
              0.8888888888888888,
              "#fdca26"
             ],
             [
              1,
              "#f0f921"
             ]
            ],
            "type": "histogram2dcontour"
           }
          ],
          "mesh3d": [
           {
            "colorbar": {
             "outlinewidth": 0,
             "ticks": ""
            },
            "type": "mesh3d"
           }
          ],
          "parcoords": [
           {
            "line": {
             "colorbar": {
              "outlinewidth": 0,
              "ticks": ""
             }
            },
            "type": "parcoords"
           }
          ],
          "pie": [
           {
            "automargin": true,
            "type": "pie"
           }
          ],
          "scatter": [
           {
            "fillpattern": {
             "fillmode": "overlay",
             "size": 10,
             "solidity": 0.2
            },
            "type": "scatter"
           }
          ],
          "scatter3d": [
           {
            "line": {
             "colorbar": {
              "outlinewidth": 0,
              "ticks": ""
             }
            },
            "marker": {
             "colorbar": {
              "outlinewidth": 0,
              "ticks": ""
             }
            },
            "type": "scatter3d"
           }
          ],
          "scattercarpet": [
           {
            "marker": {
             "colorbar": {
              "outlinewidth": 0,
              "ticks": ""
             }
            },
            "type": "scattercarpet"
           }
          ],
          "scattergeo": [
           {
            "marker": {
             "colorbar": {
              "outlinewidth": 0,
              "ticks": ""
             }
            },
            "type": "scattergeo"
           }
          ],
          "scattergl": [
           {
            "marker": {
             "colorbar": {
              "outlinewidth": 0,
              "ticks": ""
             }
            },
            "type": "scattergl"
           }
          ],
          "scattermapbox": [
           {
            "marker": {
             "colorbar": {
              "outlinewidth": 0,
              "ticks": ""
             }
            },
            "type": "scattermapbox"
           }
          ],
          "scatterpolar": [
           {
            "marker": {
             "colorbar": {
              "outlinewidth": 0,
              "ticks": ""
             }
            },
            "type": "scatterpolar"
           }
          ],
          "scatterpolargl": [
           {
            "marker": {
             "colorbar": {
              "outlinewidth": 0,
              "ticks": ""
             }
            },
            "type": "scatterpolargl"
           }
          ],
          "scatterternary": [
           {
            "marker": {
             "colorbar": {
              "outlinewidth": 0,
              "ticks": ""
             }
            },
            "type": "scatterternary"
           }
          ],
          "surface": [
           {
            "colorbar": {
             "outlinewidth": 0,
             "ticks": ""
            },
            "colorscale": [
             [
              0,
              "#0d0887"
             ],
             [
              0.1111111111111111,
              "#46039f"
             ],
             [
              0.2222222222222222,
              "#7201a8"
             ],
             [
              0.3333333333333333,
              "#9c179e"
             ],
             [
              0.4444444444444444,
              "#bd3786"
             ],
             [
              0.5555555555555556,
              "#d8576b"
             ],
             [
              0.6666666666666666,
              "#ed7953"
             ],
             [
              0.7777777777777778,
              "#fb9f3a"
             ],
             [
              0.8888888888888888,
              "#fdca26"
             ],
             [
              1,
              "#f0f921"
             ]
            ],
            "type": "surface"
           }
          ],
          "table": [
           {
            "cells": {
             "fill": {
              "color": "#EBF0F8"
             },
             "line": {
              "color": "white"
             }
            },
            "header": {
             "fill": {
              "color": "#C8D4E3"
             },
             "line": {
              "color": "white"
             }
            },
            "type": "table"
           }
          ]
         },
         "layout": {
          "annotationdefaults": {
           "arrowcolor": "#2a3f5f",
           "arrowhead": 0,
           "arrowwidth": 1
          },
          "autotypenumbers": "strict",
          "coloraxis": {
           "colorbar": {
            "outlinewidth": 0,
            "ticks": ""
           }
          },
          "colorscale": {
           "diverging": [
            [
             0,
             "#8e0152"
            ],
            [
             0.1,
             "#c51b7d"
            ],
            [
             0.2,
             "#de77ae"
            ],
            [
             0.3,
             "#f1b6da"
            ],
            [
             0.4,
             "#fde0ef"
            ],
            [
             0.5,
             "#f7f7f7"
            ],
            [
             0.6,
             "#e6f5d0"
            ],
            [
             0.7,
             "#b8e186"
            ],
            [
             0.8,
             "#7fbc41"
            ],
            [
             0.9,
             "#4d9221"
            ],
            [
             1,
             "#276419"
            ]
           ],
           "sequential": [
            [
             0,
             "#0d0887"
            ],
            [
             0.1111111111111111,
             "#46039f"
            ],
            [
             0.2222222222222222,
             "#7201a8"
            ],
            [
             0.3333333333333333,
             "#9c179e"
            ],
            [
             0.4444444444444444,
             "#bd3786"
            ],
            [
             0.5555555555555556,
             "#d8576b"
            ],
            [
             0.6666666666666666,
             "#ed7953"
            ],
            [
             0.7777777777777778,
             "#fb9f3a"
            ],
            [
             0.8888888888888888,
             "#fdca26"
            ],
            [
             1,
             "#f0f921"
            ]
           ],
           "sequentialminus": [
            [
             0,
             "#0d0887"
            ],
            [
             0.1111111111111111,
             "#46039f"
            ],
            [
             0.2222222222222222,
             "#7201a8"
            ],
            [
             0.3333333333333333,
             "#9c179e"
            ],
            [
             0.4444444444444444,
             "#bd3786"
            ],
            [
             0.5555555555555556,
             "#d8576b"
            ],
            [
             0.6666666666666666,
             "#ed7953"
            ],
            [
             0.7777777777777778,
             "#fb9f3a"
            ],
            [
             0.8888888888888888,
             "#fdca26"
            ],
            [
             1,
             "#f0f921"
            ]
           ]
          },
          "colorway": [
           "#636efa",
           "#EF553B",
           "#00cc96",
           "#ab63fa",
           "#FFA15A",
           "#19d3f3",
           "#FF6692",
           "#B6E880",
           "#FF97FF",
           "#FECB52"
          ],
          "font": {
           "color": "#2a3f5f"
          },
          "geo": {
           "bgcolor": "white",
           "lakecolor": "white",
           "landcolor": "#E5ECF6",
           "showlakes": true,
           "showland": true,
           "subunitcolor": "white"
          },
          "hoverlabel": {
           "align": "left"
          },
          "hovermode": "closest",
          "mapbox": {
           "style": "light"
          },
          "paper_bgcolor": "white",
          "plot_bgcolor": "#E5ECF6",
          "polar": {
           "angularaxis": {
            "gridcolor": "white",
            "linecolor": "white",
            "ticks": ""
           },
           "bgcolor": "#E5ECF6",
           "radialaxis": {
            "gridcolor": "white",
            "linecolor": "white",
            "ticks": ""
           }
          },
          "scene": {
           "xaxis": {
            "backgroundcolor": "#E5ECF6",
            "gridcolor": "white",
            "gridwidth": 2,
            "linecolor": "white",
            "showbackground": true,
            "ticks": "",
            "zerolinecolor": "white"
           },
           "yaxis": {
            "backgroundcolor": "#E5ECF6",
            "gridcolor": "white",
            "gridwidth": 2,
            "linecolor": "white",
            "showbackground": true,
            "ticks": "",
            "zerolinecolor": "white"
           },
           "zaxis": {
            "backgroundcolor": "#E5ECF6",
            "gridcolor": "white",
            "gridwidth": 2,
            "linecolor": "white",
            "showbackground": true,
            "ticks": "",
            "zerolinecolor": "white"
           }
          },
          "shapedefaults": {
           "line": {
            "color": "#2a3f5f"
           }
          },
          "ternary": {
           "aaxis": {
            "gridcolor": "white",
            "linecolor": "white",
            "ticks": ""
           },
           "baxis": {
            "gridcolor": "white",
            "linecolor": "white",
            "ticks": ""
           },
           "bgcolor": "#E5ECF6",
           "caxis": {
            "gridcolor": "white",
            "linecolor": "white",
            "ticks": ""
           }
          },
          "title": {
           "x": 0.05
          },
          "xaxis": {
           "automargin": true,
           "gridcolor": "white",
           "linecolor": "white",
           "ticks": "",
           "title": {
            "standoff": 15
           },
           "zerolinecolor": "white",
           "zerolinewidth": 2
          },
          "yaxis": {
           "automargin": true,
           "gridcolor": "white",
           "linecolor": "white",
           "ticks": "",
           "title": {
            "standoff": 15
           },
           "zerolinecolor": "white",
           "zerolinewidth": 2
          }
         }
        },
        "xaxis": {
         "anchor": "y",
         "domain": [
          0,
          0.2888888888888889
         ]
        },
        "xaxis2": {
         "anchor": "y2",
         "domain": [
          0.35555555555555557,
          0.6444444444444445
         ],
         "title": {
          "text": "# of common direct  and second-level dependencies"
         }
        },
        "xaxis3": {
         "anchor": "y3",
         "domain": [
          0.7111111111111111,
          1
         ]
        },
        "yaxis": {
         "anchor": "x",
         "domain": [
          0,
          1
         ],
         "title": {
          "text": "Frequency"
         }
        },
        "yaxis2": {
         "anchor": "x2",
         "domain": [
          0,
          1
         ]
        },
        "yaxis3": {
         "anchor": "x3",
         "domain": [
          0,
          1
         ]
        }
       }
      }
     },
     "metadata": {},
     "output_type": "display_data"
    }
   ],
   "source": [
    "fig = make_subplots(rows=1, cols=3,subplot_titles=(\"Textbooks and Wikipedia\",\"Textbooks and T0pp\", \"T0pp and Wikipedia\"))\n",
    "\n",
    "trace0 = go.Histogram(x=deps.loc[filter,'num_common_tb_wiki2'],texttemplate=\"%{y}\",marker_color = \"#BC602D\",xbins_size=0.5)\n",
    "trace1 = go.Histogram(x=deps.loc[filter,'num_common_tb_llm2'],texttemplate=\"%{y}\",marker_color = \"#BC602D\",xbins_size=0.5)\n",
    "trace2 = go.Histogram(x=deps.loc[filter,'num_common_llm_wiki2'],texttemplate=\"%{y}\",marker_color = \"#BC602D\",xbins_size=0.5)\n",
    "\n",
    "fig.append_trace(trace0, 1, 1)\n",
    "fig.append_trace(trace1, 1, 2)\n",
    "fig.append_trace(trace2, 1, 3)\n",
    "\n",
    "#fig.update_xaxes(title_text=\"# of common direct+2nd-level dependencies\",  row=1, col=1)\n",
    "fig.update_yaxes(title_text=\"Frequency\", row=1, col=1)\n",
    "fig.update_xaxes(title_text=\"# of common direct  and second-level dependencies\",  row=1, col=2)\n",
    "#fig.update_xaxes(title_text=\"# of common direct+2nd-level dependencies\",  row=1, col=3)\n",
    "\n",
    "fig.update_layout({\n",
    "\"plot_bgcolor\": \"rgba(0, 0, 0, 0)\",\n",
    "\"paper_bgcolor\": \"rgba(0, 0, 0, 0)\",\n",
    "}, showlegend=False)\n",
    "\n",
    "fig.show()"
   ]
  },
  {
   "cell_type": "code",
   "execution_count": 85,
   "metadata": {},
   "outputs": [
    {
     "data": {
      "image/png": "[encoded data removed]",
      "text/plain": [
       "<Figure size 900x300 with 3 Axes>"
      ]
     },
     "metadata": {},
     "output_type": "display_data"
    }
   ],
   "source": [
    "dep_freqs = deps.loc[filter]\n",
    "dep_freqs = dep_freqs.iloc[:,-3:].apply(pd.Series.value_counts)\n",
    "\n",
    "figs, ax = plt.subplots(1, 3, figsize=(9,3))\n",
    "\n",
    "ax[0].set_title(\"Textbook and Wikipedia\")\n",
    "rects = ax[0].bar(dep_freqs.index,dep_freqs['num_common_tb_wiki2'],width=0.6, color=\"darkgrey\")\n",
    "ax[0].bar_label(rects, padding=3)\n",
    "ax[0].set_ylabel('Frequency')\n",
    "ax[0].set_xticks(dep_freqs.index)\n",
    "ax[0].set_ylim(0, 95)\n",
    "\n",
    "ax[1].set_title(\"Textbook and T0pp\")\n",
    "rects = ax[1].bar(dep_freqs.index,dep_freqs['num_common_tb_llm2'],width=0.6, color=\"darkgrey\")\n",
    "ax[1].bar_label(rects, padding=3)\n",
    "ax[1].set_xticks(dep_freqs.index)\n",
    "ax[1].set_ylim(0, 95)\n",
    "\n",
    "ax[2].set_title(\"Wikipedia and T0pp\")\n",
    "rects = ax[2].bar(dep_freqs.index,dep_freqs['num_common_llm_wiki2'],width=0.6, color=\"darkgrey\")\n",
    "ax[2].bar_label(rects, padding=3)\n",
    "ax[2].set_xticks(dep_freqs.index)\n",
    "ax[2].set_ylim(0, 95)\n",
    "\n",
    "ax[1].set_xlabel('Number of common direct  and second-level dependencies')\n",
    "plt.show()"
   ]
  },
  {
   "cell_type": "code",
   "execution_count": 86,
   "metadata": {},
   "outputs": [],
   "source": [
    "figs.savefig(\"../doc/img/comp_second_deps.pdf\", format=\"pdf\")"
   ]
  },
  {
   "attachments": {},
   "cell_type": "markdown",
   "metadata": {},
   "source": [
    "### Precision"
   ]
  },
  {
   "cell_type": "code",
   "execution_count": 21,
   "metadata": {},
   "outputs": [],
   "source": [
    "_, _, df_count = data_layer.read_index_and_wiki_concepts(include_counts=True)\n",
    "\n",
    "deps = pd.merge(df_wiki[['concept', 'dep_articles']], df_llm[['concept', 'dep_articles']], on=\"concept\", suffixes=('_wiki', '_llm'))\n",
    "deps = pd.merge(deps[['concept', 'dep_articles_wiki', 'dep_articles_llm']], df_textbook[['concept', 'dep_articles_textbook']], on=\"concept\")\n",
    "deps = pd.merge(deps, df_count, on=\"concept\")"
   ]
  },
  {
   "cell_type": "code",
   "execution_count": 22,
   "metadata": {},
   "outputs": [
    {
     "data": {
      "text/html": [
       "<div>\n",
       "<style scoped>\n",
       "    .dataframe tbody tr th:only-of-type {\n",
       "        vertical-align: middle;\n",
       "    }\n",
       "\n",
       "    .dataframe tbody tr th {\n",
       "        vertical-align: top;\n",
       "    }\n",
       "\n",
       "    .dataframe thead th {\n",
       "        text-align: right;\n",
       "    }\n",
       "</style>\n",
       "<table border=\"1\" class=\"dataframe\">\n",
       "  <thead>\n",
       "    <tr style=\"text-align: right;\">\n",
       "      <th></th>\n",
       "      <th>concept</th>\n",
       "      <th>dep_articles_wiki</th>\n",
       "      <th>dep_articles_llm</th>\n",
       "      <th>dep_articles_textbook</th>\n",
       "      <th>count</th>\n",
       "    </tr>\n",
       "  </thead>\n",
       "  <tbody>\n",
       "    <tr>\n",
       "      <th>0</th>\n",
       "      <td>Absolute value</td>\n",
       "      <td>[Real number, Non-negative, Sign (mathematics)...</td>\n",
       "      <td>[Number, Concept]</td>\n",
       "      <td>[Differential equation, Real number, Equation,...</td>\n",
       "      <td>6</td>\n",
       "    </tr>\n",
       "    <tr>\n",
       "      <th>1</th>\n",
       "      <td>Adjoint</td>\n",
       "      <td>[]</td>\n",
       "      <td>[Function (mathematics), Combination, Function...</td>\n",
       "      <td>[Laplace expansion, Minor (linear algebra), Pr...</td>\n",
       "      <td>5</td>\n",
       "    </tr>\n",
       "    <tr>\n",
       "      <th>2</th>\n",
       "      <td>Adjugate matrix</td>\n",
       "      <td>[Square matrix, Transpose, Cofactor matrix]</td>\n",
       "      <td>[Matrix (mathematics), Combination, Matrix (ma...</td>\n",
       "      <td>[Laplace expansion, Cofactor (biochemistry), P...</td>\n",
       "      <td>5</td>\n",
       "    </tr>\n",
       "    <tr>\n",
       "      <th>3</th>\n",
       "      <td>Affine space</td>\n",
       "      <td>[Structure (mathematics), Euclidean space, Par...</td>\n",
       "      <td>[Space (mathematics), Pattern, Point (geometry)]</td>\n",
       "      <td>[Stochastic matrix, Vector space, Linear subsp...</td>\n",
       "      <td>2</td>\n",
       "    </tr>\n",
       "    <tr>\n",
       "      <th>4</th>\n",
       "      <td>Affine transformation</td>\n",
       "      <td>[Geometric transformation, Line (geometry), Pa...</td>\n",
       "      <td>[Transformation (function), Isometry, Shape]</td>\n",
       "      <td>[Field extension, Vector space]</td>\n",
       "      <td>9</td>\n",
       "    </tr>\n",
       "    <tr>\n",
       "      <th>...</th>\n",
       "      <td>...</td>\n",
       "      <td>...</td>\n",
       "      <td>...</td>\n",
       "      <td>...</td>\n",
       "      <td>...</td>\n",
       "    </tr>\n",
       "    <tr>\n",
       "      <th>1459</th>\n",
       "      <td>Vertical bar</td>\n",
       "      <td>[Glyph]</td>\n",
       "      <td>[Line (geometry), Axis, Rotation (mathematics)]</td>\n",
       "      <td>[Formula, Conic section, Equation, Slope, Line...</td>\n",
       "      <td>1</td>\n",
       "    </tr>\n",
       "    <tr>\n",
       "      <th>1460</th>\n",
       "      <td>Vertical line test</td>\n",
       "      <td>[Curve (mathematics), Graph of a function, Fun...</td>\n",
       "      <td>[SAT, Variance, Equality (mathematics)]</td>\n",
       "      <td>[Function (mathematics), African Americans, Gr...</td>\n",
       "      <td>1</td>\n",
       "    </tr>\n",
       "    <tr>\n",
       "      <th>1461</th>\n",
       "      <td>Vertical tangent</td>\n",
       "      <td>[Calculus, Tangent, Vertical direction]</td>\n",
       "      <td>[Line (geometry), Tangent, Line segment]</td>\n",
       "      <td>[Function (mathematics), Asymptote, Infinity, ...</td>\n",
       "      <td>1</td>\n",
       "    </tr>\n",
       "    <tr>\n",
       "      <th>1462</th>\n",
       "      <td>Zero of a function</td>\n",
       "      <td>[Real number, Complex number, Vector-valued fu...</td>\n",
       "      <td>[Graph (discrete mathematics), Point (geometry...</td>\n",
       "      <td>[Exponentiation, Polynomial, Radius, Infinity,...</td>\n",
       "      <td>1</td>\n",
       "    </tr>\n",
       "    <tr>\n",
       "      <th>1463</th>\n",
       "      <td>Zero-product property</td>\n",
       "      <td>[Zero element]</td>\n",
       "      <td>[Product (mathematics), Vector (mathematics an...</td>\n",
       "      <td>[Factorization, Coefficient, Expression (mathe...</td>\n",
       "      <td>1</td>\n",
       "    </tr>\n",
       "  </tbody>\n",
       "</table>\n",
       "<p>1464 rows × 5 columns</p>\n",
       "</div>"
      ],
      "text/plain": [
       "                    concept  \\\n",
       "0            Absolute value   \n",
       "1                   Adjoint   \n",
       "2           Adjugate matrix   \n",
       "3              Affine space   \n",
       "4     Affine transformation   \n",
       "...                     ...   \n",
       "1459           Vertical bar   \n",
       "1460     Vertical line test   \n",
       "1461       Vertical tangent   \n",
       "1462     Zero of a function   \n",
       "1463  Zero-product property   \n",
       "\n",
       "                                      dep_articles_wiki  \\\n",
       "0     [Real number, Non-negative, Sign (mathematics)...   \n",
       "1                                                    []   \n",
       "2           [Square matrix, Transpose, Cofactor matrix]   \n",
       "3     [Structure (mathematics), Euclidean space, Par...   \n",
       "4     [Geometric transformation, Line (geometry), Pa...   \n",
       "...                                                 ...   \n",
       "1459                                            [Glyph]   \n",
       "1460  [Curve (mathematics), Graph of a function, Fun...   \n",
       "1461            [Calculus, Tangent, Vertical direction]   \n",
       "1462  [Real number, Complex number, Vector-valued fu...   \n",
       "1463                                     [Zero element]   \n",
       "\n",
       "                                       dep_articles_llm  \\\n",
       "0                                     [Number, Concept]   \n",
       "1     [Function (mathematics), Combination, Function...   \n",
       "2     [Matrix (mathematics), Combination, Matrix (ma...   \n",
       "3      [Space (mathematics), Pattern, Point (geometry)]   \n",
       "4          [Transformation (function), Isometry, Shape]   \n",
       "...                                                 ...   \n",
       "1459    [Line (geometry), Axis, Rotation (mathematics)]   \n",
       "1460            [SAT, Variance, Equality (mathematics)]   \n",
       "1461           [Line (geometry), Tangent, Line segment]   \n",
       "1462  [Graph (discrete mathematics), Point (geometry...   \n",
       "1463  [Product (mathematics), Vector (mathematics an...   \n",
       "\n",
       "                                  dep_articles_textbook  count  \n",
       "0     [Differential equation, Real number, Equation,...      6  \n",
       "1     [Laplace expansion, Minor (linear algebra), Pr...      5  \n",
       "2     [Laplace expansion, Cofactor (biochemistry), P...      5  \n",
       "3     [Stochastic matrix, Vector space, Linear subsp...      2  \n",
       "4                       [Field extension, Vector space]      9  \n",
       "...                                                 ...    ...  \n",
       "1459  [Formula, Conic section, Equation, Slope, Line...      1  \n",
       "1460  [Function (mathematics), African Americans, Gr...      1  \n",
       "1461  [Function (mathematics), Asymptote, Infinity, ...      1  \n",
       "1462  [Exponentiation, Polynomial, Radius, Infinity,...      1  \n",
       "1463  [Factorization, Coefficient, Expression (mathe...      1  \n",
       "\n",
       "[1464 rows x 5 columns]"
      ]
     },
     "execution_count": 22,
     "metadata": {},
     "output_type": "execute_result"
    }
   ],
   "source": [
    "deps"
   ]
  },
  {
   "cell_type": "code",
   "execution_count": 23,
   "metadata": {},
   "outputs": [],
   "source": [
    "def get_precision_base(concept, first, second):\n",
    "    deps1 = set(first)\n",
    "    deps2 = set(second)\n",
    "    if len(deps1.intersection(deps2)):\n",
    "        #print(f\"{concept}: {first} vs {second}\")\n",
    "        pass\n",
    "    return len(deps1.intersection(deps2))\n",
    "\n",
    "deps['num_common_tb_wiki'] = deps.apply(lambda r: get_number_common_concepts(r.concept, r.dep_articles_textbook, r.dep_articles_wiki), axis=1)\n",
    "deps['num_common_tb_llm'] = deps.apply(lambda r: get_number_common_concepts(r.concept, r.dep_articles_textbook, r.dep_articles_llm), axis=1)\n",
    "deps['num_common_llm_wiki'] = deps.apply(lambda r: get_number_common_concepts(r.concept, r.dep_articles_llm, r.dep_articles_wiki), axis=1)"
   ]
  },
  {
   "cell_type": "code",
   "execution_count": 31,
   "metadata": {},
   "outputs": [],
   "source": [
    "deps[\"num_wiki\"] = deps.dep_articles_wiki.apply(lambda x: len(x))\n",
    "deps[\"num_llm\"] = deps.dep_articles_llm.apply(lambda x: len(x))\n",
    "deps[\"num_textbook\"] = deps.dep_articles_textbook.apply(lambda x: len(x))\n",
    "\n",
    "deps[\"precision_tb_wiki_wiki\"] = deps['num_common_tb_wiki']/deps[\"num_wiki\"] \n",
    "deps[\"precision_tb_wiki_tb\"] = deps['num_common_tb_wiki']/deps[\"num_textbook\"] \n",
    "deps[\"precision_tb_wiki_all\"] = deps['num_common_tb_wiki']/(deps[\"num_textbook\"]+deps[\"num_wiki\"]) \n",
    "\n",
    "deps[\"precision_tb_llm_tb\"] = deps['num_common_tb_llm']/deps[\"num_textbook\"] \n",
    "deps[\"precision_tb_llm_llm\"] = deps['num_common_tb_llm']/deps[\"num_llm\"] \n",
    "deps[\"precision_tb_llm_all\"] = deps['num_common_tb_llm']/(deps[\"num_textbook\"]+deps[\"num_llm\"]) \n",
    "\n",
    "deps[\"precision_llm_wiki_wiki\"] = deps['num_common_llm_wiki']/deps[\"num_wiki\"] \n",
    "deps[\"precision_llm_wiki_llm\"] = deps['num_common_llm_wiki']/deps[\"num_llm\"] \n",
    "deps[\"precision_llm_wiki_all\"] = deps['num_common_llm_wiki']/(deps[\"num_llm\"]+deps[\"num_wiki\"]) \n",
    "\n",
    "deps = deps.fillna(0)"
   ]
  },
  {
   "cell_type": "code",
   "execution_count": 32,
   "metadata": {},
   "outputs": [
    {
     "data": {
      "text/html": [
       "<div>\n",
       "<style scoped>\n",
       "    .dataframe tbody tr th:only-of-type {\n",
       "        vertical-align: middle;\n",
       "    }\n",
       "\n",
       "    .dataframe tbody tr th {\n",
       "        vertical-align: top;\n",
       "    }\n",
       "\n",
       "    .dataframe thead th {\n",
       "        text-align: right;\n",
       "    }\n",
       "</style>\n",
       "<table border=\"1\" class=\"dataframe\">\n",
       "  <thead>\n",
       "    <tr style=\"text-align: right;\">\n",
       "      <th></th>\n",
       "      <th>concept</th>\n",
       "      <th>dep_articles_wiki</th>\n",
       "      <th>dep_articles_llm</th>\n",
       "      <th>dep_articles_textbook</th>\n",
       "      <th>count</th>\n",
       "      <th>num_common_tb_wiki</th>\n",
       "      <th>num_common_tb_llm</th>\n",
       "      <th>num_common_llm_wiki</th>\n",
       "      <th>num_wiki</th>\n",
       "      <th>num_llm</th>\n",
       "      <th>num_textbook</th>\n",
       "      <th>precision_tb_wiki_wiki</th>\n",
       "      <th>precision_tb_wiki_tb</th>\n",
       "      <th>precision_tb_wiki_all</th>\n",
       "      <th>precision_tb_llm_tb</th>\n",
       "      <th>precision_tb_llm_llm</th>\n",
       "      <th>precision_tb_llm_all</th>\n",
       "      <th>precision_llm_wiki_wiki</th>\n",
       "      <th>precision_llm_wiki_llm</th>\n",
       "      <th>precision_llm_wiki_all</th>\n",
       "    </tr>\n",
       "  </thead>\n",
       "  <tbody>\n",
       "    <tr>\n",
       "      <th>0</th>\n",
       "      <td>Absolute value</td>\n",
       "      <td>[Real number, Non-negative, Sign (mathematics)...</td>\n",
       "      <td>[Number, Concept]</td>\n",
       "      <td>[Differential equation, Real number, Equation,...</td>\n",
       "      <td>6</td>\n",
       "      <td>1</td>\n",
       "      <td>0</td>\n",
       "      <td>0</td>\n",
       "      <td>4</td>\n",
       "      <td>2</td>\n",
       "      <td>7</td>\n",
       "      <td>0.25</td>\n",
       "      <td>0.142857</td>\n",
       "      <td>0.090909</td>\n",
       "      <td>0.000000</td>\n",
       "      <td>0.000000</td>\n",
       "      <td>0.000000</td>\n",
       "      <td>0.0</td>\n",
       "      <td>0.0</td>\n",
       "      <td>0.0</td>\n",
       "    </tr>\n",
       "    <tr>\n",
       "      <th>1</th>\n",
       "      <td>Adjoint</td>\n",
       "      <td>[]</td>\n",
       "      <td>[Function (mathematics), Combination, Function...</td>\n",
       "      <td>[Laplace expansion, Minor (linear algebra), Pr...</td>\n",
       "      <td>5</td>\n",
       "      <td>0</td>\n",
       "      <td>0</td>\n",
       "      <td>0</td>\n",
       "      <td>0</td>\n",
       "      <td>3</td>\n",
       "      <td>6</td>\n",
       "      <td>0.00</td>\n",
       "      <td>0.000000</td>\n",
       "      <td>0.000000</td>\n",
       "      <td>0.000000</td>\n",
       "      <td>0.000000</td>\n",
       "      <td>0.000000</td>\n",
       "      <td>0.0</td>\n",
       "      <td>0.0</td>\n",
       "      <td>0.0</td>\n",
       "    </tr>\n",
       "    <tr>\n",
       "      <th>2</th>\n",
       "      <td>Adjugate matrix</td>\n",
       "      <td>[Square matrix, Transpose, Cofactor matrix]</td>\n",
       "      <td>[Matrix (mathematics), Combination, Matrix (ma...</td>\n",
       "      <td>[Laplace expansion, Cofactor (biochemistry), P...</td>\n",
       "      <td>5</td>\n",
       "      <td>0</td>\n",
       "      <td>1</td>\n",
       "      <td>0</td>\n",
       "      <td>3</td>\n",
       "      <td>3</td>\n",
       "      <td>6</td>\n",
       "      <td>0.00</td>\n",
       "      <td>0.000000</td>\n",
       "      <td>0.000000</td>\n",
       "      <td>0.166667</td>\n",
       "      <td>0.333333</td>\n",
       "      <td>0.111111</td>\n",
       "      <td>0.0</td>\n",
       "      <td>0.0</td>\n",
       "      <td>0.0</td>\n",
       "    </tr>\n",
       "    <tr>\n",
       "      <th>3</th>\n",
       "      <td>Affine space</td>\n",
       "      <td>[Structure (mathematics), Euclidean space, Par...</td>\n",
       "      <td>[Space (mathematics), Pattern, Point (geometry)]</td>\n",
       "      <td>[Stochastic matrix, Vector space, Linear subsp...</td>\n",
       "      <td>2</td>\n",
       "      <td>0</td>\n",
       "      <td>0</td>\n",
       "      <td>0</td>\n",
       "      <td>4</td>\n",
       "      <td>3</td>\n",
       "      <td>6</td>\n",
       "      <td>0.00</td>\n",
       "      <td>0.000000</td>\n",
       "      <td>0.000000</td>\n",
       "      <td>0.000000</td>\n",
       "      <td>0.000000</td>\n",
       "      <td>0.000000</td>\n",
       "      <td>0.0</td>\n",
       "      <td>0.0</td>\n",
       "      <td>0.0</td>\n",
       "    </tr>\n",
       "    <tr>\n",
       "      <th>4</th>\n",
       "      <td>Affine transformation</td>\n",
       "      <td>[Geometric transformation, Line (geometry), Pa...</td>\n",
       "      <td>[Transformation (function), Isometry, Shape]</td>\n",
       "      <td>[Field extension, Vector space]</td>\n",
       "      <td>9</td>\n",
       "      <td>0</td>\n",
       "      <td>0</td>\n",
       "      <td>0</td>\n",
       "      <td>5</td>\n",
       "      <td>3</td>\n",
       "      <td>2</td>\n",
       "      <td>0.00</td>\n",
       "      <td>0.000000</td>\n",
       "      <td>0.000000</td>\n",
       "      <td>0.000000</td>\n",
       "      <td>0.000000</td>\n",
       "      <td>0.000000</td>\n",
       "      <td>0.0</td>\n",
       "      <td>0.0</td>\n",
       "      <td>0.0</td>\n",
       "    </tr>\n",
       "  </tbody>\n",
       "</table>\n",
       "</div>"
      ],
      "text/plain": [
       "                 concept                                  dep_articles_wiki  \\\n",
       "0         Absolute value  [Real number, Non-negative, Sign (mathematics)...   \n",
       "1                Adjoint                                                 []   \n",
       "2        Adjugate matrix        [Square matrix, Transpose, Cofactor matrix]   \n",
       "3           Affine space  [Structure (mathematics), Euclidean space, Par...   \n",
       "4  Affine transformation  [Geometric transformation, Line (geometry), Pa...   \n",
       "\n",
       "                                    dep_articles_llm  \\\n",
       "0                                  [Number, Concept]   \n",
       "1  [Function (mathematics), Combination, Function...   \n",
       "2  [Matrix (mathematics), Combination, Matrix (ma...   \n",
       "3   [Space (mathematics), Pattern, Point (geometry)]   \n",
       "4       [Transformation (function), Isometry, Shape]   \n",
       "\n",
       "                               dep_articles_textbook  count  \\\n",
       "0  [Differential equation, Real number, Equation,...      6   \n",
       "1  [Laplace expansion, Minor (linear algebra), Pr...      5   \n",
       "2  [Laplace expansion, Cofactor (biochemistry), P...      5   \n",
       "3  [Stochastic matrix, Vector space, Linear subsp...      2   \n",
       "4                    [Field extension, Vector space]      9   \n",
       "\n",
       "   num_common_tb_wiki  num_common_tb_llm  num_common_llm_wiki  num_wiki  \\\n",
       "0                   1                  0                    0         4   \n",
       "1                   0                  0                    0         0   \n",
       "2                   0                  1                    0         3   \n",
       "3                   0                  0                    0         4   \n",
       "4                   0                  0                    0         5   \n",
       "\n",
       "   num_llm  num_textbook  precision_tb_wiki_wiki  precision_tb_wiki_tb  \\\n",
       "0        2             7                    0.25              0.142857   \n",
       "1        3             6                    0.00              0.000000   \n",
       "2        3             6                    0.00              0.000000   \n",
       "3        3             6                    0.00              0.000000   \n",
       "4        3             2                    0.00              0.000000   \n",
       "\n",
       "   precision_tb_wiki_all  precision_tb_llm_tb  precision_tb_llm_llm  \\\n",
       "0               0.090909             0.000000              0.000000   \n",
       "1               0.000000             0.000000              0.000000   \n",
       "2               0.000000             0.166667              0.333333   \n",
       "3               0.000000             0.000000              0.000000   \n",
       "4               0.000000             0.000000              0.000000   \n",
       "\n",
       "   precision_tb_llm_all  precision_llm_wiki_wiki  precision_llm_wiki_llm  \\\n",
       "0              0.000000                      0.0                     0.0   \n",
       "1              0.000000                      0.0                     0.0   \n",
       "2              0.111111                      0.0                     0.0   \n",
       "3              0.000000                      0.0                     0.0   \n",
       "4              0.000000                      0.0                     0.0   \n",
       "\n",
       "   precision_llm_wiki_all  \n",
       "0                     0.0  \n",
       "1                     0.0  \n",
       "2                     0.0  \n",
       "3                     0.0  \n",
       "4                     0.0  "
      ]
     },
     "execution_count": 32,
     "metadata": {},
     "output_type": "execute_result"
    }
   ],
   "source": [
    "deps.head()"
   ]
  },
  {
   "cell_type": "code",
   "execution_count": 71,
   "metadata": {},
   "outputs": [
    {
     "data": {
      "image/png": "[encoded data removed]",
      "text/plain": [
       "<Figure size 1000x900 with 9 Axes>"
      ]
     },
     "metadata": {},
     "output_type": "display_data"
    }
   ],
   "source": [
    "figs, ax = plt.subplots(3, 3, figsize=(10,9))\n",
    "\n",
    "ax[0,0].set_title(\"With Respect to Wikipedia\")\n",
    "ax[0,0].hist(deps['precision_tb_wiki_wiki'],bins=20, range = (0,1),color=\"darkgrey\")\n",
    "ax[0,0].set_xlim(0, 1)\n",
    "ax[0,0].set_ylabel('Wikipedia and Textbook', rotation=0, labelpad=50)\n",
    "\n",
    "ax[0,1].set_title(\"With Respect to Textbook\")\n",
    "ax[0,1].hist(deps['precision_tb_wiki_tb'],bins=20, range = (0,1), color=\"darkgrey\")\n",
    "ax[0,1].set_xlim(0, 1)\n",
    "\n",
    "ax[0,2].set_title(\"With Respect to All\")\n",
    "ax[0,2].hist(deps['precision_tb_wiki_all'],bins=20, range = (0,1), color=\"darkgrey\")\n",
    "ax[0,2].set_xlim(0, 1)\n",
    "\n",
    "\n",
    "ax[1,0].set_title(\"With Respect to Textbook\")\n",
    "ax[1,0].hist(deps['precision_tb_llm_tb'],bins=20, range = (0,1),color=\"lightgreen\")\n",
    "ax[1,0].set_xlim(0, 1)\n",
    "\n",
    "ax[1,0].set_ylabel('Textbook and LLM', rotation=0, labelpad=50)\n",
    "\n",
    "ax[1,1].set_title(\"With Respect to LLM\")\n",
    "ax[1,1].hist(deps['precision_tb_llm_llm'],bins=20, range = (0,1), color=\"lightgreen\")\n",
    "ax[1,1].set_xlim(0, 1)\n",
    "\n",
    "ax[1,2].set_title(\"With Respect to All\")\n",
    "ax[1,2].hist(deps['precision_tb_llm_all'],bins=20, range = (0,1), color=\"lightgreen\")\n",
    "ax[1,2].set_xlim(0, 1)\n",
    "\n",
    "\n",
    "ax[2,0].set_title(\"With Respect to Wikipedia\")\n",
    "ax[2,0].hist(deps['precision_llm_wiki_wiki'],bins=20, range = (0,1),color=\"green\")\n",
    "ax[2,0].set_xlim(0, 1)\n",
    "ax[2,0].set_ylabel('Wikipedia and LLM', rotation=0, labelpad=50)\n",
    "\n",
    "ax[2,1].set_title(\"With Respect to LLM\")\n",
    "ax[2,1].hist(deps['precision_llm_wiki_llm'],bins=20, range = (0,1), color=\"green\")\n",
    "ax[2,1].set_xlim(0, 1)\n",
    "\n",
    "ax[2,2].set_title(\"With Respect to All\")\n",
    "ax[2,2].hist(deps['precision_llm_wiki_all'],bins=20, range = (0,1), color=\"green\")\n",
    "ax[2,2].set_xlim(0, 1)\n",
    "\n",
    "ax[0,1].set_xlabel('Precision')\n",
    "ax[1,1].set_xlabel('Precision')\n",
    "ax[2,1].set_xlabel('Precision')\n",
    "\n",
    "plt.show()"
   ]
  },
  {
   "cell_type": "code",
   "execution_count": 72,
   "metadata": {},
   "outputs": [],
   "source": [
    "figs.savefig(\"../doc/img/precision_deps.pdf\", format=\"pdf\")"
   ]
  }
 ],
 "metadata": {
  "kernelspec": {
   "display_name": "LD-inference",
   "language": "python",
   "name": "python3"
  },
  "language_info": {
   "codemirror_mode": {
    "name": "ipython",
    "version": 3
   },
   "file_extension": ".py",
   "mimetype": "text/x-python",
   "name": "python",
   "nbconvert_exporter": "python",
   "pygments_lexer": "ipython3",
   "version": "3.10.8"
  },
  "orig_nbformat": 4,
  "vscode": {
   "interpreter": {
    "hash": "2b3dd287303ef379cd3bfc1446cef400144e42385eabfb9b315f60147448249f"
   }
  }
 },
 "nbformat": 4,
 "nbformat_minor": 2
}

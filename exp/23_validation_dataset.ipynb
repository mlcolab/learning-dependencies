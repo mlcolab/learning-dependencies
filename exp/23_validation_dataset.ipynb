{
 "cells": [
  {
   "cell_type": "code",
   "execution_count": 1,
   "metadata": {},
   "outputs": [],
   "source": [
    "import pandas as pd\n",
    "from ast import literal_eval\n",
    "from random import choice\n",
    "\n",
    "df_wiki = pd.read_csv(\"../dat/wiki/graph.csv\")\n",
    "df_llm = pd.read_json(\"../dat/llm/graph.json\")\n",
    "df_llm['deps'] = df_llm['dep_articles']\n",
    "df_txb = pd.read_json(\"../dat/textbooks/graph.json\").iloc[:,[0,3]]\n",
    "df_txb.columns=['concept','deps']\n",
    "df_wiki['deps'] = [[dep[1] for dep in literal_eval(deps)] for deps in (df_wiki.dep_articles)]"
   ]
  },
  {
   "cell_type": "code",
   "execution_count": 2,
   "metadata": {},
   "outputs": [
    {
     "data": {
      "text/plain": [
       "True"
      ]
     },
     "execution_count": 2,
     "metadata": {},
     "output_type": "execute_result"
    }
   ],
   "source": [
    "n=100\n",
    "rnd_st=123\n",
    "concepts = []\n",
    "deps = []\n",
    "\n",
    "for df in [df_llm, df_wiki,df_txb]:\n",
    "    df = df.loc[df.deps.str.len() > 0]\n",
    "    samp = df.sample(n,random_state=rnd_st)\n",
    "    concepts.extend(samp['concept'])\n",
    "    deps.extend([choice(i) for i in samp['deps']])\n",
    "    \n",
    "len(deps) == len(concepts)"
   ]
  },
  {
   "cell_type": "code",
   "execution_count": 3,
   "metadata": {},
   "outputs": [],
   "source": [
    "samples = pd.DataFrame({\"concept\":concepts,\"dependency\":deps,\"source\":[\"llm\"]*n+['wiki']*n+['textbook']*n})\n",
    "samples = samples.sample(frac=1).reset_index(drop=True)\n",
    "samples['source'].to_csv('../dat/validation/source_column.csv')\n",
    "samples.loc[:,['concept','dependency']].to_excel('../dat/validation/deps_to_validate.xlsx')"
   ]
  },
  {
   "cell_type": "code",
   "execution_count": null,
   "metadata": {},
   "outputs": [],
   "source": []
  }
 ],
 "metadata": {
  "kernelspec": {
   "display_name": "LD-inference",
   "language": "python",
   "name": "python3"
  },
  "language_info": {
   "codemirror_mode": {
    "name": "ipython",
    "version": 3
   },
   "file_extension": ".py",
   "mimetype": "text/x-python",
   "name": "python",
   "nbconvert_exporter": "python",
   "pygments_lexer": "ipython3",
   "version": "3.10.8"
  },
  "orig_nbformat": 4,
  "vscode": {
   "interpreter": {
    "hash": "43a8907152cdc64934712d7678f7ec81ec6f888c0b23b03e4fddf30f69312c58"
   }
  }
 },
 "nbformat": 4,
 "nbformat_minor": 2
}

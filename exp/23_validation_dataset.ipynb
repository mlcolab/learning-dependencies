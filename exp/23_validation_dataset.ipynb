{
 "cells": [
  {
   "cell_type": "code",
   "execution_count": 1,
   "metadata": {},
   "outputs": [],
   "source": [
    "import pandas as pd\n",
    "from ast import literal_eval\n",
    "from random import choice\n",
    "import sys\n",
    "sys.path.append('../src/')\n",
    "import data_layer\n",
    "\n",
    "df_wiki = pd.read_csv(\"../dat/wiki/graph.csv\")\n",
    "df_llm = pd.read_json(\"../dat/llm/graph.json\")\n",
    "df_llm['deps'] = df_llm['dep_articles']\n",
    "df_txb = pd.read_json(\"../dat/textbooks/graph.json\").iloc[:,[0,3]]\n",
    "df_txb.columns=['concept','deps']\n",
    "df_wiki['deps'] = [[dep[1] for dep in literal_eval(deps)] for deps in (df_wiki.dep_articles)]"
   ]
  },
  {
   "cell_type": "code",
   "execution_count": 5,
   "metadata": {},
   "outputs": [],
   "source": [
    "MIN_OCCURENCES=5"
   ]
  },
  {
   "cell_type": "code",
   "execution_count": 2,
   "metadata": {},
   "outputs": [],
   "source": [
    "_, _, df_count = data_layer.read_index_and_wiki_concepts(include_counts=True)\n"
   ]
  },
  {
   "cell_type": "code",
   "execution_count": 12,
   "metadata": {},
   "outputs": [
    {
     "data": {
      "text/html": [
       "<div>\n",
       "<style scoped>\n",
       "    .dataframe tbody tr th:only-of-type {\n",
       "        vertical-align: middle;\n",
       "    }\n",
       "\n",
       "    .dataframe tbody tr th {\n",
       "        vertical-align: top;\n",
       "    }\n",
       "\n",
       "    .dataframe thead th {\n",
       "        text-align: right;\n",
       "    }\n",
       "</style>\n",
       "<table border=\"1\" class=\"dataframe\">\n",
       "  <thead>\n",
       "    <tr style=\"text-align: right;\">\n",
       "      <th></th>\n",
       "      <th>concept</th>\n",
       "      <th>count</th>\n",
       "    </tr>\n",
       "  </thead>\n",
       "  <tbody>\n",
       "    <tr>\n",
       "      <th>103</th>\n",
       "      <td>Matrix (mathematics)</td>\n",
       "      <td>10</td>\n",
       "    </tr>\n",
       "    <tr>\n",
       "      <th>184</th>\n",
       "      <td>Triangular matrix</td>\n",
       "      <td>10</td>\n",
       "    </tr>\n",
       "    <tr>\n",
       "      <th>108</th>\n",
       "      <td>Matrix multiplication</td>\n",
       "      <td>10</td>\n",
       "    </tr>\n",
       "    <tr>\n",
       "      <th>11</th>\n",
       "      <td>Canonical form</td>\n",
       "      <td>9</td>\n",
       "    </tr>\n",
       "    <tr>\n",
       "      <th>175</th>\n",
       "      <td>System of linear equations</td>\n",
       "      <td>9</td>\n",
       "    </tr>\n",
       "    <tr>\n",
       "      <th>...</th>\n",
       "      <td>...</td>\n",
       "      <td>...</td>\n",
       "    </tr>\n",
       "    <tr>\n",
       "      <th>802</th>\n",
       "      <td>Plane of rotation</td>\n",
       "      <td>1</td>\n",
       "    </tr>\n",
       "    <tr>\n",
       "      <th>803</th>\n",
       "      <td>Poietic Generator</td>\n",
       "      <td>1</td>\n",
       "    </tr>\n",
       "    <tr>\n",
       "      <th>804</th>\n",
       "      <td>Point-biserial correlation coefficient</td>\n",
       "      <td>1</td>\n",
       "    </tr>\n",
       "    <tr>\n",
       "      <th>805</th>\n",
       "      <td>Pointwise product</td>\n",
       "      <td>1</td>\n",
       "    </tr>\n",
       "    <tr>\n",
       "      <th>1463</th>\n",
       "      <td>Zero-product property</td>\n",
       "      <td>1</td>\n",
       "    </tr>\n",
       "  </tbody>\n",
       "</table>\n",
       "<p>1464 rows × 2 columns</p>\n",
       "</div>"
      ],
      "text/plain": [
       "                                     concept  count\n",
       "103                     Matrix (mathematics)     10\n",
       "184                        Triangular matrix     10\n",
       "108                    Matrix multiplication     10\n",
       "11                            Canonical form      9\n",
       "175               System of linear equations      9\n",
       "...                                      ...    ...\n",
       "802                        Plane of rotation      1\n",
       "803                        Poietic Generator      1\n",
       "804   Point-biserial correlation coefficient      1\n",
       "805                        Pointwise product      1\n",
       "1463                   Zero-product property      1\n",
       "\n",
       "[1464 rows x 2 columns]"
      ]
     },
     "execution_count": 12,
     "metadata": {},
     "output_type": "execute_result"
    }
   ],
   "source": [
    "\n",
    "\n",
    "df_count.sort_values('count', ascending=False)"
   ]
  },
  {
   "cell_type": "code",
   "execution_count": 3,
   "metadata": {},
   "outputs": [
    {
     "data": {
      "text/plain": [
       "True"
      ]
     },
     "execution_count": 3,
     "metadata": {},
     "output_type": "execute_result"
    }
   ],
   "source": [
    "n=100\n",
    "rnd_st=123\n",
    "concepts = []\n",
    "deps = []\n",
    "\n",
    "for df in [df_llm, df_wiki,df_txb]:\n",
    "    df = pd.merge(df, df_count, on=\"concept\")\n",
    "    df = df.loc[(df.deps.str.len() > 0) & (df['count']>=MIN_OCCURENCES)]\n",
    "    samp = df.sample(n,random_state=rnd_st)\n",
    "    concepts.extend(samp['concept'])\n",
    "    deps.extend([choice(i) for i in samp['deps']])\n",
    "    \n",
    "len(deps) == len(concepts)"
   ]
  },
  {
   "cell_type": "code",
   "execution_count": 4,
   "metadata": {},
   "outputs": [],
   "source": [
    "samples = pd.DataFrame({\"concept\":concepts,\"dependency\":deps,\"source\":[\"llm\"]*n+['wiki']*n+['textbook']*n})\n",
    "samples = samples.sample(frac=1).reset_index(drop=True)\n",
    "samples['source'].to_csv('../dat/validation/source_column.csv')\n",
    "samples.loc[:,['concept','dependency']].to_excel('../dat/validation/deps_to_validate.xlsx')"
   ]
  },
  {
   "cell_type": "code",
   "execution_count": null,
   "metadata": {},
   "outputs": [],
   "source": []
  }
 ],
 "metadata": {
  "kernelspec": {
   "display_name": "LD-inference",
   "language": "python",
   "name": "python3"
  },
  "language_info": {
   "codemirror_mode": {
    "name": "ipython",
    "version": 3
   },
   "file_extension": ".py",
   "mimetype": "text/x-python",
   "name": "python",
   "nbconvert_exporter": "python",
   "pygments_lexer": "ipython3",
   "version": "3.10.8"
  },
  "orig_nbformat": 4,
  "vscode": {
   "interpreter": {
    "hash": "2b3dd287303ef379cd3bfc1446cef400144e42385eabfb9b315f60147448249f"
   }
  }
 },
 "nbformat": 4,
 "nbformat_minor": 2
}

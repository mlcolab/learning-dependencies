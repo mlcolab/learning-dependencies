{
 "cells": [
  {
   "cell_type": "code",
   "execution_count": 17,
   "metadata": {},
   "outputs": [],
   "source": [
    "import pandas as pd\n",
    "from random import choice\n",
    "import sys\n",
    "sys.path.append('../src/')\n",
    "import data_layer\n",
    "\n",
    "MIN_OCCURENCES=5 # minimum number of occurences in textbooks\n",
    "\n",
    "df_wiki = pd.read_csv(\"../dat/wiki/graph.csv\")\n",
    "df_llm = pd.read_json(\"../dat/llm/graph.json\")\n",
    "df_txb = pd.read_json(\"../dat/textbooks/graph.json\").iloc[:,[0,3]]"
   ]
  },
  {
   "cell_type": "code",
   "execution_count": 18,
   "metadata": {},
   "outputs": [
    {
     "data": {
      "text/html": [
       "<div>\n",
       "<style scoped>\n",
       "    .dataframe tbody tr th:only-of-type {\n",
       "        vertical-align: middle;\n",
       "    }\n",
       "\n",
       "    .dataframe tbody tr th {\n",
       "        vertical-align: top;\n",
       "    }\n",
       "\n",
       "    .dataframe thead th {\n",
       "        text-align: right;\n",
       "    }\n",
       "</style>\n",
       "<table border=\"1\" class=\"dataframe\">\n",
       "  <thead>\n",
       "    <tr style=\"text-align: right;\">\n",
       "      <th></th>\n",
       "      <th>concept</th>\n",
       "      <th>count</th>\n",
       "    </tr>\n",
       "  </thead>\n",
       "  <tbody>\n",
       "    <tr>\n",
       "      <th>103</th>\n",
       "      <td>Matrix (mathematics)</td>\n",
       "      <td>10</td>\n",
       "    </tr>\n",
       "    <tr>\n",
       "      <th>184</th>\n",
       "      <td>Triangular matrix</td>\n",
       "      <td>10</td>\n",
       "    </tr>\n",
       "    <tr>\n",
       "      <th>108</th>\n",
       "      <td>Matrix multiplication</td>\n",
       "      <td>10</td>\n",
       "    </tr>\n",
       "    <tr>\n",
       "      <th>11</th>\n",
       "      <td>Canonical form</td>\n",
       "      <td>9</td>\n",
       "    </tr>\n",
       "    <tr>\n",
       "      <th>175</th>\n",
       "      <td>System of linear equations</td>\n",
       "      <td>9</td>\n",
       "    </tr>\n",
       "    <tr>\n",
       "      <th>...</th>\n",
       "      <td>...</td>\n",
       "      <td>...</td>\n",
       "    </tr>\n",
       "    <tr>\n",
       "      <th>802</th>\n",
       "      <td>Plane of rotation</td>\n",
       "      <td>1</td>\n",
       "    </tr>\n",
       "    <tr>\n",
       "      <th>803</th>\n",
       "      <td>Poietic Generator</td>\n",
       "      <td>1</td>\n",
       "    </tr>\n",
       "    <tr>\n",
       "      <th>804</th>\n",
       "      <td>Point-biserial correlation coefficient</td>\n",
       "      <td>1</td>\n",
       "    </tr>\n",
       "    <tr>\n",
       "      <th>805</th>\n",
       "      <td>Pointwise product</td>\n",
       "      <td>1</td>\n",
       "    </tr>\n",
       "    <tr>\n",
       "      <th>1463</th>\n",
       "      <td>Zero-product property</td>\n",
       "      <td>1</td>\n",
       "    </tr>\n",
       "  </tbody>\n",
       "</table>\n",
       "<p>1464 rows × 2 columns</p>\n",
       "</div>"
      ],
      "text/plain": [
       "                                     concept  count\n",
       "103                     Matrix (mathematics)     10\n",
       "184                        Triangular matrix     10\n",
       "108                    Matrix multiplication     10\n",
       "11                            Canonical form      9\n",
       "175               System of linear equations      9\n",
       "...                                      ...    ...\n",
       "802                        Plane of rotation      1\n",
       "803                        Poietic Generator      1\n",
       "804   Point-biserial correlation coefficient      1\n",
       "805                        Pointwise product      1\n",
       "1463                   Zero-product property      1\n",
       "\n",
       "[1464 rows x 2 columns]"
      ]
     },
     "execution_count": 18,
     "metadata": {},
     "output_type": "execute_result"
    }
   ],
   "source": [
    "_, _, df_count = data_layer.read_index_and_wiki_concepts(include_counts=True)\n",
    "df_count.sort_values('count', ascending=False)\n"
   ]
  },
  {
   "cell_type": "code",
   "execution_count": 20,
   "metadata": {},
   "outputs": [
    {
     "data": {
      "text/html": [
       "<div>\n",
       "<style scoped>\n",
       "    .dataframe tbody tr th:only-of-type {\n",
       "        vertical-align: middle;\n",
       "    }\n",
       "\n",
       "    .dataframe tbody tr th {\n",
       "        vertical-align: top;\n",
       "    }\n",
       "\n",
       "    .dataframe thead th {\n",
       "        text-align: right;\n",
       "    }\n",
       "</style>\n",
       "<table border=\"1\" class=\"dataframe\">\n",
       "  <thead>\n",
       "    <tr style=\"text-align: right;\">\n",
       "      <th></th>\n",
       "      <th>concept</th>\n",
       "      <th>count</th>\n",
       "    </tr>\n",
       "  </thead>\n",
       "  <tbody>\n",
       "    <tr>\n",
       "      <th>0</th>\n",
       "      <td>Absolute value</td>\n",
       "      <td>6</td>\n",
       "    </tr>\n",
       "    <tr>\n",
       "      <th>1</th>\n",
       "      <td>Adjoint</td>\n",
       "      <td>5</td>\n",
       "    </tr>\n",
       "    <tr>\n",
       "      <th>2</th>\n",
       "      <td>Adjugate matrix</td>\n",
       "      <td>5</td>\n",
       "    </tr>\n",
       "    <tr>\n",
       "      <th>4</th>\n",
       "      <td>Affine transformation</td>\n",
       "      <td>9</td>\n",
       "    </tr>\n",
       "    <tr>\n",
       "      <th>8</th>\n",
       "      <td>Basis (linear algebra)</td>\n",
       "      <td>9</td>\n",
       "    </tr>\n",
       "    <tr>\n",
       "      <th>...</th>\n",
       "      <td>...</td>\n",
       "      <td>...</td>\n",
       "    </tr>\n",
       "    <tr>\n",
       "      <th>370</th>\n",
       "      <td>Permutation</td>\n",
       "      <td>5</td>\n",
       "    </tr>\n",
       "    <tr>\n",
       "      <th>373</th>\n",
       "      <td>Polynomial</td>\n",
       "      <td>6</td>\n",
       "    </tr>\n",
       "    <tr>\n",
       "      <th>383</th>\n",
       "      <td>Projection (mathematics)</td>\n",
       "      <td>5</td>\n",
       "    </tr>\n",
       "    <tr>\n",
       "      <th>830</th>\n",
       "      <td>Random variable</td>\n",
       "      <td>5</td>\n",
       "    </tr>\n",
       "    <tr>\n",
       "      <th>938</th>\n",
       "      <td>Volume</td>\n",
       "      <td>5</td>\n",
       "    </tr>\n",
       "  </tbody>\n",
       "</table>\n",
       "<p>119 rows × 2 columns</p>\n",
       "</div>"
      ],
      "text/plain": [
       "                      concept  count\n",
       "0              Absolute value      6\n",
       "1                     Adjoint      5\n",
       "2             Adjugate matrix      5\n",
       "4       Affine transformation      9\n",
       "8      Basis (linear algebra)      9\n",
       "..                        ...    ...\n",
       "370               Permutation      5\n",
       "373                Polynomial      6\n",
       "383  Projection (mathematics)      5\n",
       "830           Random variable      5\n",
       "938                    Volume      5\n",
       "\n",
       "[119 rows x 2 columns]"
      ]
     },
     "execution_count": 20,
     "metadata": {},
     "output_type": "execute_result"
    }
   ],
   "source": [
    "df_count[df_count['count']>=MIN_OCCURENCES]"
   ]
  },
  {
   "cell_type": "code",
   "execution_count": 3,
   "metadata": {},
   "outputs": [
    {
     "data": {
      "text/plain": [
       "True"
      ]
     },
     "execution_count": 3,
     "metadata": {},
     "output_type": "execute_result"
    }
   ],
   "source": [
    "n=100\n",
    "rnd_st=123\n",
    "concepts = []\n",
    "deps = []\n",
    "\n",
    "for df in [df_llm, df_wiki,df_txb]:\n",
    "    df = pd.merge(df, df_count, on=\"concept\")\n",
    "    df = df.loc[(df.deps.str.len() > 0) & (df['count']>=MIN_OCCURENCES)]\n",
    "    samp = df.sample(n,random_state=rnd_st)\n",
    "    concepts.extend(samp['concept'])\n",
    "    deps.extend([choice(i) for i in samp['dep_articles']])\n",
    "    \n",
    "len(deps) == len(concepts)"
   ]
  },
  {
   "cell_type": "code",
   "execution_count": 4,
   "metadata": {},
   "outputs": [],
   "source": [
    "samples = pd.DataFrame({\"concept\":concepts,\"dependency\":deps,\"source\":[\"llm\"]*n+['wiki']*n+['textbook']*n})\n",
    "samples = samples.sample(frac=1).reset_index(drop=True)\n",
    "samples['source'].to_csv('../dat/validation/source_column.csv')\n",
    "samples.loc[:,['concept','dependency']].to_excel('../dat/validation/deps_to_validate.xlsx')"
   ]
  }
 ],
 "metadata": {
  "kernelspec": {
   "display_name": "LD-inference",
   "language": "python",
   "name": "python3"
  },
  "language_info": {
   "codemirror_mode": {
    "name": "ipython",
    "version": 3
   },
   "file_extension": ".py",
   "mimetype": "text/x-python",
   "name": "python",
   "nbconvert_exporter": "python",
   "pygments_lexer": "ipython3",
   "version": "3.10.8"
  },
  "orig_nbformat": 4,
  "vscode": {
   "interpreter": {
    "hash": "2b3dd287303ef379cd3bfc1446cef400144e42385eabfb9b315f60147448249f"
   }
  }
 },
 "nbformat": 4,
 "nbformat_minor": 2
}

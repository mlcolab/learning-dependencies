{
 "cells": [
  {
   "cell_type": "code",
   "execution_count": 144,
   "metadata": {},
   "outputs": [],
   "source": [
    "from PyPDF2 import PdfReader\n",
    "import os\n",
    "import pandas as pd"
   ]
  },
  {
   "cell_type": "code",
   "execution_count": 129,
   "metadata": {},
   "outputs": [],
   "source": [
    "class process_pdf:\n",
    "    def __init__(self,path) -> None:\n",
    "        self.path = path\n",
    "\n",
    "    def create_outline(self):\n",
    "        '''Get outline from PyPDF2 reader object. Note: the outline contains only top 1 level and ingores sublevels under the chapters.\n",
    "        Args:\n",
    "        reader\n",
    "        Returns:\n",
    "        (list) : titles of chapters\n",
    "        '''\n",
    "        outline_first_level = []\n",
    "        for element in self.reader.outline:\n",
    "            if isinstance(element, dict):\n",
    "                outline_first_level.append(element[\"/Title\"]) \n",
    "        return outline_first_level\n",
    "\n",
    "\n",
    "    def pdf_to_txt_by_chapters(self):\n",
    "        '''Reads textbooks in pdf format and convert them into txt and create dataset as output containing chapters.\n",
    "        Args:\n",
    "        path: where multiple textbooks in pdf format are stored\n",
    "        Returns:\n",
    "        (dataframe):\n",
    "                columns:\n",
    "                    filename (str) - name of pdf file\n",
    "                    author (str) - author of a textbook\n",
    "                    title (str) - title of a textbook\n",
    "                    chapter title (str) - title of a chapter of a textbook\n",
    "                    text (str) - text of a chapter\n",
    "        '''\n",
    "        data = pd.DataFrame(columns = [\"filename\",\"author\",\"title\",\"chapter_title\",\"text\"])\n",
    "        i=-1\n",
    "        all_chapters_num = 0\n",
    "\n",
    "        for book in os.listdir(self.path):\n",
    "            self.reader = PdfReader(self.path+book)\n",
    "            try:\n",
    "                author = self.reader.getDocumentInfo()[\"/Author\"]\n",
    "            except:\n",
    "                author = \"unknown\"\n",
    "            try:\n",
    "                title = self.reader.getDocumentInfo()[\"/Title\"]\n",
    "            except:\n",
    "                title = \"unknown\"\n",
    "\n",
    "            outline_first_level = self.create_outline()\n",
    "\n",
    "            all_chapters_num+=len(outline_first_level)\n",
    "\n",
    "            chapter_num = 0\n",
    "            chapter_title = outline_first_level[chapter_num]\n",
    "            intro = False\n",
    "\n",
    "            for page in self.reader.pages:\n",
    "                page_text = page.extract_text() + \"\\n\"\n",
    "                excerpt = page_text[:100].replace(\"\\n\",\" \")\n",
    "                excerpt = excerpt.replace(\".\",\"\")\n",
    "                excerpt = excerpt.upper()\n",
    "\n",
    "                if \"CONTENT\" in chapter_title.upper():\n",
    "                    #i+=1\n",
    "                    #data.loc[i,:] = [book[:-4], author, title, chapter_title, page_text]\n",
    "                    chapter_num+=1\n",
    "                    chapter_title = outline_first_level[chapter_num]\n",
    "                    #intro = True            \n",
    "\n",
    "                elif (chapter_title.upper() in excerpt) and (\"CONTENT\" not in excerpt): \n",
    "                    i+=1\n",
    "                    data.loc[i,:] = [book[:-4], author, title, chapter_title, page_text]\n",
    "                    chapter_num+=1\n",
    "                    if chapter_num >= len(outline_first_level):\n",
    "                        pass\n",
    "                    else:\n",
    "                        chapter_title = outline_first_level[chapter_num]\n",
    "                    intro = True\n",
    "                if intro:\n",
    "                    data.loc[i,\"text\"]+=page_text\n",
    "        print(\"Total number of chapters: \", all_chapters_num)\n",
    "\n",
    "        return data"
   ]
  },
  {
   "cell_type": "code",
   "execution_count": 130,
   "metadata": {},
   "outputs": [
    {
     "name": "stdout",
     "output_type": "stream",
     "text": [
      "Total number of chapters:  105\n"
     ]
    }
   ],
   "source": [
    "path = \"../dat/books/all_books/\"\n",
    "processpdf = process_pdf(path)\n",
    "data = processpdf.pdf_to_txt_by_chapters()"
   ]
  },
  {
   "cell_type": "code",
   "execution_count": 132,
   "metadata": {},
   "outputs": [],
   "source": [
    "data = (data.loc[\n",
    "        ~data.chapter_title.str.contains\n",
    "        (\"|\".join(['Preface', 'Acknowledgements','Acknowledgments','Appendix','Some Prerequisite Topics', 'Exercise',\n",
    "       'Photo Credits', 'Index',\"A Complex Numbers\", 'B Proofs','C Mathematical Induction', 'D Polynomials',\n",
    "       'Online Resources', 'Midterm', 'Sample Final Exam', 'Movie Scripts']))\n",
    "        ]\n",
    "    )\n",
    "data.shape\n",
    "data.to_json(\"data_chapters.json\")"
   ]
  },
  {
   "cell_type": "code",
   "execution_count": null,
   "metadata": {},
   "outputs": [],
   "source": [
    "from nltk.tokenize import sent_tokenize, word_tokenize\n",
    "from nltk.corpus import stopwords\n",
    "from nltk.stem import WordNetLemmatizer\n",
    "from collections import Counter\n",
    "import re"
   ]
  },
  {
   "cell_type": "code",
   "execution_count": 142,
   "metadata": {},
   "outputs": [],
   "source": [
    "class utils:\n",
    "    def __init__(self) -> None:\n",
    "        ...\n",
    "\n",
    "    @staticmethod\n",
    "    def remove_repeated_sentences(text, times = 4):\n",
    "        text_tokenized = sent_tokenize(text)\n",
    "        freqs = Counter(text_tokenized)\n",
    "        garbage = [el for el in freqs.elements() if freqs[el]>=times]\n",
    "        text = [i for i in text_tokenized if i not in garbage]\n",
    "        return \" \".join(text)\n",
    "\n",
    "    #def remove_formulas(text):\n",
    "    #    return \n",
    "    def remove_new_line(text):\n",
    "        return re.sub(\"\\n\",\" \",text)\n",
    "        \n",
    "    def text_only(text):\n",
    "        regex=u\"[A-Za-z]+\"\n",
    "        regex = re.compile(regex)\n",
    "        text = \" \".join(regex.findall(text))\n",
    "        return text\n",
    "\n",
    "    def remove_stopwords(text):\n",
    "        text = text.lower()\n",
    "        word_tokens = word_tokenize(text)\n",
    "        stop_words = set(stopwords.words('english'))\n",
    "        return \" \".join([w for w in word_tokens if not w in stop_words])\n",
    "\n",
    "    def lemmatize_text(text):\n",
    "        lemmatizer = WordNetLemmatizer()\n",
    "        word_tokens = word_tokenize(text)\n",
    "        return \" \".join([lemmatizer.lemmatize(w) for w in word_tokens])"
   ]
  },
  {
   "cell_type": "code",
   "execution_count": 147,
   "metadata": {},
   "outputs": [],
   "source": [
    "data.text = data.text.apply(utils.remove_repeated_sentences)\n",
    "data.text = data.text.apply(utils.remove_new_line)"
   ]
  },
  {
   "cell_type": "code",
   "execution_count": 148,
   "metadata": {},
   "outputs": [
    {
     "data": {
      "text/plain": [
       "2      Chapter SLE Systems of Linear Equations We wil...\n",
       "3      Chapter V Vectors We have worked extensively i...\n",
       "4      Chapter M Matrices We have made frequent use o...\n",
       "5      Chapter VS Vector Spaces We now have a computa...\n",
       "6      Chapter D Determinants The determinant is a fu...\n",
       "                             ...                        \n",
       "111    7. Linear Transformations IfVandWare vector sp...\n",
       "112    8. Orthogonality In Section 5.3we introduced t...\n",
       "113    9. Change of Basis IfAis an m×nmatrix, the cor...\n",
       "114    10. Inner Product Spaces 10.1 Inner Products a...\n",
       "115    11. Canonical Forms Given a matrix A, the effe...\n",
       "Name: text, Length: 76, dtype: object"
      ]
     },
     "execution_count": 148,
     "metadata": {},
     "output_type": "execute_result"
    }
   ],
   "source": [
    "data.text"
   ]
  },
  {
   "cell_type": "code",
   "execution_count": null,
   "metadata": {},
   "outputs": [],
   "source": []
  }
 ],
 "metadata": {
  "kernelspec": {
   "display_name": "Python 3.9.12 ('base')",
   "language": "python",
   "name": "python3"
  },
  "language_info": {
   "codemirror_mode": {
    "name": "ipython",
    "version": 3
   },
   "file_extension": ".py",
   "mimetype": "text/x-python",
   "name": "python",
   "nbconvert_exporter": "python",
   "pygments_lexer": "ipython3",
   "version": "3.9.12"
  },
  "orig_nbformat": 4,
  "vscode": {
   "interpreter": {
    "hash": "ea183bb76f01b1c0f19d4faefaf72022d209702e86a95c61a348be375d9bcd4f"
   }
  }
 },
 "nbformat": 4,
 "nbformat_minor": 2
}
